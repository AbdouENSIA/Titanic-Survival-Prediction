{
 "cells": [
  {
   "cell_type": "code",
   "execution_count": 1,
   "metadata": {},
   "outputs": [],
   "source": [
    "# Import pandas library for data manipulation and analysis, commonly aliased as `pd`.\n",
    "\n",
    "import pandas as pd"
   ]
  },
  {
   "cell_type": "code",
   "execution_count": 2,
   "metadata": {},
   "outputs": [],
   "source": [
    "# Load the Titanic dataset from the \"train.csv\" file into a pandas DataFrame.\n",
    "# This dataset will be used for data analysis and modeling tasks.\n",
    "\n",
    "titanic = pd.read_csv(\"train.csv\")"
   ]
  },
  {
   "cell_type": "markdown",
   "metadata": {},
   "source": [
    "## Data Pre-Processing"
   ]
  },
  {
   "cell_type": "code",
   "execution_count": 3,
   "metadata": {},
   "outputs": [
    {
     "data": {
      "text/html": [
       "<div>\n",
       "<style scoped>\n",
       "    .dataframe tbody tr th:only-of-type {\n",
       "        vertical-align: middle;\n",
       "    }\n",
       "\n",
       "    .dataframe tbody tr th {\n",
       "        vertical-align: top;\n",
       "    }\n",
       "\n",
       "    .dataframe thead th {\n",
       "        text-align: right;\n",
       "    }\n",
       "</style>\n",
       "<table border=\"1\" class=\"dataframe\">\n",
       "  <thead>\n",
       "    <tr style=\"text-align: right;\">\n",
       "      <th></th>\n",
       "      <th>PassengerId</th>\n",
       "      <th>Survived</th>\n",
       "      <th>Pclass</th>\n",
       "      <th>Name</th>\n",
       "      <th>Sex</th>\n",
       "      <th>Age</th>\n",
       "      <th>SibSp</th>\n",
       "      <th>Parch</th>\n",
       "      <th>Ticket</th>\n",
       "      <th>Fare</th>\n",
       "      <th>Cabin</th>\n",
       "      <th>Embarked</th>\n",
       "    </tr>\n",
       "  </thead>\n",
       "  <tbody>\n",
       "    <tr>\n",
       "      <th>0</th>\n",
       "      <td>1</td>\n",
       "      <td>0</td>\n",
       "      <td>3</td>\n",
       "      <td>Braund, Mr. Owen Harris</td>\n",
       "      <td>male</td>\n",
       "      <td>22.0</td>\n",
       "      <td>1</td>\n",
       "      <td>0</td>\n",
       "      <td>A/5 21171</td>\n",
       "      <td>7.2500</td>\n",
       "      <td>NaN</td>\n",
       "      <td>S</td>\n",
       "    </tr>\n",
       "    <tr>\n",
       "      <th>1</th>\n",
       "      <td>2</td>\n",
       "      <td>1</td>\n",
       "      <td>1</td>\n",
       "      <td>Cumings, Mrs. John Bradley (Florence Briggs Th...</td>\n",
       "      <td>female</td>\n",
       "      <td>38.0</td>\n",
       "      <td>1</td>\n",
       "      <td>0</td>\n",
       "      <td>PC 17599</td>\n",
       "      <td>71.2833</td>\n",
       "      <td>C85</td>\n",
       "      <td>C</td>\n",
       "    </tr>\n",
       "    <tr>\n",
       "      <th>2</th>\n",
       "      <td>3</td>\n",
       "      <td>1</td>\n",
       "      <td>3</td>\n",
       "      <td>Heikkinen, Miss. Laina</td>\n",
       "      <td>female</td>\n",
       "      <td>26.0</td>\n",
       "      <td>0</td>\n",
       "      <td>0</td>\n",
       "      <td>STON/O2. 3101282</td>\n",
       "      <td>7.9250</td>\n",
       "      <td>NaN</td>\n",
       "      <td>S</td>\n",
       "    </tr>\n",
       "    <tr>\n",
       "      <th>3</th>\n",
       "      <td>4</td>\n",
       "      <td>1</td>\n",
       "      <td>1</td>\n",
       "      <td>Futrelle, Mrs. Jacques Heath (Lily May Peel)</td>\n",
       "      <td>female</td>\n",
       "      <td>35.0</td>\n",
       "      <td>1</td>\n",
       "      <td>0</td>\n",
       "      <td>113803</td>\n",
       "      <td>53.1000</td>\n",
       "      <td>C123</td>\n",
       "      <td>S</td>\n",
       "    </tr>\n",
       "    <tr>\n",
       "      <th>4</th>\n",
       "      <td>5</td>\n",
       "      <td>0</td>\n",
       "      <td>3</td>\n",
       "      <td>Allen, Mr. William Henry</td>\n",
       "      <td>male</td>\n",
       "      <td>35.0</td>\n",
       "      <td>0</td>\n",
       "      <td>0</td>\n",
       "      <td>373450</td>\n",
       "      <td>8.0500</td>\n",
       "      <td>NaN</td>\n",
       "      <td>S</td>\n",
       "    </tr>\n",
       "  </tbody>\n",
       "</table>\n",
       "</div>"
      ],
      "text/plain": [
       "   PassengerId  Survived  Pclass  \\\n",
       "0            1         0       3   \n",
       "1            2         1       1   \n",
       "2            3         1       3   \n",
       "3            4         1       1   \n",
       "4            5         0       3   \n",
       "\n",
       "                                                Name     Sex   Age  SibSp  \\\n",
       "0                            Braund, Mr. Owen Harris    male  22.0      1   \n",
       "1  Cumings, Mrs. John Bradley (Florence Briggs Th...  female  38.0      1   \n",
       "2                             Heikkinen, Miss. Laina  female  26.0      0   \n",
       "3       Futrelle, Mrs. Jacques Heath (Lily May Peel)  female  35.0      1   \n",
       "4                           Allen, Mr. William Henry    male  35.0      0   \n",
       "\n",
       "   Parch            Ticket     Fare Cabin Embarked  \n",
       "0      0         A/5 21171   7.2500   NaN        S  \n",
       "1      0          PC 17599  71.2833   C85        C  \n",
       "2      0  STON/O2. 3101282   7.9250   NaN        S  \n",
       "3      0            113803  53.1000  C123        S  \n",
       "4      0            373450   8.0500   NaN        S  "
      ]
     },
     "execution_count": 3,
     "metadata": {},
     "output_type": "execute_result"
    }
   ],
   "source": [
    "titanic.head()"
   ]
  },
  {
   "cell_type": "code",
   "execution_count": 4,
   "metadata": {},
   "outputs": [
    {
     "data": {
      "text/plain": [
       "PassengerId      int64\n",
       "Survived         int64\n",
       "Pclass           int64\n",
       "Name            object\n",
       "Sex             object\n",
       "Age            float64\n",
       "SibSp            int64\n",
       "Parch            int64\n",
       "Ticket          object\n",
       "Fare           float64\n",
       "Cabin           object\n",
       "Embarked        object\n",
       "dtype: object"
      ]
     },
     "execution_count": 4,
     "metadata": {},
     "output_type": "execute_result"
    }
   ],
   "source": [
    "# Display the data types of each column in the Titanic DataFrame.\n",
    "# This helps in understanding the nature of the data for preprocessing.\n",
    "\n",
    "titanic.dtypes"
   ]
  },
  {
   "cell_type": "code",
   "execution_count": 5,
   "metadata": {},
   "outputs": [
    {
     "data": {
      "text/plain": [
       "Age\n",
       "False    714\n",
       "True     177\n",
       "Name: count, dtype: int64"
      ]
     },
     "execution_count": 5,
     "metadata": {},
     "output_type": "execute_result"
    }
   ],
   "source": [
    "# Count the number of missing values (NaNs) in the \"Age\" column of the Titanic DataFrame.\n",
    "# This will help assess the extent of missing data for the \"Age\" feature.\n",
    "\n",
    "titanic.Age.isna().value_counts()"
   ]
  },
  {
   "cell_type": "code",
   "execution_count": 6,
   "metadata": {},
   "outputs": [
    {
     "name": "stderr",
     "output_type": "stream",
     "text": [
      "C:\\Users\\AbdouMagico\\AppData\\Local\\Temp\\ipykernel_13684\\2509367079.py:3: FutureWarning: A value is trying to be set on a copy of a DataFrame or Series through chained assignment using an inplace method.\n",
      "The behavior will change in pandas 3.0. This inplace method will never work because the intermediate object on which we are setting values always behaves as a copy.\n",
      "\n",
      "For example, when doing 'df[col].method(value, inplace=True)', try using 'df.method({col: value}, inplace=True)' or df[col] = df[col].method(value) instead, to perform the operation inplace on the original object.\n",
      "\n",
      "\n",
      "  titanic[\"Age\"].fillna(titanic[\"Age\"].median(), inplace=True)\n"
     ]
    }
   ],
   "source": [
    "# Replace missing values in the \"Age\" column with the median age.\n",
    "\n",
    "titanic[\"Age\"].fillna(titanic[\"Age\"].median(), inplace=True)"
   ]
  },
  {
   "cell_type": "code",
   "execution_count": 7,
   "metadata": {},
   "outputs": [],
   "source": [
    "# Convert the \"Sex\" column to binary values: 1 for male and 0 for female.\n",
    "\n",
    "titanic[\"Sex\"] = titanic[\"Sex\"].apply(lambda x: 1 if x == \"male\" else 0)"
   ]
  },
  {
   "cell_type": "code",
   "execution_count": 8,
   "metadata": {},
   "outputs": [],
   "source": [
    "# Create a new column \"FamilySize\" by summing \"Parch\" (parents/children) and \"SibSp\" (siblings/spouses).\n",
    "\n",
    "titanic[\"FamilySize\"] = titanic[\"Parch\"] + titanic[\"SibSp\"]\n",
    "\n",
    "# Remove the \"Parch\" and \"SibSp\" columns as their information is now represented in \"FamilySize\".\n",
    "\n",
    "titanic.drop(columns=[\"Parch\", \"SibSp\"], axis=1, inplace=True)"
   ]
  },
  {
   "cell_type": "code",
   "execution_count": 9,
   "metadata": {},
   "outputs": [],
   "source": [
    "# One-hot encode the \"Embarked\" column, creating new binary columns for each embarkation port.\n",
    "# Drop the original \"Embarked\" column after encoding.\n",
    "\n",
    "titanic = titanic.join(pd.get_dummies(titanic[\"Embarked\"], prefix=\"EmbarkedAt\")).drop(columns=[\"Embarked\"], axis=1)"
   ]
  },
  {
   "cell_type": "code",
   "execution_count": 10,
   "metadata": {},
   "outputs": [],
   "source": [
    "# Convert boolean values in the DataFrame to binary: True becomes 1 and False becomes 0.\n",
    "# Non-boolean values remain unchanged.\n",
    "\n",
    "titanic = titanic.map(lambda x: 1 if x is True else 0 if x is False else x)"
   ]
  },
  {
   "cell_type": "code",
   "execution_count": 11,
   "metadata": {},
   "outputs": [],
   "source": [
    "# Create a new column \"isAlone\" where 1 indicates the passenger is alone (FamilySize == 0) \n",
    "# and 0 indicates the passenger is not alone.\n",
    "\n",
    "titanic[\"isAlone\"] = (titanic[\"FamilySize\"] == 0).astype(int)"
   ]
  },
  {
   "cell_type": "code",
   "execution_count": 12,
   "metadata": {},
   "outputs": [],
   "source": [
    "# Create a new column \"AgeGroup\" by categorizing the \"Age\" column into age groups:\n",
    "# \"child\" for ages under 13, \"teenager\" for ages 13-18, \"adult\" for ages 19-59, and \"senior\" for ages 60 and above.\n",
    "\n",
    "titanic[\"AgeGroup\"] = titanic[\"Age\"].apply(lambda x: \"child\" if x < 13 else \"teenager\" if x < 19 else \"adult\" if x < 60 else \"senior\")"
   ]
  },
  {
   "cell_type": "code",
   "execution_count": 13,
   "metadata": {},
   "outputs": [],
   "source": [
    "# Convert the \"AgeGroup\" categorical values to numeric labels using factorization.\n",
    "# Each unique age group is assigned a unique integer.\n",
    "\n",
    "titanic[\"AgeGroup\"] = pd.factorize(titanic[\"AgeGroup\"])[0]"
   ]
  },
  {
   "cell_type": "code",
   "execution_count": 14,
   "metadata": {},
   "outputs": [],
   "source": [
    "# Calculate the size of each group based on the \"Ticket\" column, representing the number of passengers with the same ticket.\n",
    "\n",
    "ticket_group_size = titanic.groupby(by=[\"Ticket\"]).size()\n",
    "\n",
    "# Map the group sizes to a new column \"TicketGroupSize\" in the DataFrame.\n",
    "# This column shows the number of passengers sharing the same ticket.\n",
    "\n",
    "titanic[\"TicketGroupSize\"] = titanic[\"Ticket\"].map(ticket_group_size)"
   ]
  },
  {
   "cell_type": "code",
   "execution_count": 15,
   "metadata": {},
   "outputs": [],
   "source": [
    "# Categorize the \"Fare\" column into fare groups:\n",
    "# \"low\" for fares less than or equal to 50,\n",
    "# \"medium\" for fares between 51 and 150,\n",
    "# and \"high\" for fares greater than 150.\n",
    "\n",
    "titanic[\"Fare\"] = titanic[\"Fare\"].apply(lambda x: \"low\" if x <= 50 else \"medium\" if x <= 150 else \"high\")"
   ]
  },
  {
   "cell_type": "code",
   "execution_count": 16,
   "metadata": {},
   "outputs": [],
   "source": [
    "# Convert the \"Fare\" categorical values to numeric labels using factorization.\n",
    "# Each unique fare category (\"low\", \"medium\", \"high\") is assigned a unique integer.\n",
    "\n",
    "titanic[\"Fare\"] = pd.factorize(titanic[\"Fare\"])[0]"
   ]
  },
  {
   "cell_type": "code",
   "execution_count": 17,
   "metadata": {},
   "outputs": [],
   "source": [
    "# Add a feature for the length of the passenger's name\n",
    "\n",
    "titanic['NameLength'] = titanic['Name'].apply(len)"
   ]
  },
  {
   "cell_type": "code",
   "execution_count": 18,
   "metadata": {},
   "outputs": [],
   "source": [
    "# Extract the title from the \"Name\" column, which is located between the comma and the period.\n",
    "# The title is then cleaned of any leading or trailing whitespace.\n",
    "\n",
    "titanic['Title'] = titanic['Name'].apply(lambda x: x.split(',')[1].split('.')[0].strip())\n",
    "\n",
    "# Drop the \"Name\" and \"Ticket\" columns as their information is no longer needed for analysis.\n",
    "\n",
    "titanic.drop(columns=[\"Name\", \"Ticket\"], axis=1, inplace=True)"
   ]
  },
  {
   "cell_type": "code",
   "execution_count": 19,
   "metadata": {},
   "outputs": [],
   "source": [
    "# One-hot encode the \"Title\" column, creating binary columns for each title (e.g., \"Mr\", \"Mrs\").\n",
    "# Drop the original \"Title\" column after encoding.\n",
    "\n",
    "titanic = titanic.join(pd.get_dummies(titanic[\"Title\"], prefix=\"Title\")).drop(columns=[\"Title\"], axis=1)"
   ]
  },
  {
   "cell_type": "code",
   "execution_count": 20,
   "metadata": {},
   "outputs": [
    {
     "data": {
      "text/plain": [
       "Cabin\n",
       "True     687\n",
       "False    204\n",
       "Name: count, dtype: int64"
      ]
     },
     "execution_count": 20,
     "metadata": {},
     "output_type": "execute_result"
    }
   ],
   "source": [
    "titanic.Cabin.isna().value_counts()"
   ]
  },
  {
   "cell_type": "code",
   "execution_count": 21,
   "metadata": {},
   "outputs": [],
   "source": [
    "# Create deck feature from the first character of 'Cabin' and encode it as dummies, \n",
    "# then drop the original 'Deck' and 'Cabin' columns.\n",
    "\n",
    "titanic[\"Deck\"] = titanic[\"Cabin\"].str[0].fillna(\"Unknown\")\n",
    "titanic = titanic.join(pd.get_dummies(titanic[\"Deck\"], prefix=\"Deck\")).drop(columns=[\"Deck\", \"Cabin\"], axis=1)"
   ]
  },
  {
   "cell_type": "code",
   "execution_count": 22,
   "metadata": {},
   "outputs": [],
   "source": [
    "# Calculate fare per person based on family size\n",
    "\n",
    "titanic['FarePerPerson'] = titanic['Fare'] / (titanic['FamilySize'] + 1)"
   ]
  },
  {
   "cell_type": "code",
   "execution_count": 23,
   "metadata": {},
   "outputs": [],
   "source": [
    "# Convert boolean values in the DataFrame to binary: True becomes 1 and False becomes 0.\n",
    "# Non-boolean values remain unchanged.\n",
    "\n",
    "titanic = titanic.map(lambda x: 1 if x is True else 0 if x is False else x)"
   ]
  },
  {
   "cell_type": "code",
   "execution_count": 24,
   "metadata": {},
   "outputs": [
    {
     "data": {
      "text/html": [
       "<div>\n",
       "<style scoped>\n",
       "    .dataframe tbody tr th:only-of-type {\n",
       "        vertical-align: middle;\n",
       "    }\n",
       "\n",
       "    .dataframe tbody tr th {\n",
       "        vertical-align: top;\n",
       "    }\n",
       "\n",
       "    .dataframe thead th {\n",
       "        text-align: right;\n",
       "    }\n",
       "</style>\n",
       "<table border=\"1\" class=\"dataframe\">\n",
       "  <thead>\n",
       "    <tr style=\"text-align: right;\">\n",
       "      <th></th>\n",
       "      <th>PassengerId</th>\n",
       "      <th>Survived</th>\n",
       "      <th>Pclass</th>\n",
       "      <th>Sex</th>\n",
       "      <th>Age</th>\n",
       "      <th>Fare</th>\n",
       "      <th>FamilySize</th>\n",
       "      <th>EmbarkedAt_C</th>\n",
       "      <th>EmbarkedAt_Q</th>\n",
       "      <th>EmbarkedAt_S</th>\n",
       "      <th>...</th>\n",
       "      <th>Deck_A</th>\n",
       "      <th>Deck_B</th>\n",
       "      <th>Deck_C</th>\n",
       "      <th>Deck_D</th>\n",
       "      <th>Deck_E</th>\n",
       "      <th>Deck_F</th>\n",
       "      <th>Deck_G</th>\n",
       "      <th>Deck_T</th>\n",
       "      <th>Deck_Unknown</th>\n",
       "      <th>FarePerPerson</th>\n",
       "    </tr>\n",
       "  </thead>\n",
       "  <tbody>\n",
       "    <tr>\n",
       "      <th>0</th>\n",
       "      <td>1</td>\n",
       "      <td>0</td>\n",
       "      <td>3</td>\n",
       "      <td>1</td>\n",
       "      <td>22.0</td>\n",
       "      <td>0</td>\n",
       "      <td>1</td>\n",
       "      <td>0</td>\n",
       "      <td>0</td>\n",
       "      <td>1</td>\n",
       "      <td>...</td>\n",
       "      <td>0</td>\n",
       "      <td>0</td>\n",
       "      <td>0</td>\n",
       "      <td>0</td>\n",
       "      <td>0</td>\n",
       "      <td>0</td>\n",
       "      <td>0</td>\n",
       "      <td>0</td>\n",
       "      <td>1</td>\n",
       "      <td>0.0</td>\n",
       "    </tr>\n",
       "    <tr>\n",
       "      <th>1</th>\n",
       "      <td>2</td>\n",
       "      <td>1</td>\n",
       "      <td>1</td>\n",
       "      <td>0</td>\n",
       "      <td>38.0</td>\n",
       "      <td>1</td>\n",
       "      <td>1</td>\n",
       "      <td>1</td>\n",
       "      <td>0</td>\n",
       "      <td>0</td>\n",
       "      <td>...</td>\n",
       "      <td>0</td>\n",
       "      <td>0</td>\n",
       "      <td>1</td>\n",
       "      <td>0</td>\n",
       "      <td>0</td>\n",
       "      <td>0</td>\n",
       "      <td>0</td>\n",
       "      <td>0</td>\n",
       "      <td>0</td>\n",
       "      <td>0.5</td>\n",
       "    </tr>\n",
       "    <tr>\n",
       "      <th>2</th>\n",
       "      <td>3</td>\n",
       "      <td>1</td>\n",
       "      <td>3</td>\n",
       "      <td>0</td>\n",
       "      <td>26.0</td>\n",
       "      <td>0</td>\n",
       "      <td>0</td>\n",
       "      <td>0</td>\n",
       "      <td>0</td>\n",
       "      <td>1</td>\n",
       "      <td>...</td>\n",
       "      <td>0</td>\n",
       "      <td>0</td>\n",
       "      <td>0</td>\n",
       "      <td>0</td>\n",
       "      <td>0</td>\n",
       "      <td>0</td>\n",
       "      <td>0</td>\n",
       "      <td>0</td>\n",
       "      <td>1</td>\n",
       "      <td>0.0</td>\n",
       "    </tr>\n",
       "    <tr>\n",
       "      <th>3</th>\n",
       "      <td>4</td>\n",
       "      <td>1</td>\n",
       "      <td>1</td>\n",
       "      <td>0</td>\n",
       "      <td>35.0</td>\n",
       "      <td>1</td>\n",
       "      <td>1</td>\n",
       "      <td>0</td>\n",
       "      <td>0</td>\n",
       "      <td>1</td>\n",
       "      <td>...</td>\n",
       "      <td>0</td>\n",
       "      <td>0</td>\n",
       "      <td>1</td>\n",
       "      <td>0</td>\n",
       "      <td>0</td>\n",
       "      <td>0</td>\n",
       "      <td>0</td>\n",
       "      <td>0</td>\n",
       "      <td>0</td>\n",
       "      <td>0.5</td>\n",
       "    </tr>\n",
       "    <tr>\n",
       "      <th>4</th>\n",
       "      <td>5</td>\n",
       "      <td>0</td>\n",
       "      <td>3</td>\n",
       "      <td>1</td>\n",
       "      <td>35.0</td>\n",
       "      <td>0</td>\n",
       "      <td>0</td>\n",
       "      <td>0</td>\n",
       "      <td>0</td>\n",
       "      <td>1</td>\n",
       "      <td>...</td>\n",
       "      <td>0</td>\n",
       "      <td>0</td>\n",
       "      <td>0</td>\n",
       "      <td>0</td>\n",
       "      <td>0</td>\n",
       "      <td>0</td>\n",
       "      <td>0</td>\n",
       "      <td>0</td>\n",
       "      <td>1</td>\n",
       "      <td>0.0</td>\n",
       "    </tr>\n",
       "  </tbody>\n",
       "</table>\n",
       "<p>5 rows × 41 columns</p>\n",
       "</div>"
      ],
      "text/plain": [
       "   PassengerId  Survived  Pclass  Sex   Age  Fare  FamilySize  EmbarkedAt_C  \\\n",
       "0            1         0       3    1  22.0     0           1             0   \n",
       "1            2         1       1    0  38.0     1           1             1   \n",
       "2            3         1       3    0  26.0     0           0             0   \n",
       "3            4         1       1    0  35.0     1           1             0   \n",
       "4            5         0       3    1  35.0     0           0             0   \n",
       "\n",
       "   EmbarkedAt_Q  EmbarkedAt_S  ...  Deck_A  Deck_B  Deck_C  Deck_D  Deck_E  \\\n",
       "0             0             1  ...       0       0       0       0       0   \n",
       "1             0             0  ...       0       0       1       0       0   \n",
       "2             0             1  ...       0       0       0       0       0   \n",
       "3             0             1  ...       0       0       1       0       0   \n",
       "4             0             1  ...       0       0       0       0       0   \n",
       "\n",
       "   Deck_F  Deck_G  Deck_T  Deck_Unknown  FarePerPerson  \n",
       "0       0       0       0             1            0.0  \n",
       "1       0       0       0             0            0.5  \n",
       "2       0       0       0             1            0.0  \n",
       "3       0       0       0             0            0.5  \n",
       "4       0       0       0             1            0.0  \n",
       "\n",
       "[5 rows x 41 columns]"
      ]
     },
     "execution_count": 24,
     "metadata": {},
     "output_type": "execute_result"
    }
   ],
   "source": [
    "titanic.head()"
   ]
  },
  {
   "cell_type": "markdown",
   "metadata": {},
   "source": [
    "## Training the Model"
   ]
  },
  {
   "cell_type": "code",
   "execution_count": 25,
   "metadata": {},
   "outputs": [],
   "source": [
    "# Import the RandomForestClassifier from sklearn.ensemble for building and training a random forest model.\n",
    "from sklearn.ensemble import RandomForestClassifier\n",
    "\n",
    "# Import train_test_split from sklearn.model_selection to split the dataset into training and testing sets.\n",
    "# This helps in evaluating the performance of the model on unseen data.\n",
    "from sklearn.model_selection import train_test_split"
   ]
  },
  {
   "cell_type": "code",
   "execution_count": 26,
   "metadata": {},
   "outputs": [],
   "source": [
    "# Initialize a RandomForestClassifier model with parallel processing enabled (n_jobs=-1).\n",
    "# This allows the model to use all available CPU cores for training, potentially speeding up the process.\n",
    "\n",
    "model: RandomForestClassifier = RandomForestClassifier(n_jobs=-1)"
   ]
  },
  {
   "cell_type": "code",
   "execution_count": 27,
   "metadata": {},
   "outputs": [],
   "source": [
    "# Separate the features (X) from the target variable (y).\n",
    "# X contains all columns except \"Survived\", which is the target variable for prediction.\n",
    "# y contains the \"Survived\" column, representing whether the passenger survived.\n",
    "\n",
    "X, y = titanic.drop(columns=[\"Survived\", \"PassengerId\"], axis=1), titanic[\"Survived\"]"
   ]
  },
  {
   "cell_type": "code",
   "execution_count": 28,
   "metadata": {},
   "outputs": [],
   "source": [
    "# Split the dataset into training and testing sets.\n",
    "# 20% of the data is reserved for testing (test_size=0.2), while the remaining 80% is used for training.\n",
    "# This helps evaluate the model's performance on unseen data.\n",
    "\n",
    "X_train, X_test, y_train, y_test = train_test_split(X, y, test_size=0.2)"
   ]
  },
  {
   "cell_type": "code",
   "execution_count": 29,
   "metadata": {},
   "outputs": [
    {
     "data": {
      "text/html": [
       "<style>#sk-container-id-1 {\n",
       "  /* Definition of color scheme common for light and dark mode */\n",
       "  --sklearn-color-text: black;\n",
       "  --sklearn-color-line: gray;\n",
       "  /* Definition of color scheme for unfitted estimators */\n",
       "  --sklearn-color-unfitted-level-0: #fff5e6;\n",
       "  --sklearn-color-unfitted-level-1: #f6e4d2;\n",
       "  --sklearn-color-unfitted-level-2: #ffe0b3;\n",
       "  --sklearn-color-unfitted-level-3: chocolate;\n",
       "  /* Definition of color scheme for fitted estimators */\n",
       "  --sklearn-color-fitted-level-0: #f0f8ff;\n",
       "  --sklearn-color-fitted-level-1: #d4ebff;\n",
       "  --sklearn-color-fitted-level-2: #b3dbfd;\n",
       "  --sklearn-color-fitted-level-3: cornflowerblue;\n",
       "\n",
       "  /* Specific color for light theme */\n",
       "  --sklearn-color-text-on-default-background: var(--sg-text-color, var(--theme-code-foreground, var(--jp-content-font-color1, black)));\n",
       "  --sklearn-color-background: var(--sg-background-color, var(--theme-background, var(--jp-layout-color0, white)));\n",
       "  --sklearn-color-border-box: var(--sg-text-color, var(--theme-code-foreground, var(--jp-content-font-color1, black)));\n",
       "  --sklearn-color-icon: #696969;\n",
       "\n",
       "  @media (prefers-color-scheme: dark) {\n",
       "    /* Redefinition of color scheme for dark theme */\n",
       "    --sklearn-color-text-on-default-background: var(--sg-text-color, var(--theme-code-foreground, var(--jp-content-font-color1, white)));\n",
       "    --sklearn-color-background: var(--sg-background-color, var(--theme-background, var(--jp-layout-color0, #111)));\n",
       "    --sklearn-color-border-box: var(--sg-text-color, var(--theme-code-foreground, var(--jp-content-font-color1, white)));\n",
       "    --sklearn-color-icon: #878787;\n",
       "  }\n",
       "}\n",
       "\n",
       "#sk-container-id-1 {\n",
       "  color: var(--sklearn-color-text);\n",
       "}\n",
       "\n",
       "#sk-container-id-1 pre {\n",
       "  padding: 0;\n",
       "}\n",
       "\n",
       "#sk-container-id-1 input.sk-hidden--visually {\n",
       "  border: 0;\n",
       "  clip: rect(1px 1px 1px 1px);\n",
       "  clip: rect(1px, 1px, 1px, 1px);\n",
       "  height: 1px;\n",
       "  margin: -1px;\n",
       "  overflow: hidden;\n",
       "  padding: 0;\n",
       "  position: absolute;\n",
       "  width: 1px;\n",
       "}\n",
       "\n",
       "#sk-container-id-1 div.sk-dashed-wrapped {\n",
       "  border: 1px dashed var(--sklearn-color-line);\n",
       "  margin: 0 0.4em 0.5em 0.4em;\n",
       "  box-sizing: border-box;\n",
       "  padding-bottom: 0.4em;\n",
       "  background-color: var(--sklearn-color-background);\n",
       "}\n",
       "\n",
       "#sk-container-id-1 div.sk-container {\n",
       "  /* jupyter's `normalize.less` sets `[hidden] { display: none; }`\n",
       "     but bootstrap.min.css set `[hidden] { display: none !important; }`\n",
       "     so we also need the `!important` here to be able to override the\n",
       "     default hidden behavior on the sphinx rendered scikit-learn.org.\n",
       "     See: https://github.com/scikit-learn/scikit-learn/issues/21755 */\n",
       "  display: inline-block !important;\n",
       "  position: relative;\n",
       "}\n",
       "\n",
       "#sk-container-id-1 div.sk-text-repr-fallback {\n",
       "  display: none;\n",
       "}\n",
       "\n",
       "div.sk-parallel-item,\n",
       "div.sk-serial,\n",
       "div.sk-item {\n",
       "  /* draw centered vertical line to link estimators */\n",
       "  background-image: linear-gradient(var(--sklearn-color-text-on-default-background), var(--sklearn-color-text-on-default-background));\n",
       "  background-size: 2px 100%;\n",
       "  background-repeat: no-repeat;\n",
       "  background-position: center center;\n",
       "}\n",
       "\n",
       "/* Parallel-specific style estimator block */\n",
       "\n",
       "#sk-container-id-1 div.sk-parallel-item::after {\n",
       "  content: \"\";\n",
       "  width: 100%;\n",
       "  border-bottom: 2px solid var(--sklearn-color-text-on-default-background);\n",
       "  flex-grow: 1;\n",
       "}\n",
       "\n",
       "#sk-container-id-1 div.sk-parallel {\n",
       "  display: flex;\n",
       "  align-items: stretch;\n",
       "  justify-content: center;\n",
       "  background-color: var(--sklearn-color-background);\n",
       "  position: relative;\n",
       "}\n",
       "\n",
       "#sk-container-id-1 div.sk-parallel-item {\n",
       "  display: flex;\n",
       "  flex-direction: column;\n",
       "}\n",
       "\n",
       "#sk-container-id-1 div.sk-parallel-item:first-child::after {\n",
       "  align-self: flex-end;\n",
       "  width: 50%;\n",
       "}\n",
       "\n",
       "#sk-container-id-1 div.sk-parallel-item:last-child::after {\n",
       "  align-self: flex-start;\n",
       "  width: 50%;\n",
       "}\n",
       "\n",
       "#sk-container-id-1 div.sk-parallel-item:only-child::after {\n",
       "  width: 0;\n",
       "}\n",
       "\n",
       "/* Serial-specific style estimator block */\n",
       "\n",
       "#sk-container-id-1 div.sk-serial {\n",
       "  display: flex;\n",
       "  flex-direction: column;\n",
       "  align-items: center;\n",
       "  background-color: var(--sklearn-color-background);\n",
       "  padding-right: 1em;\n",
       "  padding-left: 1em;\n",
       "}\n",
       "\n",
       "\n",
       "/* Toggleable style: style used for estimator/Pipeline/ColumnTransformer box that is\n",
       "clickable and can be expanded/collapsed.\n",
       "- Pipeline and ColumnTransformer use this feature and define the default style\n",
       "- Estimators will overwrite some part of the style using the `sk-estimator` class\n",
       "*/\n",
       "\n",
       "/* Pipeline and ColumnTransformer style (default) */\n",
       "\n",
       "#sk-container-id-1 div.sk-toggleable {\n",
       "  /* Default theme specific background. It is overwritten whether we have a\n",
       "  specific estimator or a Pipeline/ColumnTransformer */\n",
       "  background-color: var(--sklearn-color-background);\n",
       "}\n",
       "\n",
       "/* Toggleable label */\n",
       "#sk-container-id-1 label.sk-toggleable__label {\n",
       "  cursor: pointer;\n",
       "  display: block;\n",
       "  width: 100%;\n",
       "  margin-bottom: 0;\n",
       "  padding: 0.5em;\n",
       "  box-sizing: border-box;\n",
       "  text-align: center;\n",
       "}\n",
       "\n",
       "#sk-container-id-1 label.sk-toggleable__label-arrow:before {\n",
       "  /* Arrow on the left of the label */\n",
       "  content: \"▸\";\n",
       "  float: left;\n",
       "  margin-right: 0.25em;\n",
       "  color: var(--sklearn-color-icon);\n",
       "}\n",
       "\n",
       "#sk-container-id-1 label.sk-toggleable__label-arrow:hover:before {\n",
       "  color: var(--sklearn-color-text);\n",
       "}\n",
       "\n",
       "/* Toggleable content - dropdown */\n",
       "\n",
       "#sk-container-id-1 div.sk-toggleable__content {\n",
       "  max-height: 0;\n",
       "  max-width: 0;\n",
       "  overflow: hidden;\n",
       "  text-align: left;\n",
       "  /* unfitted */\n",
       "  background-color: var(--sklearn-color-unfitted-level-0);\n",
       "}\n",
       "\n",
       "#sk-container-id-1 div.sk-toggleable__content.fitted {\n",
       "  /* fitted */\n",
       "  background-color: var(--sklearn-color-fitted-level-0);\n",
       "}\n",
       "\n",
       "#sk-container-id-1 div.sk-toggleable__content pre {\n",
       "  margin: 0.2em;\n",
       "  border-radius: 0.25em;\n",
       "  color: var(--sklearn-color-text);\n",
       "  /* unfitted */\n",
       "  background-color: var(--sklearn-color-unfitted-level-0);\n",
       "}\n",
       "\n",
       "#sk-container-id-1 div.sk-toggleable__content.fitted pre {\n",
       "  /* unfitted */\n",
       "  background-color: var(--sklearn-color-fitted-level-0);\n",
       "}\n",
       "\n",
       "#sk-container-id-1 input.sk-toggleable__control:checked~div.sk-toggleable__content {\n",
       "  /* Expand drop-down */\n",
       "  max-height: 200px;\n",
       "  max-width: 100%;\n",
       "  overflow: auto;\n",
       "}\n",
       "\n",
       "#sk-container-id-1 input.sk-toggleable__control:checked~label.sk-toggleable__label-arrow:before {\n",
       "  content: \"▾\";\n",
       "}\n",
       "\n",
       "/* Pipeline/ColumnTransformer-specific style */\n",
       "\n",
       "#sk-container-id-1 div.sk-label input.sk-toggleable__control:checked~label.sk-toggleable__label {\n",
       "  color: var(--sklearn-color-text);\n",
       "  background-color: var(--sklearn-color-unfitted-level-2);\n",
       "}\n",
       "\n",
       "#sk-container-id-1 div.sk-label.fitted input.sk-toggleable__control:checked~label.sk-toggleable__label {\n",
       "  background-color: var(--sklearn-color-fitted-level-2);\n",
       "}\n",
       "\n",
       "/* Estimator-specific style */\n",
       "\n",
       "/* Colorize estimator box */\n",
       "#sk-container-id-1 div.sk-estimator input.sk-toggleable__control:checked~label.sk-toggleable__label {\n",
       "  /* unfitted */\n",
       "  background-color: var(--sklearn-color-unfitted-level-2);\n",
       "}\n",
       "\n",
       "#sk-container-id-1 div.sk-estimator.fitted input.sk-toggleable__control:checked~label.sk-toggleable__label {\n",
       "  /* fitted */\n",
       "  background-color: var(--sklearn-color-fitted-level-2);\n",
       "}\n",
       "\n",
       "#sk-container-id-1 div.sk-label label.sk-toggleable__label,\n",
       "#sk-container-id-1 div.sk-label label {\n",
       "  /* The background is the default theme color */\n",
       "  color: var(--sklearn-color-text-on-default-background);\n",
       "}\n",
       "\n",
       "/* On hover, darken the color of the background */\n",
       "#sk-container-id-1 div.sk-label:hover label.sk-toggleable__label {\n",
       "  color: var(--sklearn-color-text);\n",
       "  background-color: var(--sklearn-color-unfitted-level-2);\n",
       "}\n",
       "\n",
       "/* Label box, darken color on hover, fitted */\n",
       "#sk-container-id-1 div.sk-label.fitted:hover label.sk-toggleable__label.fitted {\n",
       "  color: var(--sklearn-color-text);\n",
       "  background-color: var(--sklearn-color-fitted-level-2);\n",
       "}\n",
       "\n",
       "/* Estimator label */\n",
       "\n",
       "#sk-container-id-1 div.sk-label label {\n",
       "  font-family: monospace;\n",
       "  font-weight: bold;\n",
       "  display: inline-block;\n",
       "  line-height: 1.2em;\n",
       "}\n",
       "\n",
       "#sk-container-id-1 div.sk-label-container {\n",
       "  text-align: center;\n",
       "}\n",
       "\n",
       "/* Estimator-specific */\n",
       "#sk-container-id-1 div.sk-estimator {\n",
       "  font-family: monospace;\n",
       "  border: 1px dotted var(--sklearn-color-border-box);\n",
       "  border-radius: 0.25em;\n",
       "  box-sizing: border-box;\n",
       "  margin-bottom: 0.5em;\n",
       "  /* unfitted */\n",
       "  background-color: var(--sklearn-color-unfitted-level-0);\n",
       "}\n",
       "\n",
       "#sk-container-id-1 div.sk-estimator.fitted {\n",
       "  /* fitted */\n",
       "  background-color: var(--sklearn-color-fitted-level-0);\n",
       "}\n",
       "\n",
       "/* on hover */\n",
       "#sk-container-id-1 div.sk-estimator:hover {\n",
       "  /* unfitted */\n",
       "  background-color: var(--sklearn-color-unfitted-level-2);\n",
       "}\n",
       "\n",
       "#sk-container-id-1 div.sk-estimator.fitted:hover {\n",
       "  /* fitted */\n",
       "  background-color: var(--sklearn-color-fitted-level-2);\n",
       "}\n",
       "\n",
       "/* Specification for estimator info (e.g. \"i\" and \"?\") */\n",
       "\n",
       "/* Common style for \"i\" and \"?\" */\n",
       "\n",
       ".sk-estimator-doc-link,\n",
       "a:link.sk-estimator-doc-link,\n",
       "a:visited.sk-estimator-doc-link {\n",
       "  float: right;\n",
       "  font-size: smaller;\n",
       "  line-height: 1em;\n",
       "  font-family: monospace;\n",
       "  background-color: var(--sklearn-color-background);\n",
       "  border-radius: 1em;\n",
       "  height: 1em;\n",
       "  width: 1em;\n",
       "  text-decoration: none !important;\n",
       "  margin-left: 1ex;\n",
       "  /* unfitted */\n",
       "  border: var(--sklearn-color-unfitted-level-1) 1pt solid;\n",
       "  color: var(--sklearn-color-unfitted-level-1);\n",
       "}\n",
       "\n",
       ".sk-estimator-doc-link.fitted,\n",
       "a:link.sk-estimator-doc-link.fitted,\n",
       "a:visited.sk-estimator-doc-link.fitted {\n",
       "  /* fitted */\n",
       "  border: var(--sklearn-color-fitted-level-1) 1pt solid;\n",
       "  color: var(--sklearn-color-fitted-level-1);\n",
       "}\n",
       "\n",
       "/* On hover */\n",
       "div.sk-estimator:hover .sk-estimator-doc-link:hover,\n",
       ".sk-estimator-doc-link:hover,\n",
       "div.sk-label-container:hover .sk-estimator-doc-link:hover,\n",
       ".sk-estimator-doc-link:hover {\n",
       "  /* unfitted */\n",
       "  background-color: var(--sklearn-color-unfitted-level-3);\n",
       "  color: var(--sklearn-color-background);\n",
       "  text-decoration: none;\n",
       "}\n",
       "\n",
       "div.sk-estimator.fitted:hover .sk-estimator-doc-link.fitted:hover,\n",
       ".sk-estimator-doc-link.fitted:hover,\n",
       "div.sk-label-container:hover .sk-estimator-doc-link.fitted:hover,\n",
       ".sk-estimator-doc-link.fitted:hover {\n",
       "  /* fitted */\n",
       "  background-color: var(--sklearn-color-fitted-level-3);\n",
       "  color: var(--sklearn-color-background);\n",
       "  text-decoration: none;\n",
       "}\n",
       "\n",
       "/* Span, style for the box shown on hovering the info icon */\n",
       ".sk-estimator-doc-link span {\n",
       "  display: none;\n",
       "  z-index: 9999;\n",
       "  position: relative;\n",
       "  font-weight: normal;\n",
       "  right: .2ex;\n",
       "  padding: .5ex;\n",
       "  margin: .5ex;\n",
       "  width: min-content;\n",
       "  min-width: 20ex;\n",
       "  max-width: 50ex;\n",
       "  color: var(--sklearn-color-text);\n",
       "  box-shadow: 2pt 2pt 4pt #999;\n",
       "  /* unfitted */\n",
       "  background: var(--sklearn-color-unfitted-level-0);\n",
       "  border: .5pt solid var(--sklearn-color-unfitted-level-3);\n",
       "}\n",
       "\n",
       ".sk-estimator-doc-link.fitted span {\n",
       "  /* fitted */\n",
       "  background: var(--sklearn-color-fitted-level-0);\n",
       "  border: var(--sklearn-color-fitted-level-3);\n",
       "}\n",
       "\n",
       ".sk-estimator-doc-link:hover span {\n",
       "  display: block;\n",
       "}\n",
       "\n",
       "/* \"?\"-specific style due to the `<a>` HTML tag */\n",
       "\n",
       "#sk-container-id-1 a.estimator_doc_link {\n",
       "  float: right;\n",
       "  font-size: 1rem;\n",
       "  line-height: 1em;\n",
       "  font-family: monospace;\n",
       "  background-color: var(--sklearn-color-background);\n",
       "  border-radius: 1rem;\n",
       "  height: 1rem;\n",
       "  width: 1rem;\n",
       "  text-decoration: none;\n",
       "  /* unfitted */\n",
       "  color: var(--sklearn-color-unfitted-level-1);\n",
       "  border: var(--sklearn-color-unfitted-level-1) 1pt solid;\n",
       "}\n",
       "\n",
       "#sk-container-id-1 a.estimator_doc_link.fitted {\n",
       "  /* fitted */\n",
       "  border: var(--sklearn-color-fitted-level-1) 1pt solid;\n",
       "  color: var(--sklearn-color-fitted-level-1);\n",
       "}\n",
       "\n",
       "/* On hover */\n",
       "#sk-container-id-1 a.estimator_doc_link:hover {\n",
       "  /* unfitted */\n",
       "  background-color: var(--sklearn-color-unfitted-level-3);\n",
       "  color: var(--sklearn-color-background);\n",
       "  text-decoration: none;\n",
       "}\n",
       "\n",
       "#sk-container-id-1 a.estimator_doc_link.fitted:hover {\n",
       "  /* fitted */\n",
       "  background-color: var(--sklearn-color-fitted-level-3);\n",
       "}\n",
       "</style><div id=\"sk-container-id-1\" class=\"sk-top-container\"><div class=\"sk-text-repr-fallback\"><pre>RandomForestClassifier(n_jobs=-1)</pre><b>In a Jupyter environment, please rerun this cell to show the HTML representation or trust the notebook. <br />On GitHub, the HTML representation is unable to render, please try loading this page with nbviewer.org.</b></div><div class=\"sk-container\" hidden><div class=\"sk-item\"><div class=\"sk-estimator fitted sk-toggleable\"><input class=\"sk-toggleable__control sk-hidden--visually\" id=\"sk-estimator-id-1\" type=\"checkbox\" checked><label for=\"sk-estimator-id-1\" class=\"sk-toggleable__label fitted sk-toggleable__label-arrow fitted\">&nbsp;&nbsp;RandomForestClassifier<a class=\"sk-estimator-doc-link fitted\" rel=\"noreferrer\" target=\"_blank\" href=\"https://scikit-learn.org/1.5/modules/generated/sklearn.ensemble.RandomForestClassifier.html\">?<span>Documentation for RandomForestClassifier</span></a><span class=\"sk-estimator-doc-link fitted\">i<span>Fitted</span></span></label><div class=\"sk-toggleable__content fitted\"><pre>RandomForestClassifier(n_jobs=-1)</pre></div> </div></div></div></div>"
      ],
      "text/plain": [
       "RandomForestClassifier(n_jobs=-1)"
      ]
     },
     "execution_count": 29,
     "metadata": {},
     "output_type": "execute_result"
    }
   ],
   "source": [
    "# Train the RandomForestClassifier model using the training data (X_train and y_train).\n",
    "# The model learns to predict the target variable \"Survived\" based on the features provided.\n",
    "\n",
    "model.fit(X_train, y_train)"
   ]
  },
  {
   "cell_type": "code",
   "execution_count": 30,
   "metadata": {},
   "outputs": [
    {
     "data": {
      "text/plain": [
       "0.8044692737430168"
      ]
     },
     "execution_count": 30,
     "metadata": {},
     "output_type": "execute_result"
    }
   ],
   "source": [
    "# Evaluate the trained RandomForestClassifier model on the test data (X_test and y_test).\n",
    "# This returns the accuracy of the model, representing the proportion of correctly classified samples.\n",
    "\n",
    "model.score(X_test, y_test)"
   ]
  },
  {
   "cell_type": "code",
   "execution_count": 31,
   "metadata": {},
   "outputs": [],
   "source": [
    "# Import matplotlib's pyplot module as plt for creating static, interactive, and animated visualizations.\n",
    "# This module provides functions to generate various types of plots and charts.\n",
    "\n",
    "import matplotlib.pyplot as plt"
   ]
  },
  {
   "cell_type": "code",
   "execution_count": 32,
   "metadata": {},
   "outputs": [
    {
     "data": {
      "text/plain": [
       "{'NameLength': np.float64(0.17499484172331442),\n",
       " 'Age': np.float64(0.1618645901408983),\n",
       " 'Sex': np.float64(0.11475168457904622),\n",
       " 'Title_Mr': np.float64(0.10939038537422079),\n",
       " 'Pclass': np.float64(0.06444072865246539),\n",
       " 'TicketGroupSize': np.float64(0.06276221009818435),\n",
       " 'Title_Miss': np.float64(0.04550748359495014),\n",
       " 'FamilySize': np.float64(0.0439198132256189),\n",
       " 'Title_Mrs': np.float64(0.030545839399326005),\n",
       " 'Deck_Unknown': np.float64(0.02972833348224056),\n",
       " 'FarePerPerson': np.float64(0.02528484332207371),\n",
       " 'Fare': np.float64(0.016688560065200513),\n",
       " 'EmbarkedAt_S': np.float64(0.016659013790566817),\n",
       " 'EmbarkedAt_C': np.float64(0.014173400507806981),\n",
       " 'AgeGroup': np.float64(0.014004613059024468),\n",
       " 'isAlone': np.float64(0.011955207066463615),\n",
       " 'Deck_E': np.float64(0.010956042365296603),\n",
       " 'EmbarkedAt_Q': np.float64(0.009658141186625073),\n",
       " 'Deck_B': np.float64(0.009489328449977517),\n",
       " 'Deck_C': np.float64(0.008920537779845502),\n",
       " 'Title_Master': np.float64(0.005803999698896365),\n",
       " 'Deck_D': np.float64(0.00381565432831102),\n",
       " 'Title_Rev': np.float64(0.0032477667957746424),\n",
       " 'Deck_A': np.float64(0.002719405049424017),\n",
       " 'Title_Dr': np.float64(0.0023052353966824196),\n",
       " 'Deck_F': np.float64(0.0019352693052793368),\n",
       " 'Title_Major': np.float64(0.0010801161278690627),\n",
       " 'Deck_G': np.float64(0.0009016032875164991),\n",
       " 'Title_Col': np.float64(0.0007190716217186839),\n",
       " 'Title_Don': np.float64(0.0004827587625393452),\n",
       " 'Title_Capt': np.float64(0.00039868554076517756),\n",
       " 'Title_Jonkheer': np.float64(0.000368428148699721),\n",
       " 'Deck_T': np.float64(0.00025988661774268635),\n",
       " 'Title_the Countess': np.float64(0.00010367429810558037),\n",
       " 'Title_Lady': np.float64(6.708714337353046e-05),\n",
       " 'Title_Mme': np.float64(5.681561999896614e-05),\n",
       " 'Title_Mlle': np.float64(3.8944394157239154e-05),\n",
       " 'Title_Ms': np.float64(0.0),\n",
       " 'Title_Sir': np.float64(0.0)}"
      ]
     },
     "execution_count": 32,
     "metadata": {},
     "output_type": "execute_result"
    }
   ],
   "source": [
    "# Extract feature importances from the trained RandomForestClassifier model.\n",
    "# feature_importances contains the importance scores for each feature, \n",
    "# and feature_names contains the names of the features.\n",
    "\n",
    "feature_importances = model.feature_importances_\n",
    "feature_names = model.feature_names_in_\n",
    "\n",
    "# Combine feature names and their corresponding importance scores into a dictionary,\n",
    "# then sort the dictionary by importance scores in descending order.\n",
    "\n",
    "sorted_importances = dict(\n",
    "    sorted(\n",
    "        zip(feature_names, feature_importances),\n",
    "        key=lambda x: x[1],\n",
    "        reverse=True\n",
    "    )\n",
    ")\n",
    "\n",
    "# Display the sorted feature importances.\n",
    "sorted_importances"
   ]
  },
  {
   "cell_type": "code",
   "execution_count": 33,
   "metadata": {},
   "outputs": [
    {
     "data": {
      "image/png": "[encoded data removed]",
      "text/plain": [
       "<Figure size 1000x600 with 1 Axes>"
      ]
     },
     "metadata": {},
     "output_type": "display_data"
    }
   ],
   "source": [
    "# Create a bar chart to visualize the feature importances.\n",
    "# The plot shows the importance scores of features in descending order.\n",
    "\n",
    "plt.figure(figsize=(10, 6))  # Set the figure size for the plot.\n",
    "\n",
    "# Plot the bar chart with feature names on the x-axis and their importance scores on the y-axis.\n",
    "plt.bar(sorted_importances.keys(), sorted_importances.values(), color='steelblue', edgecolor='black')\n",
    "\n",
    "# Set the title and labels with appropriate fonts and sizes.\n",
    "plt.title('Feature Importances', fontsize=16, fontweight='bold')\n",
    "plt.xlabel('Features', fontsize=12)\n",
    "plt.ylabel('Importance Score', fontsize=12)\n",
    "\n",
    "# Rotate x-axis labels for better readability and adjust font size.\n",
    "plt.xticks(rotation=90, ha='right', fontsize=10)\n",
    "\n",
    "# Adjust layout to prevent clipping of labels and add a grid to the y-axis.\n",
    "plt.tight_layout()\n",
    "plt.grid(axis='y', linestyle='--', alpha=0.6)\n",
    "\n",
    "# Display the plot.\n",
    "plt.show()"
   ]
  },
  {
   "cell_type": "markdown",
   "metadata": {},
   "source": [
    "## Enhancing Model Performance"
   ]
  },
  {
   "cell_type": "code",
   "execution_count": 34,
   "metadata": {},
   "outputs": [],
   "source": [
    "# Import the Optuna library for hyperparameter optimization and automated machine learning.\n",
    "import optuna\n",
    "\n",
    "# Import cross_val_score from sklearn.model_selection to evaluate the model using cross-validation.\n",
    "# This function helps in assessing the model's performance and generalization ability across different subsets of the data.\n",
    "from sklearn.model_selection import cross_val_score"
   ]
  },
  {
   "cell_type": "code",
   "execution_count": 35,
   "metadata": {},
   "outputs": [],
   "source": [
    "def objective(trial: optuna.Trial) -> float:\n",
    "    # Suggest hyperparameters for the RandomForestClassifier using the Optuna trial object.\n",
    "    n_estimators = trial.suggest_int(\"n_estimators\", 100, 700)  # Number of trees in the forest.\n",
    "    max_depth = trial.suggest_int(\"max_depth\", 2, 32)            # Maximum depth of each tree.\n",
    "    min_samples_split = trial.suggest_int(\"min_samples_split\", 2, 32)  # Minimum number of samples required to split an internal node.\n",
    "    min_samples_leaf = trial.suggest_int(\"min_samples_leaf\", 1, 32)    # Minimum number of samples required to be at a leaf node.\n",
    "\n",
    "    # Initialize the RandomForestClassifier with suggested hyperparameters.\n",
    "    model = RandomForestClassifier(\n",
    "        n_estimators=n_estimators,\n",
    "        max_depth=max_depth,\n",
    "        min_samples_split=min_samples_split,\n",
    "        min_samples_leaf=min_samples_leaf,\n",
    "        n_jobs=-1,        # Use all available CPU cores.\n",
    "        random_state=42   # Set random seed for reproducibility.\n",
    "    )\n",
    "\n",
    "    # Evaluate the model using cross-validation with 5 folds.\n",
    "    # Calculate the accuracy score for each fold.\n",
    "    score: list[float] = cross_val_score(model, X_train, y_train, n_jobs=-1, cv=5, scoring=\"accuracy\")\n",
    "\n",
    "    # Compute the mean accuracy score across all folds.\n",
    "    mean_score = score.mean()\n",
    "\n",
    "    # Return the mean accuracy score as the objective value for Optuna optimization.\n",
    "    return mean_score"
   ]
  },
  {
   "cell_type": "code",
   "execution_count": 36,
   "metadata": {},
   "outputs": [
    {
     "name": "stderr",
     "output_type": "stream",
     "text": [
      "[I 2024-09-09 20:23:54,273] A new study created in memory with name: no-name-a19f3d4b-1977-4ed9-a169-0252fdc242e0\n"
     ]
    }
   ],
   "source": [
    "# Create an Optuna study for hyperparameter optimization.\n",
    "# The study aims to maximize the objective function's value, using a random sampling strategy for trial generation.\n",
    "\n",
    "study = optuna.create_study(direction=\"maximize\", sampler=optuna.samplers.RandomSampler())"
   ]
  },
  {
   "cell_type": "code",
   "execution_count": 37,
   "metadata": {},
   "outputs": [
    {
     "name": "stderr",
     "output_type": "stream",
     "text": [
      "[I 2024-09-09 20:24:10,204] Trial 0 finished with value: 0.8272136314389836 and parameters: {'n_estimators': 508, 'max_depth': 8, 'min_samples_split': 23, 'min_samples_leaf': 5}. Best is trial 0 with value: 0.8272136314389836.\n",
      "[I 2024-09-09 20:24:15,509] Trial 1 finished with value: 0.8047079680882497 and parameters: {'n_estimators': 624, 'max_depth': 16, 'min_samples_split': 19, 'min_samples_leaf': 20}. Best is trial 0 with value: 0.8272136314389836.\n",
      "[I 2024-09-09 20:24:16,901] Trial 2 finished with value: 0.7977051117896188 and parameters: {'n_estimators': 172, 'max_depth': 31, 'min_samples_split': 5, 'min_samples_leaf': 22}. Best is trial 0 with value: 0.8272136314389836.\n",
      "[I 2024-09-09 20:24:20,084] Trial 3 finished with value: 0.8229981286319316 and parameters: {'n_estimators': 491, 'max_depth': 4, 'min_samples_split': 13, 'min_samples_leaf': 3}. Best is trial 0 with value: 0.8272136314389836.\n",
      "[I 2024-09-09 20:24:24,875] Trial 4 finished with value: 0.7990643159657244 and parameters: {'n_estimators': 455, 'max_depth': 29, 'min_samples_split': 21, 'min_samples_leaf': 28}. Best is trial 0 with value: 0.8272136314389836.\n",
      "[I 2024-09-09 20:24:29,384] Trial 5 finished with value: 0.8117305229981285 and parameters: {'n_estimators': 440, 'max_depth': 18, 'min_samples_split': 28, 'min_samples_leaf': 18}. Best is trial 0 with value: 0.8272136314389836.\n",
      "[I 2024-09-09 20:24:32,894] Trial 6 finished with value: 0.8272234807446075 and parameters: {'n_estimators': 189, 'max_depth': 30, 'min_samples_split': 31, 'min_samples_leaf': 2}. Best is trial 6 with value: 0.8272234807446075.\n",
      "[I 2024-09-09 20:24:37,576] Trial 7 finished with value: 0.7934797596769428 and parameters: {'n_estimators': 266, 'max_depth': 31, 'min_samples_split': 21, 'min_samples_leaf': 30}. Best is trial 6 with value: 0.8272234807446075.\n",
      "[I 2024-09-09 20:24:43,089] Trial 8 finished with value: 0.7990643159657244 and parameters: {'n_estimators': 418, 'max_depth': 31, 'min_samples_split': 11, 'min_samples_leaf': 29}. Best is trial 6 with value: 0.8272234807446075.\n",
      "[I 2024-09-09 20:24:47,365] Trial 9 finished with value: 0.8201713779178569 and parameters: {'n_estimators': 515, 'max_depth': 20, 'min_samples_split': 23, 'min_samples_leaf': 11}. Best is trial 6 with value: 0.8272234807446075.\n",
      "[I 2024-09-09 20:24:49,233] Trial 10 finished with value: 0.8032896680784004 and parameters: {'n_estimators': 240, 'max_depth': 31, 'min_samples_split': 11, 'min_samples_leaf': 25}. Best is trial 6 with value: 0.8272234807446075.\n",
      "[I 2024-09-09 20:24:52,425] Trial 11 finished with value: 0.8314192849404117 and parameters: {'n_estimators': 402, 'max_depth': 19, 'min_samples_split': 13, 'min_samples_leaf': 5}. Best is trial 11 with value: 0.8314192849404117.\n",
      "[I 2024-09-09 20:24:55,301] Trial 12 finished with value: 0.8032995173840243 and parameters: {'n_estimators': 348, 'max_depth': 29, 'min_samples_split': 4, 'min_samples_leaf': 23}. Best is trial 11 with value: 0.8314192849404117.\n",
      "[I 2024-09-09 20:25:00,389] Trial 13 finished with value: 0.8046981187826259 and parameters: {'n_estimators': 693, 'max_depth': 21, 'min_samples_split': 10, 'min_samples_leaf': 23}. Best is trial 11 with value: 0.8314192849404117.\n",
      "[I 2024-09-09 20:25:04,325] Trial 14 finished with value: 0.7836698512754852 and parameters: {'n_estimators': 518, 'max_depth': 2, 'min_samples_split': 14, 'min_samples_leaf': 29}. Best is trial 11 with value: 0.8314192849404117.\n",
      "[I 2024-09-09 20:25:09,349] Trial 15 finished with value: 0.8300108342361863 and parameters: {'n_estimators': 441, 'max_depth': 29, 'min_samples_split': 5, 'min_samples_leaf': 5}. Best is trial 11 with value: 0.8314192849404117.\n",
      "[I 2024-09-09 20:25:12,811] Trial 16 finished with value: 0.8145277257953314 and parameters: {'n_estimators': 501, 'max_depth': 11, 'min_samples_split': 24, 'min_samples_leaf': 15}. Best is trial 11 with value: 0.8314192849404117.\n",
      "[I 2024-09-09 20:25:16,517] Trial 17 finished with value: 0.8201812272234807 and parameters: {'n_estimators': 552, 'max_depth': 23, 'min_samples_split': 6, 'min_samples_leaf': 7}. Best is trial 11 with value: 0.8314192849404117.\n",
      "[I 2024-09-09 20:25:17,381] Trial 18 finished with value: 0.8089234708953018 and parameters: {'n_estimators': 124, 'max_depth': 22, 'min_samples_split': 11, 'min_samples_leaf': 19}. Best is trial 11 with value: 0.8314192849404117.\n",
      "[I 2024-09-09 20:25:20,352] Trial 19 finished with value: 0.81312912439673 and parameters: {'n_estimators': 476, 'max_depth': 25, 'min_samples_split': 32, 'min_samples_leaf': 15}. Best is trial 11 with value: 0.8314192849404117.\n",
      "[I 2024-09-09 20:25:21,608] Trial 20 finished with value: 0.7976952624839949 and parameters: {'n_estimators': 188, 'max_depth': 11, 'min_samples_split': 12, 'min_samples_leaf': 26}. Best is trial 11 with value: 0.8314192849404117.\n",
      "[I 2024-09-09 20:25:24,042] Trial 21 finished with value: 0.8159558751108047 and parameters: {'n_estimators': 361, 'max_depth': 22, 'min_samples_split': 12, 'min_samples_leaf': 12}. Best is trial 11 with value: 0.8314192849404117.\n",
      "[I 2024-09-09 20:25:25,532] Trial 22 finished with value: 0.817374175120654 and parameters: {'n_estimators': 221, 'max_depth': 10, 'min_samples_split': 22, 'min_samples_leaf': 10}. Best is trial 11 with value: 0.8314192849404117.\n",
      "[I 2024-09-09 20:25:26,464] Trial 23 finished with value: 0.7907022554909878 and parameters: {'n_estimators': 138, 'max_depth': 8, 'min_samples_split': 8, 'min_samples_leaf': 31}. Best is trial 11 with value: 0.8314192849404117.\n",
      "[I 2024-09-09 20:25:29,299] Trial 24 finished with value: 0.7990840145769724 and parameters: {'n_estimators': 458, 'max_depth': 24, 'min_samples_split': 29, 'min_samples_leaf': 21}. Best is trial 11 with value: 0.8314192849404117.\n",
      "[I 2024-09-09 20:25:32,322] Trial 25 finished with value: 0.8047079680882497 and parameters: {'n_estimators': 474, 'max_depth': 4, 'min_samples_split': 7, 'min_samples_leaf': 20}. Best is trial 11 with value: 0.8314192849404117.\n",
      "[I 2024-09-09 20:25:40,526] Trial 26 finished with value: 0.8075051708854526 and parameters: {'n_estimators': 636, 'max_depth': 6, 'min_samples_split': 3, 'min_samples_leaf': 18}. Best is trial 11 with value: 0.8314192849404117.\n",
      "[I 2024-09-09 20:25:45,953] Trial 27 finished with value: 0.8117305229981285 and parameters: {'n_estimators': 483, 'max_depth': 18, 'min_samples_split': 13, 'min_samples_leaf': 16}. Best is trial 11 with value: 0.8314192849404117.\n",
      "[I 2024-09-09 20:25:49,639] Trial 28 finished with value: 0.8032896680784004 and parameters: {'n_estimators': 565, 'max_depth': 31, 'min_samples_split': 10, 'min_samples_leaf': 24}. Best is trial 11 with value: 0.8314192849404117.\n",
      "[I 2024-09-09 20:25:54,385] Trial 29 finished with value: 0.8244065793361568 and parameters: {'n_estimators': 519, 'max_depth': 19, 'min_samples_split': 29, 'min_samples_leaf': 6}. Best is trial 11 with value: 0.8314192849404117.\n",
      "[I 2024-09-09 20:26:00,454] Trial 30 finished with value: 0.8159558751108047 and parameters: {'n_estimators': 620, 'max_depth': 31, 'min_samples_split': 24, 'min_samples_leaf': 12}. Best is trial 11 with value: 0.8314192849404117.\n",
      "[I 2024-09-09 20:26:03,030] Trial 31 finished with value: 0.8159361764995567 and parameters: {'n_estimators': 420, 'max_depth': 20, 'min_samples_split': 8, 'min_samples_leaf': 14}. Best is trial 11 with value: 0.8314192849404117.\n",
      "[I 2024-09-09 20:26:05,339] Trial 32 finished with value: 0.8215798286220822 and parameters: {'n_estimators': 371, 'max_depth': 21, 'min_samples_split': 27, 'min_samples_leaf': 10}. Best is trial 11 with value: 0.8314192849404117.\n",
      "[I 2024-09-09 20:26:09,143] Trial 33 finished with value: 0.8004727666699496 and parameters: {'n_estimators': 491, 'max_depth': 16, 'min_samples_split': 18, 'min_samples_leaf': 32}. Best is trial 11 with value: 0.8314192849404117.\n",
      "[I 2024-09-09 20:26:14,108] Trial 34 finished with value: 0.8004727666699496 and parameters: {'n_estimators': 521, 'max_depth': 4, 'min_samples_split': 21, 'min_samples_leaf': 27}. Best is trial 11 with value: 0.8314192849404117.\n",
      "[I 2024-09-09 20:26:16,615] Trial 35 finished with value: 0.81312912439673 and parameters: {'n_estimators': 261, 'max_depth': 16, 'min_samples_split': 32, 'min_samples_leaf': 16}. Best is trial 11 with value: 0.8314192849404117.\n",
      "[I 2024-09-09 20:26:20,405] Trial 36 finished with value: 0.7990643159657244 and parameters: {'n_estimators': 599, 'max_depth': 6, 'min_samples_split': 15, 'min_samples_leaf': 27}. Best is trial 11 with value: 0.8314192849404117.\n",
      "[I 2024-09-09 20:26:22,742] Trial 37 finished with value: 0.8272037821333595 and parameters: {'n_estimators': 368, 'max_depth': 26, 'min_samples_split': 30, 'min_samples_leaf': 6}. Best is trial 11 with value: 0.8314192849404117.\n",
      "[I 2024-09-09 20:26:25,936] Trial 38 finished with value: 0.8004727666699496 and parameters: {'n_estimators': 524, 'max_depth': 28, 'min_samples_split': 25, 'min_samples_leaf': 29}. Best is trial 11 with value: 0.8314192849404117.\n",
      "[I 2024-09-09 20:26:29,848] Trial 39 finished with value: 0.8004727666699496 and parameters: {'n_estimators': 667, 'max_depth': 26, 'min_samples_split': 11, 'min_samples_leaf': 31}. Best is trial 11 with value: 0.8314192849404117.\n",
      "[I 2024-09-09 20:26:33,845] Trial 40 finished with value: 0.8047079680882497 and parameters: {'n_estimators': 646, 'max_depth': 13, 'min_samples_split': 29, 'min_samples_leaf': 20}. Best is trial 11 with value: 0.8314192849404117.\n",
      "[I 2024-09-09 20:26:36,098] Trial 41 finished with value: 0.7990643159657244 and parameters: {'n_estimators': 363, 'max_depth': 7, 'min_samples_split': 14, 'min_samples_leaf': 28}. Best is trial 11 with value: 0.8314192849404117.\n",
      "[I 2024-09-09 20:26:38,464] Trial 42 finished with value: 0.8089234708953018 and parameters: {'n_estimators': 337, 'max_depth': 21, 'min_samples_split': 24, 'min_samples_leaf': 17}. Best is trial 11 with value: 0.8314192849404117.\n",
      "[I 2024-09-09 20:26:41,118] Trial 43 finished with value: 0.8201713779178569 and parameters: {'n_estimators': 372, 'max_depth': 17, 'min_samples_split': 3, 'min_samples_leaf': 11}. Best is trial 11 with value: 0.8314192849404117.\n",
      "[I 2024-09-09 20:26:44,999] Trial 44 finished with value: 0.8004727666699498 and parameters: {'n_estimators': 367, 'max_depth': 27, 'min_samples_split': 32, 'min_samples_leaf': 25}. Best is trial 11 with value: 0.8314192849404117.\n",
      "[I 2024-09-09 20:26:49,985] Trial 45 finished with value: 0.7990643159657244 and parameters: {'n_estimators': 614, 'max_depth': 10, 'min_samples_split': 2, 'min_samples_leaf': 27}. Best is trial 11 with value: 0.8314192849404117.\n",
      "[I 2024-09-09 20:26:53,408] Trial 46 finished with value: 0.8089234708953018 and parameters: {'n_estimators': 447, 'max_depth': 26, 'min_samples_split': 27, 'min_samples_leaf': 18}. Best is trial 11 with value: 0.8314192849404117.\n",
      "[I 2024-09-09 20:26:55,212] Trial 47 finished with value: 0.8145375751009553 and parameters: {'n_estimators': 243, 'max_depth': 16, 'min_samples_split': 17, 'min_samples_leaf': 14}. Best is trial 11 with value: 0.8314192849404117.\n",
      "[I 2024-09-09 20:26:59,307] Trial 48 finished with value: 0.8004826159755737 and parameters: {'n_estimators': 578, 'max_depth': 32, 'min_samples_split': 3, 'min_samples_leaf': 21}. Best is trial 11 with value: 0.8314192849404117.\n",
      "[I 2024-09-09 20:27:02,052] Trial 49 finished with value: 0.8258051807347583 and parameters: {'n_estimators': 381, 'max_depth': 29, 'min_samples_split': 32, 'min_samples_leaf': 6}. Best is trial 11 with value: 0.8314192849404117.\n",
      "[I 2024-09-09 20:27:03,171] Trial 50 finished with value: 0.794907908992416 and parameters: {'n_estimators': 153, 'max_depth': 14, 'min_samples_split': 28, 'min_samples_leaf': 27}. Best is trial 11 with value: 0.8314192849404117.\n",
      "[I 2024-09-09 20:27:06,817] Trial 51 finished with value: 0.8187727765192554 and parameters: {'n_estimators': 450, 'max_depth': 23, 'min_samples_split': 22, 'min_samples_leaf': 11}. Best is trial 11 with value: 0.8314192849404117.\n",
      "[I 2024-09-09 20:27:11,381] Trial 52 finished with value: 0.806106569486851 and parameters: {'n_estimators': 664, 'max_depth': 18, 'min_samples_split': 9, 'min_samples_leaf': 19}. Best is trial 11 with value: 0.8314192849404117.\n",
      "[I 2024-09-09 20:27:12,167] Trial 53 finished with value: 0.7906924061853638 and parameters: {'n_estimators': 104, 'max_depth': 15, 'min_samples_split': 15, 'min_samples_leaf': 32}. Best is trial 11 with value: 0.8314192849404117.\n",
      "[I 2024-09-09 20:27:14,311] Trial 54 finished with value: 0.8089333202009259 and parameters: {'n_estimators': 304, 'max_depth': 14, 'min_samples_split': 8, 'min_samples_leaf': 18}. Best is trial 11 with value: 0.8314192849404117.\n",
      "[I 2024-09-09 20:27:16,421] Trial 55 finished with value: 0.8300206835418104 and parameters: {'n_estimators': 329, 'max_depth': 8, 'min_samples_split': 12, 'min_samples_leaf': 6}. Best is trial 11 with value: 0.8314192849404117.\n",
      "[I 2024-09-09 20:27:19,418] Trial 56 finished with value: 0.8145277257953314 and parameters: {'n_estimators': 506, 'max_depth': 13, 'min_samples_split': 3, 'min_samples_leaf': 15}. Best is trial 11 with value: 0.8314192849404117.\n",
      "[I 2024-09-09 20:27:22,801] Trial 57 finished with value: 0.808913621589678 and parameters: {'n_estimators': 568, 'max_depth': 5, 'min_samples_split': 23, 'min_samples_leaf': 17}. Best is trial 11 with value: 0.8314192849404117.\n",
      "[I 2024-09-09 20:27:28,470] Trial 58 finished with value: 0.8201713779178569 and parameters: {'n_estimators': 460, 'max_depth': 28, 'min_samples_split': 20, 'min_samples_leaf': 11}. Best is trial 11 with value: 0.8314192849404117.\n",
      "[I 2024-09-09 20:27:30,724] Trial 59 finished with value: 0.8173544765094061 and parameters: {'n_estimators': 346, 'max_depth': 5, 'min_samples_split': 29, 'min_samples_leaf': 12}. Best is trial 11 with value: 0.8314192849404117.\n",
      "[I 2024-09-09 20:27:34,441] Trial 60 finished with value: 0.7990643159657244 and parameters: {'n_estimators': 604, 'max_depth': 11, 'min_samples_split': 24, 'min_samples_leaf': 28}. Best is trial 11 with value: 0.8314192849404117.\n",
      "[I 2024-09-09 20:27:37,655] Trial 61 finished with value: 0.7990643159657244 and parameters: {'n_estimators': 526, 'max_depth': 19, 'min_samples_split': 4, 'min_samples_leaf': 26}. Best is trial 11 with value: 0.8314192849404117.\n",
      "[I 2024-09-09 20:27:38,816] Trial 62 finished with value: 0.8075248694967005 and parameters: {'n_estimators': 153, 'max_depth': 24, 'min_samples_split': 22, 'min_samples_leaf': 17}. Best is trial 11 with value: 0.8314192849404117.\n",
      "[I 2024-09-09 20:27:41,493] Trial 63 finished with value: 0.8004826159755737 and parameters: {'n_estimators': 368, 'max_depth': 9, 'min_samples_split': 13, 'min_samples_leaf': 22}. Best is trial 11 with value: 0.8314192849404117.\n",
      "[I 2024-09-09 20:27:42,987] Trial 64 finished with value: 0.8075347188023245 and parameters: {'n_estimators': 191, 'max_depth': 6, 'min_samples_split': 26, 'min_samples_leaf': 20}. Best is trial 11 with value: 0.8314192849404117.\n",
      "[I 2024-09-09 20:27:46,569] Trial 65 finished with value: 0.8215798286220822 and parameters: {'n_estimators': 526, 'max_depth': 32, 'min_samples_split': 31, 'min_samples_leaf': 9}. Best is trial 11 with value: 0.8314192849404117.\n",
      "[I 2024-09-09 20:27:50,220] Trial 66 finished with value: 0.8201812272234807 and parameters: {'n_estimators': 590, 'max_depth': 17, 'min_samples_split': 2, 'min_samples_leaf': 7}. Best is trial 11 with value: 0.8314192849404117.\n",
      "[I 2024-09-09 20:27:52,907] Trial 67 finished with value: 0.8004727666699496 and parameters: {'n_estimators': 445, 'max_depth': 15, 'min_samples_split': 10, 'min_samples_leaf': 26}. Best is trial 11 with value: 0.8314192849404117.\n",
      "[I 2024-09-09 20:27:55,923] Trial 68 finished with value: 0.8201910765291048 and parameters: {'n_estimators': 472, 'max_depth': 24, 'min_samples_split': 16, 'min_samples_leaf': 8}. Best is trial 11 with value: 0.8314192849404117.\n",
      "[I 2024-09-09 20:27:56,841] Trial 69 finished with value: 0.7892938047867626 and parameters: {'n_estimators': 139, 'max_depth': 26, 'min_samples_split': 31, 'min_samples_leaf': 31}. Best is trial 11 with value: 0.8314192849404117.\n",
      "[I 2024-09-09 20:27:57,615] Trial 70 finished with value: 0.8033192159952722 and parameters: {'n_estimators': 110, 'max_depth': 32, 'min_samples_split': 26, 'min_samples_leaf': 23}. Best is trial 11 with value: 0.8314192849404117.\n",
      "[I 2024-09-09 20:28:00,237] Trial 71 finished with value: 0.8272136314389836 and parameters: {'n_estimators': 419, 'max_depth': 18, 'min_samples_split': 28, 'min_samples_leaf': 3}. Best is trial 11 with value: 0.8314192849404117.\n",
      "[I 2024-09-09 20:28:04,146] Trial 72 finished with value: 0.8018812173741751 and parameters: {'n_estimators': 629, 'max_depth': 26, 'min_samples_split': 23, 'min_samples_leaf': 25}. Best is trial 11 with value: 0.8314192849404117.\n",
      "[I 2024-09-09 20:28:05,899] Trial 73 finished with value: 0.7990938638825963 and parameters: {'n_estimators': 277, 'max_depth': 19, 'min_samples_split': 5, 'min_samples_leaf': 21}. Best is trial 11 with value: 0.8314192849404117.\n",
      "[I 2024-09-09 20:28:08,668] Trial 74 finished with value: 0.8215798286220822 and parameters: {'n_estimators': 384, 'max_depth': 19, 'min_samples_split': 29, 'min_samples_leaf': 9}. Best is trial 11 with value: 0.8314192849404117.\n",
      "[I 2024-09-09 20:28:12,932] Trial 75 finished with value: 0.8004727666699496 and parameters: {'n_estimators': 614, 'max_depth': 15, 'min_samples_split': 2, 'min_samples_leaf': 32}. Best is trial 11 with value: 0.8314192849404117.\n",
      "[I 2024-09-09 20:28:16,650] Trial 76 finished with value: 0.8046981187826259 and parameters: {'n_estimators': 602, 'max_depth': 31, 'min_samples_split': 13, 'min_samples_leaf': 23}. Best is trial 11 with value: 0.8314192849404117.\n",
      "[I 2024-09-09 20:28:19,702] Trial 77 finished with value: 0.8258150300403821 and parameters: {'n_estimators': 468, 'max_depth': 23, 'min_samples_split': 24, 'min_samples_leaf': 3}. Best is trial 11 with value: 0.8314192849404117.\n",
      "[I 2024-09-09 20:28:22,477] Trial 78 finished with value: 0.8004727666699496 and parameters: {'n_estimators': 434, 'max_depth': 20, 'min_samples_split': 15, 'min_samples_leaf': 32}. Best is trial 11 with value: 0.8314192849404117.\n",
      "[I 2024-09-09 20:28:25,116] Trial 79 finished with value: 0.8004727666699496 and parameters: {'n_estimators': 433, 'max_depth': 9, 'min_samples_split': 11, 'min_samples_leaf': 32}. Best is trial 11 with value: 0.8314192849404117.\n",
      "[I 2024-09-09 20:28:28,089] Trial 80 finished with value: 0.8201713779178569 and parameters: {'n_estimators': 476, 'max_depth': 8, 'min_samples_split': 7, 'min_samples_leaf': 11}. Best is trial 11 with value: 0.8314192849404117.\n",
      "[I 2024-09-09 20:28:31,427] Trial 81 finished with value: 0.7990643159657244 and parameters: {'n_estimators': 554, 'max_depth': 16, 'min_samples_split': 12, 'min_samples_leaf': 27}. Best is trial 11 with value: 0.8314192849404117.\n",
      "[I 2024-09-09 20:28:34,153] Trial 82 finished with value: 0.8229981286319316 and parameters: {'n_estimators': 441, 'max_depth': 30, 'min_samples_split': 21, 'min_samples_leaf': 8}. Best is trial 11 with value: 0.8314192849404117.\n",
      "[I 2024-09-09 20:28:37,675] Trial 83 finished with value: 0.7990643159657244 and parameters: {'n_estimators': 590, 'max_depth': 9, 'min_samples_split': 25, 'min_samples_leaf': 28}. Best is trial 11 with value: 0.8314192849404117.\n",
      "[I 2024-09-09 20:28:41,782] Trial 84 finished with value: 0.8004727666699496 and parameters: {'n_estimators': 588, 'max_depth': 9, 'min_samples_split': 13, 'min_samples_leaf': 31}. Best is trial 11 with value: 0.8314192849404117.\n",
      "[I 2024-09-09 20:28:44,564] Trial 85 finished with value: 0.81312912439673 and parameters: {'n_estimators': 374, 'max_depth': 12, 'min_samples_split': 22, 'min_samples_leaf': 16}. Best is trial 11 with value: 0.8314192849404117.\n",
      "[I 2024-09-09 20:28:45,987] Trial 86 finished with value: 0.7836797005811091 and parameters: {'n_estimators': 215, 'max_depth': 3, 'min_samples_split': 17, 'min_samples_leaf': 32}. Best is trial 11 with value: 0.8314192849404117.\n",
      "[I 2024-09-09 20:28:46,871] Trial 87 finished with value: 0.8089333202009257 and parameters: {'n_estimators': 129, 'max_depth': 29, 'min_samples_split': 20, 'min_samples_leaf': 19}. Best is trial 11 with value: 0.8314192849404117.\n",
      "[I 2024-09-09 20:28:48,226] Trial 88 finished with value: 0.7934699103713188 and parameters: {'n_estimators': 206, 'max_depth': 27, 'min_samples_split': 23, 'min_samples_leaf': 28}. Best is trial 11 with value: 0.8314192849404117.\n",
      "[I 2024-09-09 20:28:50,673] Trial 89 finished with value: 0.7990643159657244 and parameters: {'n_estimators': 391, 'max_depth': 12, 'min_samples_split': 22, 'min_samples_leaf': 26}. Best is trial 11 with value: 0.8314192849404117.\n",
      "[I 2024-09-09 20:28:52,266] Trial 90 finished with value: 0.8061262680980992 and parameters: {'n_estimators': 248, 'max_depth': 28, 'min_samples_split': 20, 'min_samples_leaf': 20}. Best is trial 11 with value: 0.8314192849404117.\n",
      "[I 2024-09-09 20:28:54,695] Trial 91 finished with value: 0.8258150300403821 and parameters: {'n_estimators': 358, 'max_depth': 15, 'min_samples_split': 11, 'min_samples_leaf': 4}. Best is trial 11 with value: 0.8314192849404117.\n",
      "[I 2024-09-09 20:28:56,524] Trial 92 finished with value: 0.8145375751009553 and parameters: {'n_estimators': 279, 'max_depth': 16, 'min_samples_split': 8, 'min_samples_leaf': 14}. Best is trial 11 with value: 0.8314192849404117.\n",
      "[I 2024-09-09 20:29:00,367] Trial 93 finished with value: 0.8229981286319316 and parameters: {'n_estimators': 622, 'max_depth': 9, 'min_samples_split': 28, 'min_samples_leaf': 7}. Best is trial 11 with value: 0.8314192849404117.\n",
      "[I 2024-09-09 20:29:03,208] Trial 94 finished with value: 0.8004727666699496 and parameters: {'n_estimators': 475, 'max_depth': 9, 'min_samples_split': 31, 'min_samples_leaf': 26}. Best is trial 11 with value: 0.8314192849404117.\n",
      "[I 2024-09-09 20:29:07,053] Trial 95 finished with value: 0.8328474342558849 and parameters: {'n_estimators': 580, 'max_depth': 29, 'min_samples_split': 31, 'min_samples_leaf': 1}. Best is trial 95 with value: 0.8328474342558849.\n",
      "[I 2024-09-09 20:29:10,182] Trial 96 finished with value: 0.7990840145769724 and parameters: {'n_estimators': 414, 'max_depth': 14, 'min_samples_split': 3, 'min_samples_leaf': 21}. Best is trial 95 with value: 0.8328474342558849.\n",
      "[I 2024-09-09 20:29:14,743] Trial 97 finished with value: 0.8243967300305328 and parameters: {'n_estimators': 608, 'max_depth': 25, 'min_samples_split': 23, 'min_samples_leaf': 4}. Best is trial 95 with value: 0.8328474342558849.\n",
      "[I 2024-09-09 20:29:17,743] Trial 98 finished with value: 0.8201910765291048 and parameters: {'n_estimators': 480, 'max_depth': 19, 'min_samples_split': 18, 'min_samples_leaf': 7}. Best is trial 95 with value: 0.8328474342558849.\n",
      "[I 2024-09-09 20:29:22,307] Trial 99 finished with value: 0.8004727666699496 and parameters: {'n_estimators': 524, 'max_depth': 28, 'min_samples_split': 5, 'min_samples_leaf': 30}. Best is trial 95 with value: 0.8328474342558849.\n",
      "[I 2024-09-09 20:29:27,999] Trial 100 finished with value: 0.8201812272234807 and parameters: {'n_estimators': 633, 'max_depth': 10, 'min_samples_split': 3, 'min_samples_leaf': 9}. Best is trial 95 with value: 0.8328474342558849.\n",
      "[I 2024-09-09 20:29:32,133] Trial 101 finished with value: 0.81312912439673 and parameters: {'n_estimators': 548, 'max_depth': 9, 'min_samples_split': 13, 'min_samples_leaf': 16}. Best is trial 95 with value: 0.8328474342558849.\n",
      "[I 2024-09-09 20:29:33,950] Trial 102 finished with value: 0.7920811582783414 and parameters: {'n_estimators': 256, 'max_depth': 28, 'min_samples_split': 10, 'min_samples_leaf': 32}. Best is trial 95 with value: 0.8328474342558849.\n",
      "[I 2024-09-09 20:29:35,767] Trial 103 finished with value: 0.8300206835418104 and parameters: {'n_estimators': 265, 'max_depth': 31, 'min_samples_split': 6, 'min_samples_leaf': 2}. Best is trial 95 with value: 0.8328474342558849.\n",
      "[I 2024-09-09 20:29:38,616] Trial 104 finished with value: 0.8103220722939033 and parameters: {'n_estimators': 455, 'max_depth': 29, 'min_samples_split': 6, 'min_samples_leaf': 18}. Best is trial 95 with value: 0.8328474342558849.\n",
      "[I 2024-09-09 20:29:40,745] Trial 105 finished with value: 0.7990840145769724 and parameters: {'n_estimators': 296, 'max_depth': 24, 'min_samples_split': 26, 'min_samples_leaf': 21}. Best is trial 95 with value: 0.8328474342558849.\n",
      "[I 2024-09-09 20:29:44,281] Trial 106 finished with value: 0.8145375751009553 and parameters: {'n_estimators': 496, 'max_depth': 4, 'min_samples_split': 27, 'min_samples_leaf': 10}. Best is trial 95 with value: 0.8328474342558849.\n",
      "[I 2024-09-09 20:29:46,746] Trial 107 finished with value: 0.8201713779178569 and parameters: {'n_estimators': 354, 'max_depth': 6, 'min_samples_split': 31, 'min_samples_leaf': 8}. Best is trial 95 with value: 0.8328474342558849.\n",
      "[I 2024-09-09 20:29:47,526] Trial 108 finished with value: 0.8145277257953314 and parameters: {'n_estimators': 108, 'max_depth': 6, 'min_samples_split': 15, 'min_samples_leaf': 17}. Best is trial 95 with value: 0.8328474342558849.\n",
      "[I 2024-09-09 20:29:50,266] Trial 109 finished with value: 0.8244065793361568 and parameters: {'n_estimators': 409, 'max_depth': 19, 'min_samples_split': 25, 'min_samples_leaf': 6}. Best is trial 95 with value: 0.8328474342558849.\n",
      "[I 2024-09-09 20:29:53,464] Trial 110 finished with value: 0.7990643159657244 and parameters: {'n_estimators': 514, 'max_depth': 15, 'min_samples_split': 25, 'min_samples_leaf': 26}. Best is trial 95 with value: 0.8328474342558849.\n",
      "[I 2024-09-09 20:29:54,372] Trial 111 finished with value: 0.828612232837585 and parameters: {'n_estimators': 127, 'max_depth': 10, 'min_samples_split': 11, 'min_samples_leaf': 3}. Best is trial 95 with value: 0.8328474342558849.\n",
      "[I 2024-09-09 20:29:55,282] Trial 112 finished with value: 0.8229981286319316 and parameters: {'n_estimators': 127, 'max_depth': 8, 'min_samples_split': 23, 'min_samples_leaf': 9}. Best is trial 95 with value: 0.8328474342558849.\n",
      "[I 2024-09-09 20:29:58,596] Trial 113 finished with value: 0.8004727666699496 and parameters: {'n_estimators': 530, 'max_depth': 13, 'min_samples_split': 10, 'min_samples_leaf': 30}. Best is trial 95 with value: 0.8328474342558849.\n",
      "[I 2024-09-09 20:29:59,908] Trial 114 finished with value: 0.8075248694967005 and parameters: {'n_estimators': 179, 'max_depth': 14, 'min_samples_split': 30, 'min_samples_leaf': 17}. Best is trial 95 with value: 0.8328474342558849.\n",
      "[I 2024-09-09 20:30:01,386] Trial 115 finished with value: 0.8300206835418102 and parameters: {'n_estimators': 213, 'max_depth': 30, 'min_samples_split': 6, 'min_samples_leaf': 5}. Best is trial 95 with value: 0.8328474342558849.\n",
      "[I 2024-09-09 20:30:04,043] Trial 116 finished with value: 0.8272234807446075 and parameters: {'n_estimators': 382, 'max_depth': 8, 'min_samples_split': 24, 'min_samples_leaf': 4}. Best is trial 95 with value: 0.8328474342558849.\n",
      "[I 2024-09-09 20:30:05,870] Trial 117 finished with value: 0.8159657244164287 and parameters: {'n_estimators': 246, 'max_depth': 6, 'min_samples_split': 21, 'min_samples_leaf': 11}. Best is trial 95 with value: 0.8328474342558849.\n",
      "[I 2024-09-09 20:30:07,390] Trial 118 finished with value: 0.7920811582783414 and parameters: {'n_estimators': 235, 'max_depth': 11, 'min_samples_split': 28, 'min_samples_leaf': 31}. Best is trial 95 with value: 0.8328474342558849.\n",
      "[I 2024-09-09 20:30:09,981] Trial 119 finished with value: 0.8061164187924751 and parameters: {'n_estimators': 370, 'max_depth': 25, 'min_samples_split': 23, 'min_samples_leaf': 20}. Best is trial 95 with value: 0.8328474342558849.\n",
      "[I 2024-09-09 20:30:10,993] Trial 120 finished with value: 0.7878853540825371 and parameters: {'n_estimators': 124, 'max_depth': 29, 'min_samples_split': 22, 'min_samples_leaf': 30}. Best is trial 95 with value: 0.8328474342558849.\n",
      "[I 2024-09-09 20:30:13,465] Trial 121 finished with value: 0.8145277257953314 and parameters: {'n_estimators': 335, 'max_depth': 14, 'min_samples_split': 12, 'min_samples_leaf': 14}. Best is trial 95 with value: 0.8328474342558849.\n",
      "[I 2024-09-09 20:30:15,848] Trial 122 finished with value: 0.8032896680784004 and parameters: {'n_estimators': 294, 'max_depth': 19, 'min_samples_split': 7, 'min_samples_leaf': 24}. Best is trial 95 with value: 0.8328474342558849.\n",
      "[I 2024-09-09 20:30:17,007] Trial 123 finished with value: 0.8145375751009555 and parameters: {'n_estimators': 148, 'max_depth': 26, 'min_samples_split': 31, 'min_samples_leaf': 13}. Best is trial 95 with value: 0.8328474342558849.\n",
      "[I 2024-09-09 20:30:21,857] Trial 124 finished with value: 0.8145375751009553 and parameters: {'n_estimators': 693, 'max_depth': 16, 'min_samples_split': 3, 'min_samples_leaf': 14}. Best is trial 95 with value: 0.8328474342558849.\n",
      "[I 2024-09-09 20:30:25,841] Trial 125 finished with value: 0.8201713779178569 and parameters: {'n_estimators': 552, 'max_depth': 11, 'min_samples_split': 9, 'min_samples_leaf': 11}. Best is trial 95 with value: 0.8328474342558849.\n",
      "[I 2024-09-09 20:30:29,357] Trial 126 finished with value: 0.8018910666797991 and parameters: {'n_estimators': 574, 'max_depth': 30, 'min_samples_split': 15, 'min_samples_leaf': 21}. Best is trial 95 with value: 0.8328474342558849.\n",
      "[I 2024-09-09 20:30:33,386] Trial 127 finished with value: 0.806106569486851 and parameters: {'n_estimators': 664, 'max_depth': 24, 'min_samples_split': 2, 'min_samples_leaf': 19}. Best is trial 95 with value: 0.8328474342558849.\n",
      "[I 2024-09-09 20:30:36,528] Trial 128 finished with value: 0.8159361764995567 and parameters: {'n_estimators': 488, 'max_depth': 17, 'min_samples_split': 12, 'min_samples_leaf': 14}. Best is trial 95 with value: 0.8328474342558849.\n",
      "[I 2024-09-09 20:30:38,913] Trial 129 finished with value: 0.8018812173741751 and parameters: {'n_estimators': 352, 'max_depth': 16, 'min_samples_split': 14, 'min_samples_leaf': 26}. Best is trial 95 with value: 0.8328474342558849.\n",
      "[I 2024-09-09 20:30:41,141] Trial 130 finished with value: 0.8046981187826259 and parameters: {'n_estimators': 308, 'max_depth': 29, 'min_samples_split': 6, 'min_samples_leaf': 22}. Best is trial 95 with value: 0.8328474342558849.\n",
      "[I 2024-09-09 20:30:43,337] Trial 131 finished with value: 0.8032896680784004 and parameters: {'n_estimators': 283, 'max_depth': 21, 'min_samples_split': 14, 'min_samples_leaf': 24}. Best is trial 95 with value: 0.8328474342558849.\n",
      "[I 2024-09-09 20:30:44,682] Trial 132 finished with value: 0.8244065793361568 and parameters: {'n_estimators': 175, 'max_depth': 27, 'min_samples_split': 22, 'min_samples_leaf': 7}. Best is trial 95 with value: 0.8328474342558849.\n",
      "[I 2024-09-09 20:30:47,111] Trial 133 finished with value: 0.8032896680784004 and parameters: {'n_estimators': 347, 'max_depth': 26, 'min_samples_split': 22, 'min_samples_leaf': 25}. Best is trial 95 with value: 0.8328474342558849.\n",
      "[I 2024-09-09 20:30:51,088] Trial 134 finished with value: 0.8047079680882497 and parameters: {'n_estimators': 651, 'max_depth': 32, 'min_samples_split': 12, 'min_samples_leaf': 20}. Best is trial 95 with value: 0.8328474342558849.\n",
      "[I 2024-09-09 20:30:54,233] Trial 135 finished with value: 0.8004727666699496 and parameters: {'n_estimators': 511, 'max_depth': 32, 'min_samples_split': 15, 'min_samples_leaf': 25}. Best is trial 95 with value: 0.8328474342558849.\n",
      "[I 2024-09-09 20:30:55,699] Trial 136 finished with value: 0.8047178173938738 and parameters: {'n_estimators': 220, 'max_depth': 21, 'min_samples_split': 21, 'min_samples_leaf': 19}. Best is trial 95 with value: 0.8328474342558849.\n",
      "[I 2024-09-09 20:30:57,296] Trial 137 finished with value: 0.8061262680980992 and parameters: {'n_estimators': 240, 'max_depth': 21, 'min_samples_split': 32, 'min_samples_leaf': 20}. Best is trial 95 with value: 0.8328474342558849.\n",
      "[I 2024-09-09 20:30:59,825] Trial 138 finished with value: 0.8004727666699496 and parameters: {'n_estimators': 351, 'max_depth': 19, 'min_samples_split': 7, 'min_samples_leaf': 31}. Best is trial 95 with value: 0.8328474342558849.\n",
      "[I 2024-09-09 20:31:02,882] Trial 139 finished with value: 0.8187530779080076 and parameters: {'n_estimators': 467, 'max_depth': 20, 'min_samples_split': 5, 'min_samples_leaf': 13}. Best is trial 95 with value: 0.8328474342558849.\n",
      "[I 2024-09-09 20:31:04,418] Trial 140 finished with value: 0.8061164187924751 and parameters: {'n_estimators': 233, 'max_depth': 12, 'min_samples_split': 3, 'min_samples_leaf': 19}. Best is trial 95 with value: 0.8328474342558849.\n",
      "[I 2024-09-09 20:31:06,844] Trial 141 finished with value: 0.8215995272333301 and parameters: {'n_estimators': 349, 'max_depth': 8, 'min_samples_split': 26, 'min_samples_leaf': 7}. Best is trial 95 with value: 0.8328474342558849.\n",
      "[I 2024-09-09 20:31:09,547] Trial 142 finished with value: 0.7990643159657244 and parameters: {'n_estimators': 382, 'max_depth': 27, 'min_samples_split': 3, 'min_samples_leaf': 26}. Best is trial 95 with value: 0.8328474342558849.\n",
      "[I 2024-09-09 20:31:14,222] Trial 143 finished with value: 0.8286023835319611 and parameters: {'n_estimators': 642, 'max_depth': 21, 'min_samples_split': 20, 'min_samples_leaf': 1}. Best is trial 95 with value: 0.8328474342558849.\n",
      "[I 2024-09-09 20:31:16,732] Trial 144 finished with value: 0.8272136314389836 and parameters: {'n_estimators': 355, 'max_depth': 6, 'min_samples_split': 15, 'min_samples_leaf': 6}. Best is trial 95 with value: 0.8328474342558849.\n",
      "[I 2024-09-09 20:31:19,291] Trial 145 finished with value: 0.8075051708854526 and parameters: {'n_estimators': 389, 'max_depth': 3, 'min_samples_split': 27, 'min_samples_leaf': 14}. Best is trial 95 with value: 0.8328474342558849.\n",
      "[I 2024-09-09 20:31:23,311] Trial 146 finished with value: 0.8004727666699496 and parameters: {'n_estimators': 669, 'max_depth': 5, 'min_samples_split': 23, 'min_samples_leaf': 30}. Best is trial 95 with value: 0.8328474342558849.\n",
      "[I 2024-09-09 20:31:25,210] Trial 147 finished with value: 0.8187826258248794 and parameters: {'n_estimators': 286, 'max_depth': 24, 'min_samples_split': 14, 'min_samples_leaf': 9}. Best is trial 95 with value: 0.8328474342558849.\n",
      "[I 2024-09-09 20:31:28,840] Trial 148 finished with value: 0.8187530779080076 and parameters: {'n_estimators': 593, 'max_depth': 29, 'min_samples_split': 7, 'min_samples_leaf': 13}. Best is trial 95 with value: 0.8328474342558849.\n",
      "[I 2024-09-09 20:31:32,584] Trial 149 finished with value: 0.8201812272234807 and parameters: {'n_estimators': 604, 'max_depth': 19, 'min_samples_split': 22, 'min_samples_leaf': 9}. Best is trial 95 with value: 0.8328474342558849.\n",
      "[I 2024-09-09 20:31:34,558] Trial 150 finished with value: 0.7990741652713484 and parameters: {'n_estimators': 296, 'max_depth': 6, 'min_samples_split': 23, 'min_samples_leaf': 31}. Best is trial 95 with value: 0.8328474342558849.\n",
      "[I 2024-09-09 20:31:38,709] Trial 151 finished with value: 0.8004727666699496 and parameters: {'n_estimators': 680, 'max_depth': 17, 'min_samples_split': 11, 'min_samples_leaf': 26}. Best is trial 95 with value: 0.8328474342558849.\n",
      "[I 2024-09-09 20:31:40,457] Trial 152 finished with value: 0.8244065793361569 and parameters: {'n_estimators': 232, 'max_depth': 9, 'min_samples_split': 14, 'min_samples_leaf': 7}. Best is trial 95 with value: 0.8328474342558849.\n",
      "[I 2024-09-09 20:31:45,000] Trial 153 finished with value: 0.8327981877277653 and parameters: {'n_estimators': 607, 'max_depth': 22, 'min_samples_split': 5, 'min_samples_leaf': 2}. Best is trial 95 with value: 0.8328474342558849.\n",
      "[I 2024-09-09 20:31:48,109] Trial 154 finished with value: 0.8032896680784004 and parameters: {'n_estimators': 503, 'max_depth': 3, 'min_samples_split': 24, 'min_samples_leaf': 18}. Best is trial 95 with value: 0.8328474342558849.\n",
      "[I 2024-09-09 20:31:49,468] Trial 155 finished with value: 0.8145277257953314 and parameters: {'n_estimators': 202, 'max_depth': 8, 'min_samples_split': 32, 'min_samples_leaf': 13}. Best is trial 95 with value: 0.8328474342558849.\n",
      "[I 2024-09-09 20:31:50,993] Trial 156 finished with value: 0.8314291342460356 and parameters: {'n_estimators': 207, 'max_depth': 28, 'min_samples_split': 11, 'min_samples_leaf': 4}. Best is trial 95 with value: 0.8328474342558849.\n",
      "[I 2024-09-09 20:31:53,028] Trial 157 finished with value: 0.8018910666797991 and parameters: {'n_estimators': 312, 'max_depth': 23, 'min_samples_split': 16, 'min_samples_leaf': 22}. Best is trial 95 with value: 0.8328474342558849.\n",
      "[I 2024-09-09 20:31:54,910] Trial 158 finished with value: 0.8145277257953314 and parameters: {'n_estimators': 294, 'max_depth': 16, 'min_samples_split': 23, 'min_samples_leaf': 15}. Best is trial 95 with value: 0.8328474342558849.\n",
      "[I 2024-09-09 20:31:56,987] Trial 159 finished with value: 0.8032995173840243 and parameters: {'n_estimators': 300, 'max_depth': 23, 'min_samples_split': 14, 'min_samples_leaf': 23}. Best is trial 95 with value: 0.8328474342558849.\n",
      "[I 2024-09-09 20:31:58,393] Trial 160 finished with value: 0.7962868117797696 and parameters: {'n_estimators': 204, 'max_depth': 3, 'min_samples_split': 2, 'min_samples_leaf': 18}. Best is trial 95 with value: 0.8328474342558849.\n",
      "[I 2024-09-09 20:32:02,428] Trial 161 finished with value: 0.8004727666699496 and parameters: {'n_estimators': 670, 'max_depth': 26, 'min_samples_split': 30, 'min_samples_leaf': 31}. Best is trial 95 with value: 0.8328474342558849.\n",
      "[I 2024-09-09 20:32:05,822] Trial 162 finished with value: 0.8145277257953314 and parameters: {'n_estimators': 521, 'max_depth': 21, 'min_samples_split': 24, 'min_samples_leaf': 16}. Best is trial 95 with value: 0.8328474342558849.\n",
      "[I 2024-09-09 20:32:07,169] Trial 163 finished with value: 0.8201910765291048 and parameters: {'n_estimators': 198, 'max_depth': 13, 'min_samples_split': 25, 'min_samples_leaf': 8}. Best is trial 95 with value: 0.8328474342558849.\n",
      "[I 2024-09-09 20:32:08,358] Trial 164 finished with value: 0.81312912439673 and parameters: {'n_estimators': 176, 'max_depth': 12, 'min_samples_split': 22, 'min_samples_leaf': 13}. Best is trial 95 with value: 0.8328474342558849.\n",
      "[I 2024-09-09 20:32:11,622] Trial 165 finished with value: 0.7850783019797104 and parameters: {'n_estimators': 468, 'max_depth': 2, 'min_samples_split': 29, 'min_samples_leaf': 14}. Best is trial 95 with value: 0.8328474342558849.\n",
      "[I 2024-09-09 20:32:15,652] Trial 166 finished with value: 0.8342066384319905 and parameters: {'n_estimators': 550, 'max_depth': 14, 'min_samples_split': 15, 'min_samples_leaf': 1}. Best is trial 166 with value: 0.8342066384319905.\n",
      "[I 2024-09-09 20:32:17,124] Trial 167 finished with value: 0.8089234708953018 and parameters: {'n_estimators': 185, 'max_depth': 26, 'min_samples_split': 15, 'min_samples_leaf': 19}. Best is trial 166 with value: 0.8342066384319905.\n",
      "[I 2024-09-09 20:32:19,479] Trial 168 finished with value: 0.8046981187826259 and parameters: {'n_estimators': 333, 'max_depth': 21, 'min_samples_split': 32, 'min_samples_leaf': 22}. Best is trial 166 with value: 0.8342066384319905.\n",
      "[I 2024-09-09 20:32:22,521] Trial 169 finished with value: 0.8103220722939033 and parameters: {'n_estimators': 489, 'max_depth': 8, 'min_samples_split': 7, 'min_samples_leaf': 18}. Best is trial 166 with value: 0.8342066384319905.\n",
      "[I 2024-09-09 20:32:26,389] Trial 170 finished with value: 0.8018812173741751 and parameters: {'n_estimators': 633, 'max_depth': 29, 'min_samples_split': 4, 'min_samples_leaf': 25}. Best is trial 166 with value: 0.8342066384319905.\n",
      "[I 2024-09-09 20:32:27,288] Trial 171 finished with value: 0.8342066384319906 and parameters: {'n_estimators': 119, 'max_depth': 22, 'min_samples_split': 10, 'min_samples_leaf': 2}. Best is trial 171 with value: 0.8342066384319906.\n",
      "[I 2024-09-09 20:32:29,615] Trial 172 finished with value: 0.8004826159755737 and parameters: {'n_estimators': 375, 'max_depth': 14, 'min_samples_split': 11, 'min_samples_leaf': 22}. Best is trial 171 with value: 0.8342066384319906.\n",
      "[I 2024-09-09 20:32:30,975] Trial 173 finished with value: 0.7963163596966414 and parameters: {'n_estimators': 195, 'max_depth': 3, 'min_samples_split': 14, 'min_samples_leaf': 22}. Best is trial 171 with value: 0.8342066384319906.\n",
      "[I 2024-09-09 20:32:34,202] Trial 174 finished with value: 0.8032896680784004 and parameters: {'n_estimators': 521, 'max_depth': 28, 'min_samples_split': 22, 'min_samples_leaf': 23}. Best is trial 171 with value: 0.8342066384319906.\n",
      "[I 2024-09-09 20:32:36,118] Trial 175 finished with value: 0.7990741652713484 and parameters: {'n_estimators': 305, 'max_depth': 7, 'min_samples_split': 3, 'min_samples_leaf': 32}. Best is trial 171 with value: 0.8342066384319906.\n",
      "[I 2024-09-09 20:32:40,820] Trial 176 finished with value: 0.8215798286220822 and parameters: {'n_estimators': 693, 'max_depth': 23, 'min_samples_split': 32, 'min_samples_leaf': 10}. Best is trial 171 with value: 0.8342066384319906.\n",
      "[I 2024-09-09 20:32:45,392] Trial 177 finished with value: 0.8004727666699496 and parameters: {'n_estimators': 662, 'max_depth': 8, 'min_samples_split': 5, 'min_samples_leaf': 31}. Best is trial 171 with value: 0.8342066384319906.\n",
      "[I 2024-09-09 20:32:48,844] Trial 178 finished with value: 0.832817886339013 and parameters: {'n_estimators': 500, 'max_depth': 23, 'min_samples_split': 15, 'min_samples_leaf': 1}. Best is trial 171 with value: 0.8342066384319906.\n",
      "[I 2024-09-09 20:32:51,643] Trial 179 finished with value: 0.8244065793361568 and parameters: {'n_estimators': 418, 'max_depth': 5, 'min_samples_split': 31, 'min_samples_leaf': 2}. Best is trial 171 with value: 0.8342066384319906.\n",
      "[I 2024-09-09 20:32:52,873] Trial 180 finished with value: 0.8117206736925047 and parameters: {'n_estimators': 185, 'max_depth': 9, 'min_samples_split': 12, 'min_samples_leaf': 16}. Best is trial 171 with value: 0.8342066384319906.\n",
      "[I 2024-09-09 20:32:57,359] Trial 181 finished with value: 0.832817886339013 and parameters: {'n_estimators': 700, 'max_depth': 12, 'min_samples_split': 6, 'min_samples_leaf': 4}. Best is trial 171 with value: 0.8342066384319906.\n",
      "[I 2024-09-09 20:32:58,329] Trial 182 finished with value: 0.8356446370530879 and parameters: {'n_estimators': 130, 'max_depth': 20, 'min_samples_split': 6, 'min_samples_leaf': 2}. Best is trial 182 with value: 0.8356446370530879.\n",
      "[I 2024-09-09 20:32:59,143] Trial 183 finished with value: 0.8314094356347879 and parameters: {'n_estimators': 111, 'max_depth': 19, 'min_samples_split': 15, 'min_samples_leaf': 1}. Best is trial 182 with value: 0.8356446370530879.\n",
      "[I 2024-09-09 20:33:01,840] Trial 184 finished with value: 0.8243967300305328 and parameters: {'n_estimators': 370, 'max_depth': 14, 'min_samples_split': 17, 'min_samples_leaf': 1}. Best is trial 182 with value: 0.8356446370530879.\n",
      "[I 2024-09-09 20:33:04,122] Trial 185 finished with value: 0.8272037821333595 and parameters: {'n_estimators': 330, 'max_depth': 8, 'min_samples_split': 30, 'min_samples_leaf': 6}. Best is trial 182 with value: 0.8356446370530879.\n",
      "[I 2024-09-09 20:33:05,939] Trial 186 finished with value: 0.801900915985423 and parameters: {'n_estimators': 284, 'max_depth': 19, 'min_samples_split': 28, 'min_samples_leaf': 23}. Best is trial 182 with value: 0.8356446370530879.\n",
      "[I 2024-09-09 20:33:07,238] Trial 187 finished with value: 0.8019304639022948 and parameters: {'n_estimators': 191, 'max_depth': 4, 'min_samples_split': 8, 'min_samples_leaf': 23}. Best is trial 182 with value: 0.8356446370530879.\n",
      "[I 2024-09-09 20:33:09,236] Trial 188 finished with value: 0.797665714567123 and parameters: {'n_estimators': 215, 'max_depth': 13, 'min_samples_split': 16, 'min_samples_leaf': 26}. Best is trial 182 with value: 0.8356446370530879.\n",
      "[I 2024-09-09 20:33:11,919] Trial 189 finished with value: 0.8032896680784004 and parameters: {'n_estimators': 325, 'max_depth': 26, 'min_samples_split': 4, 'min_samples_leaf': 22}. Best is trial 182 with value: 0.8356446370530879.\n",
      "[I 2024-09-09 20:33:13,876] Trial 190 finished with value: 0.7948685117699201 and parameters: {'n_estimators': 207, 'max_depth': 26, 'min_samples_split': 14, 'min_samples_leaf': 26}. Best is trial 182 with value: 0.8356446370530879.\n",
      "[I 2024-09-09 20:33:16,875] Trial 191 finished with value: 0.8033093666896484 and parameters: {'n_estimators': 345, 'max_depth': 10, 'min_samples_split': 32, 'min_samples_leaf': 21}. Best is trial 182 with value: 0.8356446370530879.\n",
      "[I 2024-09-09 20:33:21,389] Trial 192 finished with value: 0.8159558751108047 and parameters: {'n_estimators': 602, 'max_depth': 9, 'min_samples_split': 8, 'min_samples_leaf': 12}. Best is trial 182 with value: 0.8356446370530879.\n",
      "[I 2024-09-09 20:33:27,022] Trial 193 finished with value: 0.7990643159657244 and parameters: {'n_estimators': 611, 'max_depth': 21, 'min_samples_split': 22, 'min_samples_leaf': 27}. Best is trial 182 with value: 0.8356446370530879.\n",
      "[I 2024-09-09 20:33:30,960] Trial 194 finished with value: 0.8159361764995567 and parameters: {'n_estimators': 521, 'max_depth': 14, 'min_samples_split': 22, 'min_samples_leaf': 14}. Best is trial 182 with value: 0.8356446370530879.\n",
      "[I 2024-09-09 20:33:34,399] Trial 195 finished with value: 0.8103220722939033 and parameters: {'n_estimators': 478, 'max_depth': 7, 'min_samples_split': 19, 'min_samples_leaf': 18}. Best is trial 182 with value: 0.8356446370530879.\n",
      "[I 2024-09-09 20:33:37,376] Trial 196 finished with value: 0.81312912439673 and parameters: {'n_estimators': 387, 'max_depth': 26, 'min_samples_split': 27, 'min_samples_leaf': 15}. Best is trial 182 with value: 0.8356446370530879.\n",
      "[I 2024-09-09 20:33:40,381] Trial 197 finished with value: 0.8215798286220822 and parameters: {'n_estimators': 444, 'max_depth': 11, 'min_samples_split': 32, 'min_samples_leaf': 9}. Best is trial 182 with value: 0.8356446370530879.\n",
      "[I 2024-09-09 20:33:41,608] Trial 198 finished with value: 0.8215896779277061 and parameters: {'n_estimators': 154, 'max_depth': 29, 'min_samples_split': 26, 'min_samples_leaf': 8}. Best is trial 182 with value: 0.8356446370530879.\n",
      "[I 2024-09-09 20:33:42,493] Trial 199 finished with value: 0.8103220722939032 and parameters: {'n_estimators': 110, 'max_depth': 13, 'min_samples_split': 24, 'min_samples_leaf': 19}. Best is trial 182 with value: 0.8356446370530879.\n"
     ]
    }
   ],
   "source": [
    "# Optimize the objective function using the Optuna study.\n",
    "# Perform 250 trials to find the best hyperparameters based on the objective function.\n",
    "\n",
    "study.optimize(objective, n_trials=200)"
   ]
  },
  {
   "cell_type": "code",
   "execution_count": 121,
   "metadata": {},
   "outputs": [
    {
     "data": {
      "application/vnd.plotly.v1+json": {
       "config": {
        "plotlyServerURL": "https://plot.ly"
       },
       "data": [
        {
         "mode": "markers",
         "name": "Objective Value",
         "type": "scatter",
         "x": [
          0,
          1,
          2,
          3,
          4,
          5,
          6,
          7,
          8,
          9,
          10,
          11,
          12,
          13,
          14,
          15,
          16,
          17,
          18,
          19,
          20,
          21,
          22,
          23,
          24,
          25,
          26,
          27,
          28,
          29,
          30,
          31,
          32,
          33,
          34,
          35,
          36,
          37,
          38,
          39,
          40,
          41,
          42,
          43,
          44,
          45,
          46,
          47,
          48,
          49,
          50,
          51,
          52,
          53,
          54,
          55,
          56,
          57,
          58,
          59,
          60,
          61,
          62,
          63,
          64,
          65,
          66,
          67,
          68,
          69,
          70,
          71,
          72,
          73,
          74,
          75,
          76,
          77,
          78,
          79,
          80,
          81,
          82,
          83,
          84,
          85,
          86,
          87,
          88,
          89,
          90,
          91,
          92,
          93,
          94,
          95,
          96,
          97,
          98,
          99,
          100,
          101,
          102,
          103,
          104,
          105,
          106,
          107,
          108,
          109,
          110,
          111,
          112,
          113,
          114,
          115,
          116,
          117,
          118,
          119,
          120,
          121,
          122,
          123,
          124,
          125,
          126,
          127,
          128,
          129,
          130,
          131,
          132,
          133,
          134,
          135,
          136,
          137,
          138,
          139,
          140,
          141,
          142,
          143,
          144,
          145,
          146,
          147,
          148,
          149,
          150,
          151,
          152,
          153,
          154,
          155,
          156,
          157,
          158,
          159,
          160,
          161,
          162,
          163,
          164,
          165,
          166,
          167,
          168,
          169,
          170,
          171,
          172,
          173,
          174,
          175,
          176,
          177,
          178,
          179,
          180,
          181,
          182,
          183,
          184,
          185,
          186,
          187,
          188,
          189,
          190,
          191,
          192,
          193,
          194,
          195,
          196,
          197,
          198,
          199
         ],
         "y": [
          0.8272136314389836,
          0.8047079680882497,
          0.7977051117896188,
          0.8229981286319316,
          0.7990643159657244,
          0.8117305229981285,
          0.8272234807446075,
          0.7934797596769428,
          0.7990643159657244,
          0.8201713779178569,
          0.8032896680784004,
          0.8314192849404117,
          0.8032995173840243,
          0.8046981187826259,
          0.7836698512754852,
          0.8300108342361863,
          0.8145277257953314,
          0.8201812272234807,
          0.8089234708953018,
          0.81312912439673,
          0.7976952624839949,
          0.8159558751108047,
          0.817374175120654,
          0.7907022554909878,
          0.7990840145769724,
          0.8047079680882497,
          0.8075051708854526,
          0.8117305229981285,
          0.8032896680784004,
          0.8244065793361568,
          0.8159558751108047,
          0.8159361764995567,
          0.8215798286220822,
          0.8004727666699496,
          0.8004727666699496,
          0.81312912439673,
          0.7990643159657244,
          0.8272037821333595,
          0.8004727666699496,
          0.8004727666699496,
          0.8047079680882497,
          0.7990643159657244,
          0.8089234708953018,
          0.8201713779178569,
          0.8004727666699498,
          0.7990643159657244,
          0.8089234708953018,
          0.8145375751009553,
          0.8004826159755737,
          0.8258051807347583,
          0.794907908992416,
          0.8187727765192554,
          0.806106569486851,
          0.7906924061853638,
          0.8089333202009259,
          0.8300206835418104,
          0.8145277257953314,
          0.808913621589678,
          0.8201713779178569,
          0.8173544765094061,
          0.7990643159657244,
          0.7990643159657244,
          0.8075248694967005,
          0.8004826159755737,
          0.8075347188023245,
          0.8215798286220822,
          0.8201812272234807,
          0.8004727666699496,
          0.8201910765291048,
          0.7892938047867626,
          0.8033192159952722,
          0.8272136314389836,
          0.8018812173741751,
          0.7990938638825963,
          0.8215798286220822,
          0.8004727666699496,
          0.8046981187826259,
          0.8258150300403821,
          0.8004727666699496,
          0.8004727666699496,
          0.8201713779178569,
          0.7990643159657244,
          0.8229981286319316,
          0.7990643159657244,
          0.8004727666699496,
          0.81312912439673,
          0.7836797005811091,
          0.8089333202009257,
          0.7934699103713188,
          0.7990643159657244,
          0.8061262680980992,
          0.8258150300403821,
          0.8145375751009553,
          0.8229981286319316,
          0.8004727666699496,
          0.8328474342558849,
          0.7990840145769724,
          0.8243967300305328,
          0.8201910765291048,
          0.8004727666699496,
          0.8201812272234807,
          0.81312912439673,
          0.7920811582783414,
          0.8300206835418104,
          0.8103220722939033,
          0.7990840145769724,
          0.8145375751009553,
          0.8201713779178569,
          0.8145277257953314,
          0.8244065793361568,
          0.7990643159657244,
          0.828612232837585,
          0.8229981286319316,
          0.8004727666699496,
          0.8075248694967005,
          0.8300206835418102,
          0.8272234807446075,
          0.8159657244164287,
          0.7920811582783414,
          0.8061164187924751,
          0.7878853540825371,
          0.8145277257953314,
          0.8032896680784004,
          0.8145375751009555,
          0.8145375751009553,
          0.8201713779178569,
          0.8018910666797991,
          0.806106569486851,
          0.8159361764995567,
          0.8018812173741751,
          0.8046981187826259,
          0.8032896680784004,
          0.8244065793361568,
          0.8032896680784004,
          0.8047079680882497,
          0.8004727666699496,
          0.8047178173938738,
          0.8061262680980992,
          0.8004727666699496,
          0.8187530779080076,
          0.8061164187924751,
          0.8215995272333301,
          0.7990643159657244,
          0.8286023835319611,
          0.8272136314389836,
          0.8075051708854526,
          0.8004727666699496,
          0.8187826258248794,
          0.8187530779080076,
          0.8201812272234807,
          0.7990741652713484,
          0.8004727666699496,
          0.8244065793361569,
          0.8327981877277653,
          0.8032896680784004,
          0.8145277257953314,
          0.8314291342460356,
          0.8018910666797991,
          0.8145277257953314,
          0.8032995173840243,
          0.7962868117797696,
          0.8004727666699496,
          0.8145277257953314,
          0.8201910765291048,
          0.81312912439673,
          0.7850783019797104,
          0.8342066384319905,
          0.8089234708953018,
          0.8046981187826259,
          0.8103220722939033,
          0.8018812173741751,
          0.8342066384319906,
          0.8004826159755737,
          0.7963163596966414,
          0.8032896680784004,
          0.7990741652713484,
          0.8215798286220822,
          0.8004727666699496,
          0.832817886339013,
          0.8244065793361568,
          0.8117206736925047,
          0.832817886339013,
          0.8356446370530879,
          0.8314094356347879,
          0.8243967300305328,
          0.8272037821333595,
          0.801900915985423,
          0.8019304639022948,
          0.797665714567123,
          0.8032896680784004,
          0.7948685117699201,
          0.8033093666896484,
          0.8159558751108047,
          0.7990643159657244,
          0.8159361764995567,
          0.8103220722939033,
          0.81312912439673,
          0.8215798286220822,
          0.8215896779277061,
          0.8103220722939032
         ]
        },
        {
         "mode": "lines",
         "name": "Best Value",
         "type": "scatter",
         "x": [
          0,
          1,
          2,
          3,
          4,
          5,
          6,
          7,
          8,
          9,
          10,
          11,
          12,
          13,
          14,
          15,
          16,
          17,
          18,
          19,
          20,
          21,
          22,
          23,
          24,
          25,
          26,
          27,
          28,
          29,
          30,
          31,
          32,
          33,
          34,
          35,
          36,
          37,
          38,
          39,
          40,
          41,
          42,
          43,
          44,
          45,
          46,
          47,
          48,
          49,
          50,
          51,
          52,
          53,
          54,
          55,
          56,
          57,
          58,
          59,
          60,
          61,
          62,
          63,
          64,
          65,
          66,
          67,
          68,
          69,
          70,
          71,
          72,
          73,
          74,
          75,
          76,
          77,
          78,
          79,
          80,
          81,
          82,
          83,
          84,
          85,
          86,
          87,
          88,
          89,
          90,
          91,
          92,
          93,
          94,
          95,
          96,
          97,
          98,
          99,
          100,
          101,
          102,
          103,
          104,
          105,
          106,
          107,
          108,
          109,
          110,
          111,
          112,
          113,
          114,
          115,
          116,
          117,
          118,
          119,
          120,
          121,
          122,
          123,
          124,
          125,
          126,
          127,
          128,
          129,
          130,
          131,
          132,
          133,
          134,
          135,
          136,
          137,
          138,
          139,
          140,
          141,
          142,
          143,
          144,
          145,
          146,
          147,
          148,
          149,
          150,
          151,
          152,
          153,
          154,
          155,
          156,
          157,
          158,
          159,
          160,
          161,
          162,
          163,
          164,
          165,
          166,
          167,
          168,
          169,
          170,
          171,
          172,
          173,
          174,
          175,
          176,
          177,
          178,
          179,
          180,
          181,
          182,
          183,
          184,
          185,
          186,
          187,
          188,
          189,
          190,
          191,
          192,
          193,
          194,
          195,
          196,
          197,
          198,
          199
         ],
         "y": [
          0.8272136314389836,
          0.8272136314389836,
          0.8272136314389836,
          0.8272136314389836,
          0.8272136314389836,
          0.8272136314389836,
          0.8272234807446075,
          0.8272234807446075,
          0.8272234807446075,
          0.8272234807446075,
          0.8272234807446075,
          0.8314192849404117,
          0.8314192849404117,
          0.8314192849404117,
          0.8314192849404117,
          0.8314192849404117,
          0.8314192849404117,
          0.8314192849404117,
          0.8314192849404117,
          0.8314192849404117,
          0.8314192849404117,
          0.8314192849404117,
          0.8314192849404117,
          0.8314192849404117,
          0.8314192849404117,
          0.8314192849404117,
          0.8314192849404117,
          0.8314192849404117,
          0.8314192849404117,
          0.8314192849404117,
          0.8314192849404117,
          0.8314192849404117,
          0.8314192849404117,
          0.8314192849404117,
          0.8314192849404117,
          0.8314192849404117,
          0.8314192849404117,
          0.8314192849404117,
          0.8314192849404117,
          0.8314192849404117,
          0.8314192849404117,
          0.8314192849404117,
          0.8314192849404117,
          0.8314192849404117,
          0.8314192849404117,
          0.8314192849404117,
          0.8314192849404117,
          0.8314192849404117,
          0.8314192849404117,
          0.8314192849404117,
          0.8314192849404117,
          0.8314192849404117,
          0.8314192849404117,
          0.8314192849404117,
          0.8314192849404117,
          0.8314192849404117,
          0.8314192849404117,
          0.8314192849404117,
          0.8314192849404117,
          0.8314192849404117,
          0.8314192849404117,
          0.8314192849404117,
          0.8314192849404117,
          0.8314192849404117,
          0.8314192849404117,
          0.8314192849404117,
          0.8314192849404117,
          0.8314192849404117,
          0.8314192849404117,
          0.8314192849404117,
          0.8314192849404117,
          0.8314192849404117,
          0.8314192849404117,
          0.8314192849404117,
          0.8314192849404117,
          0.8314192849404117,
          0.8314192849404117,
          0.8314192849404117,
          0.8314192849404117,
          0.8314192849404117,
          0.8314192849404117,
          0.8314192849404117,
          0.8314192849404117,
          0.8314192849404117,
          0.8314192849404117,
          0.8314192849404117,
          0.8314192849404117,
          0.8314192849404117,
          0.8314192849404117,
          0.8314192849404117,
          0.8314192849404117,
          0.8314192849404117,
          0.8314192849404117,
          0.8314192849404117,
          0.8314192849404117,
          0.8328474342558849,
          0.8328474342558849,
          0.8328474342558849,
          0.8328474342558849,
          0.8328474342558849,
          0.8328474342558849,
          0.8328474342558849,
          0.8328474342558849,
          0.8328474342558849,
          0.8328474342558849,
          0.8328474342558849,
          0.8328474342558849,
          0.8328474342558849,
          0.8328474342558849,
          0.8328474342558849,
          0.8328474342558849,
          0.8328474342558849,
          0.8328474342558849,
          0.8328474342558849,
          0.8328474342558849,
          0.8328474342558849,
          0.8328474342558849,
          0.8328474342558849,
          0.8328474342558849,
          0.8328474342558849,
          0.8328474342558849,
          0.8328474342558849,
          0.8328474342558849,
          0.8328474342558849,
          0.8328474342558849,
          0.8328474342558849,
          0.8328474342558849,
          0.8328474342558849,
          0.8328474342558849,
          0.8328474342558849,
          0.8328474342558849,
          0.8328474342558849,
          0.8328474342558849,
          0.8328474342558849,
          0.8328474342558849,
          0.8328474342558849,
          0.8328474342558849,
          0.8328474342558849,
          0.8328474342558849,
          0.8328474342558849,
          0.8328474342558849,
          0.8328474342558849,
          0.8328474342558849,
          0.8328474342558849,
          0.8328474342558849,
          0.8328474342558849,
          0.8328474342558849,
          0.8328474342558849,
          0.8328474342558849,
          0.8328474342558849,
          0.8328474342558849,
          0.8328474342558849,
          0.8328474342558849,
          0.8328474342558849,
          0.8328474342558849,
          0.8328474342558849,
          0.8328474342558849,
          0.8328474342558849,
          0.8328474342558849,
          0.8328474342558849,
          0.8328474342558849,
          0.8328474342558849,
          0.8328474342558849,
          0.8328474342558849,
          0.8328474342558849,
          0.8328474342558849,
          0.8342066384319905,
          0.8342066384319905,
          0.8342066384319905,
          0.8342066384319905,
          0.8342066384319905,
          0.8342066384319906,
          0.8342066384319906,
          0.8342066384319906,
          0.8342066384319906,
          0.8342066384319906,
          0.8342066384319906,
          0.8342066384319906,
          0.8342066384319906,
          0.8342066384319906,
          0.8342066384319906,
          0.8342066384319906,
          0.8356446370530879,
          0.8356446370530879,
          0.8356446370530879,
          0.8356446370530879,
          0.8356446370530879,
          0.8356446370530879,
          0.8356446370530879,
          0.8356446370530879,
          0.8356446370530879,
          0.8356446370530879,
          0.8356446370530879,
          0.8356446370530879,
          0.8356446370530879,
          0.8356446370530879,
          0.8356446370530879,
          0.8356446370530879,
          0.8356446370530879,
          0.8356446370530879
         ]
        },
        {
         "marker": {
          "color": "#cccccc"
         },
         "mode": "markers",
         "name": "Infeasible Trial",
         "showlegend": false,
         "type": "scatter",
         "x": [],
         "y": []
        }
       ],
       "layout": {
        "template": {
         "data": {
          "bar": [
           {
            "error_x": {
             "color": "#2a3f5f"
            },
            "error_y": {
             "color": "#2a3f5f"
            },
            "marker": {
             "line": {
              "color": "#E5ECF6",
              "width": 0.5
             },
             "pattern": {
              "fillmode": "overlay",
              "size": 10,
              "solidity": 0.2
             }
            },
            "type": "bar"
           }
          ],
          "barpolar": [
           {
            "marker": {
             "line": {
              "color": "#E5ECF6",
              "width": 0.5
             },
             "pattern": {
              "fillmode": "overlay",
              "size": 10,
              "solidity": 0.2
             }
            },
            "type": "barpolar"
           }
          ],
          "carpet": [
           {
            "aaxis": {
             "endlinecolor": "#2a3f5f",
             "gridcolor": "white",
             "linecolor": "white",
             "minorgridcolor": "white",
             "startlinecolor": "#2a3f5f"
            },
            "baxis": {
             "endlinecolor": "#2a3f5f",
             "gridcolor": "white",
             "linecolor": "white",
             "minorgridcolor": "white",
             "startlinecolor": "#2a3f5f"
            },
            "type": "carpet"
           }
          ],
          "choropleth": [
           {
            "colorbar": {
             "outlinewidth": 0,
             "ticks": ""
            },
            "type": "choropleth"
           }
          ],
          "contour": [
           {
            "colorbar": {
             "outlinewidth": 0,
             "ticks": ""
            },
            "colorscale": [
             [
              0,
              "#0d0887"
             ],
             [
              0.1111111111111111,
              "#46039f"
             ],
             [
              0.2222222222222222,
              "#7201a8"
             ],
             [
              0.3333333333333333,
              "#9c179e"
             ],
             [
              0.4444444444444444,
              "#bd3786"
             ],
             [
              0.5555555555555556,
              "#d8576b"
             ],
             [
              0.6666666666666666,
              "#ed7953"
             ],
             [
              0.7777777777777778,
              "#fb9f3a"
             ],
             [
              0.8888888888888888,
              "#fdca26"
             ],
             [
              1,
              "#f0f921"
             ]
            ],
            "type": "contour"
           }
          ],
          "contourcarpet": [
           {
            "colorbar": {
             "outlinewidth": 0,
             "ticks": ""
            },
            "type": "contourcarpet"
           }
          ],
          "heatmap": [
           {
            "colorbar": {
             "outlinewidth": 0,
             "ticks": ""
            },
            "colorscale": [
             [
              0,
              "#0d0887"
             ],
             [
              0.1111111111111111,
              "#46039f"
             ],
             [
              0.2222222222222222,
              "#7201a8"
             ],
             [
              0.3333333333333333,
              "#9c179e"
             ],
             [
              0.4444444444444444,
              "#bd3786"
             ],
             [
              0.5555555555555556,
              "#d8576b"
             ],
             [
              0.6666666666666666,
              "#ed7953"
             ],
             [
              0.7777777777777778,
              "#fb9f3a"
             ],
             [
              0.8888888888888888,
              "#fdca26"
             ],
             [
              1,
              "#f0f921"
             ]
            ],
            "type": "heatmap"
           }
          ],
          "heatmapgl": [
           {
            "colorbar": {
             "outlinewidth": 0,
             "ticks": ""
            },
            "colorscale": [
             [
              0,
              "#0d0887"
             ],
             [
              0.1111111111111111,
              "#46039f"
             ],
             [
              0.2222222222222222,
              "#7201a8"
             ],
             [
              0.3333333333333333,
              "#9c179e"
             ],
             [
              0.4444444444444444,
              "#bd3786"
             ],
             [
              0.5555555555555556,
              "#d8576b"
             ],
             [
              0.6666666666666666,
              "#ed7953"
             ],
             [
              0.7777777777777778,
              "#fb9f3a"
             ],
             [
              0.8888888888888888,
              "#fdca26"
             ],
             [
              1,
              "#f0f921"
             ]
            ],
            "type": "heatmapgl"
           }
          ],
          "histogram": [
           {
            "marker": {
             "pattern": {
              "fillmode": "overlay",
              "size": 10,
              "solidity": 0.2
             }
            },
            "type": "histogram"
           }
          ],
          "histogram2d": [
           {
            "colorbar": {
             "outlinewidth": 0,
             "ticks": ""
            },
            "colorscale": [
             [
              0,
              "#0d0887"
             ],
             [
              0.1111111111111111,
              "#46039f"
             ],
             [
              0.2222222222222222,
              "#7201a8"
             ],
             [
              0.3333333333333333,
              "#9c179e"
             ],
             [
              0.4444444444444444,
              "#bd3786"
             ],
             [
              0.5555555555555556,
              "#d8576b"
             ],
             [
              0.6666666666666666,
              "#ed7953"
             ],
             [
              0.7777777777777778,
              "#fb9f3a"
             ],
             [
              0.8888888888888888,
              "#fdca26"
             ],
             [
              1,
              "#f0f921"
             ]
            ],
            "type": "histogram2d"
           }
          ],
          "histogram2dcontour": [
           {
            "colorbar": {
             "outlinewidth": 0,
             "ticks": ""
            },
            "colorscale": [
             [
              0,
              "#0d0887"
             ],
             [
              0.1111111111111111,
              "#46039f"
             ],
             [
              0.2222222222222222,
              "#7201a8"
             ],
             [
              0.3333333333333333,
              "#9c179e"
             ],
             [
              0.4444444444444444,
              "#bd3786"
             ],
             [
              0.5555555555555556,
              "#d8576b"
             ],
             [
              0.6666666666666666,
              "#ed7953"
             ],
             [
              0.7777777777777778,
              "#fb9f3a"
             ],
             [
              0.8888888888888888,
              "#fdca26"
             ],
             [
              1,
              "#f0f921"
             ]
            ],
            "type": "histogram2dcontour"
           }
          ],
          "mesh3d": [
           {
            "colorbar": {
             "outlinewidth": 0,
             "ticks": ""
            },
            "type": "mesh3d"
           }
          ],
          "parcoords": [
           {
            "line": {
             "colorbar": {
              "outlinewidth": 0,
              "ticks": ""
             }
            },
            "type": "parcoords"
           }
          ],
          "pie": [
           {
            "automargin": true,
            "type": "pie"
           }
          ],
          "scatter": [
           {
            "fillpattern": {
             "fillmode": "overlay",
             "size": 10,
             "solidity": 0.2
            },
            "type": "scatter"
           }
          ],
          "scatter3d": [
           {
            "line": {
             "colorbar": {
              "outlinewidth": 0,
              "ticks": ""
             }
            },
            "marker": {
             "colorbar": {
              "outlinewidth": 0,
              "ticks": ""
             }
            },
            "type": "scatter3d"
           }
          ],
          "scattercarpet": [
           {
            "marker": {
             "colorbar": {
              "outlinewidth": 0,
              "ticks": ""
             }
            },
            "type": "scattercarpet"
           }
          ],
          "scattergeo": [
           {
            "marker": {
             "colorbar": {
              "outlinewidth": 0,
              "ticks": ""
             }
            },
            "type": "scattergeo"
           }
          ],
          "scattergl": [
           {
            "marker": {
             "colorbar": {
              "outlinewidth": 0,
              "ticks": ""
             }
            },
            "type": "scattergl"
           }
          ],
          "scattermapbox": [
           {
            "marker": {
             "colorbar": {
              "outlinewidth": 0,
              "ticks": ""
             }
            },
            "type": "scattermapbox"
           }
          ],
          "scatterpolar": [
           {
            "marker": {
             "colorbar": {
              "outlinewidth": 0,
              "ticks": ""
             }
            },
            "type": "scatterpolar"
           }
          ],
          "scatterpolargl": [
           {
            "marker": {
             "colorbar": {
              "outlinewidth": 0,
              "ticks": ""
             }
            },
            "type": "scatterpolargl"
           }
          ],
          "scatterternary": [
           {
            "marker": {
             "colorbar": {
              "outlinewidth": 0,
              "ticks": ""
             }
            },
            "type": "scatterternary"
           }
          ],
          "surface": [
           {
            "colorbar": {
             "outlinewidth": 0,
             "ticks": ""
            },
            "colorscale": [
             [
              0,
              "#0d0887"
             ],
             [
              0.1111111111111111,
              "#46039f"
             ],
             [
              0.2222222222222222,
              "#7201a8"
             ],
             [
              0.3333333333333333,
              "#9c179e"
             ],
             [
              0.4444444444444444,
              "#bd3786"
             ],
             [
              0.5555555555555556,
              "#d8576b"
             ],
             [
              0.6666666666666666,
              "#ed7953"
             ],
             [
              0.7777777777777778,
              "#fb9f3a"
             ],
             [
              0.8888888888888888,
              "#fdca26"
             ],
             [
              1,
              "#f0f921"
             ]
            ],
            "type": "surface"
           }
          ],
          "table": [
           {
            "cells": {
             "fill": {
              "color": "#EBF0F8"
             },
             "line": {
              "color": "white"
             }
            },
            "header": {
             "fill": {
              "color": "#C8D4E3"
             },
             "line": {
              "color": "white"
             }
            },
            "type": "table"
           }
          ]
         },
         "layout": {
          "annotationdefaults": {
           "arrowcolor": "#2a3f5f",
           "arrowhead": 0,
           "arrowwidth": 1
          },
          "autotypenumbers": "strict",
          "coloraxis": {
           "colorbar": {
            "outlinewidth": 0,
            "ticks": ""
           }
          },
          "colorscale": {
           "diverging": [
            [
             0,
             "#8e0152"
            ],
            [
             0.1,
             "#c51b7d"
            ],
            [
             0.2,
             "#de77ae"
            ],
            [
             0.3,
             "#f1b6da"
            ],
            [
             0.4,
             "#fde0ef"
            ],
            [
             0.5,
             "#f7f7f7"
            ],
            [
             0.6,
             "#e6f5d0"
            ],
            [
             0.7,
             "#b8e186"
            ],
            [
             0.8,
             "#7fbc41"
            ],
            [
             0.9,
             "#4d9221"
            ],
            [
             1,
             "#276419"
            ]
           ],
           "sequential": [
            [
             0,
             "#0d0887"
            ],
            [
             0.1111111111111111,
             "#46039f"
            ],
            [
             0.2222222222222222,
             "#7201a8"
            ],
            [
             0.3333333333333333,
             "#9c179e"
            ],
            [
             0.4444444444444444,
             "#bd3786"
            ],
            [
             0.5555555555555556,
             "#d8576b"
            ],
            [
             0.6666666666666666,
             "#ed7953"
            ],
            [
             0.7777777777777778,
             "#fb9f3a"
            ],
            [
             0.8888888888888888,
             "#fdca26"
            ],
            [
             1,
             "#f0f921"
            ]
           ],
           "sequentialminus": [
            [
             0,
             "#0d0887"
            ],
            [
             0.1111111111111111,
             "#46039f"
            ],
            [
             0.2222222222222222,
             "#7201a8"
            ],
            [
             0.3333333333333333,
             "#9c179e"
            ],
            [
             0.4444444444444444,
             "#bd3786"
            ],
            [
             0.5555555555555556,
             "#d8576b"
            ],
            [
             0.6666666666666666,
             "#ed7953"
            ],
            [
             0.7777777777777778,
             "#fb9f3a"
            ],
            [
             0.8888888888888888,
             "#fdca26"
            ],
            [
             1,
             "#f0f921"
            ]
           ]
          },
          "colorway": [
           "#636efa",
           "#EF553B",
           "#00cc96",
           "#ab63fa",
           "#FFA15A",
           "#19d3f3",
           "#FF6692",
           "#B6E880",
           "#FF97FF",
           "#FECB52"
          ],
          "font": {
           "color": "#2a3f5f"
          },
          "geo": {
           "bgcolor": "white",
           "lakecolor": "white",
           "landcolor": "#E5ECF6",
           "showlakes": true,
           "showland": true,
           "subunitcolor": "white"
          },
          "hoverlabel": {
           "align": "left"
          },
          "hovermode": "closest",
          "mapbox": {
           "style": "light"
          },
          "paper_bgcolor": "white",
          "plot_bgcolor": "#E5ECF6",
          "polar": {
           "angularaxis": {
            "gridcolor": "white",
            "linecolor": "white",
            "ticks": ""
           },
           "bgcolor": "#E5ECF6",
           "radialaxis": {
            "gridcolor": "white",
            "linecolor": "white",
            "ticks": ""
           }
          },
          "scene": {
           "xaxis": {
            "backgroundcolor": "#E5ECF6",
            "gridcolor": "white",
            "gridwidth": 2,
            "linecolor": "white",
            "showbackground": true,
            "ticks": "",
            "zerolinecolor": "white"
           },
           "yaxis": {
            "backgroundcolor": "#E5ECF6",
            "gridcolor": "white",
            "gridwidth": 2,
            "linecolor": "white",
            "showbackground": true,
            "ticks": "",
            "zerolinecolor": "white"
           },
           "zaxis": {
            "backgroundcolor": "#E5ECF6",
            "gridcolor": "white",
            "gridwidth": 2,
            "linecolor": "white",
            "showbackground": true,
            "ticks": "",
            "zerolinecolor": "white"
           }
          },
          "shapedefaults": {
           "line": {
            "color": "#2a3f5f"
           }
          },
          "ternary": {
           "aaxis": {
            "gridcolor": "white",
            "linecolor": "white",
            "ticks": ""
           },
           "baxis": {
            "gridcolor": "white",
            "linecolor": "white",
            "ticks": ""
           },
           "bgcolor": "#E5ECF6",
           "caxis": {
            "gridcolor": "white",
            "linecolor": "white",
            "ticks": ""
           }
          },
          "title": {
           "x": 0.05
          },
          "xaxis": {
           "automargin": true,
           "gridcolor": "white",
           "linecolor": "white",
           "ticks": "",
           "title": {
            "standoff": 15
           },
           "zerolinecolor": "white",
           "zerolinewidth": 2
          },
          "yaxis": {
           "automargin": true,
           "gridcolor": "white",
           "linecolor": "white",
           "ticks": "",
           "title": {
            "standoff": 15
           },
           "zerolinecolor": "white",
           "zerolinewidth": 2
          }
         }
        },
        "title": {
         "text": "Optimization History Plot"
        },
        "xaxis": {
         "title": {
          "text": "Trial"
         }
        },
        "yaxis": {
         "title": {
          "text": "Objective Value"
         }
        }
       }
      }
     },
     "metadata": {},
     "output_type": "display_data"
    }
   ],
   "source": [
    "# Visualize the optimization history of the Optuna study.\n",
    "# This plot shows how the objective function value has evolved across different trials.\n",
    "\n",
    "optuna.visualization.plot_optimization_history(study)"
   ]
  },
  {
   "cell_type": "code",
   "execution_count": 120,
   "metadata": {},
   "outputs": [
    {
     "data": {
      "application/vnd.plotly.v1+json": {
       "config": {
        "plotlyServerURL": "https://plot.ly"
       },
       "data": [
        {
         "cliponaxis": false,
         "hovertemplate": [
          "min_samples_split (IntDistribution): 0.0012260872806540326<extra></extra>",
          "n_estimators (IntDistribution): 0.006531924033452141<extra></extra>",
          "max_depth (IntDistribution): 0.018095971193719626<extra></extra>",
          "min_samples_leaf (IntDistribution): 0.9741460174921741<extra></extra>"
         ],
         "name": "Objective Value",
         "orientation": "h",
         "text": [
          "<0.01",
          "<0.01",
          "0.02",
          "0.97"
         ],
         "textposition": "outside",
         "type": "bar",
         "x": [
          0.0012260872806540326,
          0.006531924033452141,
          0.018095971193719626,
          0.9741460174921741
         ],
         "y": [
          "min_samples_split",
          "n_estimators",
          "max_depth",
          "min_samples_leaf"
         ]
        }
       ],
       "layout": {
        "template": {
         "data": {
          "bar": [
           {
            "error_x": {
             "color": "#2a3f5f"
            },
            "error_y": {
             "color": "#2a3f5f"
            },
            "marker": {
             "line": {
              "color": "#E5ECF6",
              "width": 0.5
             },
             "pattern": {
              "fillmode": "overlay",
              "size": 10,
              "solidity": 0.2
             }
            },
            "type": "bar"
           }
          ],
          "barpolar": [
           {
            "marker": {
             "line": {
              "color": "#E5ECF6",
              "width": 0.5
             },
             "pattern": {
              "fillmode": "overlay",
              "size": 10,
              "solidity": 0.2
             }
            },
            "type": "barpolar"
           }
          ],
          "carpet": [
           {
            "aaxis": {
             "endlinecolor": "#2a3f5f",
             "gridcolor": "white",
             "linecolor": "white",
             "minorgridcolor": "white",
             "startlinecolor": "#2a3f5f"
            },
            "baxis": {
             "endlinecolor": "#2a3f5f",
             "gridcolor": "white",
             "linecolor": "white",
             "minorgridcolor": "white",
             "startlinecolor": "#2a3f5f"
            },
            "type": "carpet"
           }
          ],
          "choropleth": [
           {
            "colorbar": {
             "outlinewidth": 0,
             "ticks": ""
            },
            "type": "choropleth"
           }
          ],
          "contour": [
           {
            "colorbar": {
             "outlinewidth": 0,
             "ticks": ""
            },
            "colorscale": [
             [
              0,
              "#0d0887"
             ],
             [
              0.1111111111111111,
              "#46039f"
             ],
             [
              0.2222222222222222,
              "#7201a8"
             ],
             [
              0.3333333333333333,
              "#9c179e"
             ],
             [
              0.4444444444444444,
              "#bd3786"
             ],
             [
              0.5555555555555556,
              "#d8576b"
             ],
             [
              0.6666666666666666,
              "#ed7953"
             ],
             [
              0.7777777777777778,
              "#fb9f3a"
             ],
             [
              0.8888888888888888,
              "#fdca26"
             ],
             [
              1,
              "#f0f921"
             ]
            ],
            "type": "contour"
           }
          ],
          "contourcarpet": [
           {
            "colorbar": {
             "outlinewidth": 0,
             "ticks": ""
            },
            "type": "contourcarpet"
           }
          ],
          "heatmap": [
           {
            "colorbar": {
             "outlinewidth": 0,
             "ticks": ""
            },
            "colorscale": [
             [
              0,
              "#0d0887"
             ],
             [
              0.1111111111111111,
              "#46039f"
             ],
             [
              0.2222222222222222,
              "#7201a8"
             ],
             [
              0.3333333333333333,
              "#9c179e"
             ],
             [
              0.4444444444444444,
              "#bd3786"
             ],
             [
              0.5555555555555556,
              "#d8576b"
             ],
             [
              0.6666666666666666,
              "#ed7953"
             ],
             [
              0.7777777777777778,
              "#fb9f3a"
             ],
             [
              0.8888888888888888,
              "#fdca26"
             ],
             [
              1,
              "#f0f921"
             ]
            ],
            "type": "heatmap"
           }
          ],
          "heatmapgl": [
           {
            "colorbar": {
             "outlinewidth": 0,
             "ticks": ""
            },
            "colorscale": [
             [
              0,
              "#0d0887"
             ],
             [
              0.1111111111111111,
              "#46039f"
             ],
             [
              0.2222222222222222,
              "#7201a8"
             ],
             [
              0.3333333333333333,
              "#9c179e"
             ],
             [
              0.4444444444444444,
              "#bd3786"
             ],
             [
              0.5555555555555556,
              "#d8576b"
             ],
             [
              0.6666666666666666,
              "#ed7953"
             ],
             [
              0.7777777777777778,
              "#fb9f3a"
             ],
             [
              0.8888888888888888,
              "#fdca26"
             ],
             [
              1,
              "#f0f921"
             ]
            ],
            "type": "heatmapgl"
           }
          ],
          "histogram": [
           {
            "marker": {
             "pattern": {
              "fillmode": "overlay",
              "size": 10,
              "solidity": 0.2
             }
            },
            "type": "histogram"
           }
          ],
          "histogram2d": [
           {
            "colorbar": {
             "outlinewidth": 0,
             "ticks": ""
            },
            "colorscale": [
             [
              0,
              "#0d0887"
             ],
             [
              0.1111111111111111,
              "#46039f"
             ],
             [
              0.2222222222222222,
              "#7201a8"
             ],
             [
              0.3333333333333333,
              "#9c179e"
             ],
             [
              0.4444444444444444,
              "#bd3786"
             ],
             [
              0.5555555555555556,
              "#d8576b"
             ],
             [
              0.6666666666666666,
              "#ed7953"
             ],
             [
              0.7777777777777778,
              "#fb9f3a"
             ],
             [
              0.8888888888888888,
              "#fdca26"
             ],
             [
              1,
              "#f0f921"
             ]
            ],
            "type": "histogram2d"
           }
          ],
          "histogram2dcontour": [
           {
            "colorbar": {
             "outlinewidth": 0,
             "ticks": ""
            },
            "colorscale": [
             [
              0,
              "#0d0887"
             ],
             [
              0.1111111111111111,
              "#46039f"
             ],
             [
              0.2222222222222222,
              "#7201a8"
             ],
             [
              0.3333333333333333,
              "#9c179e"
             ],
             [
              0.4444444444444444,
              "#bd3786"
             ],
             [
              0.5555555555555556,
              "#d8576b"
             ],
             [
              0.6666666666666666,
              "#ed7953"
             ],
             [
              0.7777777777777778,
              "#fb9f3a"
             ],
             [
              0.8888888888888888,
              "#fdca26"
             ],
             [
              1,
              "#f0f921"
             ]
            ],
            "type": "histogram2dcontour"
           }
          ],
          "mesh3d": [
           {
            "colorbar": {
             "outlinewidth": 0,
             "ticks": ""
            },
            "type": "mesh3d"
           }
          ],
          "parcoords": [
           {
            "line": {
             "colorbar": {
              "outlinewidth": 0,
              "ticks": ""
             }
            },
            "type": "parcoords"
           }
          ],
          "pie": [
           {
            "automargin": true,
            "type": "pie"
           }
          ],
          "scatter": [
           {
            "fillpattern": {
             "fillmode": "overlay",
             "size": 10,
             "solidity": 0.2
            },
            "type": "scatter"
           }
          ],
          "scatter3d": [
           {
            "line": {
             "colorbar": {
              "outlinewidth": 0,
              "ticks": ""
             }
            },
            "marker": {
             "colorbar": {
              "outlinewidth": 0,
              "ticks": ""
             }
            },
            "type": "scatter3d"
           }
          ],
          "scattercarpet": [
           {
            "marker": {
             "colorbar": {
              "outlinewidth": 0,
              "ticks": ""
             }
            },
            "type": "scattercarpet"
           }
          ],
          "scattergeo": [
           {
            "marker": {
             "colorbar": {
              "outlinewidth": 0,
              "ticks": ""
             }
            },
            "type": "scattergeo"
           }
          ],
          "scattergl": [
           {
            "marker": {
             "colorbar": {
              "outlinewidth": 0,
              "ticks": ""
             }
            },
            "type": "scattergl"
           }
          ],
          "scattermapbox": [
           {
            "marker": {
             "colorbar": {
              "outlinewidth": 0,
              "ticks": ""
             }
            },
            "type": "scattermapbox"
           }
          ],
          "scatterpolar": [
           {
            "marker": {
             "colorbar": {
              "outlinewidth": 0,
              "ticks": ""
             }
            },
            "type": "scatterpolar"
           }
          ],
          "scatterpolargl": [
           {
            "marker": {
             "colorbar": {
              "outlinewidth": 0,
              "ticks": ""
             }
            },
            "type": "scatterpolargl"
           }
          ],
          "scatterternary": [
           {
            "marker": {
             "colorbar": {
              "outlinewidth": 0,
              "ticks": ""
             }
            },
            "type": "scatterternary"
           }
          ],
          "surface": [
           {
            "colorbar": {
             "outlinewidth": 0,
             "ticks": ""
            },
            "colorscale": [
             [
              0,
              "#0d0887"
             ],
             [
              0.1111111111111111,
              "#46039f"
             ],
             [
              0.2222222222222222,
              "#7201a8"
             ],
             [
              0.3333333333333333,
              "#9c179e"
             ],
             [
              0.4444444444444444,
              "#bd3786"
             ],
             [
              0.5555555555555556,
              "#d8576b"
             ],
             [
              0.6666666666666666,
              "#ed7953"
             ],
             [
              0.7777777777777778,
              "#fb9f3a"
             ],
             [
              0.8888888888888888,
              "#fdca26"
             ],
             [
              1,
              "#f0f921"
             ]
            ],
            "type": "surface"
           }
          ],
          "table": [
           {
            "cells": {
             "fill": {
              "color": "#EBF0F8"
             },
             "line": {
              "color": "white"
             }
            },
            "header": {
             "fill": {
              "color": "#C8D4E3"
             },
             "line": {
              "color": "white"
             }
            },
            "type": "table"
           }
          ]
         },
         "layout": {
          "annotationdefaults": {
           "arrowcolor": "#2a3f5f",
           "arrowhead": 0,
           "arrowwidth": 1
          },
          "autotypenumbers": "strict",
          "coloraxis": {
           "colorbar": {
            "outlinewidth": 0,
            "ticks": ""
           }
          },
          "colorscale": {
           "diverging": [
            [
             0,
             "#8e0152"
            ],
            [
             0.1,
             "#c51b7d"
            ],
            [
             0.2,
             "#de77ae"
            ],
            [
             0.3,
             "#f1b6da"
            ],
            [
             0.4,
             "#fde0ef"
            ],
            [
             0.5,
             "#f7f7f7"
            ],
            [
             0.6,
             "#e6f5d0"
            ],
            [
             0.7,
             "#b8e186"
            ],
            [
             0.8,
             "#7fbc41"
            ],
            [
             0.9,
             "#4d9221"
            ],
            [
             1,
             "#276419"
            ]
           ],
           "sequential": [
            [
             0,
             "#0d0887"
            ],
            [
             0.1111111111111111,
             "#46039f"
            ],
            [
             0.2222222222222222,
             "#7201a8"
            ],
            [
             0.3333333333333333,
             "#9c179e"
            ],
            [
             0.4444444444444444,
             "#bd3786"
            ],
            [
             0.5555555555555556,
             "#d8576b"
            ],
            [
             0.6666666666666666,
             "#ed7953"
            ],
            [
             0.7777777777777778,
             "#fb9f3a"
            ],
            [
             0.8888888888888888,
             "#fdca26"
            ],
            [
             1,
             "#f0f921"
            ]
           ],
           "sequentialminus": [
            [
             0,
             "#0d0887"
            ],
            [
             0.1111111111111111,
             "#46039f"
            ],
            [
             0.2222222222222222,
             "#7201a8"
            ],
            [
             0.3333333333333333,
             "#9c179e"
            ],
            [
             0.4444444444444444,
             "#bd3786"
            ],
            [
             0.5555555555555556,
             "#d8576b"
            ],
            [
             0.6666666666666666,
             "#ed7953"
            ],
            [
             0.7777777777777778,
             "#fb9f3a"
            ],
            [
             0.8888888888888888,
             "#fdca26"
            ],
            [
             1,
             "#f0f921"
            ]
           ]
          },
          "colorway": [
           "#636efa",
           "#EF553B",
           "#00cc96",
           "#ab63fa",
           "#FFA15A",
           "#19d3f3",
           "#FF6692",
           "#B6E880",
           "#FF97FF",
           "#FECB52"
          ],
          "font": {
           "color": "#2a3f5f"
          },
          "geo": {
           "bgcolor": "white",
           "lakecolor": "white",
           "landcolor": "#E5ECF6",
           "showlakes": true,
           "showland": true,
           "subunitcolor": "white"
          },
          "hoverlabel": {
           "align": "left"
          },
          "hovermode": "closest",
          "mapbox": {
           "style": "light"
          },
          "paper_bgcolor": "white",
          "plot_bgcolor": "#E5ECF6",
          "polar": {
           "angularaxis": {
            "gridcolor": "white",
            "linecolor": "white",
            "ticks": ""
           },
           "bgcolor": "#E5ECF6",
           "radialaxis": {
            "gridcolor": "white",
            "linecolor": "white",
            "ticks": ""
           }
          },
          "scene": {
           "xaxis": {
            "backgroundcolor": "#E5ECF6",
            "gridcolor": "white",
            "gridwidth": 2,
            "linecolor": "white",
            "showbackground": true,
            "ticks": "",
            "zerolinecolor": "white"
           },
           "yaxis": {
            "backgroundcolor": "#E5ECF6",
            "gridcolor": "white",
            "gridwidth": 2,
            "linecolor": "white",
            "showbackground": true,
            "ticks": "",
            "zerolinecolor": "white"
           },
           "zaxis": {
            "backgroundcolor": "#E5ECF6",
            "gridcolor": "white",
            "gridwidth": 2,
            "linecolor": "white",
            "showbackground": true,
            "ticks": "",
            "zerolinecolor": "white"
           }
          },
          "shapedefaults": {
           "line": {
            "color": "#2a3f5f"
           }
          },
          "ternary": {
           "aaxis": {
            "gridcolor": "white",
            "linecolor": "white",
            "ticks": ""
           },
           "baxis": {
            "gridcolor": "white",
            "linecolor": "white",
            "ticks": ""
           },
           "bgcolor": "#E5ECF6",
           "caxis": {
            "gridcolor": "white",
            "linecolor": "white",
            "ticks": ""
           }
          },
          "title": {
           "x": 0.05
          },
          "xaxis": {
           "automargin": true,
           "gridcolor": "white",
           "linecolor": "white",
           "ticks": "",
           "title": {
            "standoff": 15
           },
           "zerolinecolor": "white",
           "zerolinewidth": 2
          },
          "yaxis": {
           "automargin": true,
           "gridcolor": "white",
           "linecolor": "white",
           "ticks": "",
           "title": {
            "standoff": 15
           },
           "zerolinecolor": "white",
           "zerolinewidth": 2
          }
         }
        },
        "title": {
         "text": "Hyperparameter Importances"
        },
        "xaxis": {
         "title": {
          "text": "Hyperparameter Importance"
         }
        },
        "yaxis": {
         "title": {
          "text": "Hyperparameter"
         }
        }
       }
      }
     },
     "metadata": {},
     "output_type": "display_data"
    }
   ],
   "source": [
    "# Visualize the importance of each hyperparameter based on the Optuna study.\n",
    "# This plot helps to understand which hyperparameters most significantly impact the objective function.\n",
    "\n",
    "optuna.visualization.plot_param_importances(study)"
   ]
  },
  {
   "cell_type": "code",
   "execution_count": 40,
   "metadata": {},
   "outputs": [
    {
     "data": {
      "application/vnd.plotly.v1+json": {
       "config": {
        "plotlyServerURL": "https://plot.ly"
       },
       "data": [
        {
         "marker": {
          "color": [
           0,
           1,
           2,
           3,
           4,
           5,
           6,
           7,
           8,
           9,
           10,
           11,
           12,
           13,
           14,
           15,
           16,
           17,
           18,
           19,
           20,
           21,
           22,
           23,
           24,
           25,
           26,
           27,
           28,
           29,
           30,
           31,
           32,
           33,
           34,
           35,
           36,
           37,
           38,
           39,
           40,
           41,
           42,
           43,
           44,
           45,
           46,
           47,
           48,
           49,
           50,
           51,
           52,
           53,
           54,
           55,
           56,
           57,
           58,
           59,
           60,
           61,
           62,
           63,
           64,
           65,
           66,
           67,
           68,
           69,
           70,
           71,
           72,
           73,
           74,
           75,
           76,
           77,
           78,
           79,
           80,
           81,
           82,
           83,
           84,
           85,
           86,
           87,
           88,
           89,
           90,
           91,
           92,
           93,
           94,
           95,
           96,
           97,
           98,
           99,
           100,
           101,
           102,
           103,
           104,
           105,
           106,
           107,
           108,
           109,
           110,
           111,
           112,
           113,
           114,
           115,
           116,
           117,
           118,
           119,
           120,
           121,
           122,
           123,
           124,
           125,
           126,
           127,
           128,
           129,
           130,
           131,
           132,
           133,
           134,
           135,
           136,
           137,
           138,
           139,
           140,
           141,
           142,
           143,
           144,
           145,
           146,
           147,
           148,
           149,
           150,
           151,
           152,
           153,
           154,
           155,
           156,
           157,
           158,
           159,
           160,
           161,
           162,
           163,
           164,
           165,
           166,
           167,
           168,
           169,
           170,
           171,
           172,
           173,
           174,
           175,
           176,
           177,
           178,
           179,
           180,
           181,
           182,
           183,
           184,
           185,
           186,
           187,
           188,
           189,
           190,
           191,
           192,
           193,
           194,
           195,
           196,
           197,
           198,
           199
          ],
          "colorbar": {
           "title": {
            "text": "Trial"
           },
           "x": 1,
           "xpad": 40
          },
          "colorscale": [
           [
            0,
            "rgb(247,251,255)"
           ],
           [
            0.125,
            "rgb(222,235,247)"
           ],
           [
            0.25,
            "rgb(198,219,239)"
           ],
           [
            0.375,
            "rgb(158,202,225)"
           ],
           [
            0.5,
            "rgb(107,174,214)"
           ],
           [
            0.625,
            "rgb(66,146,198)"
           ],
           [
            0.75,
            "rgb(33,113,181)"
           ],
           [
            0.875,
            "rgb(8,81,156)"
           ],
           [
            1,
            "rgb(8,48,107)"
           ]
          ],
          "line": {
           "color": "Grey",
           "width": 0.5
          },
          "showscale": true
         },
         "mode": "markers",
         "name": "Feasible Trial",
         "showlegend": false,
         "type": "scatter",
         "x": [
          8,
          16,
          31,
          4,
          29,
          18,
          30,
          31,
          31,
          20,
          31,
          19,
          29,
          21,
          2,
          29,
          11,
          23,
          22,
          25,
          11,
          22,
          10,
          8,
          24,
          4,
          6,
          18,
          31,
          19,
          31,
          20,
          21,
          16,
          4,
          16,
          6,
          26,
          28,
          26,
          13,
          7,
          21,
          17,
          27,
          10,
          26,
          16,
          32,
          29,
          14,
          23,
          18,
          15,
          14,
          8,
          13,
          5,
          28,
          5,
          11,
          19,
          24,
          9,
          6,
          32,
          17,
          15,
          24,
          26,
          32,
          18,
          26,
          19,
          19,
          15,
          31,
          23,
          20,
          9,
          8,
          16,
          30,
          9,
          9,
          12,
          3,
          29,
          27,
          12,
          28,
          15,
          16,
          9,
          9,
          29,
          14,
          25,
          19,
          28,
          10,
          9,
          28,
          31,
          29,
          24,
          4,
          6,
          6,
          19,
          15,
          10,
          8,
          13,
          14,
          30,
          8,
          6,
          11,
          25,
          29,
          14,
          19,
          26,
          16,
          11,
          30,
          24,
          17,
          16,
          29,
          21,
          27,
          26,
          32,
          32,
          21,
          21,
          19,
          20,
          12,
          8,
          27,
          21,
          6,
          3,
          5,
          24,
          29,
          19,
          6,
          17,
          9,
          22,
          3,
          8,
          28,
          23,
          16,
          23,
          3,
          26,
          21,
          13,
          12,
          2,
          14,
          26,
          21,
          8,
          29,
          22,
          14,
          3,
          28,
          7,
          23,
          8,
          23,
          5,
          9,
          12,
          20,
          19,
          14,
          8,
          19,
          4,
          13,
          26,
          26,
          10,
          9,
          21,
          14,
          7,
          26,
          11,
          29,
          13
         ],
         "xaxis": "x",
         "y": [
          0.8272136314389836,
          0.8047079680882497,
          0.7977051117896188,
          0.8229981286319316,
          0.7990643159657244,
          0.8117305229981285,
          0.8272234807446075,
          0.7934797596769428,
          0.7990643159657244,
          0.8201713779178569,
          0.8032896680784004,
          0.8314192849404117,
          0.8032995173840243,
          0.8046981187826259,
          0.7836698512754852,
          0.8300108342361863,
          0.8145277257953314,
          0.8201812272234807,
          0.8089234708953018,
          0.81312912439673,
          0.7976952624839949,
          0.8159558751108047,
          0.817374175120654,
          0.7907022554909878,
          0.7990840145769724,
          0.8047079680882497,
          0.8075051708854526,
          0.8117305229981285,
          0.8032896680784004,
          0.8244065793361568,
          0.8159558751108047,
          0.8159361764995567,
          0.8215798286220822,
          0.8004727666699496,
          0.8004727666699496,
          0.81312912439673,
          0.7990643159657244,
          0.8272037821333595,
          0.8004727666699496,
          0.8004727666699496,
          0.8047079680882497,
          0.7990643159657244,
          0.8089234708953018,
          0.8201713779178569,
          0.8004727666699498,
          0.7990643159657244,
          0.8089234708953018,
          0.8145375751009553,
          0.8004826159755737,
          0.8258051807347583,
          0.794907908992416,
          0.8187727765192554,
          0.806106569486851,
          0.7906924061853638,
          0.8089333202009259,
          0.8300206835418104,
          0.8145277257953314,
          0.808913621589678,
          0.8201713779178569,
          0.8173544765094061,
          0.7990643159657244,
          0.7990643159657244,
          0.8075248694967005,
          0.8004826159755737,
          0.8075347188023245,
          0.8215798286220822,
          0.8201812272234807,
          0.8004727666699496,
          0.8201910765291048,
          0.7892938047867626,
          0.8033192159952722,
          0.8272136314389836,
          0.8018812173741751,
          0.7990938638825963,
          0.8215798286220822,
          0.8004727666699496,
          0.8046981187826259,
          0.8258150300403821,
          0.8004727666699496,
          0.8004727666699496,
          0.8201713779178569,
          0.7990643159657244,
          0.8229981286319316,
          0.7990643159657244,
          0.8004727666699496,
          0.81312912439673,
          0.7836797005811091,
          0.8089333202009257,
          0.7934699103713188,
          0.7990643159657244,
          0.8061262680980992,
          0.8258150300403821,
          0.8145375751009553,
          0.8229981286319316,
          0.8004727666699496,
          0.8328474342558849,
          0.7990840145769724,
          0.8243967300305328,
          0.8201910765291048,
          0.8004727666699496,
          0.8201812272234807,
          0.81312912439673,
          0.7920811582783414,
          0.8300206835418104,
          0.8103220722939033,
          0.7990840145769724,
          0.8145375751009553,
          0.8201713779178569,
          0.8145277257953314,
          0.8244065793361568,
          0.7990643159657244,
          0.828612232837585,
          0.8229981286319316,
          0.8004727666699496,
          0.8075248694967005,
          0.8300206835418102,
          0.8272234807446075,
          0.8159657244164287,
          0.7920811582783414,
          0.8061164187924751,
          0.7878853540825371,
          0.8145277257953314,
          0.8032896680784004,
          0.8145375751009555,
          0.8145375751009553,
          0.8201713779178569,
          0.8018910666797991,
          0.806106569486851,
          0.8159361764995567,
          0.8018812173741751,
          0.8046981187826259,
          0.8032896680784004,
          0.8244065793361568,
          0.8032896680784004,
          0.8047079680882497,
          0.8004727666699496,
          0.8047178173938738,
          0.8061262680980992,
          0.8004727666699496,
          0.8187530779080076,
          0.8061164187924751,
          0.8215995272333301,
          0.7990643159657244,
          0.8286023835319611,
          0.8272136314389836,
          0.8075051708854526,
          0.8004727666699496,
          0.8187826258248794,
          0.8187530779080076,
          0.8201812272234807,
          0.7990741652713484,
          0.8004727666699496,
          0.8244065793361569,
          0.8327981877277653,
          0.8032896680784004,
          0.8145277257953314,
          0.8314291342460356,
          0.8018910666797991,
          0.8145277257953314,
          0.8032995173840243,
          0.7962868117797696,
          0.8004727666699496,
          0.8145277257953314,
          0.8201910765291048,
          0.81312912439673,
          0.7850783019797104,
          0.8342066384319905,
          0.8089234708953018,
          0.8046981187826259,
          0.8103220722939033,
          0.8018812173741751,
          0.8342066384319906,
          0.8004826159755737,
          0.7963163596966414,
          0.8032896680784004,
          0.7990741652713484,
          0.8215798286220822,
          0.8004727666699496,
          0.832817886339013,
          0.8244065793361568,
          0.8117206736925047,
          0.832817886339013,
          0.8356446370530879,
          0.8314094356347879,
          0.8243967300305328,
          0.8272037821333595,
          0.801900915985423,
          0.8019304639022948,
          0.797665714567123,
          0.8032896680784004,
          0.7948685117699201,
          0.8033093666896484,
          0.8159558751108047,
          0.7990643159657244,
          0.8159361764995567,
          0.8103220722939033,
          0.81312912439673,
          0.8215798286220822,
          0.8215896779277061,
          0.8103220722939032
         ],
         "yaxis": "y"
        },
        {
         "marker": {
          "color": [
           0,
           1,
           2,
           3,
           4,
           5,
           6,
           7,
           8,
           9,
           10,
           11,
           12,
           13,
           14,
           15,
           16,
           17,
           18,
           19,
           20,
           21,
           22,
           23,
           24,
           25,
           26,
           27,
           28,
           29,
           30,
           31,
           32,
           33,
           34,
           35,
           36,
           37,
           38,
           39,
           40,
           41,
           42,
           43,
           44,
           45,
           46,
           47,
           48,
           49,
           50,
           51,
           52,
           53,
           54,
           55,
           56,
           57,
           58,
           59,
           60,
           61,
           62,
           63,
           64,
           65,
           66,
           67,
           68,
           69,
           70,
           71,
           72,
           73,
           74,
           75,
           76,
           77,
           78,
           79,
           80,
           81,
           82,
           83,
           84,
           85,
           86,
           87,
           88,
           89,
           90,
           91,
           92,
           93,
           94,
           95,
           96,
           97,
           98,
           99,
           100,
           101,
           102,
           103,
           104,
           105,
           106,
           107,
           108,
           109,
           110,
           111,
           112,
           113,
           114,
           115,
           116,
           117,
           118,
           119,
           120,
           121,
           122,
           123,
           124,
           125,
           126,
           127,
           128,
           129,
           130,
           131,
           132,
           133,
           134,
           135,
           136,
           137,
           138,
           139,
           140,
           141,
           142,
           143,
           144,
           145,
           146,
           147,
           148,
           149,
           150,
           151,
           152,
           153,
           154,
           155,
           156,
           157,
           158,
           159,
           160,
           161,
           162,
           163,
           164,
           165,
           166,
           167,
           168,
           169,
           170,
           171,
           172,
           173,
           174,
           175,
           176,
           177,
           178,
           179,
           180,
           181,
           182,
           183,
           184,
           185,
           186,
           187,
           188,
           189,
           190,
           191,
           192,
           193,
           194,
           195,
           196,
           197,
           198,
           199
          ],
          "colorbar": {
           "title": {
            "text": "Trial"
           },
           "x": 1,
           "xpad": 40
          },
          "colorscale": [
           [
            0,
            "rgb(247,251,255)"
           ],
           [
            0.125,
            "rgb(222,235,247)"
           ],
           [
            0.25,
            "rgb(198,219,239)"
           ],
           [
            0.375,
            "rgb(158,202,225)"
           ],
           [
            0.5,
            "rgb(107,174,214)"
           ],
           [
            0.625,
            "rgb(66,146,198)"
           ],
           [
            0.75,
            "rgb(33,113,181)"
           ],
           [
            0.875,
            "rgb(8,81,156)"
           ],
           [
            1,
            "rgb(8,48,107)"
           ]
          ],
          "line": {
           "color": "Grey",
           "width": 0.5
          },
          "showscale": false
         },
         "mode": "markers",
         "name": "Feasible Trial",
         "showlegend": false,
         "type": "scatter",
         "x": [
          5,
          20,
          22,
          3,
          28,
          18,
          2,
          30,
          29,
          11,
          25,
          5,
          23,
          23,
          29,
          5,
          15,
          7,
          19,
          15,
          26,
          12,
          10,
          31,
          21,
          20,
          18,
          16,
          24,
          6,
          12,
          14,
          10,
          32,
          27,
          16,
          27,
          6,
          29,
          31,
          20,
          28,
          17,
          11,
          25,
          27,
          18,
          14,
          21,
          6,
          27,
          11,
          19,
          32,
          18,
          6,
          15,
          17,
          11,
          12,
          28,
          26,
          17,
          22,
          20,
          9,
          7,
          26,
          8,
          31,
          23,
          3,
          25,
          21,
          9,
          32,
          23,
          3,
          32,
          32,
          11,
          27,
          8,
          28,
          31,
          16,
          32,
          19,
          28,
          26,
          20,
          4,
          14,
          7,
          26,
          1,
          21,
          4,
          7,
          30,
          9,
          16,
          32,
          2,
          18,
          21,
          10,
          8,
          17,
          6,
          26,
          3,
          9,
          30,
          17,
          5,
          4,
          11,
          31,
          20,
          30,
          14,
          24,
          13,
          14,
          11,
          21,
          19,
          14,
          26,
          22,
          24,
          7,
          25,
          20,
          25,
          19,
          20,
          31,
          13,
          19,
          7,
          26,
          1,
          6,
          14,
          30,
          9,
          13,
          9,
          31,
          26,
          7,
          2,
          18,
          13,
          4,
          22,
          15,
          23,
          18,
          31,
          16,
          8,
          13,
          14,
          1,
          19,
          22,
          18,
          25,
          2,
          22,
          22,
          23,
          32,
          10,
          31,
          1,
          2,
          16,
          4,
          2,
          1,
          1,
          6,
          23,
          23,
          26,
          22,
          26,
          21,
          12,
          27,
          14,
          18,
          15,
          9,
          8,
          19
         ],
         "xaxis": "x2",
         "y": [
          0.8272136314389836,
          0.8047079680882497,
          0.7977051117896188,
          0.8229981286319316,
          0.7990643159657244,
          0.8117305229981285,
          0.8272234807446075,
          0.7934797596769428,
          0.7990643159657244,
          0.8201713779178569,
          0.8032896680784004,
          0.8314192849404117,
          0.8032995173840243,
          0.8046981187826259,
          0.7836698512754852,
          0.8300108342361863,
          0.8145277257953314,
          0.8201812272234807,
          0.8089234708953018,
          0.81312912439673,
          0.7976952624839949,
          0.8159558751108047,
          0.817374175120654,
          0.7907022554909878,
          0.7990840145769724,
          0.8047079680882497,
          0.8075051708854526,
          0.8117305229981285,
          0.8032896680784004,
          0.8244065793361568,
          0.8159558751108047,
          0.8159361764995567,
          0.8215798286220822,
          0.8004727666699496,
          0.8004727666699496,
          0.81312912439673,
          0.7990643159657244,
          0.8272037821333595,
          0.8004727666699496,
          0.8004727666699496,
          0.8047079680882497,
          0.7990643159657244,
          0.8089234708953018,
          0.8201713779178569,
          0.8004727666699498,
          0.7990643159657244,
          0.8089234708953018,
          0.8145375751009553,
          0.8004826159755737,
          0.8258051807347583,
          0.794907908992416,
          0.8187727765192554,
          0.806106569486851,
          0.7906924061853638,
          0.8089333202009259,
          0.8300206835418104,
          0.8145277257953314,
          0.808913621589678,
          0.8201713779178569,
          0.8173544765094061,
          0.7990643159657244,
          0.7990643159657244,
          0.8075248694967005,
          0.8004826159755737,
          0.8075347188023245,
          0.8215798286220822,
          0.8201812272234807,
          0.8004727666699496,
          0.8201910765291048,
          0.7892938047867626,
          0.8033192159952722,
          0.8272136314389836,
          0.8018812173741751,
          0.7990938638825963,
          0.8215798286220822,
          0.8004727666699496,
          0.8046981187826259,
          0.8258150300403821,
          0.8004727666699496,
          0.8004727666699496,
          0.8201713779178569,
          0.7990643159657244,
          0.8229981286319316,
          0.7990643159657244,
          0.8004727666699496,
          0.81312912439673,
          0.7836797005811091,
          0.8089333202009257,
          0.7934699103713188,
          0.7990643159657244,
          0.8061262680980992,
          0.8258150300403821,
          0.8145375751009553,
          0.8229981286319316,
          0.8004727666699496,
          0.8328474342558849,
          0.7990840145769724,
          0.8243967300305328,
          0.8201910765291048,
          0.8004727666699496,
          0.8201812272234807,
          0.81312912439673,
          0.7920811582783414,
          0.8300206835418104,
          0.8103220722939033,
          0.7990840145769724,
          0.8145375751009553,
          0.8201713779178569,
          0.8145277257953314,
          0.8244065793361568,
          0.7990643159657244,
          0.828612232837585,
          0.8229981286319316,
          0.8004727666699496,
          0.8075248694967005,
          0.8300206835418102,
          0.8272234807446075,
          0.8159657244164287,
          0.7920811582783414,
          0.8061164187924751,
          0.7878853540825371,
          0.8145277257953314,
          0.8032896680784004,
          0.8145375751009555,
          0.8145375751009553,
          0.8201713779178569,
          0.8018910666797991,
          0.806106569486851,
          0.8159361764995567,
          0.8018812173741751,
          0.8046981187826259,
          0.8032896680784004,
          0.8244065793361568,
          0.8032896680784004,
          0.8047079680882497,
          0.8004727666699496,
          0.8047178173938738,
          0.8061262680980992,
          0.8004727666699496,
          0.8187530779080076,
          0.8061164187924751,
          0.8215995272333301,
          0.7990643159657244,
          0.8286023835319611,
          0.8272136314389836,
          0.8075051708854526,
          0.8004727666699496,
          0.8187826258248794,
          0.8187530779080076,
          0.8201812272234807,
          0.7990741652713484,
          0.8004727666699496,
          0.8244065793361569,
          0.8327981877277653,
          0.8032896680784004,
          0.8145277257953314,
          0.8314291342460356,
          0.8018910666797991,
          0.8145277257953314,
          0.8032995173840243,
          0.7962868117797696,
          0.8004727666699496,
          0.8145277257953314,
          0.8201910765291048,
          0.81312912439673,
          0.7850783019797104,
          0.8342066384319905,
          0.8089234708953018,
          0.8046981187826259,
          0.8103220722939033,
          0.8018812173741751,
          0.8342066384319906,
          0.8004826159755737,
          0.7963163596966414,
          0.8032896680784004,
          0.7990741652713484,
          0.8215798286220822,
          0.8004727666699496,
          0.832817886339013,
          0.8244065793361568,
          0.8117206736925047,
          0.832817886339013,
          0.8356446370530879,
          0.8314094356347879,
          0.8243967300305328,
          0.8272037821333595,
          0.801900915985423,
          0.8019304639022948,
          0.797665714567123,
          0.8032896680784004,
          0.7948685117699201,
          0.8033093666896484,
          0.8159558751108047,
          0.7990643159657244,
          0.8159361764995567,
          0.8103220722939033,
          0.81312912439673,
          0.8215798286220822,
          0.8215896779277061,
          0.8103220722939032
         ],
         "yaxis": "y2"
        },
        {
         "marker": {
          "color": [
           0,
           1,
           2,
           3,
           4,
           5,
           6,
           7,
           8,
           9,
           10,
           11,
           12,
           13,
           14,
           15,
           16,
           17,
           18,
           19,
           20,
           21,
           22,
           23,
           24,
           25,
           26,
           27,
           28,
           29,
           30,
           31,
           32,
           33,
           34,
           35,
           36,
           37,
           38,
           39,
           40,
           41,
           42,
           43,
           44,
           45,
           46,
           47,
           48,
           49,
           50,
           51,
           52,
           53,
           54,
           55,
           56,
           57,
           58,
           59,
           60,
           61,
           62,
           63,
           64,
           65,
           66,
           67,
           68,
           69,
           70,
           71,
           72,
           73,
           74,
           75,
           76,
           77,
           78,
           79,
           80,
           81,
           82,
           83,
           84,
           85,
           86,
           87,
           88,
           89,
           90,
           91,
           92,
           93,
           94,
           95,
           96,
           97,
           98,
           99,
           100,
           101,
           102,
           103,
           104,
           105,
           106,
           107,
           108,
           109,
           110,
           111,
           112,
           113,
           114,
           115,
           116,
           117,
           118,
           119,
           120,
           121,
           122,
           123,
           124,
           125,
           126,
           127,
           128,
           129,
           130,
           131,
           132,
           133,
           134,
           135,
           136,
           137,
           138,
           139,
           140,
           141,
           142,
           143,
           144,
           145,
           146,
           147,
           148,
           149,
           150,
           151,
           152,
           153,
           154,
           155,
           156,
           157,
           158,
           159,
           160,
           161,
           162,
           163,
           164,
           165,
           166,
           167,
           168,
           169,
           170,
           171,
           172,
           173,
           174,
           175,
           176,
           177,
           178,
           179,
           180,
           181,
           182,
           183,
           184,
           185,
           186,
           187,
           188,
           189,
           190,
           191,
           192,
           193,
           194,
           195,
           196,
           197,
           198,
           199
          ],
          "colorbar": {
           "title": {
            "text": "Trial"
           },
           "x": 1,
           "xpad": 40
          },
          "colorscale": [
           [
            0,
            "rgb(247,251,255)"
           ],
           [
            0.125,
            "rgb(222,235,247)"
           ],
           [
            0.25,
            "rgb(198,219,239)"
           ],
           [
            0.375,
            "rgb(158,202,225)"
           ],
           [
            0.5,
            "rgb(107,174,214)"
           ],
           [
            0.625,
            "rgb(66,146,198)"
           ],
           [
            0.75,
            "rgb(33,113,181)"
           ],
           [
            0.875,
            "rgb(8,81,156)"
           ],
           [
            1,
            "rgb(8,48,107)"
           ]
          ],
          "line": {
           "color": "Grey",
           "width": 0.5
          },
          "showscale": false
         },
         "mode": "markers",
         "name": "Feasible Trial",
         "showlegend": false,
         "type": "scatter",
         "x": [
          23,
          19,
          5,
          13,
          21,
          28,
          31,
          21,
          11,
          23,
          11,
          13,
          4,
          10,
          14,
          5,
          24,
          6,
          11,
          32,
          12,
          12,
          22,
          8,
          29,
          7,
          3,
          13,
          10,
          29,
          24,
          8,
          27,
          18,
          21,
          32,
          15,
          30,
          25,
          11,
          29,
          14,
          24,
          3,
          32,
          2,
          27,
          17,
          3,
          32,
          28,
          22,
          9,
          15,
          8,
          12,
          3,
          23,
          20,
          29,
          24,
          4,
          22,
          13,
          26,
          31,
          2,
          10,
          16,
          31,
          26,
          28,
          23,
          5,
          29,
          2,
          13,
          24,
          15,
          11,
          7,
          12,
          21,
          25,
          13,
          22,
          17,
          20,
          23,
          22,
          20,
          11,
          8,
          28,
          31,
          31,
          3,
          23,
          18,
          5,
          3,
          13,
          10,
          6,
          6,
          26,
          27,
          31,
          15,
          25,
          25,
          11,
          23,
          10,
          30,
          6,
          24,
          21,
          28,
          23,
          22,
          12,
          7,
          31,
          3,
          9,
          15,
          2,
          12,
          14,
          6,
          14,
          22,
          22,
          12,
          15,
          21,
          32,
          7,
          5,
          3,
          26,
          3,
          20,
          15,
          27,
          23,
          14,
          7,
          22,
          23,
          11,
          14,
          5,
          24,
          32,
          11,
          16,
          23,
          14,
          2,
          30,
          24,
          25,
          22,
          29,
          15,
          15,
          32,
          7,
          4,
          10,
          11,
          14,
          22,
          3,
          32,
          5,
          15,
          31,
          12,
          6,
          6,
          15,
          17,
          30,
          28,
          8,
          16,
          4,
          14,
          32,
          8,
          22,
          22,
          19,
          27,
          32,
          26,
          24
         ],
         "xaxis": "x3",
         "y": [
          0.8272136314389836,
          0.8047079680882497,
          0.7977051117896188,
          0.8229981286319316,
          0.7990643159657244,
          0.8117305229981285,
          0.8272234807446075,
          0.7934797596769428,
          0.7990643159657244,
          0.8201713779178569,
          0.8032896680784004,
          0.8314192849404117,
          0.8032995173840243,
          0.8046981187826259,
          0.7836698512754852,
          0.8300108342361863,
          0.8145277257953314,
          0.8201812272234807,
          0.8089234708953018,
          0.81312912439673,
          0.7976952624839949,
          0.8159558751108047,
          0.817374175120654,
          0.7907022554909878,
          0.7990840145769724,
          0.8047079680882497,
          0.8075051708854526,
          0.8117305229981285,
          0.8032896680784004,
          0.8244065793361568,
          0.8159558751108047,
          0.8159361764995567,
          0.8215798286220822,
          0.8004727666699496,
          0.8004727666699496,
          0.81312912439673,
          0.7990643159657244,
          0.8272037821333595,
          0.8004727666699496,
          0.8004727666699496,
          0.8047079680882497,
          0.7990643159657244,
          0.8089234708953018,
          0.8201713779178569,
          0.8004727666699498,
          0.7990643159657244,
          0.8089234708953018,
          0.8145375751009553,
          0.8004826159755737,
          0.8258051807347583,
          0.794907908992416,
          0.8187727765192554,
          0.806106569486851,
          0.7906924061853638,
          0.8089333202009259,
          0.8300206835418104,
          0.8145277257953314,
          0.808913621589678,
          0.8201713779178569,
          0.8173544765094061,
          0.7990643159657244,
          0.7990643159657244,
          0.8075248694967005,
          0.8004826159755737,
          0.8075347188023245,
          0.8215798286220822,
          0.8201812272234807,
          0.8004727666699496,
          0.8201910765291048,
          0.7892938047867626,
          0.8033192159952722,
          0.8272136314389836,
          0.8018812173741751,
          0.7990938638825963,
          0.8215798286220822,
          0.8004727666699496,
          0.8046981187826259,
          0.8258150300403821,
          0.8004727666699496,
          0.8004727666699496,
          0.8201713779178569,
          0.7990643159657244,
          0.8229981286319316,
          0.7990643159657244,
          0.8004727666699496,
          0.81312912439673,
          0.7836797005811091,
          0.8089333202009257,
          0.7934699103713188,
          0.7990643159657244,
          0.8061262680980992,
          0.8258150300403821,
          0.8145375751009553,
          0.8229981286319316,
          0.8004727666699496,
          0.8328474342558849,
          0.7990840145769724,
          0.8243967300305328,
          0.8201910765291048,
          0.8004727666699496,
          0.8201812272234807,
          0.81312912439673,
          0.7920811582783414,
          0.8300206835418104,
          0.8103220722939033,
          0.7990840145769724,
          0.8145375751009553,
          0.8201713779178569,
          0.8145277257953314,
          0.8244065793361568,
          0.7990643159657244,
          0.828612232837585,
          0.8229981286319316,
          0.8004727666699496,
          0.8075248694967005,
          0.8300206835418102,
          0.8272234807446075,
          0.8159657244164287,
          0.7920811582783414,
          0.8061164187924751,
          0.7878853540825371,
          0.8145277257953314,
          0.8032896680784004,
          0.8145375751009555,
          0.8145375751009553,
          0.8201713779178569,
          0.8018910666797991,
          0.806106569486851,
          0.8159361764995567,
          0.8018812173741751,
          0.8046981187826259,
          0.8032896680784004,
          0.8244065793361568,
          0.8032896680784004,
          0.8047079680882497,
          0.8004727666699496,
          0.8047178173938738,
          0.8061262680980992,
          0.8004727666699496,
          0.8187530779080076,
          0.8061164187924751,
          0.8215995272333301,
          0.7990643159657244,
          0.8286023835319611,
          0.8272136314389836,
          0.8075051708854526,
          0.8004727666699496,
          0.8187826258248794,
          0.8187530779080076,
          0.8201812272234807,
          0.7990741652713484,
          0.8004727666699496,
          0.8244065793361569,
          0.8327981877277653,
          0.8032896680784004,
          0.8145277257953314,
          0.8314291342460356,
          0.8018910666797991,
          0.8145277257953314,
          0.8032995173840243,
          0.7962868117797696,
          0.8004727666699496,
          0.8145277257953314,
          0.8201910765291048,
          0.81312912439673,
          0.7850783019797104,
          0.8342066384319905,
          0.8089234708953018,
          0.8046981187826259,
          0.8103220722939033,
          0.8018812173741751,
          0.8342066384319906,
          0.8004826159755737,
          0.7963163596966414,
          0.8032896680784004,
          0.7990741652713484,
          0.8215798286220822,
          0.8004727666699496,
          0.832817886339013,
          0.8244065793361568,
          0.8117206736925047,
          0.832817886339013,
          0.8356446370530879,
          0.8314094356347879,
          0.8243967300305328,
          0.8272037821333595,
          0.801900915985423,
          0.8019304639022948,
          0.797665714567123,
          0.8032896680784004,
          0.7948685117699201,
          0.8033093666896484,
          0.8159558751108047,
          0.7990643159657244,
          0.8159361764995567,
          0.8103220722939033,
          0.81312912439673,
          0.8215798286220822,
          0.8215896779277061,
          0.8103220722939032
         ],
         "yaxis": "y3"
        },
        {
         "marker": {
          "color": [
           0,
           1,
           2,
           3,
           4,
           5,
           6,
           7,
           8,
           9,
           10,
           11,
           12,
           13,
           14,
           15,
           16,
           17,
           18,
           19,
           20,
           21,
           22,
           23,
           24,
           25,
           26,
           27,
           28,
           29,
           30,
           31,
           32,
           33,
           34,
           35,
           36,
           37,
           38,
           39,
           40,
           41,
           42,
           43,
           44,
           45,
           46,
           47,
           48,
           49,
           50,
           51,
           52,
           53,
           54,
           55,
           56,
           57,
           58,
           59,
           60,
           61,
           62,
           63,
           64,
           65,
           66,
           67,
           68,
           69,
           70,
           71,
           72,
           73,
           74,
           75,
           76,
           77,
           78,
           79,
           80,
           81,
           82,
           83,
           84,
           85,
           86,
           87,
           88,
           89,
           90,
           91,
           92,
           93,
           94,
           95,
           96,
           97,
           98,
           99,
           100,
           101,
           102,
           103,
           104,
           105,
           106,
           107,
           108,
           109,
           110,
           111,
           112,
           113,
           114,
           115,
           116,
           117,
           118,
           119,
           120,
           121,
           122,
           123,
           124,
           125,
           126,
           127,
           128,
           129,
           130,
           131,
           132,
           133,
           134,
           135,
           136,
           137,
           138,
           139,
           140,
           141,
           142,
           143,
           144,
           145,
           146,
           147,
           148,
           149,
           150,
           151,
           152,
           153,
           154,
           155,
           156,
           157,
           158,
           159,
           160,
           161,
           162,
           163,
           164,
           165,
           166,
           167,
           168,
           169,
           170,
           171,
           172,
           173,
           174,
           175,
           176,
           177,
           178,
           179,
           180,
           181,
           182,
           183,
           184,
           185,
           186,
           187,
           188,
           189,
           190,
           191,
           192,
           193,
           194,
           195,
           196,
           197,
           198,
           199
          ],
          "colorbar": {
           "title": {
            "text": "Trial"
           },
           "x": 1,
           "xpad": 40
          },
          "colorscale": [
           [
            0,
            "rgb(247,251,255)"
           ],
           [
            0.125,
            "rgb(222,235,247)"
           ],
           [
            0.25,
            "rgb(198,219,239)"
           ],
           [
            0.375,
            "rgb(158,202,225)"
           ],
           [
            0.5,
            "rgb(107,174,214)"
           ],
           [
            0.625,
            "rgb(66,146,198)"
           ],
           [
            0.75,
            "rgb(33,113,181)"
           ],
           [
            0.875,
            "rgb(8,81,156)"
           ],
           [
            1,
            "rgb(8,48,107)"
           ]
          ],
          "line": {
           "color": "Grey",
           "width": 0.5
          },
          "showscale": false
         },
         "mode": "markers",
         "name": "Feasible Trial",
         "showlegend": false,
         "type": "scatter",
         "x": [
          508,
          624,
          172,
          491,
          455,
          440,
          189,
          266,
          418,
          515,
          240,
          402,
          348,
          693,
          518,
          441,
          501,
          552,
          124,
          476,
          188,
          361,
          221,
          138,
          458,
          474,
          636,
          483,
          565,
          519,
          620,
          420,
          371,
          491,
          521,
          261,
          599,
          368,
          524,
          667,
          646,
          363,
          337,
          372,
          367,
          614,
          447,
          243,
          578,
          381,
          153,
          450,
          664,
          104,
          304,
          329,
          506,
          568,
          460,
          346,
          604,
          526,
          153,
          368,
          191,
          526,
          590,
          445,
          472,
          139,
          110,
          419,
          629,
          277,
          384,
          614,
          602,
          468,
          434,
          433,
          476,
          554,
          441,
          590,
          588,
          374,
          215,
          129,
          206,
          391,
          248,
          358,
          279,
          622,
          475,
          580,
          414,
          608,
          480,
          524,
          633,
          548,
          256,
          265,
          455,
          296,
          496,
          354,
          108,
          409,
          514,
          127,
          127,
          530,
          179,
          213,
          382,
          246,
          235,
          370,
          124,
          335,
          294,
          148,
          693,
          552,
          574,
          664,
          488,
          352,
          308,
          283,
          175,
          347,
          651,
          511,
          220,
          240,
          351,
          467,
          233,
          349,
          382,
          642,
          355,
          389,
          669,
          286,
          593,
          604,
          296,
          680,
          232,
          607,
          503,
          202,
          207,
          312,
          294,
          300,
          204,
          670,
          521,
          198,
          176,
          468,
          550,
          185,
          333,
          489,
          633,
          119,
          375,
          195,
          521,
          305,
          693,
          662,
          500,
          418,
          185,
          700,
          130,
          111,
          370,
          330,
          284,
          191,
          215,
          325,
          207,
          345,
          602,
          611,
          521,
          478,
          387,
          444,
          154,
          110
         ],
         "xaxis": "x4",
         "y": [
          0.8272136314389836,
          0.8047079680882497,
          0.7977051117896188,
          0.8229981286319316,
          0.7990643159657244,
          0.8117305229981285,
          0.8272234807446075,
          0.7934797596769428,
          0.7990643159657244,
          0.8201713779178569,
          0.8032896680784004,
          0.8314192849404117,
          0.8032995173840243,
          0.8046981187826259,
          0.7836698512754852,
          0.8300108342361863,
          0.8145277257953314,
          0.8201812272234807,
          0.8089234708953018,
          0.81312912439673,
          0.7976952624839949,
          0.8159558751108047,
          0.817374175120654,
          0.7907022554909878,
          0.7990840145769724,
          0.8047079680882497,
          0.8075051708854526,
          0.8117305229981285,
          0.8032896680784004,
          0.8244065793361568,
          0.8159558751108047,
          0.8159361764995567,
          0.8215798286220822,
          0.8004727666699496,
          0.8004727666699496,
          0.81312912439673,
          0.7990643159657244,
          0.8272037821333595,
          0.8004727666699496,
          0.8004727666699496,
          0.8047079680882497,
          0.7990643159657244,
          0.8089234708953018,
          0.8201713779178569,
          0.8004727666699498,
          0.7990643159657244,
          0.8089234708953018,
          0.8145375751009553,
          0.8004826159755737,
          0.8258051807347583,
          0.794907908992416,
          0.8187727765192554,
          0.806106569486851,
          0.7906924061853638,
          0.8089333202009259,
          0.8300206835418104,
          0.8145277257953314,
          0.808913621589678,
          0.8201713779178569,
          0.8173544765094061,
          0.7990643159657244,
          0.7990643159657244,
          0.8075248694967005,
          0.8004826159755737,
          0.8075347188023245,
          0.8215798286220822,
          0.8201812272234807,
          0.8004727666699496,
          0.8201910765291048,
          0.7892938047867626,
          0.8033192159952722,
          0.8272136314389836,
          0.8018812173741751,
          0.7990938638825963,
          0.8215798286220822,
          0.8004727666699496,
          0.8046981187826259,
          0.8258150300403821,
          0.8004727666699496,
          0.8004727666699496,
          0.8201713779178569,
          0.7990643159657244,
          0.8229981286319316,
          0.7990643159657244,
          0.8004727666699496,
          0.81312912439673,
          0.7836797005811091,
          0.8089333202009257,
          0.7934699103713188,
          0.7990643159657244,
          0.8061262680980992,
          0.8258150300403821,
          0.8145375751009553,
          0.8229981286319316,
          0.8004727666699496,
          0.8328474342558849,
          0.7990840145769724,
          0.8243967300305328,
          0.8201910765291048,
          0.8004727666699496,
          0.8201812272234807,
          0.81312912439673,
          0.7920811582783414,
          0.8300206835418104,
          0.8103220722939033,
          0.7990840145769724,
          0.8145375751009553,
          0.8201713779178569,
          0.8145277257953314,
          0.8244065793361568,
          0.7990643159657244,
          0.828612232837585,
          0.8229981286319316,
          0.8004727666699496,
          0.8075248694967005,
          0.8300206835418102,
          0.8272234807446075,
          0.8159657244164287,
          0.7920811582783414,
          0.8061164187924751,
          0.7878853540825371,
          0.8145277257953314,
          0.8032896680784004,
          0.8145375751009555,
          0.8145375751009553,
          0.8201713779178569,
          0.8018910666797991,
          0.806106569486851,
          0.8159361764995567,
          0.8018812173741751,
          0.8046981187826259,
          0.8032896680784004,
          0.8244065793361568,
          0.8032896680784004,
          0.8047079680882497,
          0.8004727666699496,
          0.8047178173938738,
          0.8061262680980992,
          0.8004727666699496,
          0.8187530779080076,
          0.8061164187924751,
          0.8215995272333301,
          0.7990643159657244,
          0.8286023835319611,
          0.8272136314389836,
          0.8075051708854526,
          0.8004727666699496,
          0.8187826258248794,
          0.8187530779080076,
          0.8201812272234807,
          0.7990741652713484,
          0.8004727666699496,
          0.8244065793361569,
          0.8327981877277653,
          0.8032896680784004,
          0.8145277257953314,
          0.8314291342460356,
          0.8018910666797991,
          0.8145277257953314,
          0.8032995173840243,
          0.7962868117797696,
          0.8004727666699496,
          0.8145277257953314,
          0.8201910765291048,
          0.81312912439673,
          0.7850783019797104,
          0.8342066384319905,
          0.8089234708953018,
          0.8046981187826259,
          0.8103220722939033,
          0.8018812173741751,
          0.8342066384319906,
          0.8004826159755737,
          0.7963163596966414,
          0.8032896680784004,
          0.7990741652713484,
          0.8215798286220822,
          0.8004727666699496,
          0.832817886339013,
          0.8244065793361568,
          0.8117206736925047,
          0.832817886339013,
          0.8356446370530879,
          0.8314094356347879,
          0.8243967300305328,
          0.8272037821333595,
          0.801900915985423,
          0.8019304639022948,
          0.797665714567123,
          0.8032896680784004,
          0.7948685117699201,
          0.8033093666896484,
          0.8159558751108047,
          0.7990643159657244,
          0.8159361764995567,
          0.8103220722939033,
          0.81312912439673,
          0.8215798286220822,
          0.8215896779277061,
          0.8103220722939032
         ],
         "yaxis": "y4"
        }
       ],
       "layout": {
        "template": {
         "data": {
          "bar": [
           {
            "error_x": {
             "color": "#2a3f5f"
            },
            "error_y": {
             "color": "#2a3f5f"
            },
            "marker": {
             "line": {
              "color": "#E5ECF6",
              "width": 0.5
             },
             "pattern": {
              "fillmode": "overlay",
              "size": 10,
              "solidity": 0.2
             }
            },
            "type": "bar"
           }
          ],
          "barpolar": [
           {
            "marker": {
             "line": {
              "color": "#E5ECF6",
              "width": 0.5
             },
             "pattern": {
              "fillmode": "overlay",
              "size": 10,
              "solidity": 0.2
             }
            },
            "type": "barpolar"
           }
          ],
          "carpet": [
           {
            "aaxis": {
             "endlinecolor": "#2a3f5f",
             "gridcolor": "white",
             "linecolor": "white",
             "minorgridcolor": "white",
             "startlinecolor": "#2a3f5f"
            },
            "baxis": {
             "endlinecolor": "#2a3f5f",
             "gridcolor": "white",
             "linecolor": "white",
             "minorgridcolor": "white",
             "startlinecolor": "#2a3f5f"
            },
            "type": "carpet"
           }
          ],
          "choropleth": [
           {
            "colorbar": {
             "outlinewidth": 0,
             "ticks": ""
            },
            "type": "choropleth"
           }
          ],
          "contour": [
           {
            "colorbar": {
             "outlinewidth": 0,
             "ticks": ""
            },
            "colorscale": [
             [
              0,
              "#0d0887"
             ],
             [
              0.1111111111111111,
              "#46039f"
             ],
             [
              0.2222222222222222,
              "#7201a8"
             ],
             [
              0.3333333333333333,
              "#9c179e"
             ],
             [
              0.4444444444444444,
              "#bd3786"
             ],
             [
              0.5555555555555556,
              "#d8576b"
             ],
             [
              0.6666666666666666,
              "#ed7953"
             ],
             [
              0.7777777777777778,
              "#fb9f3a"
             ],
             [
              0.8888888888888888,
              "#fdca26"
             ],
             [
              1,
              "#f0f921"
             ]
            ],
            "type": "contour"
           }
          ],
          "contourcarpet": [
           {
            "colorbar": {
             "outlinewidth": 0,
             "ticks": ""
            },
            "type": "contourcarpet"
           }
          ],
          "heatmap": [
           {
            "colorbar": {
             "outlinewidth": 0,
             "ticks": ""
            },
            "colorscale": [
             [
              0,
              "#0d0887"
             ],
             [
              0.1111111111111111,
              "#46039f"
             ],
             [
              0.2222222222222222,
              "#7201a8"
             ],
             [
              0.3333333333333333,
              "#9c179e"
             ],
             [
              0.4444444444444444,
              "#bd3786"
             ],
             [
              0.5555555555555556,
              "#d8576b"
             ],
             [
              0.6666666666666666,
              "#ed7953"
             ],
             [
              0.7777777777777778,
              "#fb9f3a"
             ],
             [
              0.8888888888888888,
              "#fdca26"
             ],
             [
              1,
              "#f0f921"
             ]
            ],
            "type": "heatmap"
           }
          ],
          "heatmapgl": [
           {
            "colorbar": {
             "outlinewidth": 0,
             "ticks": ""
            },
            "colorscale": [
             [
              0,
              "#0d0887"
             ],
             [
              0.1111111111111111,
              "#46039f"
             ],
             [
              0.2222222222222222,
              "#7201a8"
             ],
             [
              0.3333333333333333,
              "#9c179e"
             ],
             [
              0.4444444444444444,
              "#bd3786"
             ],
             [
              0.5555555555555556,
              "#d8576b"
             ],
             [
              0.6666666666666666,
              "#ed7953"
             ],
             [
              0.7777777777777778,
              "#fb9f3a"
             ],
             [
              0.8888888888888888,
              "#fdca26"
             ],
             [
              1,
              "#f0f921"
             ]
            ],
            "type": "heatmapgl"
           }
          ],
          "histogram": [
           {
            "marker": {
             "pattern": {
              "fillmode": "overlay",
              "size": 10,
              "solidity": 0.2
             }
            },
            "type": "histogram"
           }
          ],
          "histogram2d": [
           {
            "colorbar": {
             "outlinewidth": 0,
             "ticks": ""
            },
            "colorscale": [
             [
              0,
              "#0d0887"
             ],
             [
              0.1111111111111111,
              "#46039f"
             ],
             [
              0.2222222222222222,
              "#7201a8"
             ],
             [
              0.3333333333333333,
              "#9c179e"
             ],
             [
              0.4444444444444444,
              "#bd3786"
             ],
             [
              0.5555555555555556,
              "#d8576b"
             ],
             [
              0.6666666666666666,
              "#ed7953"
             ],
             [
              0.7777777777777778,
              "#fb9f3a"
             ],
             [
              0.8888888888888888,
              "#fdca26"
             ],
             [
              1,
              "#f0f921"
             ]
            ],
            "type": "histogram2d"
           }
          ],
          "histogram2dcontour": [
           {
            "colorbar": {
             "outlinewidth": 0,
             "ticks": ""
            },
            "colorscale": [
             [
              0,
              "#0d0887"
             ],
             [
              0.1111111111111111,
              "#46039f"
             ],
             [
              0.2222222222222222,
              "#7201a8"
             ],
             [
              0.3333333333333333,
              "#9c179e"
             ],
             [
              0.4444444444444444,
              "#bd3786"
             ],
             [
              0.5555555555555556,
              "#d8576b"
             ],
             [
              0.6666666666666666,
              "#ed7953"
             ],
             [
              0.7777777777777778,
              "#fb9f3a"
             ],
             [
              0.8888888888888888,
              "#fdca26"
             ],
             [
              1,
              "#f0f921"
             ]
            ],
            "type": "histogram2dcontour"
           }
          ],
          "mesh3d": [
           {
            "colorbar": {
             "outlinewidth": 0,
             "ticks": ""
            },
            "type": "mesh3d"
           }
          ],
          "parcoords": [
           {
            "line": {
             "colorbar": {
              "outlinewidth": 0,
              "ticks": ""
             }
            },
            "type": "parcoords"
           }
          ],
          "pie": [
           {
            "automargin": true,
            "type": "pie"
           }
          ],
          "scatter": [
           {
            "fillpattern": {
             "fillmode": "overlay",
             "size": 10,
             "solidity": 0.2
            },
            "type": "scatter"
           }
          ],
          "scatter3d": [
           {
            "line": {
             "colorbar": {
              "outlinewidth": 0,
              "ticks": ""
             }
            },
            "marker": {
             "colorbar": {
              "outlinewidth": 0,
              "ticks": ""
             }
            },
            "type": "scatter3d"
           }
          ],
          "scattercarpet": [
           {
            "marker": {
             "colorbar": {
              "outlinewidth": 0,
              "ticks": ""
             }
            },
            "type": "scattercarpet"
           }
          ],
          "scattergeo": [
           {
            "marker": {
             "colorbar": {
              "outlinewidth": 0,
              "ticks": ""
             }
            },
            "type": "scattergeo"
           }
          ],
          "scattergl": [
           {
            "marker": {
             "colorbar": {
              "outlinewidth": 0,
              "ticks": ""
             }
            },
            "type": "scattergl"
           }
          ],
          "scattermapbox": [
           {
            "marker": {
             "colorbar": {
              "outlinewidth": 0,
              "ticks": ""
             }
            },
            "type": "scattermapbox"
           }
          ],
          "scatterpolar": [
           {
            "marker": {
             "colorbar": {
              "outlinewidth": 0,
              "ticks": ""
             }
            },
            "type": "scatterpolar"
           }
          ],
          "scatterpolargl": [
           {
            "marker": {
             "colorbar": {
              "outlinewidth": 0,
              "ticks": ""
             }
            },
            "type": "scatterpolargl"
           }
          ],
          "scatterternary": [
           {
            "marker": {
             "colorbar": {
              "outlinewidth": 0,
              "ticks": ""
             }
            },
            "type": "scatterternary"
           }
          ],
          "surface": [
           {
            "colorbar": {
             "outlinewidth": 0,
             "ticks": ""
            },
            "colorscale": [
             [
              0,
              "#0d0887"
             ],
             [
              0.1111111111111111,
              "#46039f"
             ],
             [
              0.2222222222222222,
              "#7201a8"
             ],
             [
              0.3333333333333333,
              "#9c179e"
             ],
             [
              0.4444444444444444,
              "#bd3786"
             ],
             [
              0.5555555555555556,
              "#d8576b"
             ],
             [
              0.6666666666666666,
              "#ed7953"
             ],
             [
              0.7777777777777778,
              "#fb9f3a"
             ],
             [
              0.8888888888888888,
              "#fdca26"
             ],
             [
              1,
              "#f0f921"
             ]
            ],
            "type": "surface"
           }
          ],
          "table": [
           {
            "cells": {
             "fill": {
              "color": "#EBF0F8"
             },
             "line": {
              "color": "white"
             }
            },
            "header": {
             "fill": {
              "color": "#C8D4E3"
             },
             "line": {
              "color": "white"
             }
            },
            "type": "table"
           }
          ]
         },
         "layout": {
          "annotationdefaults": {
           "arrowcolor": "#2a3f5f",
           "arrowhead": 0,
           "arrowwidth": 1
          },
          "autotypenumbers": "strict",
          "coloraxis": {
           "colorbar": {
            "outlinewidth": 0,
            "ticks": ""
           }
          },
          "colorscale": {
           "diverging": [
            [
             0,
             "#8e0152"
            ],
            [
             0.1,
             "#c51b7d"
            ],
            [
             0.2,
             "#de77ae"
            ],
            [
             0.3,
             "#f1b6da"
            ],
            [
             0.4,
             "#fde0ef"
            ],
            [
             0.5,
             "#f7f7f7"
            ],
            [
             0.6,
             "#e6f5d0"
            ],
            [
             0.7,
             "#b8e186"
            ],
            [
             0.8,
             "#7fbc41"
            ],
            [
             0.9,
             "#4d9221"
            ],
            [
             1,
             "#276419"
            ]
           ],
           "sequential": [
            [
             0,
             "#0d0887"
            ],
            [
             0.1111111111111111,
             "#46039f"
            ],
            [
             0.2222222222222222,
             "#7201a8"
            ],
            [
             0.3333333333333333,
             "#9c179e"
            ],
            [
             0.4444444444444444,
             "#bd3786"
            ],
            [
             0.5555555555555556,
             "#d8576b"
            ],
            [
             0.6666666666666666,
             "#ed7953"
            ],
            [
             0.7777777777777778,
             "#fb9f3a"
            ],
            [
             0.8888888888888888,
             "#fdca26"
            ],
            [
             1,
             "#f0f921"
            ]
           ],
           "sequentialminus": [
            [
             0,
             "#0d0887"
            ],
            [
             0.1111111111111111,
             "#46039f"
            ],
            [
             0.2222222222222222,
             "#7201a8"
            ],
            [
             0.3333333333333333,
             "#9c179e"
            ],
            [
             0.4444444444444444,
             "#bd3786"
            ],
            [
             0.5555555555555556,
             "#d8576b"
            ],
            [
             0.6666666666666666,
             "#ed7953"
            ],
            [
             0.7777777777777778,
             "#fb9f3a"
            ],
            [
             0.8888888888888888,
             "#fdca26"
            ],
            [
             1,
             "#f0f921"
            ]
           ]
          },
          "colorway": [
           "#636efa",
           "#EF553B",
           "#00cc96",
           "#ab63fa",
           "#FFA15A",
           "#19d3f3",
           "#FF6692",
           "#B6E880",
           "#FF97FF",
           "#FECB52"
          ],
          "font": {
           "color": "#2a3f5f"
          },
          "geo": {
           "bgcolor": "white",
           "lakecolor": "white",
           "landcolor": "#E5ECF6",
           "showlakes": true,
           "showland": true,
           "subunitcolor": "white"
          },
          "hoverlabel": {
           "align": "left"
          },
          "hovermode": "closest",
          "mapbox": {
           "style": "light"
          },
          "paper_bgcolor": "white",
          "plot_bgcolor": "#E5ECF6",
          "polar": {
           "angularaxis": {
            "gridcolor": "white",
            "linecolor": "white",
            "ticks": ""
           },
           "bgcolor": "#E5ECF6",
           "radialaxis": {
            "gridcolor": "white",
            "linecolor": "white",
            "ticks": ""
           }
          },
          "scene": {
           "xaxis": {
            "backgroundcolor": "#E5ECF6",
            "gridcolor": "white",
            "gridwidth": 2,
            "linecolor": "white",
            "showbackground": true,
            "ticks": "",
            "zerolinecolor": "white"
           },
           "yaxis": {
            "backgroundcolor": "#E5ECF6",
            "gridcolor": "white",
            "gridwidth": 2,
            "linecolor": "white",
            "showbackground": true,
            "ticks": "",
            "zerolinecolor": "white"
           },
           "zaxis": {
            "backgroundcolor": "#E5ECF6",
            "gridcolor": "white",
            "gridwidth": 2,
            "linecolor": "white",
            "showbackground": true,
            "ticks": "",
            "zerolinecolor": "white"
           }
          },
          "shapedefaults": {
           "line": {
            "color": "#2a3f5f"
           }
          },
          "ternary": {
           "aaxis": {
            "gridcolor": "white",
            "linecolor": "white",
            "ticks": ""
           },
           "baxis": {
            "gridcolor": "white",
            "linecolor": "white",
            "ticks": ""
           },
           "bgcolor": "#E5ECF6",
           "caxis": {
            "gridcolor": "white",
            "linecolor": "white",
            "ticks": ""
           }
          },
          "title": {
           "x": 0.05
          },
          "xaxis": {
           "automargin": true,
           "gridcolor": "white",
           "linecolor": "white",
           "ticks": "",
           "title": {
            "standoff": 15
           },
           "zerolinecolor": "white",
           "zerolinewidth": 2
          },
          "yaxis": {
           "automargin": true,
           "gridcolor": "white",
           "linecolor": "white",
           "ticks": "",
           "title": {
            "standoff": 15
           },
           "zerolinecolor": "white",
           "zerolinewidth": 2
          }
         }
        },
        "title": {
         "text": "Slice Plot"
        },
        "width": 1200,
        "xaxis": {
         "anchor": "y",
         "domain": [
          0,
          0.2125
         ],
         "title": {
          "text": "max_depth"
         }
        },
        "xaxis2": {
         "anchor": "y2",
         "domain": [
          0.2625,
          0.475
         ],
         "title": {
          "text": "min_samples_leaf"
         }
        },
        "xaxis3": {
         "anchor": "y3",
         "domain": [
          0.525,
          0.7375
         ],
         "title": {
          "text": "min_samples_split"
         }
        },
        "xaxis4": {
         "anchor": "y4",
         "domain": [
          0.7875,
          1
         ],
         "title": {
          "text": "n_estimators"
         }
        },
        "yaxis": {
         "anchor": "x",
         "domain": [
          0,
          1
         ],
         "title": {
          "text": "Objective Value"
         }
        },
        "yaxis2": {
         "anchor": "x2",
         "domain": [
          0,
          1
         ],
         "matches": "y",
         "showticklabels": false
        },
        "yaxis3": {
         "anchor": "x3",
         "domain": [
          0,
          1
         ],
         "matches": "y",
         "showticklabels": false
        },
        "yaxis4": {
         "anchor": "x4",
         "domain": [
          0,
          1
         ],
         "matches": "y",
         "showticklabels": false
        }
       }
      }
     },
     "metadata": {},
     "output_type": "display_data"
    }
   ],
   "source": [
    "# Visualize the relationship between the specified hyperparameters and the objective function.\n",
    "# The plot shows how changes in hyperparameters (\"n_estimators\", \"max_depth\", \"min_samples_split\", \"min_samples_leaf\") affect the optimization outcome.\n",
    "\n",
    "optuna.visualization.plot_slice(study, params=[\"n_estimators\", \"max_depth\", \"min_samples_split\", \"min_samples_leaf\"])"
   ]
  },
  {
   "cell_type": "code",
   "execution_count": 41,
   "metadata": {},
   "outputs": [
    {
     "data": {
      "text/plain": [
       "{'n_estimators': 130,\n",
       " 'max_depth': 20,\n",
       " 'min_samples_split': 6,\n",
       " 'min_samples_leaf': 2}"
      ]
     },
     "execution_count": 41,
     "metadata": {},
     "output_type": "execute_result"
    }
   ],
   "source": [
    "# Retrieve the best hyperparameters found during the optimization process from the Optuna study.\n",
    "\n",
    "best_params = study.best_params\n",
    "\n",
    "best_params"
   ]
  },
  {
   "cell_type": "code",
   "execution_count": 42,
   "metadata": {},
   "outputs": [],
   "source": [
    "# Extract the best hyperparameter values from the Optuna study results.\n",
    "\n",
    "best_n_estimators = best_params[\"n_estimators\"]  # Optimal number of trees in the forest.\n",
    "best_max_depth = best_params[\"max_depth\"]        # Optimal maximum depth of the trees.\n",
    "best_min_samples_split = best_params[\"min_samples_split\"]  # Optimal minimum number of samples required to split an internal node.\n",
    "best_min_samples_leaf = best_params[\"min_samples_leaf\"]    # Optimal minimum number of samples required to be at a leaf node."
   ]
  },
  {
   "cell_type": "code",
   "execution_count": 102,
   "metadata": {},
   "outputs": [],
   "source": [
    "# Initialize the RandomForestClassifier with the best hyperparameters found from the Optuna study.\n",
    "# This model will use the optimal values for number of trees, maximum depth, minimum samples to split, and minimum samples at a leaf node.\n",
    "\n",
    "random_forest: RandomForestClassifier = RandomForestClassifier(\n",
    "    n_estimators=best_n_estimators,\n",
    "    max_depth=best_max_depth,\n",
    "    min_samples_split=best_min_samples_split,\n",
    "    min_samples_leaf=best_min_samples_leaf\n",
    ")"
   ]
  },
  {
   "cell_type": "code",
   "execution_count": 103,
   "metadata": {},
   "outputs": [
    {
     "data": {
      "text/html": [
       "<style>#sk-container-id-10 {\n",
       "  /* Definition of color scheme common for light and dark mode */\n",
       "  --sklearn-color-text: black;\n",
       "  --sklearn-color-line: gray;\n",
       "  /* Definition of color scheme for unfitted estimators */\n",
       "  --sklearn-color-unfitted-level-0: #fff5e6;\n",
       "  --sklearn-color-unfitted-level-1: #f6e4d2;\n",
       "  --sklearn-color-unfitted-level-2: #ffe0b3;\n",
       "  --sklearn-color-unfitted-level-3: chocolate;\n",
       "  /* Definition of color scheme for fitted estimators */\n",
       "  --sklearn-color-fitted-level-0: #f0f8ff;\n",
       "  --sklearn-color-fitted-level-1: #d4ebff;\n",
       "  --sklearn-color-fitted-level-2: #b3dbfd;\n",
       "  --sklearn-color-fitted-level-3: cornflowerblue;\n",
       "\n",
       "  /* Specific color for light theme */\n",
       "  --sklearn-color-text-on-default-background: var(--sg-text-color, var(--theme-code-foreground, var(--jp-content-font-color1, black)));\n",
       "  --sklearn-color-background: var(--sg-background-color, var(--theme-background, var(--jp-layout-color0, white)));\n",
       "  --sklearn-color-border-box: var(--sg-text-color, var(--theme-code-foreground, var(--jp-content-font-color1, black)));\n",
       "  --sklearn-color-icon: #696969;\n",
       "\n",
       "  @media (prefers-color-scheme: dark) {\n",
       "    /* Redefinition of color scheme for dark theme */\n",
       "    --sklearn-color-text-on-default-background: var(--sg-text-color, var(--theme-code-foreground, var(--jp-content-font-color1, white)));\n",
       "    --sklearn-color-background: var(--sg-background-color, var(--theme-background, var(--jp-layout-color0, #111)));\n",
       "    --sklearn-color-border-box: var(--sg-text-color, var(--theme-code-foreground, var(--jp-content-font-color1, white)));\n",
       "    --sklearn-color-icon: #878787;\n",
       "  }\n",
       "}\n",
       "\n",
       "#sk-container-id-10 {\n",
       "  color: var(--sklearn-color-text);\n",
       "}\n",
       "\n",
       "#sk-container-id-10 pre {\n",
       "  padding: 0;\n",
       "}\n",
       "\n",
       "#sk-container-id-10 input.sk-hidden--visually {\n",
       "  border: 0;\n",
       "  clip: rect(1px 1px 1px 1px);\n",
       "  clip: rect(1px, 1px, 1px, 1px);\n",
       "  height: 1px;\n",
       "  margin: -1px;\n",
       "  overflow: hidden;\n",
       "  padding: 0;\n",
       "  position: absolute;\n",
       "  width: 1px;\n",
       "}\n",
       "\n",
       "#sk-container-id-10 div.sk-dashed-wrapped {\n",
       "  border: 1px dashed var(--sklearn-color-line);\n",
       "  margin: 0 0.4em 0.5em 0.4em;\n",
       "  box-sizing: border-box;\n",
       "  padding-bottom: 0.4em;\n",
       "  background-color: var(--sklearn-color-background);\n",
       "}\n",
       "\n",
       "#sk-container-id-10 div.sk-container {\n",
       "  /* jupyter's `normalize.less` sets `[hidden] { display: none; }`\n",
       "     but bootstrap.min.css set `[hidden] { display: none !important; }`\n",
       "     so we also need the `!important` here to be able to override the\n",
       "     default hidden behavior on the sphinx rendered scikit-learn.org.\n",
       "     See: https://github.com/scikit-learn/scikit-learn/issues/21755 */\n",
       "  display: inline-block !important;\n",
       "  position: relative;\n",
       "}\n",
       "\n",
       "#sk-container-id-10 div.sk-text-repr-fallback {\n",
       "  display: none;\n",
       "}\n",
       "\n",
       "div.sk-parallel-item,\n",
       "div.sk-serial,\n",
       "div.sk-item {\n",
       "  /* draw centered vertical line to link estimators */\n",
       "  background-image: linear-gradient(var(--sklearn-color-text-on-default-background), var(--sklearn-color-text-on-default-background));\n",
       "  background-size: 2px 100%;\n",
       "  background-repeat: no-repeat;\n",
       "  background-position: center center;\n",
       "}\n",
       "\n",
       "/* Parallel-specific style estimator block */\n",
       "\n",
       "#sk-container-id-10 div.sk-parallel-item::after {\n",
       "  content: \"\";\n",
       "  width: 100%;\n",
       "  border-bottom: 2px solid var(--sklearn-color-text-on-default-background);\n",
       "  flex-grow: 1;\n",
       "}\n",
       "\n",
       "#sk-container-id-10 div.sk-parallel {\n",
       "  display: flex;\n",
       "  align-items: stretch;\n",
       "  justify-content: center;\n",
       "  background-color: var(--sklearn-color-background);\n",
       "  position: relative;\n",
       "}\n",
       "\n",
       "#sk-container-id-10 div.sk-parallel-item {\n",
       "  display: flex;\n",
       "  flex-direction: column;\n",
       "}\n",
       "\n",
       "#sk-container-id-10 div.sk-parallel-item:first-child::after {\n",
       "  align-self: flex-end;\n",
       "  width: 50%;\n",
       "}\n",
       "\n",
       "#sk-container-id-10 div.sk-parallel-item:last-child::after {\n",
       "  align-self: flex-start;\n",
       "  width: 50%;\n",
       "}\n",
       "\n",
       "#sk-container-id-10 div.sk-parallel-item:only-child::after {\n",
       "  width: 0;\n",
       "}\n",
       "\n",
       "/* Serial-specific style estimator block */\n",
       "\n",
       "#sk-container-id-10 div.sk-serial {\n",
       "  display: flex;\n",
       "  flex-direction: column;\n",
       "  align-items: center;\n",
       "  background-color: var(--sklearn-color-background);\n",
       "  padding-right: 1em;\n",
       "  padding-left: 1em;\n",
       "}\n",
       "\n",
       "\n",
       "/* Toggleable style: style used for estimator/Pipeline/ColumnTransformer box that is\n",
       "clickable and can be expanded/collapsed.\n",
       "- Pipeline and ColumnTransformer use this feature and define the default style\n",
       "- Estimators will overwrite some part of the style using the `sk-estimator` class\n",
       "*/\n",
       "\n",
       "/* Pipeline and ColumnTransformer style (default) */\n",
       "\n",
       "#sk-container-id-10 div.sk-toggleable {\n",
       "  /* Default theme specific background. It is overwritten whether we have a\n",
       "  specific estimator or a Pipeline/ColumnTransformer */\n",
       "  background-color: var(--sklearn-color-background);\n",
       "}\n",
       "\n",
       "/* Toggleable label */\n",
       "#sk-container-id-10 label.sk-toggleable__label {\n",
       "  cursor: pointer;\n",
       "  display: block;\n",
       "  width: 100%;\n",
       "  margin-bottom: 0;\n",
       "  padding: 0.5em;\n",
       "  box-sizing: border-box;\n",
       "  text-align: center;\n",
       "}\n",
       "\n",
       "#sk-container-id-10 label.sk-toggleable__label-arrow:before {\n",
       "  /* Arrow on the left of the label */\n",
       "  content: \"▸\";\n",
       "  float: left;\n",
       "  margin-right: 0.25em;\n",
       "  color: var(--sklearn-color-icon);\n",
       "}\n",
       "\n",
       "#sk-container-id-10 label.sk-toggleable__label-arrow:hover:before {\n",
       "  color: var(--sklearn-color-text);\n",
       "}\n",
       "\n",
       "/* Toggleable content - dropdown */\n",
       "\n",
       "#sk-container-id-10 div.sk-toggleable__content {\n",
       "  max-height: 0;\n",
       "  max-width: 0;\n",
       "  overflow: hidden;\n",
       "  text-align: left;\n",
       "  /* unfitted */\n",
       "  background-color: var(--sklearn-color-unfitted-level-0);\n",
       "}\n",
       "\n",
       "#sk-container-id-10 div.sk-toggleable__content.fitted {\n",
       "  /* fitted */\n",
       "  background-color: var(--sklearn-color-fitted-level-0);\n",
       "}\n",
       "\n",
       "#sk-container-id-10 div.sk-toggleable__content pre {\n",
       "  margin: 0.2em;\n",
       "  border-radius: 0.25em;\n",
       "  color: var(--sklearn-color-text);\n",
       "  /* unfitted */\n",
       "  background-color: var(--sklearn-color-unfitted-level-0);\n",
       "}\n",
       "\n",
       "#sk-container-id-10 div.sk-toggleable__content.fitted pre {\n",
       "  /* unfitted */\n",
       "  background-color: var(--sklearn-color-fitted-level-0);\n",
       "}\n",
       "\n",
       "#sk-container-id-10 input.sk-toggleable__control:checked~div.sk-toggleable__content {\n",
       "  /* Expand drop-down */\n",
       "  max-height: 200px;\n",
       "  max-width: 100%;\n",
       "  overflow: auto;\n",
       "}\n",
       "\n",
       "#sk-container-id-10 input.sk-toggleable__control:checked~label.sk-toggleable__label-arrow:before {\n",
       "  content: \"▾\";\n",
       "}\n",
       "\n",
       "/* Pipeline/ColumnTransformer-specific style */\n",
       "\n",
       "#sk-container-id-10 div.sk-label input.sk-toggleable__control:checked~label.sk-toggleable__label {\n",
       "  color: var(--sklearn-color-text);\n",
       "  background-color: var(--sklearn-color-unfitted-level-2);\n",
       "}\n",
       "\n",
       "#sk-container-id-10 div.sk-label.fitted input.sk-toggleable__control:checked~label.sk-toggleable__label {\n",
       "  background-color: var(--sklearn-color-fitted-level-2);\n",
       "}\n",
       "\n",
       "/* Estimator-specific style */\n",
       "\n",
       "/* Colorize estimator box */\n",
       "#sk-container-id-10 div.sk-estimator input.sk-toggleable__control:checked~label.sk-toggleable__label {\n",
       "  /* unfitted */\n",
       "  background-color: var(--sklearn-color-unfitted-level-2);\n",
       "}\n",
       "\n",
       "#sk-container-id-10 div.sk-estimator.fitted input.sk-toggleable__control:checked~label.sk-toggleable__label {\n",
       "  /* fitted */\n",
       "  background-color: var(--sklearn-color-fitted-level-2);\n",
       "}\n",
       "\n",
       "#sk-container-id-10 div.sk-label label.sk-toggleable__label,\n",
       "#sk-container-id-10 div.sk-label label {\n",
       "  /* The background is the default theme color */\n",
       "  color: var(--sklearn-color-text-on-default-background);\n",
       "}\n",
       "\n",
       "/* On hover, darken the color of the background */\n",
       "#sk-container-id-10 div.sk-label:hover label.sk-toggleable__label {\n",
       "  color: var(--sklearn-color-text);\n",
       "  background-color: var(--sklearn-color-unfitted-level-2);\n",
       "}\n",
       "\n",
       "/* Label box, darken color on hover, fitted */\n",
       "#sk-container-id-10 div.sk-label.fitted:hover label.sk-toggleable__label.fitted {\n",
       "  color: var(--sklearn-color-text);\n",
       "  background-color: var(--sklearn-color-fitted-level-2);\n",
       "}\n",
       "\n",
       "/* Estimator label */\n",
       "\n",
       "#sk-container-id-10 div.sk-label label {\n",
       "  font-family: monospace;\n",
       "  font-weight: bold;\n",
       "  display: inline-block;\n",
       "  line-height: 1.2em;\n",
       "}\n",
       "\n",
       "#sk-container-id-10 div.sk-label-container {\n",
       "  text-align: center;\n",
       "}\n",
       "\n",
       "/* Estimator-specific */\n",
       "#sk-container-id-10 div.sk-estimator {\n",
       "  font-family: monospace;\n",
       "  border: 1px dotted var(--sklearn-color-border-box);\n",
       "  border-radius: 0.25em;\n",
       "  box-sizing: border-box;\n",
       "  margin-bottom: 0.5em;\n",
       "  /* unfitted */\n",
       "  background-color: var(--sklearn-color-unfitted-level-0);\n",
       "}\n",
       "\n",
       "#sk-container-id-10 div.sk-estimator.fitted {\n",
       "  /* fitted */\n",
       "  background-color: var(--sklearn-color-fitted-level-0);\n",
       "}\n",
       "\n",
       "/* on hover */\n",
       "#sk-container-id-10 div.sk-estimator:hover {\n",
       "  /* unfitted */\n",
       "  background-color: var(--sklearn-color-unfitted-level-2);\n",
       "}\n",
       "\n",
       "#sk-container-id-10 div.sk-estimator.fitted:hover {\n",
       "  /* fitted */\n",
       "  background-color: var(--sklearn-color-fitted-level-2);\n",
       "}\n",
       "\n",
       "/* Specification for estimator info (e.g. \"i\" and \"?\") */\n",
       "\n",
       "/* Common style for \"i\" and \"?\" */\n",
       "\n",
       ".sk-estimator-doc-link,\n",
       "a:link.sk-estimator-doc-link,\n",
       "a:visited.sk-estimator-doc-link {\n",
       "  float: right;\n",
       "  font-size: smaller;\n",
       "  line-height: 1em;\n",
       "  font-family: monospace;\n",
       "  background-color: var(--sklearn-color-background);\n",
       "  border-radius: 1em;\n",
       "  height: 1em;\n",
       "  width: 1em;\n",
       "  text-decoration: none !important;\n",
       "  margin-left: 1ex;\n",
       "  /* unfitted */\n",
       "  border: var(--sklearn-color-unfitted-level-1) 1pt solid;\n",
       "  color: var(--sklearn-color-unfitted-level-1);\n",
       "}\n",
       "\n",
       ".sk-estimator-doc-link.fitted,\n",
       "a:link.sk-estimator-doc-link.fitted,\n",
       "a:visited.sk-estimator-doc-link.fitted {\n",
       "  /* fitted */\n",
       "  border: var(--sklearn-color-fitted-level-1) 1pt solid;\n",
       "  color: var(--sklearn-color-fitted-level-1);\n",
       "}\n",
       "\n",
       "/* On hover */\n",
       "div.sk-estimator:hover .sk-estimator-doc-link:hover,\n",
       ".sk-estimator-doc-link:hover,\n",
       "div.sk-label-container:hover .sk-estimator-doc-link:hover,\n",
       ".sk-estimator-doc-link:hover {\n",
       "  /* unfitted */\n",
       "  background-color: var(--sklearn-color-unfitted-level-3);\n",
       "  color: var(--sklearn-color-background);\n",
       "  text-decoration: none;\n",
       "}\n",
       "\n",
       "div.sk-estimator.fitted:hover .sk-estimator-doc-link.fitted:hover,\n",
       ".sk-estimator-doc-link.fitted:hover,\n",
       "div.sk-label-container:hover .sk-estimator-doc-link.fitted:hover,\n",
       ".sk-estimator-doc-link.fitted:hover {\n",
       "  /* fitted */\n",
       "  background-color: var(--sklearn-color-fitted-level-3);\n",
       "  color: var(--sklearn-color-background);\n",
       "  text-decoration: none;\n",
       "}\n",
       "\n",
       "/* Span, style for the box shown on hovering the info icon */\n",
       ".sk-estimator-doc-link span {\n",
       "  display: none;\n",
       "  z-index: 9999;\n",
       "  position: relative;\n",
       "  font-weight: normal;\n",
       "  right: .2ex;\n",
       "  padding: .5ex;\n",
       "  margin: .5ex;\n",
       "  width: min-content;\n",
       "  min-width: 20ex;\n",
       "  max-width: 50ex;\n",
       "  color: var(--sklearn-color-text);\n",
       "  box-shadow: 2pt 2pt 4pt #999;\n",
       "  /* unfitted */\n",
       "  background: var(--sklearn-color-unfitted-level-0);\n",
       "  border: .5pt solid var(--sklearn-color-unfitted-level-3);\n",
       "}\n",
       "\n",
       ".sk-estimator-doc-link.fitted span {\n",
       "  /* fitted */\n",
       "  background: var(--sklearn-color-fitted-level-0);\n",
       "  border: var(--sklearn-color-fitted-level-3);\n",
       "}\n",
       "\n",
       ".sk-estimator-doc-link:hover span {\n",
       "  display: block;\n",
       "}\n",
       "\n",
       "/* \"?\"-specific style due to the `<a>` HTML tag */\n",
       "\n",
       "#sk-container-id-10 a.estimator_doc_link {\n",
       "  float: right;\n",
       "  font-size: 1rem;\n",
       "  line-height: 1em;\n",
       "  font-family: monospace;\n",
       "  background-color: var(--sklearn-color-background);\n",
       "  border-radius: 1rem;\n",
       "  height: 1rem;\n",
       "  width: 1rem;\n",
       "  text-decoration: none;\n",
       "  /* unfitted */\n",
       "  color: var(--sklearn-color-unfitted-level-1);\n",
       "  border: var(--sklearn-color-unfitted-level-1) 1pt solid;\n",
       "}\n",
       "\n",
       "#sk-container-id-10 a.estimator_doc_link.fitted {\n",
       "  /* fitted */\n",
       "  border: var(--sklearn-color-fitted-level-1) 1pt solid;\n",
       "  color: var(--sklearn-color-fitted-level-1);\n",
       "}\n",
       "\n",
       "/* On hover */\n",
       "#sk-container-id-10 a.estimator_doc_link:hover {\n",
       "  /* unfitted */\n",
       "  background-color: var(--sklearn-color-unfitted-level-3);\n",
       "  color: var(--sklearn-color-background);\n",
       "  text-decoration: none;\n",
       "}\n",
       "\n",
       "#sk-container-id-10 a.estimator_doc_link.fitted:hover {\n",
       "  /* fitted */\n",
       "  background-color: var(--sklearn-color-fitted-level-3);\n",
       "}\n",
       "</style><div id=\"sk-container-id-10\" class=\"sk-top-container\"><div class=\"sk-text-repr-fallback\"><pre>RandomForestClassifier(max_depth=17, min_samples_leaf=2, min_samples_split=6,\n",
       "                       n_estimators=165)</pre><b>In a Jupyter environment, please rerun this cell to show the HTML representation or trust the notebook. <br />On GitHub, the HTML representation is unable to render, please try loading this page with nbviewer.org.</b></div><div class=\"sk-container\" hidden><div class=\"sk-item\"><div class=\"sk-estimator fitted sk-toggleable\"><input class=\"sk-toggleable__control sk-hidden--visually\" id=\"sk-estimator-id-14\" type=\"checkbox\" checked><label for=\"sk-estimator-id-14\" class=\"sk-toggleable__label fitted sk-toggleable__label-arrow fitted\">&nbsp;&nbsp;RandomForestClassifier<a class=\"sk-estimator-doc-link fitted\" rel=\"noreferrer\" target=\"_blank\" href=\"https://scikit-learn.org/1.5/modules/generated/sklearn.ensemble.RandomForestClassifier.html\">?<span>Documentation for RandomForestClassifier</span></a><span class=\"sk-estimator-doc-link fitted\">i<span>Fitted</span></span></label><div class=\"sk-toggleable__content fitted\"><pre>RandomForestClassifier(max_depth=17, min_samples_leaf=2, min_samples_split=6,\n",
       "                       n_estimators=165)</pre></div> </div></div></div></div>"
      ],
      "text/plain": [
       "RandomForestClassifier(max_depth=17, min_samples_leaf=2, min_samples_split=6,\n",
       "                       n_estimators=165)"
      ]
     },
     "execution_count": 103,
     "metadata": {},
     "output_type": "execute_result"
    }
   ],
   "source": [
    "# Train the RandomForestClassifier model using the best hyperparameters on the training data (X_train and y_train).\n",
    "# This step allows the model to learn from the training dataset.\n",
    "\n",
    "random_forest.fit(X_train, y_train)"
   ]
  },
  {
   "cell_type": "code",
   "execution_count": 104,
   "metadata": {},
   "outputs": [
    {
     "data": {
      "text/plain": [
       "0.8044692737430168"
      ]
     },
     "execution_count": 104,
     "metadata": {},
     "output_type": "execute_result"
    }
   ],
   "source": [
    "# Evaluate the performance of the trained RandomForestClassifier model on the test data (X_test and y_test).\n",
    "# This returns the accuracy of the model, which indicates the proportion of correctly classified samples in the test set.\n",
    "\n",
    "random_forest.score(X_test, y_test)"
   ]
  },
  {
   "cell_type": "code",
   "execution_count": 105,
   "metadata": {},
   "outputs": [
    {
     "name": "stdout",
     "output_type": "stream",
     "text": [
      "Model saved successfully as 'titanic_model.pkl'\n"
     ]
    }
   ],
   "source": [
    "import pickle\n",
    "\n",
    "# Attempt to save the trained RandomForestClassifier model to a file using pickle.\n",
    "# The model is serialized and saved as 'titanic_model.pkl' for future use.\n",
    "\n",
    "try:\n",
    "    with open(\"titanic_model.pkl\", \"wb\") as file:\n",
    "        pickle.dump(random_forest, file)\n",
    "    print(\"Model saved successfully as 'titanic_model.pkl'\")\n",
    "except Exception as e:\n",
    "    # Print an error message if an exception occurs during the saving process.\n",
    "    print(f\"An error occurred while saving the model: {e}\")"
   ]
  },
  {
   "cell_type": "code",
   "execution_count": 47,
   "metadata": {},
   "outputs": [],
   "source": [
    "# Load the test dataset from 'test.csv' into a DataFrame.\n",
    "# Extract the \"PassengerId\" column to keep track of passenger identifiers for predictions.\n",
    "\n",
    "test_titanic = pd.read_csv(\"test.csv\")\n",
    "passenger_ids = test_titanic[\"PassengerId\"]"
   ]
  },
  {
   "cell_type": "code",
   "execution_count": 48,
   "metadata": {},
   "outputs": [
    {
     "name": "stderr",
     "output_type": "stream",
     "text": [
      "C:\\Users\\AbdouMagico\\AppData\\Local\\Temp\\ipykernel_13684\\3997742018.py:5: FutureWarning:\n",
      "\n",
      "A value is trying to be set on a copy of a DataFrame or Series through chained assignment using an inplace method.\n",
      "The behavior will change in pandas 3.0. This inplace method will never work because the intermediate object on which we are setting values always behaves as a copy.\n",
      "\n",
      "For example, when doing 'df[col].method(value, inplace=True)', try using 'df.method({col: value}, inplace=True)' or df[col] = df[col].method(value) instead, to perform the operation inplace on the original object.\n",
      "\n",
      "\n",
      "\n"
     ]
    }
   ],
   "source": [
    "# Drop the PassengerId column for preprocessing\n",
    "test_titanic.drop(columns=[\"PassengerId\"], axis=1, inplace=True)\n",
    "\n",
    "# Perform the same preprocessing steps as the training set\n",
    "test_titanic[\"Age\"].fillna(test_titanic[\"Age\"].median(), inplace=True)\n",
    "test_titanic[\"Sex\"] = test_titanic[\"Sex\"].apply(lambda x: 1 if x == \"male\" else 0)\n",
    "test_titanic[\"FamilySize\"] = test_titanic[\"Parch\"] + test_titanic[\"SibSp\"]\n",
    "test_titanic.drop(columns=[\"Parch\", \"SibSp\"], axis=1, inplace=True)\n",
    "\n",
    "# One-hot encode the Embarked column\n",
    "test_titanic = test_titanic.join(pd.get_dummies(test_titanic[\"Embarked\"], prefix=\"EmbarkedAt\")).drop(columns=[\"Embarked\"], axis=1)\n",
    "test_titanic[\"isAlone\"] = (test_titanic[\"FamilySize\"] == 0).astype(int)\n",
    "\n",
    "# Create AgeGroup based on the age ranges\n",
    "test_titanic[\"AgeGroup\"] = test_titanic[\"Age\"].apply(lambda x: \"child\" if x < 13 else \"teenager\" if x < 19 else \"adult\" if x < 60 else \"senior\")\n",
    "test_titanic[\"AgeGroup\"] = pd.factorize(test_titanic[\"AgeGroup\"])[0]\n",
    "\n",
    "# Group Ticket by size and map to test set\n",
    "ticket_group_size = test_titanic.groupby(by=[\"Ticket\"]).size()\n",
    "test_titanic[\"TicketGroupSize\"] = test_titanic[\"Ticket\"].map(ticket_group_size)\n",
    "\n",
    "# Factorize Fare categories\n",
    "test_titanic[\"Fare\"] = test_titanic[\"Fare\"].apply(lambda x: \"low\" if x <= 50 else \"medium\" if x <= 150 else \"high\")\n",
    "test_titanic[\"Fare\"] = pd.factorize(test_titanic[\"Fare\"])[0]\n",
    "\n",
    "# Extract and encode titles from the Name column\n",
    "test_titanic['Title'] = test_titanic['Name'].apply(lambda x: x.split(',')[1].split('.')[0].strip())\n",
    "test_titanic = test_titanic.join(pd.get_dummies(test_titanic[\"Title\"], prefix=\"Title\")).drop(columns=[\"Title\"], axis=1)\n",
    "\n",
    "# Handle Deck information from Cabin\n",
    "test_titanic[\"Deck\"] = test_titanic[\"Cabin\"].str[0].fillna(\"Unknown\")\n",
    "test_titanic = test_titanic.join(pd.get_dummies(test_titanic[\"Deck\"], prefix=\"Deck\")).drop(columns=[\"Deck\", \"Cabin\"], axis=1)\n",
    "\n",
    "# Add the missing NameLength feature\n",
    "test_titanic[\"NameLength\"] = test_titanic[\"Name\"].apply(len)\n",
    "\n",
    "# Drop unnecessary columns\n",
    "test_titanic.drop(columns=[\"Name\", \"Ticket\"], axis=1, inplace=True)\n",
    "\n",
    "# Calculate FarePerPerson\n",
    "test_titanic['FarePerPerson'] = test_titanic['Fare'] / (test_titanic['FamilySize'] + 1)"
   ]
  },
  {
   "cell_type": "code",
   "execution_count": 49,
   "metadata": {},
   "outputs": [
    {
     "data": {
      "text/html": [
       "<div>\n",
       "<style scoped>\n",
       "    .dataframe tbody tr th:only-of-type {\n",
       "        vertical-align: middle;\n",
       "    }\n",
       "\n",
       "    .dataframe tbody tr th {\n",
       "        vertical-align: top;\n",
       "    }\n",
       "\n",
       "    .dataframe thead th {\n",
       "        text-align: right;\n",
       "    }\n",
       "</style>\n",
       "<table border=\"1\" class=\"dataframe\">\n",
       "  <thead>\n",
       "    <tr style=\"text-align: right;\">\n",
       "      <th></th>\n",
       "      <th>Pclass</th>\n",
       "      <th>Sex</th>\n",
       "      <th>Age</th>\n",
       "      <th>Fare</th>\n",
       "      <th>FamilySize</th>\n",
       "      <th>EmbarkedAt_C</th>\n",
       "      <th>EmbarkedAt_Q</th>\n",
       "      <th>EmbarkedAt_S</th>\n",
       "      <th>isAlone</th>\n",
       "      <th>AgeGroup</th>\n",
       "      <th>...</th>\n",
       "      <th>Deck_A</th>\n",
       "      <th>Deck_B</th>\n",
       "      <th>Deck_C</th>\n",
       "      <th>Deck_D</th>\n",
       "      <th>Deck_E</th>\n",
       "      <th>Deck_F</th>\n",
       "      <th>Deck_G</th>\n",
       "      <th>Deck_Unknown</th>\n",
       "      <th>NameLength</th>\n",
       "      <th>FarePerPerson</th>\n",
       "    </tr>\n",
       "  </thead>\n",
       "  <tbody>\n",
       "    <tr>\n",
       "      <th>0</th>\n",
       "      <td>3</td>\n",
       "      <td>1</td>\n",
       "      <td>34.5</td>\n",
       "      <td>0</td>\n",
       "      <td>0</td>\n",
       "      <td>False</td>\n",
       "      <td>True</td>\n",
       "      <td>False</td>\n",
       "      <td>1</td>\n",
       "      <td>0</td>\n",
       "      <td>...</td>\n",
       "      <td>False</td>\n",
       "      <td>False</td>\n",
       "      <td>False</td>\n",
       "      <td>False</td>\n",
       "      <td>False</td>\n",
       "      <td>False</td>\n",
       "      <td>False</td>\n",
       "      <td>True</td>\n",
       "      <td>16</td>\n",
       "      <td>0.0</td>\n",
       "    </tr>\n",
       "    <tr>\n",
       "      <th>1</th>\n",
       "      <td>3</td>\n",
       "      <td>0</td>\n",
       "      <td>47.0</td>\n",
       "      <td>0</td>\n",
       "      <td>1</td>\n",
       "      <td>False</td>\n",
       "      <td>False</td>\n",
       "      <td>True</td>\n",
       "      <td>0</td>\n",
       "      <td>0</td>\n",
       "      <td>...</td>\n",
       "      <td>False</td>\n",
       "      <td>False</td>\n",
       "      <td>False</td>\n",
       "      <td>False</td>\n",
       "      <td>False</td>\n",
       "      <td>False</td>\n",
       "      <td>False</td>\n",
       "      <td>True</td>\n",
       "      <td>32</td>\n",
       "      <td>0.0</td>\n",
       "    </tr>\n",
       "    <tr>\n",
       "      <th>2</th>\n",
       "      <td>2</td>\n",
       "      <td>1</td>\n",
       "      <td>62.0</td>\n",
       "      <td>0</td>\n",
       "      <td>0</td>\n",
       "      <td>False</td>\n",
       "      <td>True</td>\n",
       "      <td>False</td>\n",
       "      <td>1</td>\n",
       "      <td>1</td>\n",
       "      <td>...</td>\n",
       "      <td>False</td>\n",
       "      <td>False</td>\n",
       "      <td>False</td>\n",
       "      <td>False</td>\n",
       "      <td>False</td>\n",
       "      <td>False</td>\n",
       "      <td>False</td>\n",
       "      <td>True</td>\n",
       "      <td>25</td>\n",
       "      <td>0.0</td>\n",
       "    </tr>\n",
       "    <tr>\n",
       "      <th>3</th>\n",
       "      <td>3</td>\n",
       "      <td>1</td>\n",
       "      <td>27.0</td>\n",
       "      <td>0</td>\n",
       "      <td>0</td>\n",
       "      <td>False</td>\n",
       "      <td>False</td>\n",
       "      <td>True</td>\n",
       "      <td>1</td>\n",
       "      <td>0</td>\n",
       "      <td>...</td>\n",
       "      <td>False</td>\n",
       "      <td>False</td>\n",
       "      <td>False</td>\n",
       "      <td>False</td>\n",
       "      <td>False</td>\n",
       "      <td>False</td>\n",
       "      <td>False</td>\n",
       "      <td>True</td>\n",
       "      <td>16</td>\n",
       "      <td>0.0</td>\n",
       "    </tr>\n",
       "    <tr>\n",
       "      <th>4</th>\n",
       "      <td>3</td>\n",
       "      <td>0</td>\n",
       "      <td>22.0</td>\n",
       "      <td>0</td>\n",
       "      <td>2</td>\n",
       "      <td>False</td>\n",
       "      <td>False</td>\n",
       "      <td>True</td>\n",
       "      <td>0</td>\n",
       "      <td>0</td>\n",
       "      <td>...</td>\n",
       "      <td>False</td>\n",
       "      <td>False</td>\n",
       "      <td>False</td>\n",
       "      <td>False</td>\n",
       "      <td>False</td>\n",
       "      <td>False</td>\n",
       "      <td>False</td>\n",
       "      <td>True</td>\n",
       "      <td>44</td>\n",
       "      <td>0.0</td>\n",
       "    </tr>\n",
       "  </tbody>\n",
       "</table>\n",
       "<p>5 rows × 30 columns</p>\n",
       "</div>"
      ],
      "text/plain": [
       "   Pclass  Sex   Age  Fare  FamilySize  EmbarkedAt_C  EmbarkedAt_Q  \\\n",
       "0       3    1  34.5     0           0         False          True   \n",
       "1       3    0  47.0     0           1         False         False   \n",
       "2       2    1  62.0     0           0         False          True   \n",
       "3       3    1  27.0     0           0         False         False   \n",
       "4       3    0  22.0     0           2         False         False   \n",
       "\n",
       "   EmbarkedAt_S  isAlone  AgeGroup  ...  Deck_A  Deck_B  Deck_C  Deck_D  \\\n",
       "0         False        1         0  ...   False   False   False   False   \n",
       "1          True        0         0  ...   False   False   False   False   \n",
       "2         False        1         1  ...   False   False   False   False   \n",
       "3          True        1         0  ...   False   False   False   False   \n",
       "4          True        0         0  ...   False   False   False   False   \n",
       "\n",
       "   Deck_E  Deck_F  Deck_G  Deck_Unknown  NameLength  FarePerPerson  \n",
       "0   False   False   False          True          16            0.0  \n",
       "1   False   False   False          True          32            0.0  \n",
       "2   False   False   False          True          25            0.0  \n",
       "3   False   False   False          True          16            0.0  \n",
       "4   False   False   False          True          44            0.0  \n",
       "\n",
       "[5 rows x 30 columns]"
      ]
     },
     "execution_count": 49,
     "metadata": {},
     "output_type": "execute_result"
    }
   ],
   "source": [
    "test_titanic.head()"
   ]
  },
  {
   "cell_type": "code",
   "execution_count": 50,
   "metadata": {},
   "outputs": [],
   "source": [
    "import joblib\n",
    "\n",
    "# Load the previously saved RandomForestClassifier model from the file 'titanic_model.pkl' using joblib.\n",
    "# This allows you to use the trained model for making predictions or further analysis.\n",
    "\n",
    "model = joblib.load(\"titanic_model.pkl\")"
   ]
  },
  {
   "cell_type": "code",
   "execution_count": 51,
   "metadata": {},
   "outputs": [
    {
     "data": {
      "text/plain": [
       "Index(['Pclass', 'Sex', 'Age', 'Fare', 'FamilySize', 'EmbarkedAt_C',\n",
       "       'EmbarkedAt_Q', 'EmbarkedAt_S', 'isAlone', 'AgeGroup',\n",
       "       'TicketGroupSize', 'Title_Col', 'Title_Dona', 'Title_Dr',\n",
       "       'Title_Master', 'Title_Miss', 'Title_Mr', 'Title_Mrs', 'Title_Ms',\n",
       "       'Title_Rev', 'Deck_A', 'Deck_B', 'Deck_C', 'Deck_D', 'Deck_E', 'Deck_F',\n",
       "       'Deck_G', 'Deck_Unknown', 'NameLength', 'FarePerPerson'],\n",
       "      dtype='object')"
      ]
     },
     "execution_count": 51,
     "metadata": {},
     "output_type": "execute_result"
    }
   ],
   "source": [
    "# Display the column names of the test dataset to understand its structure and identify which features are available for prediction.\n",
    "\n",
    "test_titanic.columns"
   ]
  },
  {
   "cell_type": "code",
   "execution_count": 52,
   "metadata": {},
   "outputs": [
    {
     "data": {
      "text/plain": [
       "Index(['PassengerId', 'Survived', 'Pclass', 'Sex', 'Age', 'Fare', 'FamilySize',\n",
       "       'EmbarkedAt_C', 'EmbarkedAt_Q', 'EmbarkedAt_S', 'isAlone', 'AgeGroup',\n",
       "       'TicketGroupSize', 'NameLength', 'Title_Capt', 'Title_Col', 'Title_Don',\n",
       "       'Title_Dr', 'Title_Jonkheer', 'Title_Lady', 'Title_Major',\n",
       "       'Title_Master', 'Title_Miss', 'Title_Mlle', 'Title_Mme', 'Title_Mr',\n",
       "       'Title_Mrs', 'Title_Ms', 'Title_Rev', 'Title_Sir', 'Title_the Countess',\n",
       "       'Deck_A', 'Deck_B', 'Deck_C', 'Deck_D', 'Deck_E', 'Deck_F', 'Deck_G',\n",
       "       'Deck_T', 'Deck_Unknown', 'FarePerPerson'],\n",
       "      dtype='object')"
      ]
     },
     "execution_count": 52,
     "metadata": {},
     "output_type": "execute_result"
    }
   ],
   "source": [
    "# Display the column names of the training dataset to understand its structure and identify the features used for model training.\n",
    "\n",
    "titanic.columns"
   ]
  },
  {
   "cell_type": "code",
   "execution_count": 53,
   "metadata": {},
   "outputs": [],
   "source": [
    "expected_columns = [\n",
    "    'Pclass', 'Sex', 'Age', 'Fare', 'FamilySize', 'EmbarkedAt_C', 'EmbarkedAt_Q', 'EmbarkedAt_S',\n",
    "    'isAlone', 'AgeGroup', 'TicketGroupSize', 'NameLength', 'Title_Capt', 'Title_Col', 'Title_Don',\n",
    "    'Title_Dr', 'Title_Jonkheer', 'Title_Lady', 'Title_Major', 'Title_Master', 'Title_Miss',\n",
    "    'Title_Mlle', 'Title_Mme', 'Title_Mr', 'Title_Mrs', 'Title_Ms', 'Title_Rev', 'Title_Sir',\n",
    "    'Title_the Countess', 'Deck_A', 'Deck_B', 'Deck_C', 'Deck_D', 'Deck_E', 'Deck_F', 'Deck_G',\n",
    "    'Deck_T', 'Deck_Unknown', 'FarePerPerson'\n",
    "]\n",
    "\n",
    "# Add any missing columns with default values of 0\n",
    "for column in expected_columns:\n",
    "    if column not in test_titanic.columns:\n",
    "        test_titanic[column] = 0\n",
    "\n",
    "# Reorder columns to match the training set\n",
    "test_titanic = test_titanic[expected_columns]"
   ]
  },
  {
   "cell_type": "code",
   "execution_count": 54,
   "metadata": {},
   "outputs": [],
   "source": [
    "# Use the loaded model to make predictions on the test dataset.\n",
    "# The 'predict' method generates the predicted class labels for each sample in the test dataset.\n",
    "\n",
    "predictions = model.predict(test_titanic)"
   ]
  },
  {
   "cell_type": "code",
   "execution_count": 55,
   "metadata": {},
   "outputs": [
    {
     "data": {
      "text/html": [
       "<div>\n",
       "<style scoped>\n",
       "    .dataframe tbody tr th:only-of-type {\n",
       "        vertical-align: middle;\n",
       "    }\n",
       "\n",
       "    .dataframe tbody tr th {\n",
       "        vertical-align: top;\n",
       "    }\n",
       "\n",
       "    .dataframe thead th {\n",
       "        text-align: right;\n",
       "    }\n",
       "</style>\n",
       "<table border=\"1\" class=\"dataframe\">\n",
       "  <thead>\n",
       "    <tr style=\"text-align: right;\">\n",
       "      <th></th>\n",
       "      <th>PassengerId</th>\n",
       "      <th>Survived</th>\n",
       "    </tr>\n",
       "  </thead>\n",
       "  <tbody>\n",
       "    <tr>\n",
       "      <th>0</th>\n",
       "      <td>892</td>\n",
       "      <td>0</td>\n",
       "    </tr>\n",
       "    <tr>\n",
       "      <th>1</th>\n",
       "      <td>893</td>\n",
       "      <td>0</td>\n",
       "    </tr>\n",
       "    <tr>\n",
       "      <th>2</th>\n",
       "      <td>894</td>\n",
       "      <td>0</td>\n",
       "    </tr>\n",
       "    <tr>\n",
       "      <th>3</th>\n",
       "      <td>895</td>\n",
       "      <td>0</td>\n",
       "    </tr>\n",
       "    <tr>\n",
       "      <th>4</th>\n",
       "      <td>896</td>\n",
       "      <td>1</td>\n",
       "    </tr>\n",
       "    <tr>\n",
       "      <th>...</th>\n",
       "      <td>...</td>\n",
       "      <td>...</td>\n",
       "    </tr>\n",
       "    <tr>\n",
       "      <th>413</th>\n",
       "      <td>1305</td>\n",
       "      <td>0</td>\n",
       "    </tr>\n",
       "    <tr>\n",
       "      <th>414</th>\n",
       "      <td>1306</td>\n",
       "      <td>1</td>\n",
       "    </tr>\n",
       "    <tr>\n",
       "      <th>415</th>\n",
       "      <td>1307</td>\n",
       "      <td>0</td>\n",
       "    </tr>\n",
       "    <tr>\n",
       "      <th>416</th>\n",
       "      <td>1308</td>\n",
       "      <td>0</td>\n",
       "    </tr>\n",
       "    <tr>\n",
       "      <th>417</th>\n",
       "      <td>1309</td>\n",
       "      <td>1</td>\n",
       "    </tr>\n",
       "  </tbody>\n",
       "</table>\n",
       "<p>418 rows × 2 columns</p>\n",
       "</div>"
      ],
      "text/plain": [
       "     PassengerId  Survived\n",
       "0            892         0\n",
       "1            893         0\n",
       "2            894         0\n",
       "3            895         0\n",
       "4            896         1\n",
       "..           ...       ...\n",
       "413         1305         0\n",
       "414         1306         1\n",
       "415         1307         0\n",
       "416         1308         0\n",
       "417         1309         1\n",
       "\n",
       "[418 rows x 2 columns]"
      ]
     },
     "execution_count": 55,
     "metadata": {},
     "output_type": "execute_result"
    }
   ],
   "source": [
    "# Create a DataFrame to store the predictions.\n",
    "# The DataFrame includes 'PassengerId' from the test dataset and the corresponding predicted 'Survived' values.\n",
    "\n",
    "submission = pd.DataFrame({\n",
    "    \"PassengerId\": passenger_ids,\n",
    "    \"Survived\": predictions\n",
    "})\n",
    "\n",
    "# Display the DataFrame containing the predictions.\n",
    "submission"
   ]
  },
  {
   "cell_type": "code",
   "execution_count": 56,
   "metadata": {},
   "outputs": [],
   "source": [
    "# Save the predictions to a CSV file named 'submission.csv'.\n",
    "# The file will include 'PassengerId' and 'Survived' columns, formatted as required for submission.\n",
    "\n",
    "submission.to_csv('submission.csv', index=False)"
   ]
  },
  {
   "cell_type": "markdown",
   "metadata": {},
   "source": [
    "## Done"
   ]
  }
 ],
 "metadata": {
  "kernelspec": {
   "display_name": "Python 3",
   "language": "python",
   "name": "python3"
  },
  "language_info": {
   "codemirror_mode": {
    "name": "ipython",
    "version": 3
   },
   "file_extension": ".py",
   "mimetype": "text/x-python",
   "name": "python",
   "nbconvert_exporter": "python",
   "pygments_lexer": "ipython3",
   "version": "3.11.1"
  }
 },
 "nbformat": 4,
 "nbformat_minor": 2
}
