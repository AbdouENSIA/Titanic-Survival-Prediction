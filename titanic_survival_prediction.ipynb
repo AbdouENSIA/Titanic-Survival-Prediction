{
 "cells": [
  {
   "cell_type": "code",
   "execution_count": 57,
   "metadata": {},
   "outputs": [],
   "source": [
    "# Import pandas library for data manipulation and analysis, commonly aliased as `pd`.\n",
    "\n",
    "import pandas as pd"
   ]
  },
  {
   "cell_type": "code",
   "execution_count": 58,
   "metadata": {},
   "outputs": [],
   "source": [
    "# Load the Titanic dataset from the \"train.csv\" file into a pandas DataFrame.\n",
    "# This dataset will be used for data analysis and modeling tasks.\n",
    "\n",
    "titanic = pd.read_csv(\"train.csv\")"
   ]
  },
  {
   "cell_type": "markdown",
   "metadata": {},
   "source": [
    "## Data Pre-Processing"
   ]
  },
  {
   "cell_type": "code",
   "execution_count": 59,
   "metadata": {},
   "outputs": [
    {
     "data": {
      "text/html": [
       "<div>\n",
       "<style scoped>\n",
       "    .dataframe tbody tr th:only-of-type {\n",
       "        vertical-align: middle;\n",
       "    }\n",
       "\n",
       "    .dataframe tbody tr th {\n",
       "        vertical-align: top;\n",
       "    }\n",
       "\n",
       "    .dataframe thead th {\n",
       "        text-align: right;\n",
       "    }\n",
       "</style>\n",
       "<table border=\"1\" class=\"dataframe\">\n",
       "  <thead>\n",
       "    <tr style=\"text-align: right;\">\n",
       "      <th></th>\n",
       "      <th>PassengerId</th>\n",
       "      <th>Survived</th>\n",
       "      <th>Pclass</th>\n",
       "      <th>Name</th>\n",
       "      <th>Sex</th>\n",
       "      <th>Age</th>\n",
       "      <th>SibSp</th>\n",
       "      <th>Parch</th>\n",
       "      <th>Ticket</th>\n",
       "      <th>Fare</th>\n",
       "      <th>Cabin</th>\n",
       "      <th>Embarked</th>\n",
       "    </tr>\n",
       "  </thead>\n",
       "  <tbody>\n",
       "    <tr>\n",
       "      <th>0</th>\n",
       "      <td>1</td>\n",
       "      <td>0</td>\n",
       "      <td>3</td>\n",
       "      <td>Braund, Mr. Owen Harris</td>\n",
       "      <td>male</td>\n",
       "      <td>22.0</td>\n",
       "      <td>1</td>\n",
       "      <td>0</td>\n",
       "      <td>A/5 21171</td>\n",
       "      <td>7.2500</td>\n",
       "      <td>NaN</td>\n",
       "      <td>S</td>\n",
       "    </tr>\n",
       "    <tr>\n",
       "      <th>1</th>\n",
       "      <td>2</td>\n",
       "      <td>1</td>\n",
       "      <td>1</td>\n",
       "      <td>Cumings, Mrs. John Bradley (Florence Briggs Th...</td>\n",
       "      <td>female</td>\n",
       "      <td>38.0</td>\n",
       "      <td>1</td>\n",
       "      <td>0</td>\n",
       "      <td>PC 17599</td>\n",
       "      <td>71.2833</td>\n",
       "      <td>C85</td>\n",
       "      <td>C</td>\n",
       "    </tr>\n",
       "    <tr>\n",
       "      <th>2</th>\n",
       "      <td>3</td>\n",
       "      <td>1</td>\n",
       "      <td>3</td>\n",
       "      <td>Heikkinen, Miss. Laina</td>\n",
       "      <td>female</td>\n",
       "      <td>26.0</td>\n",
       "      <td>0</td>\n",
       "      <td>0</td>\n",
       "      <td>STON/O2. 3101282</td>\n",
       "      <td>7.9250</td>\n",
       "      <td>NaN</td>\n",
       "      <td>S</td>\n",
       "    </tr>\n",
       "    <tr>\n",
       "      <th>3</th>\n",
       "      <td>4</td>\n",
       "      <td>1</td>\n",
       "      <td>1</td>\n",
       "      <td>Futrelle, Mrs. Jacques Heath (Lily May Peel)</td>\n",
       "      <td>female</td>\n",
       "      <td>35.0</td>\n",
       "      <td>1</td>\n",
       "      <td>0</td>\n",
       "      <td>113803</td>\n",
       "      <td>53.1000</td>\n",
       "      <td>C123</td>\n",
       "      <td>S</td>\n",
       "    </tr>\n",
       "    <tr>\n",
       "      <th>4</th>\n",
       "      <td>5</td>\n",
       "      <td>0</td>\n",
       "      <td>3</td>\n",
       "      <td>Allen, Mr. William Henry</td>\n",
       "      <td>male</td>\n",
       "      <td>35.0</td>\n",
       "      <td>0</td>\n",
       "      <td>0</td>\n",
       "      <td>373450</td>\n",
       "      <td>8.0500</td>\n",
       "      <td>NaN</td>\n",
       "      <td>S</td>\n",
       "    </tr>\n",
       "  </tbody>\n",
       "</table>\n",
       "</div>"
      ],
      "text/plain": [
       "   PassengerId  Survived  Pclass  \\\n",
       "0            1         0       3   \n",
       "1            2         1       1   \n",
       "2            3         1       3   \n",
       "3            4         1       1   \n",
       "4            5         0       3   \n",
       "\n",
       "                                                Name     Sex   Age  SibSp  \\\n",
       "0                            Braund, Mr. Owen Harris    male  22.0      1   \n",
       "1  Cumings, Mrs. John Bradley (Florence Briggs Th...  female  38.0      1   \n",
       "2                             Heikkinen, Miss. Laina  female  26.0      0   \n",
       "3       Futrelle, Mrs. Jacques Heath (Lily May Peel)  female  35.0      1   \n",
       "4                           Allen, Mr. William Henry    male  35.0      0   \n",
       "\n",
       "   Parch            Ticket     Fare Cabin Embarked  \n",
       "0      0         A/5 21171   7.2500   NaN        S  \n",
       "1      0          PC 17599  71.2833   C85        C  \n",
       "2      0  STON/O2. 3101282   7.9250   NaN        S  \n",
       "3      0            113803  53.1000  C123        S  \n",
       "4      0            373450   8.0500   NaN        S  "
      ]
     },
     "execution_count": 59,
     "metadata": {},
     "output_type": "execute_result"
    }
   ],
   "source": [
    "titanic.head()"
   ]
  },
  {
   "cell_type": "code",
   "execution_count": 60,
   "metadata": {},
   "outputs": [
    {
     "data": {
      "text/plain": [
       "PassengerId      int64\n",
       "Survived         int64\n",
       "Pclass           int64\n",
       "Name            object\n",
       "Sex             object\n",
       "Age            float64\n",
       "SibSp            int64\n",
       "Parch            int64\n",
       "Ticket          object\n",
       "Fare           float64\n",
       "Cabin           object\n",
       "Embarked        object\n",
       "dtype: object"
      ]
     },
     "execution_count": 60,
     "metadata": {},
     "output_type": "execute_result"
    }
   ],
   "source": [
    "# Display the data types of each column in the Titanic DataFrame.\n",
    "# This helps in understanding the nature of the data for preprocessing.\n",
    "\n",
    "titanic.dtypes"
   ]
  },
  {
   "cell_type": "code",
   "execution_count": 61,
   "metadata": {},
   "outputs": [
    {
     "data": {
      "text/plain": [
       "Age\n",
       "False    714\n",
       "True     177\n",
       "Name: count, dtype: int64"
      ]
     },
     "execution_count": 61,
     "metadata": {},
     "output_type": "execute_result"
    }
   ],
   "source": [
    "# Count the number of missing values (NaNs) in the \"Age\" column of the Titanic DataFrame.\n",
    "# This will help assess the extent of missing data for the \"Age\" feature.\n",
    "\n",
    "titanic.Age.isna().value_counts()"
   ]
  },
  {
   "cell_type": "code",
   "execution_count": 62,
   "metadata": {},
   "outputs": [
    {
     "name": "stderr",
     "output_type": "stream",
     "text": [
      "C:\\Users\\AbdouMagico\\AppData\\Local\\Temp\\ipykernel_2844\\2509367079.py:3: FutureWarning:\n",
      "\n",
      "A value is trying to be set on a copy of a DataFrame or Series through chained assignment using an inplace method.\n",
      "The behavior will change in pandas 3.0. This inplace method will never work because the intermediate object on which we are setting values always behaves as a copy.\n",
      "\n",
      "For example, when doing 'df[col].method(value, inplace=True)', try using 'df.method({col: value}, inplace=True)' or df[col] = df[col].method(value) instead, to perform the operation inplace on the original object.\n",
      "\n",
      "\n",
      "\n"
     ]
    }
   ],
   "source": [
    "# Replace missing values in the \"Age\" column with the median age.\n",
    "\n",
    "titanic[\"Age\"].fillna(titanic[\"Age\"].median(), inplace=True)"
   ]
  },
  {
   "cell_type": "code",
   "execution_count": 63,
   "metadata": {},
   "outputs": [],
   "source": [
    "# Convert the \"Sex\" column to binary values: 1 for male and 0 for female.\n",
    "\n",
    "titanic[\"Sex\"] = titanic[\"Sex\"].apply(lambda x: 1 if x == \"male\" else 0)"
   ]
  },
  {
   "cell_type": "code",
   "execution_count": 64,
   "metadata": {},
   "outputs": [],
   "source": [
    "# Create a new column \"FamilySize\" by summing \"Parch\" (parents/children) and \"SibSp\" (siblings/spouses).\n",
    "\n",
    "titanic[\"FamilySize\"] = titanic[\"Parch\"] + titanic[\"SibSp\"]\n",
    "\n",
    "# Remove the \"Parch\" and \"SibSp\" columns as their information is now represented in \"FamilySize\".\n",
    "\n",
    "titanic.drop(columns=[\"Parch\", \"SibSp\"], axis=1, inplace=True)"
   ]
  },
  {
   "cell_type": "code",
   "execution_count": 65,
   "metadata": {},
   "outputs": [],
   "source": [
    "# One-hot encode the \"Embarked\" column, creating new binary columns for each embarkation port.\n",
    "# Drop the original \"Embarked\" column after encoding.\n",
    "\n",
    "titanic = titanic.join(pd.get_dummies(titanic[\"Embarked\"], prefix=\"EmbarkedAt\")).drop(columns=[\"Embarked\"], axis=1)"
   ]
  },
  {
   "cell_type": "code",
   "execution_count": 66,
   "metadata": {},
   "outputs": [],
   "source": [
    "# Convert boolean values in the DataFrame to binary: True becomes 1 and False becomes 0.\n",
    "# Non-boolean values remain unchanged.\n",
    "\n",
    "titanic = titanic.map(lambda x: 1 if x is True else 0 if x is False else x)"
   ]
  },
  {
   "cell_type": "code",
   "execution_count": 67,
   "metadata": {},
   "outputs": [],
   "source": [
    "# Create a new column \"isAlone\" where 1 indicates the passenger is alone (FamilySize == 0) \n",
    "# and 0 indicates the passenger is not alone.\n",
    "\n",
    "titanic[\"isAlone\"] = (titanic[\"FamilySize\"] == 0).astype(int)"
   ]
  },
  {
   "cell_type": "code",
   "execution_count": 68,
   "metadata": {},
   "outputs": [],
   "source": [
    "# Create a new column \"AgeGroup\" by categorizing the \"Age\" column into age groups:\n",
    "# \"child\" for ages under 13, \"teenager\" for ages 13-18, \"adult\" for ages 19-59, and \"senior\" for ages 60 and above.\n",
    "\n",
    "titanic[\"AgeGroup\"] = titanic[\"Age\"].apply(lambda x: \"child\" if x < 13 else \"teenager\" if x < 19 else \"adult\" if x < 60 else \"senior\")"
   ]
  },
  {
   "cell_type": "code",
   "execution_count": 69,
   "metadata": {},
   "outputs": [],
   "source": [
    "# Convert the \"AgeGroup\" categorical values to numeric labels using factorization.\n",
    "# Each unique age group is assigned a unique integer.\n",
    "\n",
    "titanic[\"AgeGroup\"] = pd.factorize(titanic[\"AgeGroup\"])[0]"
   ]
  },
  {
   "cell_type": "code",
   "execution_count": 70,
   "metadata": {},
   "outputs": [],
   "source": [
    "# Calculate the size of each group based on the \"Ticket\" column, representing the number of passengers with the same ticket.\n",
    "\n",
    "ticket_group_size = titanic.groupby(by=[\"Ticket\"]).size()\n",
    "\n",
    "# Map the group sizes to a new column \"TicketGroupSize\" in the DataFrame.\n",
    "# This column shows the number of passengers sharing the same ticket.\n",
    "\n",
    "titanic[\"TicketGroupSize\"] = titanic[\"Ticket\"].map(ticket_group_size)"
   ]
  },
  {
   "cell_type": "code",
   "execution_count": 71,
   "metadata": {},
   "outputs": [],
   "source": [
    "# Categorize the \"Fare\" column into fare groups:\n",
    "# \"low\" for fares less than or equal to 50,\n",
    "# \"medium\" for fares between 51 and 150,\n",
    "# and \"high\" for fares greater than 150.\n",
    "\n",
    "titanic[\"Fare\"] = titanic[\"Fare\"].apply(lambda x: \"low\" if x <= 50 else \"medium\" if x <= 150 else \"high\")"
   ]
  },
  {
   "cell_type": "code",
   "execution_count": 72,
   "metadata": {},
   "outputs": [],
   "source": [
    "# Convert the \"Fare\" categorical values to numeric labels using factorization.\n",
    "# Each unique fare category (\"low\", \"medium\", \"high\") is assigned a unique integer.\n",
    "\n",
    "titanic[\"Fare\"] = pd.factorize(titanic[\"Fare\"])[0]"
   ]
  },
  {
   "cell_type": "code",
   "execution_count": 73,
   "metadata": {},
   "outputs": [],
   "source": [
    "# Add a feature for the length of the passenger's name\n",
    "\n",
    "titanic['NameLength'] = titanic['Name'].apply(len)"
   ]
  },
  {
   "cell_type": "code",
   "execution_count": 74,
   "metadata": {},
   "outputs": [],
   "source": [
    "# Extract the title from the \"Name\" column, which is located between the comma and the period.\n",
    "# The title is then cleaned of any leading or trailing whitespace.\n",
    "\n",
    "titanic['Title'] = titanic['Name'].apply(lambda x: x.split(',')[1].split('.')[0].strip())\n",
    "\n",
    "# Drop the \"Name\" and \"Ticket\" columns as their information is no longer needed for analysis.\n",
    "\n",
    "titanic.drop(columns=[\"Name\", \"Ticket\"], axis=1, inplace=True)"
   ]
  },
  {
   "cell_type": "code",
   "execution_count": 75,
   "metadata": {},
   "outputs": [],
   "source": [
    "# One-hot encode the \"Title\" column, creating binary columns for each title (e.g., \"Mr\", \"Mrs\").\n",
    "# Drop the original \"Title\" column after encoding.\n",
    "\n",
    "titanic = titanic.join(pd.get_dummies(titanic[\"Title\"], prefix=\"Title\")).drop(columns=[\"Title\"], axis=1)"
   ]
  },
  {
   "cell_type": "code",
   "execution_count": 76,
   "metadata": {},
   "outputs": [
    {
     "data": {
      "text/plain": [
       "Cabin\n",
       "True     687\n",
       "False    204\n",
       "Name: count, dtype: int64"
      ]
     },
     "execution_count": 76,
     "metadata": {},
     "output_type": "execute_result"
    }
   ],
   "source": [
    "titanic.Cabin.isna().value_counts()"
   ]
  },
  {
   "cell_type": "code",
   "execution_count": 77,
   "metadata": {},
   "outputs": [],
   "source": [
    "# Create deck feature from the first character of 'Cabin' and encode it as dummies, \n",
    "# then drop the original 'Deck' and 'Cabin' columns.\n",
    "\n",
    "titanic[\"Deck\"] = titanic[\"Cabin\"].str[0].fillna(\"Unknown\")\n",
    "titanic = titanic.join(pd.get_dummies(titanic[\"Deck\"], prefix=\"Deck\")).drop(columns=[\"Deck\", \"Cabin\"], axis=1)"
   ]
  },
  {
   "cell_type": "code",
   "execution_count": 78,
   "metadata": {},
   "outputs": [],
   "source": [
    "# Calculate fare per person based on family size\n",
    "\n",
    "titanic['FarePerPerson'] = titanic['Fare'] / (titanic['FamilySize'] + 1)"
   ]
  },
  {
   "cell_type": "code",
   "execution_count": 79,
   "metadata": {},
   "outputs": [],
   "source": [
    "# Convert boolean values in the DataFrame to binary: True becomes 1 and False becomes 0.\n",
    "# Non-boolean values remain unchanged.\n",
    "\n",
    "titanic = titanic.map(lambda x: 1 if x is True else 0 if x is False else x)"
   ]
  },
  {
   "cell_type": "code",
   "execution_count": 80,
   "metadata": {},
   "outputs": [
    {
     "data": {
      "text/html": [
       "<div>\n",
       "<style scoped>\n",
       "    .dataframe tbody tr th:only-of-type {\n",
       "        vertical-align: middle;\n",
       "    }\n",
       "\n",
       "    .dataframe tbody tr th {\n",
       "        vertical-align: top;\n",
       "    }\n",
       "\n",
       "    .dataframe thead th {\n",
       "        text-align: right;\n",
       "    }\n",
       "</style>\n",
       "<table border=\"1\" class=\"dataframe\">\n",
       "  <thead>\n",
       "    <tr style=\"text-align: right;\">\n",
       "      <th></th>\n",
       "      <th>PassengerId</th>\n",
       "      <th>Survived</th>\n",
       "      <th>Pclass</th>\n",
       "      <th>Sex</th>\n",
       "      <th>Age</th>\n",
       "      <th>Fare</th>\n",
       "      <th>FamilySize</th>\n",
       "      <th>EmbarkedAt_C</th>\n",
       "      <th>EmbarkedAt_Q</th>\n",
       "      <th>EmbarkedAt_S</th>\n",
       "      <th>...</th>\n",
       "      <th>Deck_A</th>\n",
       "      <th>Deck_B</th>\n",
       "      <th>Deck_C</th>\n",
       "      <th>Deck_D</th>\n",
       "      <th>Deck_E</th>\n",
       "      <th>Deck_F</th>\n",
       "      <th>Deck_G</th>\n",
       "      <th>Deck_T</th>\n",
       "      <th>Deck_Unknown</th>\n",
       "      <th>FarePerPerson</th>\n",
       "    </tr>\n",
       "  </thead>\n",
       "  <tbody>\n",
       "    <tr>\n",
       "      <th>0</th>\n",
       "      <td>1</td>\n",
       "      <td>0</td>\n",
       "      <td>3</td>\n",
       "      <td>1</td>\n",
       "      <td>22.0</td>\n",
       "      <td>0</td>\n",
       "      <td>1</td>\n",
       "      <td>0</td>\n",
       "      <td>0</td>\n",
       "      <td>1</td>\n",
       "      <td>...</td>\n",
       "      <td>0</td>\n",
       "      <td>0</td>\n",
       "      <td>0</td>\n",
       "      <td>0</td>\n",
       "      <td>0</td>\n",
       "      <td>0</td>\n",
       "      <td>0</td>\n",
       "      <td>0</td>\n",
       "      <td>1</td>\n",
       "      <td>0.0</td>\n",
       "    </tr>\n",
       "    <tr>\n",
       "      <th>1</th>\n",
       "      <td>2</td>\n",
       "      <td>1</td>\n",
       "      <td>1</td>\n",
       "      <td>0</td>\n",
       "      <td>38.0</td>\n",
       "      <td>1</td>\n",
       "      <td>1</td>\n",
       "      <td>1</td>\n",
       "      <td>0</td>\n",
       "      <td>0</td>\n",
       "      <td>...</td>\n",
       "      <td>0</td>\n",
       "      <td>0</td>\n",
       "      <td>1</td>\n",
       "      <td>0</td>\n",
       "      <td>0</td>\n",
       "      <td>0</td>\n",
       "      <td>0</td>\n",
       "      <td>0</td>\n",
       "      <td>0</td>\n",
       "      <td>0.5</td>\n",
       "    </tr>\n",
       "    <tr>\n",
       "      <th>2</th>\n",
       "      <td>3</td>\n",
       "      <td>1</td>\n",
       "      <td>3</td>\n",
       "      <td>0</td>\n",
       "      <td>26.0</td>\n",
       "      <td>0</td>\n",
       "      <td>0</td>\n",
       "      <td>0</td>\n",
       "      <td>0</td>\n",
       "      <td>1</td>\n",
       "      <td>...</td>\n",
       "      <td>0</td>\n",
       "      <td>0</td>\n",
       "      <td>0</td>\n",
       "      <td>0</td>\n",
       "      <td>0</td>\n",
       "      <td>0</td>\n",
       "      <td>0</td>\n",
       "      <td>0</td>\n",
       "      <td>1</td>\n",
       "      <td>0.0</td>\n",
       "    </tr>\n",
       "    <tr>\n",
       "      <th>3</th>\n",
       "      <td>4</td>\n",
       "      <td>1</td>\n",
       "      <td>1</td>\n",
       "      <td>0</td>\n",
       "      <td>35.0</td>\n",
       "      <td>1</td>\n",
       "      <td>1</td>\n",
       "      <td>0</td>\n",
       "      <td>0</td>\n",
       "      <td>1</td>\n",
       "      <td>...</td>\n",
       "      <td>0</td>\n",
       "      <td>0</td>\n",
       "      <td>1</td>\n",
       "      <td>0</td>\n",
       "      <td>0</td>\n",
       "      <td>0</td>\n",
       "      <td>0</td>\n",
       "      <td>0</td>\n",
       "      <td>0</td>\n",
       "      <td>0.5</td>\n",
       "    </tr>\n",
       "    <tr>\n",
       "      <th>4</th>\n",
       "      <td>5</td>\n",
       "      <td>0</td>\n",
       "      <td>3</td>\n",
       "      <td>1</td>\n",
       "      <td>35.0</td>\n",
       "      <td>0</td>\n",
       "      <td>0</td>\n",
       "      <td>0</td>\n",
       "      <td>0</td>\n",
       "      <td>1</td>\n",
       "      <td>...</td>\n",
       "      <td>0</td>\n",
       "      <td>0</td>\n",
       "      <td>0</td>\n",
       "      <td>0</td>\n",
       "      <td>0</td>\n",
       "      <td>0</td>\n",
       "      <td>0</td>\n",
       "      <td>0</td>\n",
       "      <td>1</td>\n",
       "      <td>0.0</td>\n",
       "    </tr>\n",
       "  </tbody>\n",
       "</table>\n",
       "<p>5 rows × 41 columns</p>\n",
       "</div>"
      ],
      "text/plain": [
       "   PassengerId  Survived  Pclass  Sex   Age  Fare  FamilySize  EmbarkedAt_C  \\\n",
       "0            1         0       3    1  22.0     0           1             0   \n",
       "1            2         1       1    0  38.0     1           1             1   \n",
       "2            3         1       3    0  26.0     0           0             0   \n",
       "3            4         1       1    0  35.0     1           1             0   \n",
       "4            5         0       3    1  35.0     0           0             0   \n",
       "\n",
       "   EmbarkedAt_Q  EmbarkedAt_S  ...  Deck_A  Deck_B  Deck_C  Deck_D  Deck_E  \\\n",
       "0             0             1  ...       0       0       0       0       0   \n",
       "1             0             0  ...       0       0       1       0       0   \n",
       "2             0             1  ...       0       0       0       0       0   \n",
       "3             0             1  ...       0       0       1       0       0   \n",
       "4             0             1  ...       0       0       0       0       0   \n",
       "\n",
       "   Deck_F  Deck_G  Deck_T  Deck_Unknown  FarePerPerson  \n",
       "0       0       0       0             1            0.0  \n",
       "1       0       0       0             0            0.5  \n",
       "2       0       0       0             1            0.0  \n",
       "3       0       0       0             0            0.5  \n",
       "4       0       0       0             1            0.0  \n",
       "\n",
       "[5 rows x 41 columns]"
      ]
     },
     "execution_count": 80,
     "metadata": {},
     "output_type": "execute_result"
    }
   ],
   "source": [
    "titanic.head()"
   ]
  },
  {
   "cell_type": "markdown",
   "metadata": {},
   "source": [
    "## Training the Model"
   ]
  },
  {
   "cell_type": "code",
   "execution_count": 81,
   "metadata": {},
   "outputs": [],
   "source": [
    "# Import the RandomForestClassifier from sklearn.ensemble for building and training a random forest model.\n",
    "from sklearn.ensemble import RandomForestClassifier\n",
    "\n",
    "# Import train_test_split from sklearn.model_selection to split the dataset into training and testing sets.\n",
    "# This helps in evaluating the performance of the model on unseen data.\n",
    "from sklearn.model_selection import train_test_split"
   ]
  },
  {
   "cell_type": "code",
   "execution_count": 82,
   "metadata": {},
   "outputs": [],
   "source": [
    "# Initialize a RandomForestClassifier model with parallel processing enabled (n_jobs=-1).\n",
    "# This allows the model to use all available CPU cores for training, potentially speeding up the process.\n",
    "\n",
    "model: RandomForestClassifier = RandomForestClassifier(n_jobs=-1, random_state=42)"
   ]
  },
  {
   "cell_type": "code",
   "execution_count": 83,
   "metadata": {},
   "outputs": [],
   "source": [
    "# Separate the features (X) from the target variable (y).\n",
    "# X contains all columns except \"Survived\", which is the target variable for prediction.\n",
    "# y contains the \"Survived\" column, representing whether the passenger survived.\n",
    "\n",
    "X, y = titanic.drop(columns=[\"Survived\", \"PassengerId\"], axis=1), titanic[\"Survived\"]"
   ]
  },
  {
   "cell_type": "code",
   "execution_count": 84,
   "metadata": {},
   "outputs": [],
   "source": [
    "# Split the dataset into training and testing sets.\n",
    "# 20% of the data is reserved for testing (test_size=0.2), while the remaining 80% is used for training.\n",
    "# This helps evaluate the model's performance on unseen data.\n",
    "\n",
    "X_train, X_test, y_train, y_test = train_test_split(X, y, test_size=0.2)"
   ]
  },
  {
   "cell_type": "code",
   "execution_count": 85,
   "metadata": {},
   "outputs": [
    {
     "data": {
      "text/html": [
       "<style>#sk-container-id-3 {\n",
       "  /* Definition of color scheme common for light and dark mode */\n",
       "  --sklearn-color-text: black;\n",
       "  --sklearn-color-line: gray;\n",
       "  /* Definition of color scheme for unfitted estimators */\n",
       "  --sklearn-color-unfitted-level-0: #fff5e6;\n",
       "  --sklearn-color-unfitted-level-1: #f6e4d2;\n",
       "  --sklearn-color-unfitted-level-2: #ffe0b3;\n",
       "  --sklearn-color-unfitted-level-3: chocolate;\n",
       "  /* Definition of color scheme for fitted estimators */\n",
       "  --sklearn-color-fitted-level-0: #f0f8ff;\n",
       "  --sklearn-color-fitted-level-1: #d4ebff;\n",
       "  --sklearn-color-fitted-level-2: #b3dbfd;\n",
       "  --sklearn-color-fitted-level-3: cornflowerblue;\n",
       "\n",
       "  /* Specific color for light theme */\n",
       "  --sklearn-color-text-on-default-background: var(--sg-text-color, var(--theme-code-foreground, var(--jp-content-font-color1, black)));\n",
       "  --sklearn-color-background: var(--sg-background-color, var(--theme-background, var(--jp-layout-color0, white)));\n",
       "  --sklearn-color-border-box: var(--sg-text-color, var(--theme-code-foreground, var(--jp-content-font-color1, black)));\n",
       "  --sklearn-color-icon: #696969;\n",
       "\n",
       "  @media (prefers-color-scheme: dark) {\n",
       "    /* Redefinition of color scheme for dark theme */\n",
       "    --sklearn-color-text-on-default-background: var(--sg-text-color, var(--theme-code-foreground, var(--jp-content-font-color1, white)));\n",
       "    --sklearn-color-background: var(--sg-background-color, var(--theme-background, var(--jp-layout-color0, #111)));\n",
       "    --sklearn-color-border-box: var(--sg-text-color, var(--theme-code-foreground, var(--jp-content-font-color1, white)));\n",
       "    --sklearn-color-icon: #878787;\n",
       "  }\n",
       "}\n",
       "\n",
       "#sk-container-id-3 {\n",
       "  color: var(--sklearn-color-text);\n",
       "}\n",
       "\n",
       "#sk-container-id-3 pre {\n",
       "  padding: 0;\n",
       "}\n",
       "\n",
       "#sk-container-id-3 input.sk-hidden--visually {\n",
       "  border: 0;\n",
       "  clip: rect(1px 1px 1px 1px);\n",
       "  clip: rect(1px, 1px, 1px, 1px);\n",
       "  height: 1px;\n",
       "  margin: -1px;\n",
       "  overflow: hidden;\n",
       "  padding: 0;\n",
       "  position: absolute;\n",
       "  width: 1px;\n",
       "}\n",
       "\n",
       "#sk-container-id-3 div.sk-dashed-wrapped {\n",
       "  border: 1px dashed var(--sklearn-color-line);\n",
       "  margin: 0 0.4em 0.5em 0.4em;\n",
       "  box-sizing: border-box;\n",
       "  padding-bottom: 0.4em;\n",
       "  background-color: var(--sklearn-color-background);\n",
       "}\n",
       "\n",
       "#sk-container-id-3 div.sk-container {\n",
       "  /* jupyter's `normalize.less` sets `[hidden] { display: none; }`\n",
       "     but bootstrap.min.css set `[hidden] { display: none !important; }`\n",
       "     so we also need the `!important` here to be able to override the\n",
       "     default hidden behavior on the sphinx rendered scikit-learn.org.\n",
       "     See: https://github.com/scikit-learn/scikit-learn/issues/21755 */\n",
       "  display: inline-block !important;\n",
       "  position: relative;\n",
       "}\n",
       "\n",
       "#sk-container-id-3 div.sk-text-repr-fallback {\n",
       "  display: none;\n",
       "}\n",
       "\n",
       "div.sk-parallel-item,\n",
       "div.sk-serial,\n",
       "div.sk-item {\n",
       "  /* draw centered vertical line to link estimators */\n",
       "  background-image: linear-gradient(var(--sklearn-color-text-on-default-background), var(--sklearn-color-text-on-default-background));\n",
       "  background-size: 2px 100%;\n",
       "  background-repeat: no-repeat;\n",
       "  background-position: center center;\n",
       "}\n",
       "\n",
       "/* Parallel-specific style estimator block */\n",
       "\n",
       "#sk-container-id-3 div.sk-parallel-item::after {\n",
       "  content: \"\";\n",
       "  width: 100%;\n",
       "  border-bottom: 2px solid var(--sklearn-color-text-on-default-background);\n",
       "  flex-grow: 1;\n",
       "}\n",
       "\n",
       "#sk-container-id-3 div.sk-parallel {\n",
       "  display: flex;\n",
       "  align-items: stretch;\n",
       "  justify-content: center;\n",
       "  background-color: var(--sklearn-color-background);\n",
       "  position: relative;\n",
       "}\n",
       "\n",
       "#sk-container-id-3 div.sk-parallel-item {\n",
       "  display: flex;\n",
       "  flex-direction: column;\n",
       "}\n",
       "\n",
       "#sk-container-id-3 div.sk-parallel-item:first-child::after {\n",
       "  align-self: flex-end;\n",
       "  width: 50%;\n",
       "}\n",
       "\n",
       "#sk-container-id-3 div.sk-parallel-item:last-child::after {\n",
       "  align-self: flex-start;\n",
       "  width: 50%;\n",
       "}\n",
       "\n",
       "#sk-container-id-3 div.sk-parallel-item:only-child::after {\n",
       "  width: 0;\n",
       "}\n",
       "\n",
       "/* Serial-specific style estimator block */\n",
       "\n",
       "#sk-container-id-3 div.sk-serial {\n",
       "  display: flex;\n",
       "  flex-direction: column;\n",
       "  align-items: center;\n",
       "  background-color: var(--sklearn-color-background);\n",
       "  padding-right: 1em;\n",
       "  padding-left: 1em;\n",
       "}\n",
       "\n",
       "\n",
       "/* Toggleable style: style used for estimator/Pipeline/ColumnTransformer box that is\n",
       "clickable and can be expanded/collapsed.\n",
       "- Pipeline and ColumnTransformer use this feature and define the default style\n",
       "- Estimators will overwrite some part of the style using the `sk-estimator` class\n",
       "*/\n",
       "\n",
       "/* Pipeline and ColumnTransformer style (default) */\n",
       "\n",
       "#sk-container-id-3 div.sk-toggleable {\n",
       "  /* Default theme specific background. It is overwritten whether we have a\n",
       "  specific estimator or a Pipeline/ColumnTransformer */\n",
       "  background-color: var(--sklearn-color-background);\n",
       "}\n",
       "\n",
       "/* Toggleable label */\n",
       "#sk-container-id-3 label.sk-toggleable__label {\n",
       "  cursor: pointer;\n",
       "  display: block;\n",
       "  width: 100%;\n",
       "  margin-bottom: 0;\n",
       "  padding: 0.5em;\n",
       "  box-sizing: border-box;\n",
       "  text-align: center;\n",
       "}\n",
       "\n",
       "#sk-container-id-3 label.sk-toggleable__label-arrow:before {\n",
       "  /* Arrow on the left of the label */\n",
       "  content: \"▸\";\n",
       "  float: left;\n",
       "  margin-right: 0.25em;\n",
       "  color: var(--sklearn-color-icon);\n",
       "}\n",
       "\n",
       "#sk-container-id-3 label.sk-toggleable__label-arrow:hover:before {\n",
       "  color: var(--sklearn-color-text);\n",
       "}\n",
       "\n",
       "/* Toggleable content - dropdown */\n",
       "\n",
       "#sk-container-id-3 div.sk-toggleable__content {\n",
       "  max-height: 0;\n",
       "  max-width: 0;\n",
       "  overflow: hidden;\n",
       "  text-align: left;\n",
       "  /* unfitted */\n",
       "  background-color: var(--sklearn-color-unfitted-level-0);\n",
       "}\n",
       "\n",
       "#sk-container-id-3 div.sk-toggleable__content.fitted {\n",
       "  /* fitted */\n",
       "  background-color: var(--sklearn-color-fitted-level-0);\n",
       "}\n",
       "\n",
       "#sk-container-id-3 div.sk-toggleable__content pre {\n",
       "  margin: 0.2em;\n",
       "  border-radius: 0.25em;\n",
       "  color: var(--sklearn-color-text);\n",
       "  /* unfitted */\n",
       "  background-color: var(--sklearn-color-unfitted-level-0);\n",
       "}\n",
       "\n",
       "#sk-container-id-3 div.sk-toggleable__content.fitted pre {\n",
       "  /* unfitted */\n",
       "  background-color: var(--sklearn-color-fitted-level-0);\n",
       "}\n",
       "\n",
       "#sk-container-id-3 input.sk-toggleable__control:checked~div.sk-toggleable__content {\n",
       "  /* Expand drop-down */\n",
       "  max-height: 200px;\n",
       "  max-width: 100%;\n",
       "  overflow: auto;\n",
       "}\n",
       "\n",
       "#sk-container-id-3 input.sk-toggleable__control:checked~label.sk-toggleable__label-arrow:before {\n",
       "  content: \"▾\";\n",
       "}\n",
       "\n",
       "/* Pipeline/ColumnTransformer-specific style */\n",
       "\n",
       "#sk-container-id-3 div.sk-label input.sk-toggleable__control:checked~label.sk-toggleable__label {\n",
       "  color: var(--sklearn-color-text);\n",
       "  background-color: var(--sklearn-color-unfitted-level-2);\n",
       "}\n",
       "\n",
       "#sk-container-id-3 div.sk-label.fitted input.sk-toggleable__control:checked~label.sk-toggleable__label {\n",
       "  background-color: var(--sklearn-color-fitted-level-2);\n",
       "}\n",
       "\n",
       "/* Estimator-specific style */\n",
       "\n",
       "/* Colorize estimator box */\n",
       "#sk-container-id-3 div.sk-estimator input.sk-toggleable__control:checked~label.sk-toggleable__label {\n",
       "  /* unfitted */\n",
       "  background-color: var(--sklearn-color-unfitted-level-2);\n",
       "}\n",
       "\n",
       "#sk-container-id-3 div.sk-estimator.fitted input.sk-toggleable__control:checked~label.sk-toggleable__label {\n",
       "  /* fitted */\n",
       "  background-color: var(--sklearn-color-fitted-level-2);\n",
       "}\n",
       "\n",
       "#sk-container-id-3 div.sk-label label.sk-toggleable__label,\n",
       "#sk-container-id-3 div.sk-label label {\n",
       "  /* The background is the default theme color */\n",
       "  color: var(--sklearn-color-text-on-default-background);\n",
       "}\n",
       "\n",
       "/* On hover, darken the color of the background */\n",
       "#sk-container-id-3 div.sk-label:hover label.sk-toggleable__label {\n",
       "  color: var(--sklearn-color-text);\n",
       "  background-color: var(--sklearn-color-unfitted-level-2);\n",
       "}\n",
       "\n",
       "/* Label box, darken color on hover, fitted */\n",
       "#sk-container-id-3 div.sk-label.fitted:hover label.sk-toggleable__label.fitted {\n",
       "  color: var(--sklearn-color-text);\n",
       "  background-color: var(--sklearn-color-fitted-level-2);\n",
       "}\n",
       "\n",
       "/* Estimator label */\n",
       "\n",
       "#sk-container-id-3 div.sk-label label {\n",
       "  font-family: monospace;\n",
       "  font-weight: bold;\n",
       "  display: inline-block;\n",
       "  line-height: 1.2em;\n",
       "}\n",
       "\n",
       "#sk-container-id-3 div.sk-label-container {\n",
       "  text-align: center;\n",
       "}\n",
       "\n",
       "/* Estimator-specific */\n",
       "#sk-container-id-3 div.sk-estimator {\n",
       "  font-family: monospace;\n",
       "  border: 1px dotted var(--sklearn-color-border-box);\n",
       "  border-radius: 0.25em;\n",
       "  box-sizing: border-box;\n",
       "  margin-bottom: 0.5em;\n",
       "  /* unfitted */\n",
       "  background-color: var(--sklearn-color-unfitted-level-0);\n",
       "}\n",
       "\n",
       "#sk-container-id-3 div.sk-estimator.fitted {\n",
       "  /* fitted */\n",
       "  background-color: var(--sklearn-color-fitted-level-0);\n",
       "}\n",
       "\n",
       "/* on hover */\n",
       "#sk-container-id-3 div.sk-estimator:hover {\n",
       "  /* unfitted */\n",
       "  background-color: var(--sklearn-color-unfitted-level-2);\n",
       "}\n",
       "\n",
       "#sk-container-id-3 div.sk-estimator.fitted:hover {\n",
       "  /* fitted */\n",
       "  background-color: var(--sklearn-color-fitted-level-2);\n",
       "}\n",
       "\n",
       "/* Specification for estimator info (e.g. \"i\" and \"?\") */\n",
       "\n",
       "/* Common style for \"i\" and \"?\" */\n",
       "\n",
       ".sk-estimator-doc-link,\n",
       "a:link.sk-estimator-doc-link,\n",
       "a:visited.sk-estimator-doc-link {\n",
       "  float: right;\n",
       "  font-size: smaller;\n",
       "  line-height: 1em;\n",
       "  font-family: monospace;\n",
       "  background-color: var(--sklearn-color-background);\n",
       "  border-radius: 1em;\n",
       "  height: 1em;\n",
       "  width: 1em;\n",
       "  text-decoration: none !important;\n",
       "  margin-left: 1ex;\n",
       "  /* unfitted */\n",
       "  border: var(--sklearn-color-unfitted-level-1) 1pt solid;\n",
       "  color: var(--sklearn-color-unfitted-level-1);\n",
       "}\n",
       "\n",
       ".sk-estimator-doc-link.fitted,\n",
       "a:link.sk-estimator-doc-link.fitted,\n",
       "a:visited.sk-estimator-doc-link.fitted {\n",
       "  /* fitted */\n",
       "  border: var(--sklearn-color-fitted-level-1) 1pt solid;\n",
       "  color: var(--sklearn-color-fitted-level-1);\n",
       "}\n",
       "\n",
       "/* On hover */\n",
       "div.sk-estimator:hover .sk-estimator-doc-link:hover,\n",
       ".sk-estimator-doc-link:hover,\n",
       "div.sk-label-container:hover .sk-estimator-doc-link:hover,\n",
       ".sk-estimator-doc-link:hover {\n",
       "  /* unfitted */\n",
       "  background-color: var(--sklearn-color-unfitted-level-3);\n",
       "  color: var(--sklearn-color-background);\n",
       "  text-decoration: none;\n",
       "}\n",
       "\n",
       "div.sk-estimator.fitted:hover .sk-estimator-doc-link.fitted:hover,\n",
       ".sk-estimator-doc-link.fitted:hover,\n",
       "div.sk-label-container:hover .sk-estimator-doc-link.fitted:hover,\n",
       ".sk-estimator-doc-link.fitted:hover {\n",
       "  /* fitted */\n",
       "  background-color: var(--sklearn-color-fitted-level-3);\n",
       "  color: var(--sklearn-color-background);\n",
       "  text-decoration: none;\n",
       "}\n",
       "\n",
       "/* Span, style for the box shown on hovering the info icon */\n",
       ".sk-estimator-doc-link span {\n",
       "  display: none;\n",
       "  z-index: 9999;\n",
       "  position: relative;\n",
       "  font-weight: normal;\n",
       "  right: .2ex;\n",
       "  padding: .5ex;\n",
       "  margin: .5ex;\n",
       "  width: min-content;\n",
       "  min-width: 20ex;\n",
       "  max-width: 50ex;\n",
       "  color: var(--sklearn-color-text);\n",
       "  box-shadow: 2pt 2pt 4pt #999;\n",
       "  /* unfitted */\n",
       "  background: var(--sklearn-color-unfitted-level-0);\n",
       "  border: .5pt solid var(--sklearn-color-unfitted-level-3);\n",
       "}\n",
       "\n",
       ".sk-estimator-doc-link.fitted span {\n",
       "  /* fitted */\n",
       "  background: var(--sklearn-color-fitted-level-0);\n",
       "  border: var(--sklearn-color-fitted-level-3);\n",
       "}\n",
       "\n",
       ".sk-estimator-doc-link:hover span {\n",
       "  display: block;\n",
       "}\n",
       "\n",
       "/* \"?\"-specific style due to the `<a>` HTML tag */\n",
       "\n",
       "#sk-container-id-3 a.estimator_doc_link {\n",
       "  float: right;\n",
       "  font-size: 1rem;\n",
       "  line-height: 1em;\n",
       "  font-family: monospace;\n",
       "  background-color: var(--sklearn-color-background);\n",
       "  border-radius: 1rem;\n",
       "  height: 1rem;\n",
       "  width: 1rem;\n",
       "  text-decoration: none;\n",
       "  /* unfitted */\n",
       "  color: var(--sklearn-color-unfitted-level-1);\n",
       "  border: var(--sklearn-color-unfitted-level-1) 1pt solid;\n",
       "}\n",
       "\n",
       "#sk-container-id-3 a.estimator_doc_link.fitted {\n",
       "  /* fitted */\n",
       "  border: var(--sklearn-color-fitted-level-1) 1pt solid;\n",
       "  color: var(--sklearn-color-fitted-level-1);\n",
       "}\n",
       "\n",
       "/* On hover */\n",
       "#sk-container-id-3 a.estimator_doc_link:hover {\n",
       "  /* unfitted */\n",
       "  background-color: var(--sklearn-color-unfitted-level-3);\n",
       "  color: var(--sklearn-color-background);\n",
       "  text-decoration: none;\n",
       "}\n",
       "\n",
       "#sk-container-id-3 a.estimator_doc_link.fitted:hover {\n",
       "  /* fitted */\n",
       "  background-color: var(--sklearn-color-fitted-level-3);\n",
       "}\n",
       "</style><div id=\"sk-container-id-3\" class=\"sk-top-container\"><div class=\"sk-text-repr-fallback\"><pre>RandomForestClassifier(n_jobs=-1, random_state=42)</pre><b>In a Jupyter environment, please rerun this cell to show the HTML representation or trust the notebook. <br />On GitHub, the HTML representation is unable to render, please try loading this page with nbviewer.org.</b></div><div class=\"sk-container\" hidden><div class=\"sk-item\"><div class=\"sk-estimator fitted sk-toggleable\"><input class=\"sk-toggleable__control sk-hidden--visually\" id=\"sk-estimator-id-3\" type=\"checkbox\" checked><label for=\"sk-estimator-id-3\" class=\"sk-toggleable__label fitted sk-toggleable__label-arrow fitted\">&nbsp;&nbsp;RandomForestClassifier<a class=\"sk-estimator-doc-link fitted\" rel=\"noreferrer\" target=\"_blank\" href=\"https://scikit-learn.org/1.5/modules/generated/sklearn.ensemble.RandomForestClassifier.html\">?<span>Documentation for RandomForestClassifier</span></a><span class=\"sk-estimator-doc-link fitted\">i<span>Fitted</span></span></label><div class=\"sk-toggleable__content fitted\"><pre>RandomForestClassifier(n_jobs=-1, random_state=42)</pre></div> </div></div></div></div>"
      ],
      "text/plain": [
       "RandomForestClassifier(n_jobs=-1, random_state=42)"
      ]
     },
     "execution_count": 85,
     "metadata": {},
     "output_type": "execute_result"
    }
   ],
   "source": [
    "# Train the RandomForestClassifier model using the training data (X_train and y_train).\n",
    "# The model learns to predict the target variable \"Survived\" based on the features provided.\n",
    "\n",
    "model.fit(X_train, y_train)"
   ]
  },
  {
   "cell_type": "code",
   "execution_count": 86,
   "metadata": {},
   "outputs": [
    {
     "data": {
      "text/plain": [
       "0.8156424581005587"
      ]
     },
     "execution_count": 86,
     "metadata": {},
     "output_type": "execute_result"
    }
   ],
   "source": [
    "# Evaluate the trained RandomForestClassifier model on the test data (X_test and y_test).\n",
    "# This returns the accuracy of the model, representing the proportion of correctly classified samples.\n",
    "\n",
    "model.score(X_test, y_test)"
   ]
  },
  {
   "cell_type": "code",
   "execution_count": 87,
   "metadata": {},
   "outputs": [],
   "source": [
    "# Import matplotlib's pyplot module as plt for creating static, interactive, and animated visualizations.\n",
    "# This module provides functions to generate various types of plots and charts.\n",
    "\n",
    "import matplotlib.pyplot as plt"
   ]
  },
  {
   "cell_type": "code",
   "execution_count": 88,
   "metadata": {},
   "outputs": [
    {
     "data": {
      "text/plain": [
       "{'NameLength': np.float64(0.20008465691811103),\n",
       " 'Age': np.float64(0.16678823979293866),\n",
       " 'Sex': np.float64(0.109266040542669),\n",
       " 'Title_Mr': np.float64(0.09859733276597069),\n",
       " 'Pclass': np.float64(0.06602166194703919),\n",
       " 'TicketGroupSize': np.float64(0.0585163481284064),\n",
       " 'FamilySize': np.float64(0.04639107012722283),\n",
       " 'Title_Miss': np.float64(0.03208600063452624),\n",
       " 'Deck_Unknown': np.float64(0.031770297377372976),\n",
       " 'Title_Mrs': np.float64(0.027841101283488743),\n",
       " 'FarePerPerson': np.float64(0.023440482843325096),\n",
       " 'AgeGroup': np.float64(0.01980905663427631),\n",
       " 'isAlone': np.float64(0.01590450047663562),\n",
       " 'EmbarkedAt_S': np.float64(0.015203456840731171),\n",
       " 'EmbarkedAt_C': np.float64(0.015145979645529764),\n",
       " 'Fare': np.float64(0.015019962314795085),\n",
       " 'Deck_E': np.float64(0.009566516091492235),\n",
       " 'Deck_C': np.float64(0.008482241473138445),\n",
       " 'EmbarkedAt_Q': np.float64(0.007862159936476765),\n",
       " 'Deck_B': np.float64(0.006503695495047011),\n",
       " 'Deck_D': np.float64(0.006092146397489359),\n",
       " 'Title_Master': np.float64(0.005469886885809678),\n",
       " 'Deck_A': np.float64(0.0033157161185331466),\n",
       " 'Deck_F': np.float64(0.002303489021513633),\n",
       " 'Title_Rev': np.float64(0.0018244990574908836),\n",
       " 'Title_Dr': np.float64(0.0014094165071657646),\n",
       " 'Deck_G': np.float64(0.0013654948400476596),\n",
       " 'Title_Major': np.float64(0.000931121038480073),\n",
       " 'Deck_T': np.float64(0.0005594999188165161),\n",
       " 'Title_Ms': np.float64(0.0005029513140694647),\n",
       " 'Title_Col': np.float64(0.0004962616020027081),\n",
       " 'Title_Mlle': np.float64(0.0003914310897344596),\n",
       " 'Title_Jonkheer': np.float64(0.00027763289843862844),\n",
       " 'Title_Capt': np.float64(0.00024512069121580306),\n",
       " 'Title_Don': np.float64(0.00023841390754836316),\n",
       " 'Title_the Countess': np.float64(0.00015566407100021235),\n",
       " 'Title_Lady': np.float64(9.89927092612345e-05),\n",
       " 'Title_Mme': np.float64(2.1460662189177886e-05),\n",
       " 'Title_Sir': np.float64(0.0)}"
      ]
     },
     "execution_count": 88,
     "metadata": {},
     "output_type": "execute_result"
    }
   ],
   "source": [
    "# Extract feature importances from the trained RandomForestClassifier model.\n",
    "# feature_importances contains the importance scores for each feature, \n",
    "# and feature_names contains the names of the features.\n",
    "\n",
    "feature_importances = model.feature_importances_\n",
    "feature_names = model.feature_names_in_\n",
    "\n",
    "# Combine feature names and their corresponding importance scores into a dictionary,\n",
    "# then sort the dictionary by importance scores in descending order.\n",
    "\n",
    "sorted_importances = dict(\n",
    "    sorted(\n",
    "        zip(feature_names, feature_importances),\n",
    "        key=lambda x: x[1],\n",
    "        reverse=True\n",
    "    )\n",
    ")\n",
    "\n",
    "# Display the sorted feature importances.\n",
    "sorted_importances"
   ]
  },
  {
   "cell_type": "code",
   "execution_count": 89,
   "metadata": {},
   "outputs": [
    {
     "data": {
      "image/png": "[encoded data removed]",
      "text/plain": [
       "<Figure size 1000x600 with 1 Axes>"
      ]
     },
     "metadata": {},
     "output_type": "display_data"
    }
   ],
   "source": [
    "# Create a bar chart to visualize the feature importances.\n",
    "# The plot shows the importance scores of features in descending order.\n",
    "\n",
    "plt.figure(figsize=(10, 6))  # Set the figure size for the plot.\n",
    "\n",
    "# Plot the bar chart with feature names on the x-axis and their importance scores on the y-axis.\n",
    "plt.bar(sorted_importances.keys(), sorted_importances.values(), color='steelblue', edgecolor='black')\n",
    "\n",
    "# Set the title and labels with appropriate fonts and sizes.\n",
    "plt.title('Feature Importances', fontsize=16, fontweight='bold')\n",
    "plt.xlabel('Features', fontsize=12)\n",
    "plt.ylabel('Importance Score', fontsize=12)\n",
    "\n",
    "# Rotate x-axis labels for better readability and adjust font size.\n",
    "plt.xticks(rotation=90, ha='right', fontsize=10)\n",
    "\n",
    "# Adjust layout to prevent clipping of labels and add a grid to the y-axis.\n",
    "plt.tight_layout()\n",
    "plt.grid(axis='y', linestyle='--', alpha=0.6)\n",
    "\n",
    "# Display the plot.\n",
    "plt.show()"
   ]
  },
  {
   "cell_type": "markdown",
   "metadata": {},
   "source": [
    "## Enhancing Model Performance"
   ]
  },
  {
   "cell_type": "code",
   "execution_count": 90,
   "metadata": {},
   "outputs": [],
   "source": [
    "# Import the Optuna library for hyperparameter optimization and automated machine learning.\n",
    "import optuna\n",
    "\n",
    "# Import cross_val_score from sklearn.model_selection to evaluate the model using cross-validation.\n",
    "# This function helps in assessing the model's performance and generalization ability across different subsets of the data.\n",
    "from sklearn.model_selection import cross_val_score"
   ]
  },
  {
   "cell_type": "code",
   "execution_count": 91,
   "metadata": {},
   "outputs": [],
   "source": [
    "def objective(trial: optuna.Trial) -> float:\n",
    "    # Suggest hyperparameters for the RandomForestClassifier using the Optuna trial object.\n",
    "    n_estimators = trial.suggest_int(\"n_estimators\", 100, 700)  # Number of trees in the forest.\n",
    "    max_depth = trial.suggest_int(\"max_depth\", 2, 32)            # Maximum depth of each tree.\n",
    "    min_samples_split = trial.suggest_int(\"min_samples_split\", 2, 32)  # Minimum number of samples required to split an internal node.\n",
    "    min_samples_leaf = trial.suggest_int(\"min_samples_leaf\", 1, 32)    # Minimum number of samples required to be at a leaf node.\n",
    "\n",
    "    # Initialize the RandomForestClassifier with suggested hyperparameters.\n",
    "    model = RandomForestClassifier(\n",
    "        n_estimators=n_estimators,\n",
    "        max_depth=max_depth,\n",
    "        min_samples_split=min_samples_split,\n",
    "        min_samples_leaf=min_samples_leaf,\n",
    "        n_jobs=-1,        # Use all available CPU cores.\n",
    "        random_state=42   # Set random seed for reproducibility.\n",
    "    )\n",
    "\n",
    "    # Evaluate the model using cross-validation with 5 folds.\n",
    "    # Calculate the accuracy score for each fold.\n",
    "    score: list[float] = cross_val_score(model, X_train, y_train, n_jobs=-1, cv=5, scoring=\"accuracy\")\n",
    "\n",
    "    # Compute the mean accuracy score across all folds.\n",
    "    mean_score = score.mean()\n",
    "\n",
    "    # Return the mean accuracy score as the objective value for Optuna optimization.\n",
    "    return mean_score"
   ]
  },
  {
   "cell_type": "code",
   "execution_count": 92,
   "metadata": {},
   "outputs": [
    {
     "name": "stderr",
     "output_type": "stream",
     "text": [
      "[I 2024-09-12 13:54:32,146] A new study created in memory with name: no-name-3407c4d7-19a2-455f-96ef-36eaca322266\n"
     ]
    }
   ],
   "source": [
    "# Create an Optuna study for hyperparameter optimization.\n",
    "# The study aims to maximize the objective function's value, using a random sampling strategy for trial generation.\n",
    "\n",
    "study = optuna.create_study(direction=\"maximize\", sampler=optuna.samplers.RandomSampler())"
   ]
  },
  {
   "cell_type": "code",
   "execution_count": 93,
   "metadata": {},
   "outputs": [
    {
     "name": "stderr",
     "output_type": "stream",
     "text": [
      "[I 2024-09-12 13:54:33,697] Trial 0 finished with value: 0.8230572244656752 and parameters: {'n_estimators': 100, 'max_depth': 9, 'min_samples_split': 26, 'min_samples_leaf': 5}. Best is trial 0 with value: 0.8230572244656752.\n",
      "[I 2024-09-12 13:54:38,334] Trial 1 finished with value: 0.8202501723628484 and parameters: {'n_estimators': 505, 'max_depth': 32, 'min_samples_split': 21, 'min_samples_leaf': 3}. Best is trial 0 with value: 0.8230572244656752.\n",
      "[I 2024-09-12 13:54:45,346] Trial 2 finished with value: 0.7879247513050329 and parameters: {'n_estimators': 672, 'max_depth': 14, 'min_samples_split': 6, 'min_samples_leaf': 30}. Best is trial 0 with value: 0.8230572244656752.\n",
      "[I 2024-09-12 13:54:48,577] Trial 3 finished with value: 0.7921402541120852 and parameters: {'n_estimators': 371, 'max_depth': 10, 'min_samples_split': 4, 'min_samples_leaf': 20}. Best is trial 0 with value: 0.8230572244656752.\n",
      "[I 2024-09-12 13:54:49,544] Trial 4 finished with value: 0.81604451886142 and parameters: {'n_estimators': 131, 'max_depth': 5, 'min_samples_split': 27, 'min_samples_leaf': 1}. Best is trial 0 with value: 0.8230572244656752.\n",
      "[I 2024-09-12 13:54:51,857] Trial 5 finished with value: 0.7893233527036344 and parameters: {'n_estimators': 361, 'max_depth': 20, 'min_samples_split': 26, 'min_samples_leaf': 26}. Best is trial 0 with value: 0.8230572244656752.\n",
      "[I 2024-09-12 13:54:52,670] Trial 6 finished with value: 0.8075839653304442 and parameters: {'n_estimators': 110, 'max_depth': 18, 'min_samples_split': 28, 'min_samples_leaf': 13}. Best is trial 0 with value: 0.8230572244656752.\n",
      "[I 2024-09-12 13:54:56,626] Trial 7 finished with value: 0.7907318034078598 and parameters: {'n_estimators': 624, 'max_depth': 32, 'min_samples_split': 6, 'min_samples_leaf': 20}. Best is trial 0 with value: 0.8230572244656752.\n",
      "[I 2024-09-12 13:54:58,686] Trial 8 finished with value: 0.8216586230670739 and parameters: {'n_estimators': 264, 'max_depth': 21, 'min_samples_split': 4, 'min_samples_leaf': 7}. Best is trial 0 with value: 0.8230572244656752.\n",
      "[I 2024-09-12 13:55:03,183] Trial 9 finished with value: 0.8202501723628484 and parameters: {'n_estimators': 662, 'max_depth': 32, 'min_samples_split': 23, 'min_samples_leaf': 3}. Best is trial 0 with value: 0.8230572244656752.\n",
      "[I 2024-09-12 13:55:04,849] Trial 10 finished with value: 0.8146360681571949 and parameters: {'n_estimators': 237, 'max_depth': 14, 'min_samples_split': 15, 'min_samples_leaf': 11}. Best is trial 0 with value: 0.8230572244656752.\n",
      "[I 2024-09-12 13:55:08,184] Trial 11 finished with value: 0.7893233527036344 and parameters: {'n_estimators': 447, 'max_depth': 15, 'min_samples_split': 20, 'min_samples_leaf': 24}. Best is trial 0 with value: 0.8230572244656752.\n",
      "[I 2024-09-12 13:55:10,206] Trial 12 finished with value: 0.7893332020092583 and parameters: {'n_estimators': 246, 'max_depth': 26, 'min_samples_split': 5, 'min_samples_leaf': 26}. Best is trial 0 with value: 0.8230572244656752.\n",
      "[I 2024-09-12 13:55:15,166] Trial 13 finished with value: 0.7907318034078598 and parameters: {'n_estimators': 637, 'max_depth': 19, 'min_samples_split': 18, 'min_samples_leaf': 24}. Best is trial 0 with value: 0.8230572244656752.\n",
      "[I 2024-09-12 13:55:19,927] Trial 14 finished with value: 0.8188417216586231 and parameters: {'n_estimators': 694, 'max_depth': 7, 'min_samples_split': 30, 'min_samples_leaf': 7}. Best is trial 0 with value: 0.8230572244656752.\n",
      "[I 2024-09-12 13:55:21,557] Trial 15 finished with value: 0.799162809021964 and parameters: {'n_estimators': 220, 'max_depth': 31, 'min_samples_split': 3, 'min_samples_leaf': 19}. Best is trial 0 with value: 0.8230572244656752.\n",
      "[I 2024-09-12 13:55:25,501] Trial 16 finished with value: 0.810400866738895 and parameters: {'n_estimators': 561, 'max_depth': 15, 'min_samples_split': 27, 'min_samples_leaf': 11}. Best is trial 0 with value: 0.8230572244656752.\n",
      "[I 2024-09-12 13:55:29,550] Trial 17 finished with value: 0.8146262188515709 and parameters: {'n_estimators': 579, 'max_depth': 18, 'min_samples_split': 5, 'min_samples_leaf': 10}. Best is trial 0 with value: 0.8230572244656752.\n",
      "[I 2024-09-12 13:55:31,975] Trial 18 finished with value: 0.7935388555106865 and parameters: {'n_estimators': 312, 'max_depth': 3, 'min_samples_split': 20, 'min_samples_leaf': 26}. Best is trial 0 with value: 0.8230572244656752.\n",
      "[I 2024-09-12 13:55:35,973] Trial 19 finished with value: 0.8033684625233921 and parameters: {'n_estimators': 555, 'max_depth': 17, 'min_samples_split': 5, 'min_samples_leaf': 14}. Best is trial 0 with value: 0.8230572244656752.\n",
      "[I 2024-09-12 13:55:41,029] Trial 20 finished with value: 0.7893332020092584 and parameters: {'n_estimators': 655, 'max_depth': 26, 'min_samples_split': 3, 'min_samples_leaf': 32}. Best is trial 0 with value: 0.8230572244656752.\n",
      "[I 2024-09-12 13:55:42,425] Trial 21 finished with value: 0.7851275485078302 and parameters: {'n_estimators': 163, 'max_depth': 25, 'min_samples_split': 5, 'min_samples_leaf': 30}. Best is trial 0 with value: 0.8230572244656752.\n",
      "[I 2024-09-12 13:55:46,884] Trial 22 finished with value: 0.799162809021964 and parameters: {'n_estimators': 490, 'max_depth': 17, 'min_samples_split': 26, 'min_samples_leaf': 19}. Best is trial 0 with value: 0.8230572244656752.\n",
      "[I 2024-09-12 13:55:50,632] Trial 23 finished with value: 0.7836993991923569 and parameters: {'n_estimators': 487, 'max_depth': 5, 'min_samples_split': 29, 'min_samples_leaf': 31}. Best is trial 0 with value: 0.8230572244656752.\n",
      "[I 2024-09-12 13:55:55,507] Trial 24 finished with value: 0.7893332020092584 and parameters: {'n_estimators': 672, 'max_depth': 19, 'min_samples_split': 11, 'min_samples_leaf': 32}. Best is trial 0 with value: 0.8230572244656752.\n",
      "[I 2024-09-12 13:55:57,344] Trial 25 finished with value: 0.787924751305033 and parameters: {'n_estimators': 231, 'max_depth': 8, 'min_samples_split': 9, 'min_samples_leaf': 28}. Best is trial 0 with value: 0.8230572244656752.\n",
      "[I 2024-09-12 13:55:58,284] Trial 26 finished with value: 0.8019600118191667 and parameters: {'n_estimators': 115, 'max_depth': 14, 'min_samples_split': 17, 'min_samples_leaf': 18}. Best is trial 0 with value: 0.8230572244656752.\n",
      "[I 2024-09-12 13:56:03,083] Trial 27 finished with value: 0.8146262188515709 and parameters: {'n_estimators': 656, 'max_depth': 6, 'min_samples_split': 17, 'min_samples_leaf': 11}. Best is trial 0 with value: 0.8230572244656752.\n",
      "[I 2024-09-12 13:56:07,177] Trial 28 finished with value: 0.8062543090712104 and parameters: {'n_estimators': 537, 'max_depth': 10, 'min_samples_split': 2, 'min_samples_leaf': 1}. Best is trial 0 with value: 0.8230572244656752.\n",
      "[I 2024-09-12 13:56:08,127] Trial 29 finished with value: 0.7921501034177091 and parameters: {'n_estimators': 110, 'max_depth': 11, 'min_samples_split': 14, 'min_samples_leaf': 21}. Best is trial 0 with value: 0.8230572244656752.\n",
      "[I 2024-09-12 13:56:09,546] Trial 30 finished with value: 0.8188712695754947 and parameters: {'n_estimators': 156, 'max_depth': 30, 'min_samples_split': 3, 'min_samples_leaf': 6}. Best is trial 0 with value: 0.8230572244656752.\n",
      "[I 2024-09-12 13:56:12,953] Trial 31 finished with value: 0.7935388555106865 and parameters: {'n_estimators': 432, 'max_depth': 3, 'min_samples_split': 15, 'min_samples_leaf': 18}. Best is trial 0 with value: 0.8230572244656752.\n",
      "[I 2024-09-12 13:56:16,005] Trial 32 finished with value: 0.7921402541120852 and parameters: {'n_estimators': 432, 'max_depth': 24, 'min_samples_split': 10, 'min_samples_leaf': 20}. Best is trial 0 with value: 0.8230572244656752.\n",
      "[I 2024-09-12 13:56:20,824] Trial 33 finished with value: 0.8216586230670739 and parameters: {'n_estimators': 657, 'max_depth': 25, 'min_samples_split': 28, 'min_samples_leaf': 6}. Best is trial 0 with value: 0.8230572244656752.\n",
      "[I 2024-09-12 13:56:24,508] Trial 34 finished with value: 0.7865163006008076 and parameters: {'n_estimators': 537, 'max_depth': 13, 'min_samples_split': 30, 'min_samples_leaf': 31}. Best is trial 0 with value: 0.8230572244656752.\n",
      "[I 2024-09-12 13:56:27,770] Trial 35 finished with value: 0.8146262188515709 and parameters: {'n_estimators': 461, 'max_depth': 4, 'min_samples_split': 13, 'min_samples_leaf': 2}. Best is trial 0 with value: 0.8230572244656752.\n",
      "[I 2024-09-12 13:56:32,533] Trial 36 finished with value: 0.7851078498965822 and parameters: {'n_estimators': 696, 'max_depth': 27, 'min_samples_split': 25, 'min_samples_leaf': 29}. Best is trial 0 with value: 0.8230572244656752.\n",
      "[I 2024-09-12 13:56:33,878] Trial 37 finished with value: 0.8019797104304146 and parameters: {'n_estimators': 175, 'max_depth': 3, 'min_samples_split': 25, 'min_samples_leaf': 20}. Best is trial 0 with value: 0.8230572244656752.\n",
      "[I 2024-09-12 13:56:35,117] Trial 38 finished with value: 0.787944449916281 and parameters: {'n_estimators': 159, 'max_depth': 32, 'min_samples_split': 18, 'min_samples_leaf': 27}. Best is trial 0 with value: 0.8230572244656752.\n",
      "[I 2024-09-12 13:56:37,968] Trial 39 finished with value: 0.787914901999409 and parameters: {'n_estimators': 373, 'max_depth': 23, 'min_samples_split': 31, 'min_samples_leaf': 28}. Best is trial 0 with value: 0.8230572244656752.\n",
      "[I 2024-09-12 13:56:41,933] Trial 40 finished with value: 0.8019600118191669 and parameters: {'n_estimators': 394, 'max_depth': 29, 'min_samples_split': 2, 'min_samples_leaf': 16}. Best is trial 0 with value: 0.8230572244656752.\n",
      "[I 2024-09-12 13:56:46,271] Trial 41 finished with value: 0.8216586230670737 and parameters: {'n_estimators': 591, 'max_depth': 19, 'min_samples_split': 11, 'min_samples_leaf': 4}. Best is trial 0 with value: 0.8230572244656752.\n",
      "[I 2024-09-12 13:56:49,116] Trial 42 finished with value: 0.8019600118191669 and parameters: {'n_estimators': 397, 'max_depth': 12, 'min_samples_split': 24, 'min_samples_leaf': 16}. Best is trial 0 with value: 0.8230572244656752.\n",
      "[I 2024-09-12 13:56:52,285] Trial 43 finished with value: 0.7865064512951838 and parameters: {'n_estimators': 447, 'max_depth': 28, 'min_samples_split': 4, 'min_samples_leaf': 28}. Best is trial 0 with value: 0.8230572244656752.\n",
      "[I 2024-09-12 13:56:53,343] Trial 44 finished with value: 0.7921501034177091 and parameters: {'n_estimators': 131, 'max_depth': 20, 'min_samples_split': 29, 'min_samples_leaf': 30}. Best is trial 0 with value: 0.8230572244656752.\n",
      "[I 2024-09-12 13:56:57,757] Trial 45 finished with value: 0.7893233527036344 and parameters: {'n_estimators': 568, 'max_depth': 9, 'min_samples_split': 16, 'min_samples_leaf': 24}. Best is trial 0 with value: 0.8230572244656752.\n",
      "[I 2024-09-12 13:57:01,257] Trial 46 finished with value: 0.7851078498965822 and parameters: {'n_estimators': 428, 'max_depth': 30, 'min_samples_split': 23, 'min_samples_leaf': 29}. Best is trial 0 with value: 0.8230572244656752.\n",
      "[I 2024-09-12 13:57:02,280] Trial 47 finished with value: 0.8075839653304442 and parameters: {'n_estimators': 132, 'max_depth': 25, 'min_samples_split': 22, 'min_samples_leaf': 15}. Best is trial 0 with value: 0.8230572244656752.\n",
      "[I 2024-09-12 13:57:05,712] Trial 48 finished with value: 0.8047769132276175 and parameters: {'n_estimators': 496, 'max_depth': 19, 'min_samples_split': 3, 'min_samples_leaf': 15}. Best is trial 0 with value: 0.8230572244656752.\n",
      "[I 2024-09-12 13:57:08,818] Trial 49 finished with value: 0.818851570964247 and parameters: {'n_estimators': 420, 'max_depth': 25, 'min_samples_split': 13, 'min_samples_leaf': 6}. Best is trial 0 with value: 0.8230572244656752.\n",
      "[I 2024-09-12 13:57:10,388] Trial 50 finished with value: 0.818851570964247 and parameters: {'n_estimators': 170, 'max_depth': 5, 'min_samples_split': 9, 'min_samples_leaf': 4}. Best is trial 0 with value: 0.8230572244656752.\n",
      "[I 2024-09-12 13:57:12,629] Trial 51 finished with value: 0.8005515611149414 and parameters: {'n_estimators': 267, 'max_depth': 10, 'min_samples_split': 25, 'min_samples_leaf': 18}. Best is trial 0 with value: 0.8230572244656752.\n",
      "[I 2024-09-12 13:57:16,224] Trial 52 finished with value: 0.7893233527036344 and parameters: {'n_estimators': 507, 'max_depth': 4, 'min_samples_split': 9, 'min_samples_leaf': 22}. Best is trial 0 with value: 0.8230572244656752.\n",
      "[I 2024-09-12 13:57:17,557] Trial 53 finished with value: 0.7879149019994091 and parameters: {'n_estimators': 185, 'max_depth': 2, 'min_samples_split': 14, 'min_samples_leaf': 12}. Best is trial 0 with value: 0.8230572244656752.\n",
      "[I 2024-09-12 13:57:18,957] Trial 54 finished with value: 0.8160642174726682 and parameters: {'n_estimators': 177, 'max_depth': 27, 'min_samples_split': 15, 'min_samples_leaf': 1}. Best is trial 0 with value: 0.8230572244656752.\n",
      "[I 2024-09-12 13:57:22,557] Trial 55 finished with value: 0.7865163006008076 and parameters: {'n_estimators': 503, 'max_depth': 27, 'min_samples_split': 4, 'min_samples_leaf': 32}. Best is trial 0 with value: 0.8230572244656752.\n",
      "[I 2024-09-12 13:57:26,106] Trial 56 finished with value: 0.8202403230572244 and parameters: {'n_estimators': 499, 'max_depth': 25, 'min_samples_split': 24, 'min_samples_leaf': 8}. Best is trial 0 with value: 0.8230572244656752.\n",
      "[I 2024-09-12 13:57:28,434] Trial 57 finished with value: 0.8202501723628484 and parameters: {'n_estimators': 318, 'max_depth': 5, 'min_samples_split': 8, 'min_samples_leaf': 2}. Best is trial 0 with value: 0.8230572244656752.\n",
      "[I 2024-09-12 13:57:30,503] Trial 58 finished with value: 0.8244755244755245 and parameters: {'n_estimators': 275, 'max_depth': 8, 'min_samples_split': 4, 'min_samples_leaf': 4}. Best is trial 58 with value: 0.8244755244755245.\n",
      "[I 2024-09-12 13:57:34,149] Trial 59 finished with value: 0.7865163006008076 and parameters: {'n_estimators': 531, 'max_depth': 26, 'min_samples_split': 8, 'min_samples_leaf': 29}. Best is trial 58 with value: 0.8244755244755245.\n",
      "[I 2024-09-12 13:57:36,917] Trial 60 finished with value: 0.7907318034078598 and parameters: {'n_estimators': 366, 'max_depth': 6, 'min_samples_split': 22, 'min_samples_leaf': 23}. Best is trial 58 with value: 0.8244755244755245.\n",
      "[I 2024-09-12 13:57:39,370] Trial 61 finished with value: 0.8132177681473458 and parameters: {'n_estimators': 326, 'max_depth': 5, 'min_samples_split': 4, 'min_samples_leaf': 12}. Best is trial 58 with value: 0.8244755244755245.\n",
      "[I 2024-09-12 13:57:43,027] Trial 62 finished with value: 0.7865064512951838 and parameters: {'n_estimators': 462, 'max_depth': 30, 'min_samples_split': 7, 'min_samples_leaf': 28}. Best is trial 58 with value: 0.8244755244755245.\n",
      "[I 2024-09-12 13:57:47,770] Trial 63 finished with value: 0.823076923076923 and parameters: {'n_estimators': 632, 'max_depth': 13, 'min_samples_split': 2, 'min_samples_leaf': 2}. Best is trial 58 with value: 0.8244755244755245.\n",
      "[I 2024-09-12 13:57:50,001] Trial 64 finished with value: 0.8202600216684723 and parameters: {'n_estimators': 309, 'max_depth': 7, 'min_samples_split': 21, 'min_samples_leaf': 4}. Best is trial 58 with value: 0.8244755244755245.\n",
      "[I 2024-09-12 13:57:51,078] Trial 65 finished with value: 0.8089825667290456 and parameters: {'n_estimators': 137, 'max_depth': 28, 'min_samples_split': 12, 'min_samples_leaf': 16}. Best is trial 58 with value: 0.8244755244755245.\n",
      "[I 2024-09-12 13:57:52,466] Trial 66 finished with value: 0.7907416527134836 and parameters: {'n_estimators': 120, 'max_depth': 8, 'min_samples_split': 11, 'min_samples_leaf': 29}. Best is trial 58 with value: 0.8244755244755245.\n",
      "[I 2024-09-12 13:57:55,515] Trial 67 finished with value: 0.7879247513050329 and parameters: {'n_estimators': 440, 'max_depth': 28, 'min_samples_split': 16, 'min_samples_leaf': 32}. Best is trial 58 with value: 0.8244755244755245.\n",
      "[I 2024-09-12 13:57:57,006] Trial 68 finished with value: 0.787924751305033 and parameters: {'n_estimators': 198, 'max_depth': 4, 'min_samples_split': 13, 'min_samples_leaf': 25}. Best is trial 58 with value: 0.8244755244755245.\n",
      "[I 2024-09-12 13:58:00,376] Trial 69 finished with value: 0.7865163006008076 and parameters: {'n_estimators': 487, 'max_depth': 21, 'min_samples_split': 17, 'min_samples_leaf': 32}. Best is trial 58 with value: 0.8244755244755245.\n",
      "[I 2024-09-12 13:58:04,233] Trial 70 finished with value: 0.8202600216684723 and parameters: {'n_estimators': 554, 'max_depth': 5, 'min_samples_split': 13, 'min_samples_leaf': 2}. Best is trial 58 with value: 0.8244755244755245.\n",
      "[I 2024-09-12 13:58:07,567] Trial 71 finished with value: 0.8202501723628484 and parameters: {'n_estimators': 445, 'max_depth': 9, 'min_samples_split': 22, 'min_samples_leaf': 5}. Best is trial 58 with value: 0.8244755244755245.\n",
      "[I 2024-09-12 13:58:10,394] Trial 72 finished with value: 0.7921402541120852 and parameters: {'n_estimators': 364, 'max_depth': 19, 'min_samples_split': 5, 'min_samples_leaf': 21}. Best is trial 58 with value: 0.8244755244755245.\n",
      "[I 2024-09-12 13:58:14,129] Trial 73 finished with value: 0.799162809021964 and parameters: {'n_estimators': 484, 'max_depth': 27, 'min_samples_split': 12, 'min_samples_leaf': 19}. Best is trial 58 with value: 0.8244755244755245.\n",
      "[I 2024-09-12 13:58:15,783] Trial 74 finished with value: 0.8202600216684723 and parameters: {'n_estimators': 217, 'max_depth': 29, 'min_samples_split': 23, 'min_samples_leaf': 3}. Best is trial 58 with value: 0.8244755244755245.\n",
      "[I 2024-09-12 13:58:17,300] Trial 75 finished with value: 0.7907318034078598 and parameters: {'n_estimators': 207, 'max_depth': 7, 'min_samples_split': 2, 'min_samples_leaf': 23}. Best is trial 58 with value: 0.8244755244755245.\n",
      "[I 2024-09-12 13:58:20,034] Trial 76 finished with value: 0.8146262188515709 and parameters: {'n_estimators': 363, 'max_depth': 20, 'min_samples_split': 2, 'min_samples_leaf': 11}. Best is trial 58 with value: 0.8244755244755245.\n",
      "[I 2024-09-12 13:58:23,626] Trial 77 finished with value: 0.8188417216586231 and parameters: {'n_estimators': 506, 'max_depth': 29, 'min_samples_split': 28, 'min_samples_leaf': 3}. Best is trial 58 with value: 0.8244755244755245.\n",
      "[I 2024-09-12 13:58:27,824] Trial 78 finished with value: 0.7879247513050329 and parameters: {'n_estimators': 629, 'max_depth': 14, 'min_samples_split': 3, 'min_samples_leaf': 31}. Best is trial 58 with value: 0.8244755244755245.\n",
      "[I 2024-09-12 13:58:32,015] Trial 79 finished with value: 0.806175514626219 and parameters: {'n_estimators': 604, 'max_depth': 10, 'min_samples_split': 5, 'min_samples_leaf': 14}. Best is trial 58 with value: 0.8244755244755245.\n",
      "[I 2024-09-12 13:58:35,599] Trial 80 finished with value: 0.8188417216586231 and parameters: {'n_estimators': 494, 'max_depth': 28, 'min_samples_split': 29, 'min_samples_leaf': 2}. Best is trial 58 with value: 0.8244755244755245.\n",
      "[I 2024-09-12 13:58:38,362] Trial 81 finished with value: 0.7865163006008076 and parameters: {'n_estimators': 374, 'max_depth': 5, 'min_samples_split': 23, 'min_samples_leaf': 31}. Best is trial 58 with value: 0.8244755244755245.\n",
      "[I 2024-09-12 13:58:39,768] Trial 82 finished with value: 0.8216586230670739 and parameters: {'n_estimators': 163, 'max_depth': 26, 'min_samples_split': 5, 'min_samples_leaf': 5}. Best is trial 58 with value: 0.8244755244755245.\n",
      "[I 2024-09-12 13:58:43,062] Trial 83 finished with value: 0.7893233527036344 and parameters: {'n_estimators': 414, 'max_depth': 20, 'min_samples_split': 26, 'min_samples_leaf': 27}. Best is trial 58 with value: 0.8244755244755245.\n",
      "[I 2024-09-12 13:58:45,404] Trial 84 finished with value: 0.7766768442824781 and parameters: {'n_estimators': 322, 'max_depth': 2, 'min_samples_split': 7, 'min_samples_leaf': 29}. Best is trial 58 with value: 0.8244755244755245.\n",
      "[I 2024-09-12 13:58:47,101] Trial 85 finished with value: 0.8202501723628484 and parameters: {'n_estimators': 222, 'max_depth': 13, 'min_samples_split': 3, 'min_samples_leaf': 4}. Best is trial 58 with value: 0.8244755244755245.\n",
      "[I 2024-09-12 13:58:50,958] Trial 86 finished with value: 0.8174529695656456 and parameters: {'n_estimators': 518, 'max_depth': 21, 'min_samples_split': 19, 'min_samples_leaf': 6}. Best is trial 58 with value: 0.8244755244755245.\n",
      "[I 2024-09-12 13:58:54,859] Trial 87 finished with value: 0.8188417216586231 and parameters: {'n_estimators': 552, 'max_depth': 31, 'min_samples_split': 17, 'min_samples_leaf': 6}. Best is trial 58 with value: 0.8244755244755245.\n",
      "[I 2024-09-12 13:58:56,669] Trial 88 finished with value: 0.7851176992022063 and parameters: {'n_estimators': 254, 'max_depth': 21, 'min_samples_split': 18, 'min_samples_leaf': 32}. Best is trial 58 with value: 0.8244755244755245.\n",
      "[I 2024-09-12 13:59:01,328] Trial 89 finished with value: 0.8019600118191669 and parameters: {'n_estimators': 632, 'max_depth': 10, 'min_samples_split': 23, 'min_samples_leaf': 17}. Best is trial 58 with value: 0.8244755244755245.\n",
      "[I 2024-09-12 13:59:03,890] Trial 90 finished with value: 0.8075938146360683 and parameters: {'n_estimators': 361, 'max_depth': 6, 'min_samples_split': 30, 'min_samples_leaf': 12}. Best is trial 58 with value: 0.8244755244755245.\n",
      "[I 2024-09-12 13:59:08,310] Trial 91 finished with value: 0.8019600118191669 and parameters: {'n_estimators': 620, 'max_depth': 15, 'min_samples_split': 26, 'min_samples_leaf': 17}. Best is trial 58 with value: 0.8244755244755245.\n",
      "[I 2024-09-12 13:59:11,894] Trial 92 finished with value: 0.8188417216586231 and parameters: {'n_estimators': 448, 'max_depth': 30, 'min_samples_split': 11, 'min_samples_leaf': 8}. Best is trial 58 with value: 0.8244755244755245.\n",
      "[I 2024-09-12 13:59:16,073] Trial 93 finished with value: 0.7893233527036344 and parameters: {'n_estimators': 551, 'max_depth': 18, 'min_samples_split': 7, 'min_samples_leaf': 26}. Best is trial 58 with value: 0.8244755244755245.\n",
      "[I 2024-09-12 13:59:18,611] Trial 94 finished with value: 0.7893233527036344 and parameters: {'n_estimators': 343, 'max_depth': 28, 'min_samples_split': 21, 'min_samples_leaf': 26}. Best is trial 58 with value: 0.8244755244755245.\n",
      "[I 2024-09-12 13:59:23,326] Trial 95 finished with value: 0.8146262188515709 and parameters: {'n_estimators': 689, 'max_depth': 22, 'min_samples_split': 13, 'min_samples_leaf': 10}. Best is trial 58 with value: 0.8244755244755245.\n",
      "[I 2024-09-12 13:59:26,724] Trial 96 finished with value: 0.818851570964247 and parameters: {'n_estimators': 448, 'max_depth': 14, 'min_samples_split': 14, 'min_samples_leaf': 6}. Best is trial 58 with value: 0.8244755244755245.\n",
      "[I 2024-09-12 13:59:27,637] Trial 97 finished with value: 0.8019600118191667 and parameters: {'n_estimators': 115, 'max_depth': 26, 'min_samples_split': 32, 'min_samples_leaf': 18}. Best is trial 58 with value: 0.8244755244755245.\n",
      "[I 2024-09-12 13:59:29,411] Trial 98 finished with value: 0.8202501723628484 and parameters: {'n_estimators': 235, 'max_depth': 6, 'min_samples_split': 6, 'min_samples_leaf': 4}. Best is trial 58 with value: 0.8244755244755245.\n",
      "[I 2024-09-12 13:59:32,216] Trial 99 finished with value: 0.794937456909288 and parameters: {'n_estimators': 398, 'max_depth': 28, 'min_samples_split': 18, 'min_samples_leaf': 18}. Best is trial 58 with value: 0.8244755244755245.\n",
      "[I 2024-09-12 13:59:35,184] Trial 100 finished with value: 0.8047769132276175 and parameters: {'n_estimators': 419, 'max_depth': 13, 'min_samples_split': 31, 'min_samples_leaf': 15}. Best is trial 58 with value: 0.8244755244755245.\n",
      "[I 2024-09-12 13:59:39,584] Trial 101 finished with value: 0.8033586132177681 and parameters: {'n_estimators': 564, 'max_depth': 9, 'min_samples_split': 5, 'min_samples_leaf': 15}. Best is trial 58 with value: 0.8244755244755245.\n",
      "[I 2024-09-12 13:59:43,534] Trial 102 finished with value: 0.8230572244656752 and parameters: {'n_estimators': 469, 'max_depth': 8, 'min_samples_split': 24, 'min_samples_leaf': 7}. Best is trial 58 with value: 0.8244755244755245.\n",
      "[I 2024-09-12 13:59:46,050] Trial 103 finished with value: 0.7893332020092583 and parameters: {'n_estimators': 325, 'max_depth': 30, 'min_samples_split': 21, 'min_samples_leaf': 25}. Best is trial 58 with value: 0.8244755244755245.\n",
      "[I 2024-09-12 13:59:50,728] Trial 104 finished with value: 0.8174332709543979 and parameters: {'n_estimators': 659, 'max_depth': 15, 'min_samples_split': 27, 'min_samples_leaf': 7}. Best is trial 58 with value: 0.8244755244755245.\n",
      "[I 2024-09-12 13:59:51,589] Trial 105 finished with value: 0.8019501625135428 and parameters: {'n_estimators': 109, 'max_depth': 31, 'min_samples_split': 5, 'min_samples_leaf': 18}. Best is trial 58 with value: 0.8244755244755245.\n",
      "[I 2024-09-12 13:59:54,417] Trial 106 finished with value: 0.7921402541120852 and parameters: {'n_estimators': 402, 'max_depth': 27, 'min_samples_split': 21, 'min_samples_leaf': 21}. Best is trial 58 with value: 0.8244755244755245.\n",
      "[I 2024-09-12 13:59:55,309] Trial 107 finished with value: 0.7836993991923569 and parameters: {'n_estimators': 115, 'max_depth': 2, 'min_samples_split': 28, 'min_samples_leaf': 13}. Best is trial 58 with value: 0.8244755244755245.\n",
      "[I 2024-09-12 13:59:56,919] Trial 108 finished with value: 0.8019600118191669 and parameters: {'n_estimators': 217, 'max_depth': 7, 'min_samples_split': 13, 'min_samples_leaf': 17}. Best is trial 58 with value: 0.8244755244755245.\n",
      "[I 2024-09-12 14:00:00,554] Trial 109 finished with value: 0.7921402541120852 and parameters: {'n_estimators': 489, 'max_depth': 32, 'min_samples_split': 22, 'min_samples_leaf': 21}. Best is trial 58 with value: 0.8244755244755245.\n",
      "[I 2024-09-12 14:00:02,566] Trial 110 finished with value: 0.8216586230670739 and parameters: {'n_estimators': 238, 'max_depth': 18, 'min_samples_split': 15, 'min_samples_leaf': 5}. Best is trial 58 with value: 0.8244755244755245.\n",
      "[I 2024-09-12 14:00:04,825] Trial 111 finished with value: 0.7935487048163103 and parameters: {'n_estimators': 317, 'max_depth': 20, 'min_samples_split': 7, 'min_samples_leaf': 20}. Best is trial 58 with value: 0.8244755244755245.\n",
      "[I 2024-09-12 14:00:07,821] Trial 112 finished with value: 0.8132177681473458 and parameters: {'n_estimators': 422, 'max_depth': 12, 'min_samples_split': 14, 'min_samples_leaf': 11}. Best is trial 58 with value: 0.8244755244755245.\n",
      "[I 2024-09-12 14:00:10,617] Trial 113 finished with value: 0.7907318034078598 and parameters: {'n_estimators': 361, 'max_depth': 8, 'min_samples_split': 29, 'min_samples_leaf': 21}. Best is trial 58 with value: 0.8244755244755245.\n",
      "[I 2024-09-12 14:00:11,995] Trial 114 finished with value: 0.8202797202797203 and parameters: {'n_estimators': 128, 'max_depth': 17, 'min_samples_split': 2, 'min_samples_leaf': 6}. Best is trial 58 with value: 0.8244755244755245.\n",
      "[I 2024-09-12 14:00:15,883] Trial 115 finished with value: 0.7865163006008076 and parameters: {'n_estimators': 545, 'max_depth': 30, 'min_samples_split': 14, 'min_samples_leaf': 31}. Best is trial 58 with value: 0.8244755244755245.\n",
      "[I 2024-09-12 14:00:18,442] Trial 116 finished with value: 0.7865163006008077 and parameters: {'n_estimators': 364, 'max_depth': 8, 'min_samples_split': 4, 'min_samples_leaf': 28}. Best is trial 58 with value: 0.8244755244755245.\n",
      "[I 2024-09-12 14:00:21,905] Trial 117 finished with value: 0.8202501723628484 and parameters: {'n_estimators': 474, 'max_depth': 9, 'min_samples_split': 14, 'min_samples_leaf': 5}. Best is trial 58 with value: 0.8244755244755245.\n",
      "[I 2024-09-12 14:00:24,866] Trial 118 finished with value: 0.8216586230670739 and parameters: {'n_estimators': 360, 'max_depth': 9, 'min_samples_split': 12, 'min_samples_leaf': 1}. Best is trial 58 with value: 0.8244755244755245.\n",
      "[I 2024-09-12 14:00:26,488] Trial 119 finished with value: 0.8146262188515709 and parameters: {'n_estimators': 202, 'max_depth': 7, 'min_samples_split': 23, 'min_samples_leaf': 10}. Best is trial 58 with value: 0.8244755244755245.\n",
      "[I 2024-09-12 14:00:30,921] Trial 120 finished with value: 0.8188712695754947 and parameters: {'n_estimators': 558, 'max_depth': 23, 'min_samples_split': 8, 'min_samples_leaf': 2}. Best is trial 58 with value: 0.8244755244755245.\n",
      "[I 2024-09-12 14:00:35,570] Trial 121 finished with value: 0.8089924160346695 and parameters: {'n_estimators': 675, 'max_depth': 16, 'min_samples_split': 13, 'min_samples_leaf': 14}. Best is trial 58 with value: 0.8244755244755245.\n",
      "[I 2024-09-12 14:00:38,293] Trial 122 finished with value: 0.8174431202600217 and parameters: {'n_estimators': 375, 'max_depth': 23, 'min_samples_split': 27, 'min_samples_leaf': 6}. Best is trial 58 with value: 0.8244755244755245.\n",
      "[I 2024-09-12 14:00:43,917] Trial 123 finished with value: 0.8075839653304442 and parameters: {'n_estimators': 640, 'max_depth': 5, 'min_samples_split': 18, 'min_samples_leaf': 14}. Best is trial 58 with value: 0.8244755244755245.\n",
      "[I 2024-09-12 14:00:46,582] Trial 124 finished with value: 0.8202501723628484 and parameters: {'n_estimators': 315, 'max_depth': 8, 'min_samples_split': 30, 'min_samples_leaf': 5}. Best is trial 58 with value: 0.8244755244755245.\n",
      "[I 2024-09-12 14:00:48,827] Trial 125 finished with value: 0.7907318034078598 and parameters: {'n_estimators': 308, 'max_depth': 23, 'min_samples_split': 32, 'min_samples_leaf': 23}. Best is trial 58 with value: 0.8244755244755245.\n",
      "[I 2024-09-12 14:00:50,119] Trial 126 finished with value: 0.8202600216684723 and parameters: {'n_estimators': 163, 'max_depth': 19, 'min_samples_split': 30, 'min_samples_leaf': 4}. Best is trial 58 with value: 0.8244755244755245.\n",
      "[I 2024-09-12 14:00:51,242] Trial 127 finished with value: 0.7935487048163106 and parameters: {'n_estimators': 146, 'max_depth': 27, 'min_samples_split': 30, 'min_samples_leaf': 21}. Best is trial 58 with value: 0.8244755244755245.\n",
      "[I 2024-09-12 14:00:55,893] Trial 128 finished with value: 0.8090022653402936 and parameters: {'n_estimators': 665, 'max_depth': 32, 'min_samples_split': 6, 'min_samples_leaf': 13}. Best is trial 58 with value: 0.8244755244755245.\n",
      "[I 2024-09-12 14:00:58,937] Trial 129 finished with value: 0.8202501723628485 and parameters: {'n_estimators': 351, 'max_depth': 23, 'min_samples_split': 25, 'min_samples_leaf': 1}. Best is trial 58 with value: 0.8244755244755245.\n",
      "[I 2024-09-12 14:01:02,122] Trial 130 finished with value: 0.7865064512951838 and parameters: {'n_estimators': 456, 'max_depth': 26, 'min_samples_split': 31, 'min_samples_leaf': 27}. Best is trial 58 with value: 0.8244755244755245.\n",
      "[I 2024-09-12 14:01:04,700] Trial 131 finished with value: 0.810400866738895 and parameters: {'n_estimators': 363, 'max_depth': 27, 'min_samples_split': 28, 'min_samples_leaf': 12}. Best is trial 58 with value: 0.8244755244755245.\n",
      "[I 2024-09-12 14:01:09,111] Trial 132 finished with value: 0.8216586230670739 and parameters: {'n_estimators': 632, 'max_depth': 18, 'min_samples_split': 23, 'min_samples_leaf': 5}. Best is trial 58 with value: 0.8244755244755245.\n",
      "[I 2024-09-12 14:01:12,089] Trial 133 finished with value: 0.8132177681473458 and parameters: {'n_estimators': 369, 'max_depth': 6, 'min_samples_split': 24, 'min_samples_leaf': 11}. Best is trial 58 with value: 0.8244755244755245.\n",
      "[I 2024-09-12 14:01:13,466] Trial 134 finished with value: 0.8132374667585935 and parameters: {'n_estimators': 153, 'max_depth': 15, 'min_samples_split': 31, 'min_samples_leaf': 10}. Best is trial 58 with value: 0.8244755244755245.\n",
      "[I 2024-09-12 14:01:14,840] Trial 135 finished with value: 0.8118093174431202 and parameters: {'n_estimators': 145, 'max_depth': 14, 'min_samples_split': 31, 'min_samples_leaf': 11}. Best is trial 58 with value: 0.8244755244755245.\n",
      "[I 2024-09-12 14:01:19,295] Trial 136 finished with value: 0.7893332020092584 and parameters: {'n_estimators': 663, 'max_depth': 29, 'min_samples_split': 32, 'min_samples_leaf': 32}. Best is trial 58 with value: 0.8244755244755245.\n",
      "[I 2024-09-12 14:01:21,349] Trial 137 finished with value: 0.8033586132177681 and parameters: {'n_estimators': 280, 'max_depth': 6, 'min_samples_split': 19, 'min_samples_leaf': 16}. Best is trial 58 with value: 0.8244755244755245.\n",
      "[I 2024-09-12 14:01:23,349] Trial 138 finished with value: 0.7865163006008077 and parameters: {'n_estimators': 277, 'max_depth': 19, 'min_samples_split': 3, 'min_samples_leaf': 28}. Best is trial 58 with value: 0.8244755244755245.\n",
      "[I 2024-09-12 14:01:26,454] Trial 139 finished with value: 0.783709248497981 and parameters: {'n_estimators': 451, 'max_depth': 30, 'min_samples_split': 7, 'min_samples_leaf': 30}. Best is trial 58 with value: 0.8244755244755245.\n",
      "[I 2024-09-12 14:01:27,488] Trial 140 finished with value: 0.8188417216586231 and parameters: {'n_estimators': 129, 'max_depth': 22, 'min_samples_split': 12, 'min_samples_leaf': 8}. Best is trial 58 with value: 0.8244755244755245.\n",
      "[I 2024-09-12 14:01:31,170] Trial 141 finished with value: 0.7893233527036344 and parameters: {'n_estimators': 514, 'max_depth': 10, 'min_samples_split': 24, 'min_samples_leaf': 24}. Best is trial 58 with value: 0.8244755244755245.\n",
      "[I 2024-09-12 14:01:32,218] Trial 142 finished with value: 0.7893332020092583 and parameters: {'n_estimators': 139, 'max_depth': 31, 'min_samples_split': 32, 'min_samples_leaf': 28}. Best is trial 58 with value: 0.8244755244755245.\n",
      "[I 2024-09-12 14:01:36,300] Trial 143 finished with value: 0.8132276174529697 and parameters: {'n_estimators': 586, 'max_depth': 26, 'min_samples_split': 26, 'min_samples_leaf': 10}. Best is trial 58 with value: 0.8244755244755245.\n",
      "[I 2024-09-12 14:01:38,795] Trial 144 finished with value: 0.8146262188515709 and parameters: {'n_estimators': 344, 'max_depth': 7, 'min_samples_split': 2, 'min_samples_leaf': 10}. Best is trial 58 with value: 0.8244755244755245.\n",
      "[I 2024-09-12 14:01:42,056] Trial 145 finished with value: 0.8117994681374963 and parameters: {'n_estimators': 403, 'max_depth': 31, 'min_samples_split': 25, 'min_samples_leaf': 12}. Best is trial 58 with value: 0.8244755244755245.\n",
      "[I 2024-09-12 14:01:45,904] Trial 146 finished with value: 0.7865064512951838 and parameters: {'n_estimators': 508, 'max_depth': 16, 'min_samples_split': 15, 'min_samples_leaf': 28}. Best is trial 58 with value: 0.8244755244755245.\n",
      "[I 2024-09-12 14:01:49,880] Trial 147 finished with value: 0.8019600118191669 and parameters: {'n_estimators': 578, 'max_depth': 9, 'min_samples_split': 11, 'min_samples_leaf': 17}. Best is trial 58 with value: 0.8244755244755245.\n",
      "[I 2024-09-12 14:01:51,894] Trial 148 finished with value: 0.7907318034078598 and parameters: {'n_estimators': 245, 'max_depth': 20, 'min_samples_split': 13, 'min_samples_leaf': 23}. Best is trial 58 with value: 0.8244755244755245.\n",
      "[I 2024-09-12 14:01:53,266] Trial 149 finished with value: 0.8202403230572244 and parameters: {'n_estimators': 159, 'max_depth': 21, 'min_samples_split': 26, 'min_samples_leaf': 9}. Best is trial 58 with value: 0.8244755244755245.\n",
      "[I 2024-09-12 14:01:56,994] Trial 150 finished with value: 0.7893233527036344 and parameters: {'n_estimators': 542, 'max_depth': 32, 'min_samples_split': 15, 'min_samples_leaf': 26}. Best is trial 58 with value: 0.8244755244755245.\n",
      "[I 2024-09-12 14:01:59,928] Trial 151 finished with value: 0.8216586230670739 and parameters: {'n_estimators': 373, 'max_depth': 24, 'min_samples_split': 15, 'min_samples_leaf': 5}. Best is trial 58 with value: 0.8244755244755245.\n",
      "[I 2024-09-12 14:02:02,826] Trial 152 finished with value: 0.7893233527036344 and parameters: {'n_estimators': 424, 'max_depth': 22, 'min_samples_split': 18, 'min_samples_leaf': 26}. Best is trial 58 with value: 0.8244755244755245.\n",
      "[I 2024-09-12 14:02:07,271] Trial 153 finished with value: 0.7893233527036344 and parameters: {'n_estimators': 639, 'max_depth': 6, 'min_samples_split': 24, 'min_samples_leaf': 25}. Best is trial 58 with value: 0.8244755244755245.\n",
      "[I 2024-09-12 14:02:11,470] Trial 154 finished with value: 0.8188417216586231 and parameters: {'n_estimators': 538, 'max_depth': 23, 'min_samples_split': 29, 'min_samples_leaf': 8}. Best is trial 58 with value: 0.8244755244755245.\n",
      "[I 2024-09-12 14:02:15,660] Trial 155 finished with value: 0.7893233527036344 and parameters: {'n_estimators': 574, 'max_depth': 15, 'min_samples_split': 16, 'min_samples_leaf': 24}. Best is trial 58 with value: 0.8244755244755245.\n",
      "[I 2024-09-12 14:02:19,737] Trial 156 finished with value: 0.7865064512951838 and parameters: {'n_estimators': 517, 'max_depth': 22, 'min_samples_split': 9, 'min_samples_leaf': 27}. Best is trial 58 with value: 0.8244755244755245.\n",
      "[I 2024-09-12 14:02:23,896] Trial 157 finished with value: 0.7865064512951838 and parameters: {'n_estimators': 614, 'max_depth': 13, 'min_samples_split': 26, 'min_samples_leaf': 28}. Best is trial 58 with value: 0.8244755244755245.\n",
      "[I 2024-09-12 14:02:28,350] Trial 158 finished with value: 0.8090022653402936 and parameters: {'n_estimators': 638, 'max_depth': 29, 'min_samples_split': 10, 'min_samples_leaf': 13}. Best is trial 58 with value: 0.8244755244755245.\n",
      "[I 2024-09-12 14:02:32,275] Trial 159 finished with value: 0.7893233527036344 and parameters: {'n_estimators': 571, 'max_depth': 9, 'min_samples_split': 17, 'min_samples_leaf': 25}. Best is trial 58 with value: 0.8244755244755245.\n",
      "[I 2024-09-12 14:02:36,878] Trial 160 finished with value: 0.8174529695656456 and parameters: {'n_estimators': 648, 'max_depth': 25, 'min_samples_split': 24, 'min_samples_leaf': 1}. Best is trial 58 with value: 0.8244755244755245.\n",
      "[I 2024-09-12 14:02:40,883] Trial 161 finished with value: 0.799162809021964 and parameters: {'n_estimators': 503, 'max_depth': 24, 'min_samples_split': 29, 'min_samples_leaf': 19}. Best is trial 58 with value: 0.8244755244755245.\n",
      "[I 2024-09-12 14:02:43,440] Trial 162 finished with value: 0.8019600118191669 and parameters: {'n_estimators': 307, 'max_depth': 32, 'min_samples_split': 9, 'min_samples_leaf': 17}. Best is trial 58 with value: 0.8244755244755245.\n",
      "[I 2024-09-12 14:02:45,558] Trial 163 finished with value: 0.8132177681473458 and parameters: {'n_estimators': 281, 'max_depth': 9, 'min_samples_split': 12, 'min_samples_leaf': 12}. Best is trial 58 with value: 0.8244755244755245.\n",
      "[I 2024-09-12 14:02:49,392] Trial 164 finished with value: 0.7921402541120852 and parameters: {'n_estimators': 553, 'max_depth': 8, 'min_samples_split': 13, 'min_samples_leaf': 20}. Best is trial 58 with value: 0.8244755244755245.\n",
      "[I 2024-09-12 14:02:51,228] Trial 165 finished with value: 0.7907318034078598 and parameters: {'n_estimators': 239, 'max_depth': 11, 'min_samples_split': 11, 'min_samples_leaf': 22}. Best is trial 58 with value: 0.8244755244755245.\n",
      "[I 2024-09-12 14:02:52,670] Trial 166 finished with value: 0.7865359992120556 and parameters: {'n_estimators': 177, 'max_depth': 30, 'min_samples_split': 2, 'min_samples_leaf': 29}. Best is trial 58 with value: 0.8244755244755245.\n",
      "[I 2024-09-12 14:02:56,932] Trial 167 finished with value: 0.8202501723628484 and parameters: {'n_estimators': 614, 'max_depth': 6, 'min_samples_split': 24, 'min_samples_leaf': 4}. Best is trial 58 with value: 0.8244755244755245.\n",
      "[I 2024-09-12 14:03:01,750] Trial 168 finished with value: 0.8202600216684723 and parameters: {'n_estimators': 685, 'max_depth': 32, 'min_samples_split': 7, 'min_samples_leaf': 6}. Best is trial 58 with value: 0.8244755244755245.\n",
      "[I 2024-09-12 14:03:05,721] Trial 169 finished with value: 0.8005614104205654 and parameters: {'n_estimators': 574, 'max_depth': 4, 'min_samples_split': 9, 'min_samples_leaf': 16}. Best is trial 58 with value: 0.8244755244755245.\n",
      "[I 2024-09-12 14:03:10,699] Trial 170 finished with value: 0.7907318034078598 and parameters: {'n_estimators': 691, 'max_depth': 15, 'min_samples_split': 22, 'min_samples_leaf': 20}. Best is trial 58 with value: 0.8244755244755245.\n",
      "[I 2024-09-12 14:03:14,609] Trial 171 finished with value: 0.7865064512951838 and parameters: {'n_estimators': 466, 'max_depth': 22, 'min_samples_split': 16, 'min_samples_leaf': 27}. Best is trial 58 with value: 0.8244755244755245.\n",
      "[I 2024-09-12 14:03:18,679] Trial 172 finished with value: 0.8174431202600217 and parameters: {'n_estimators': 581, 'max_depth': 13, 'min_samples_split': 18, 'min_samples_leaf': 9}. Best is trial 58 with value: 0.8244755244755245.\n",
      "[I 2024-09-12 14:03:22,409] Trial 173 finished with value: 0.8089924160346695 and parameters: {'n_estimators': 544, 'max_depth': 4, 'min_samples_split': 24, 'min_samples_leaf': 10}. Best is trial 58 with value: 0.8244755244755245.\n",
      "[I 2024-09-12 14:03:25,668] Trial 174 finished with value: 0.799162809021964 and parameters: {'n_estimators': 470, 'max_depth': 27, 'min_samples_split': 26, 'min_samples_leaf': 19}. Best is trial 58 with value: 0.8244755244755245.\n",
      "[I 2024-09-12 14:03:27,557] Trial 175 finished with value: 0.8117994681374963 and parameters: {'n_estimators': 261, 'max_depth': 4, 'min_samples_split': 21, 'min_samples_leaf': 11}. Best is trial 58 with value: 0.8244755244755245.\n",
      "[I 2024-09-12 14:03:31,376] Trial 176 finished with value: 0.8188417216586231 and parameters: {'n_estimators': 520, 'max_depth': 26, 'min_samples_split': 20, 'min_samples_leaf': 7}. Best is trial 58 with value: 0.8244755244755245.\n",
      "[I 2024-09-12 14:03:34,868] Trial 177 finished with value: 0.8019600118191669 and parameters: {'n_estimators': 507, 'max_depth': 23, 'min_samples_split': 29, 'min_samples_leaf': 17}. Best is trial 58 with value: 0.8244755244755245.\n",
      "[I 2024-09-12 14:03:36,017] Trial 178 finished with value: 0.8202698709740964 and parameters: {'n_estimators': 144, 'max_depth': 21, 'min_samples_split': 16, 'min_samples_leaf': 6}. Best is trial 58 with value: 0.8244755244755245.\n",
      "[I 2024-09-12 14:03:37,394] Trial 179 finished with value: 0.810400866738895 and parameters: {'n_estimators': 179, 'max_depth': 11, 'min_samples_split': 31, 'min_samples_leaf': 12}. Best is trial 58 with value: 0.8244755244755245.\n",
      "[I 2024-09-12 14:03:39,243] Trial 180 finished with value: 0.7823106470993795 and parameters: {'n_estimators': 255, 'max_depth': 2, 'min_samples_split': 12, 'min_samples_leaf': 22}. Best is trial 58 with value: 0.8244755244755245.\n",
      "[I 2024-09-12 14:03:41,439] Trial 181 finished with value: 0.7893332020092583 and parameters: {'n_estimators': 262, 'max_depth': 23, 'min_samples_split': 30, 'min_samples_leaf': 25}. Best is trial 58 with value: 0.8244755244755245.\n",
      "[I 2024-09-12 14:03:45,824] Trial 182 finished with value: 0.7907318034078598 and parameters: {'n_estimators': 596, 'max_depth': 19, 'min_samples_split': 20, 'min_samples_leaf': 20}. Best is trial 58 with value: 0.8244755244755245.\n",
      "[I 2024-09-12 14:03:49,760] Trial 183 finished with value: 0.7977642076233626 and parameters: {'n_estimators': 580, 'max_depth': 18, 'min_samples_split': 19, 'min_samples_leaf': 19}. Best is trial 58 with value: 0.8244755244755245.\n",
      "[I 2024-09-12 14:03:51,293] Trial 184 finished with value: 0.8104205653501427 and parameters: {'n_estimators': 207, 'max_depth': 7, 'min_samples_split': 4, 'min_samples_leaf': 10}. Best is trial 58 with value: 0.8244755244755245.\n",
      "[I 2024-09-12 14:03:55,217] Trial 185 finished with value: 0.7823007977937555 and parameters: {'n_estimators': 574, 'max_depth': 3, 'min_samples_split': 2, 'min_samples_leaf': 28}. Best is trial 58 with value: 0.8244755244755245.\n",
      "[I 2024-09-12 14:03:57,667] Trial 186 finished with value: 0.8005712597261893 and parameters: {'n_estimators': 290, 'max_depth': 3, 'min_samples_split': 7, 'min_samples_leaf': 18}. Best is trial 58 with value: 0.8244755244755245.\n",
      "[I 2024-09-12 14:04:02,135] Trial 187 finished with value: 0.7907318034078598 and parameters: {'n_estimators': 650, 'max_depth': 25, 'min_samples_split': 28, 'min_samples_leaf': 23}. Best is trial 58 with value: 0.8244755244755245.\n",
      "[I 2024-09-12 14:04:06,724] Trial 188 finished with value: 0.8174332709543979 and parameters: {'n_estimators': 662, 'max_depth': 28, 'min_samples_split': 22, 'min_samples_leaf': 7}. Best is trial 58 with value: 0.8244755244755245.\n",
      "[I 2024-09-12 14:04:09,207] Trial 189 finished with value: 0.7893233527036344 and parameters: {'n_estimators': 352, 'max_depth': 8, 'min_samples_split': 11, 'min_samples_leaf': 24}. Best is trial 58 with value: 0.8244755244755245.\n",
      "[I 2024-09-12 14:04:11,322] Trial 190 finished with value: 0.8033684625233921 and parameters: {'n_estimators': 241, 'max_depth': 20, 'min_samples_split': 9, 'min_samples_leaf': 18}. Best is trial 58 with value: 0.8244755244755245.\n",
      "[I 2024-09-12 14:04:15,630] Trial 191 finished with value: 0.8132177681473458 and parameters: {'n_estimators': 485, 'max_depth': 15, 'min_samples_split': 29, 'min_samples_leaf': 12}. Best is trial 58 with value: 0.8244755244755245.\n",
      "[I 2024-09-12 14:04:18,724] Trial 192 finished with value: 0.7865163006008076 and parameters: {'n_estimators': 405, 'max_depth': 27, 'min_samples_split': 19, 'min_samples_leaf': 30}. Best is trial 58 with value: 0.8244755244755245.\n",
      "[I 2024-09-12 14:04:23,462] Trial 193 finished with value: 0.8216586230670739 and parameters: {'n_estimators': 648, 'max_depth': 21, 'min_samples_split': 24, 'min_samples_leaf': 5}. Best is trial 58 with value: 0.8244755244755245.\n",
      "[I 2024-09-12 14:04:24,858] Trial 194 finished with value: 0.7949670048261597 and parameters: {'n_estimators': 189, 'max_depth': 22, 'min_samples_split': 3, 'min_samples_leaf': 22}. Best is trial 58 with value: 0.8244755244755245.\n",
      "[I 2024-09-12 14:04:28,724] Trial 195 finished with value: 0.7977642076233626 and parameters: {'n_estimators': 557, 'max_depth': 21, 'min_samples_split': 31, 'min_samples_leaf': 19}. Best is trial 58 with value: 0.8244755244755245.\n",
      "[I 2024-09-12 14:04:29,783] Trial 196 finished with value: 0.7907416527134836 and parameters: {'n_estimators': 141, 'max_depth': 30, 'min_samples_split': 27, 'min_samples_leaf': 30}. Best is trial 58 with value: 0.8244755244755245.\n",
      "[I 2024-09-12 14:04:33,741] Trial 197 finished with value: 0.806175514626219 and parameters: {'n_estimators': 543, 'max_depth': 5, 'min_samples_split': 13, 'min_samples_leaf': 15}. Best is trial 58 with value: 0.8244755244755245.\n",
      "[I 2024-09-12 14:04:37,494] Trial 198 finished with value: 0.7851078498965822 and parameters: {'n_estimators': 552, 'max_depth': 28, 'min_samples_split': 3, 'min_samples_leaf': 28}. Best is trial 58 with value: 0.8244755244755245.\n",
      "[I 2024-09-12 14:04:39,266] Trial 199 finished with value: 0.7907318034078598 and parameters: {'n_estimators': 248, 'max_depth': 28, 'min_samples_split': 21, 'min_samples_leaf': 24}. Best is trial 58 with value: 0.8244755244755245.\n"
     ]
    }
   ],
   "source": [
    "# Optimize the objective function using the Optuna study.\n",
    "# Perform 250 trials to find the best hyperparameters based on the objective function.\n",
    "\n",
    "study.optimize(objective, n_trials=200)"
   ]
  },
  {
   "cell_type": "code",
   "execution_count": 94,
   "metadata": {},
   "outputs": [
    {
     "data": {
      "application/vnd.plotly.v1+json": {
       "config": {
        "plotlyServerURL": "https://plot.ly"
       },
       "data": [
        {
         "mode": "markers",
         "name": "Objective Value",
         "type": "scatter",
         "x": [
          0,
          1,
          2,
          3,
          4,
          5,
          6,
          7,
          8,
          9,
          10,
          11,
          12,
          13,
          14,
          15,
          16,
          17,
          18,
          19,
          20,
          21,
          22,
          23,
          24,
          25,
          26,
          27,
          28,
          29,
          30,
          31,
          32,
          33,
          34,
          35,
          36,
          37,
          38,
          39,
          40,
          41,
          42,
          43,
          44,
          45,
          46,
          47,
          48,
          49,
          50,
          51,
          52,
          53,
          54,
          55,
          56,
          57,
          58,
          59,
          60,
          61,
          62,
          63,
          64,
          65,
          66,
          67,
          68,
          69,
          70,
          71,
          72,
          73,
          74,
          75,
          76,
          77,
          78,
          79,
          80,
          81,
          82,
          83,
          84,
          85,
          86,
          87,
          88,
          89,
          90,
          91,
          92,
          93,
          94,
          95,
          96,
          97,
          98,
          99,
          100,
          101,
          102,
          103,
          104,
          105,
          106,
          107,
          108,
          109,
          110,
          111,
          112,
          113,
          114,
          115,
          116,
          117,
          118,
          119,
          120,
          121,
          122,
          123,
          124,
          125,
          126,
          127,
          128,
          129,
          130,
          131,
          132,
          133,
          134,
          135,
          136,
          137,
          138,
          139,
          140,
          141,
          142,
          143,
          144,
          145,
          146,
          147,
          148,
          149,
          150,
          151,
          152,
          153,
          154,
          155,
          156,
          157,
          158,
          159,
          160,
          161,
          162,
          163,
          164,
          165,
          166,
          167,
          168,
          169,
          170,
          171,
          172,
          173,
          174,
          175,
          176,
          177,
          178,
          179,
          180,
          181,
          182,
          183,
          184,
          185,
          186,
          187,
          188,
          189,
          190,
          191,
          192,
          193,
          194,
          195,
          196,
          197,
          198,
          199
         ],
         "y": [
          0.8230572244656752,
          0.8202501723628484,
          0.7879247513050329,
          0.7921402541120852,
          0.81604451886142,
          0.7893233527036344,
          0.8075839653304442,
          0.7907318034078598,
          0.8216586230670739,
          0.8202501723628484,
          0.8146360681571949,
          0.7893233527036344,
          0.7893332020092583,
          0.7907318034078598,
          0.8188417216586231,
          0.799162809021964,
          0.810400866738895,
          0.8146262188515709,
          0.7935388555106865,
          0.8033684625233921,
          0.7893332020092584,
          0.7851275485078302,
          0.799162809021964,
          0.7836993991923569,
          0.7893332020092584,
          0.787924751305033,
          0.8019600118191667,
          0.8146262188515709,
          0.8062543090712104,
          0.7921501034177091,
          0.8188712695754947,
          0.7935388555106865,
          0.7921402541120852,
          0.8216586230670739,
          0.7865163006008076,
          0.8146262188515709,
          0.7851078498965822,
          0.8019797104304146,
          0.787944449916281,
          0.787914901999409,
          0.8019600118191669,
          0.8216586230670737,
          0.8019600118191669,
          0.7865064512951838,
          0.7921501034177091,
          0.7893233527036344,
          0.7851078498965822,
          0.8075839653304442,
          0.8047769132276175,
          0.818851570964247,
          0.818851570964247,
          0.8005515611149414,
          0.7893233527036344,
          0.7879149019994091,
          0.8160642174726682,
          0.7865163006008076,
          0.8202403230572244,
          0.8202501723628484,
          0.8244755244755245,
          0.7865163006008076,
          0.7907318034078598,
          0.8132177681473458,
          0.7865064512951838,
          0.823076923076923,
          0.8202600216684723,
          0.8089825667290456,
          0.7907416527134836,
          0.7879247513050329,
          0.787924751305033,
          0.7865163006008076,
          0.8202600216684723,
          0.8202501723628484,
          0.7921402541120852,
          0.799162809021964,
          0.8202600216684723,
          0.7907318034078598,
          0.8146262188515709,
          0.8188417216586231,
          0.7879247513050329,
          0.806175514626219,
          0.8188417216586231,
          0.7865163006008076,
          0.8216586230670739,
          0.7893233527036344,
          0.7766768442824781,
          0.8202501723628484,
          0.8174529695656456,
          0.8188417216586231,
          0.7851176992022063,
          0.8019600118191669,
          0.8075938146360683,
          0.8019600118191669,
          0.8188417216586231,
          0.7893233527036344,
          0.7893233527036344,
          0.8146262188515709,
          0.818851570964247,
          0.8019600118191667,
          0.8202501723628484,
          0.794937456909288,
          0.8047769132276175,
          0.8033586132177681,
          0.8230572244656752,
          0.7893332020092583,
          0.8174332709543979,
          0.8019501625135428,
          0.7921402541120852,
          0.7836993991923569,
          0.8019600118191669,
          0.7921402541120852,
          0.8216586230670739,
          0.7935487048163103,
          0.8132177681473458,
          0.7907318034078598,
          0.8202797202797203,
          0.7865163006008076,
          0.7865163006008077,
          0.8202501723628484,
          0.8216586230670739,
          0.8146262188515709,
          0.8188712695754947,
          0.8089924160346695,
          0.8174431202600217,
          0.8075839653304442,
          0.8202501723628484,
          0.7907318034078598,
          0.8202600216684723,
          0.7935487048163106,
          0.8090022653402936,
          0.8202501723628485,
          0.7865064512951838,
          0.810400866738895,
          0.8216586230670739,
          0.8132177681473458,
          0.8132374667585935,
          0.8118093174431202,
          0.7893332020092584,
          0.8033586132177681,
          0.7865163006008077,
          0.783709248497981,
          0.8188417216586231,
          0.7893233527036344,
          0.7893332020092583,
          0.8132276174529697,
          0.8146262188515709,
          0.8117994681374963,
          0.7865064512951838,
          0.8019600118191669,
          0.7907318034078598,
          0.8202403230572244,
          0.7893233527036344,
          0.8216586230670739,
          0.7893233527036344,
          0.7893233527036344,
          0.8188417216586231,
          0.7893233527036344,
          0.7865064512951838,
          0.7865064512951838,
          0.8090022653402936,
          0.7893233527036344,
          0.8174529695656456,
          0.799162809021964,
          0.8019600118191669,
          0.8132177681473458,
          0.7921402541120852,
          0.7907318034078598,
          0.7865359992120556,
          0.8202501723628484,
          0.8202600216684723,
          0.8005614104205654,
          0.7907318034078598,
          0.7865064512951838,
          0.8174431202600217,
          0.8089924160346695,
          0.799162809021964,
          0.8117994681374963,
          0.8188417216586231,
          0.8019600118191669,
          0.8202698709740964,
          0.810400866738895,
          0.7823106470993795,
          0.7893332020092583,
          0.7907318034078598,
          0.7977642076233626,
          0.8104205653501427,
          0.7823007977937555,
          0.8005712597261893,
          0.7907318034078598,
          0.8174332709543979,
          0.7893233527036344,
          0.8033684625233921,
          0.8132177681473458,
          0.7865163006008076,
          0.8216586230670739,
          0.7949670048261597,
          0.7977642076233626,
          0.7907416527134836,
          0.806175514626219,
          0.7851078498965822,
          0.7907318034078598
         ]
        },
        {
         "mode": "lines",
         "name": "Best Value",
         "type": "scatter",
         "x": [
          0,
          1,
          2,
          3,
          4,
          5,
          6,
          7,
          8,
          9,
          10,
          11,
          12,
          13,
          14,
          15,
          16,
          17,
          18,
          19,
          20,
          21,
          22,
          23,
          24,
          25,
          26,
          27,
          28,
          29,
          30,
          31,
          32,
          33,
          34,
          35,
          36,
          37,
          38,
          39,
          40,
          41,
          42,
          43,
          44,
          45,
          46,
          47,
          48,
          49,
          50,
          51,
          52,
          53,
          54,
          55,
          56,
          57,
          58,
          59,
          60,
          61,
          62,
          63,
          64,
          65,
          66,
          67,
          68,
          69,
          70,
          71,
          72,
          73,
          74,
          75,
          76,
          77,
          78,
          79,
          80,
          81,
          82,
          83,
          84,
          85,
          86,
          87,
          88,
          89,
          90,
          91,
          92,
          93,
          94,
          95,
          96,
          97,
          98,
          99,
          100,
          101,
          102,
          103,
          104,
          105,
          106,
          107,
          108,
          109,
          110,
          111,
          112,
          113,
          114,
          115,
          116,
          117,
          118,
          119,
          120,
          121,
          122,
          123,
          124,
          125,
          126,
          127,
          128,
          129,
          130,
          131,
          132,
          133,
          134,
          135,
          136,
          137,
          138,
          139,
          140,
          141,
          142,
          143,
          144,
          145,
          146,
          147,
          148,
          149,
          150,
          151,
          152,
          153,
          154,
          155,
          156,
          157,
          158,
          159,
          160,
          161,
          162,
          163,
          164,
          165,
          166,
          167,
          168,
          169,
          170,
          171,
          172,
          173,
          174,
          175,
          176,
          177,
          178,
          179,
          180,
          181,
          182,
          183,
          184,
          185,
          186,
          187,
          188,
          189,
          190,
          191,
          192,
          193,
          194,
          195,
          196,
          197,
          198,
          199
         ],
         "y": [
          0.8230572244656752,
          0.8230572244656752,
          0.8230572244656752,
          0.8230572244656752,
          0.8230572244656752,
          0.8230572244656752,
          0.8230572244656752,
          0.8230572244656752,
          0.8230572244656752,
          0.8230572244656752,
          0.8230572244656752,
          0.8230572244656752,
          0.8230572244656752,
          0.8230572244656752,
          0.8230572244656752,
          0.8230572244656752,
          0.8230572244656752,
          0.8230572244656752,
          0.8230572244656752,
          0.8230572244656752,
          0.8230572244656752,
          0.8230572244656752,
          0.8230572244656752,
          0.8230572244656752,
          0.8230572244656752,
          0.8230572244656752,
          0.8230572244656752,
          0.8230572244656752,
          0.8230572244656752,
          0.8230572244656752,
          0.8230572244656752,
          0.8230572244656752,
          0.8230572244656752,
          0.8230572244656752,
          0.8230572244656752,
          0.8230572244656752,
          0.8230572244656752,
          0.8230572244656752,
          0.8230572244656752,
          0.8230572244656752,
          0.8230572244656752,
          0.8230572244656752,
          0.8230572244656752,
          0.8230572244656752,
          0.8230572244656752,
          0.8230572244656752,
          0.8230572244656752,
          0.8230572244656752,
          0.8230572244656752,
          0.8230572244656752,
          0.8230572244656752,
          0.8230572244656752,
          0.8230572244656752,
          0.8230572244656752,
          0.8230572244656752,
          0.8230572244656752,
          0.8230572244656752,
          0.8230572244656752,
          0.8244755244755245,
          0.8244755244755245,
          0.8244755244755245,
          0.8244755244755245,
          0.8244755244755245,
          0.8244755244755245,
          0.8244755244755245,
          0.8244755244755245,
          0.8244755244755245,
          0.8244755244755245,
          0.8244755244755245,
          0.8244755244755245,
          0.8244755244755245,
          0.8244755244755245,
          0.8244755244755245,
          0.8244755244755245,
          0.8244755244755245,
          0.8244755244755245,
          0.8244755244755245,
          0.8244755244755245,
          0.8244755244755245,
          0.8244755244755245,
          0.8244755244755245,
          0.8244755244755245,
          0.8244755244755245,
          0.8244755244755245,
          0.8244755244755245,
          0.8244755244755245,
          0.8244755244755245,
          0.8244755244755245,
          0.8244755244755245,
          0.8244755244755245,
          0.8244755244755245,
          0.8244755244755245,
          0.8244755244755245,
          0.8244755244755245,
          0.8244755244755245,
          0.8244755244755245,
          0.8244755244755245,
          0.8244755244755245,
          0.8244755244755245,
          0.8244755244755245,
          0.8244755244755245,
          0.8244755244755245,
          0.8244755244755245,
          0.8244755244755245,
          0.8244755244755245,
          0.8244755244755245,
          0.8244755244755245,
          0.8244755244755245,
          0.8244755244755245,
          0.8244755244755245,
          0.8244755244755245,
          0.8244755244755245,
          0.8244755244755245,
          0.8244755244755245,
          0.8244755244755245,
          0.8244755244755245,
          0.8244755244755245,
          0.8244755244755245,
          0.8244755244755245,
          0.8244755244755245,
          0.8244755244755245,
          0.8244755244755245,
          0.8244755244755245,
          0.8244755244755245,
          0.8244755244755245,
          0.8244755244755245,
          0.8244755244755245,
          0.8244755244755245,
          0.8244755244755245,
          0.8244755244755245,
          0.8244755244755245,
          0.8244755244755245,
          0.8244755244755245,
          0.8244755244755245,
          0.8244755244755245,
          0.8244755244755245,
          0.8244755244755245,
          0.8244755244755245,
          0.8244755244755245,
          0.8244755244755245,
          0.8244755244755245,
          0.8244755244755245,
          0.8244755244755245,
          0.8244755244755245,
          0.8244755244755245,
          0.8244755244755245,
          0.8244755244755245,
          0.8244755244755245,
          0.8244755244755245,
          0.8244755244755245,
          0.8244755244755245,
          0.8244755244755245,
          0.8244755244755245,
          0.8244755244755245,
          0.8244755244755245,
          0.8244755244755245,
          0.8244755244755245,
          0.8244755244755245,
          0.8244755244755245,
          0.8244755244755245,
          0.8244755244755245,
          0.8244755244755245,
          0.8244755244755245,
          0.8244755244755245,
          0.8244755244755245,
          0.8244755244755245,
          0.8244755244755245,
          0.8244755244755245,
          0.8244755244755245,
          0.8244755244755245,
          0.8244755244755245,
          0.8244755244755245,
          0.8244755244755245,
          0.8244755244755245,
          0.8244755244755245,
          0.8244755244755245,
          0.8244755244755245,
          0.8244755244755245,
          0.8244755244755245,
          0.8244755244755245,
          0.8244755244755245,
          0.8244755244755245,
          0.8244755244755245,
          0.8244755244755245,
          0.8244755244755245,
          0.8244755244755245,
          0.8244755244755245,
          0.8244755244755245,
          0.8244755244755245,
          0.8244755244755245,
          0.8244755244755245,
          0.8244755244755245,
          0.8244755244755245,
          0.8244755244755245,
          0.8244755244755245,
          0.8244755244755245,
          0.8244755244755245,
          0.8244755244755245,
          0.8244755244755245,
          0.8244755244755245
         ]
        },
        {
         "marker": {
          "color": "#cccccc"
         },
         "mode": "markers",
         "name": "Infeasible Trial",
         "showlegend": false,
         "type": "scatter",
         "x": [],
         "y": []
        }
       ],
       "layout": {
        "template": {
         "data": {
          "bar": [
           {
            "error_x": {
             "color": "#2a3f5f"
            },
            "error_y": {
             "color": "#2a3f5f"
            },
            "marker": {
             "line": {
              "color": "#E5ECF6",
              "width": 0.5
             },
             "pattern": {
              "fillmode": "overlay",
              "size": 10,
              "solidity": 0.2
             }
            },
            "type": "bar"
           }
          ],
          "barpolar": [
           {
            "marker": {
             "line": {
              "color": "#E5ECF6",
              "width": 0.5
             },
             "pattern": {
              "fillmode": "overlay",
              "size": 10,
              "solidity": 0.2
             }
            },
            "type": "barpolar"
           }
          ],
          "carpet": [
           {
            "aaxis": {
             "endlinecolor": "#2a3f5f",
             "gridcolor": "white",
             "linecolor": "white",
             "minorgridcolor": "white",
             "startlinecolor": "#2a3f5f"
            },
            "baxis": {
             "endlinecolor": "#2a3f5f",
             "gridcolor": "white",
             "linecolor": "white",
             "minorgridcolor": "white",
             "startlinecolor": "#2a3f5f"
            },
            "type": "carpet"
           }
          ],
          "choropleth": [
           {
            "colorbar": {
             "outlinewidth": 0,
             "ticks": ""
            },
            "type": "choropleth"
           }
          ],
          "contour": [
           {
            "colorbar": {
             "outlinewidth": 0,
             "ticks": ""
            },
            "colorscale": [
             [
              0,
              "#0d0887"
             ],
             [
              0.1111111111111111,
              "#46039f"
             ],
             [
              0.2222222222222222,
              "#7201a8"
             ],
             [
              0.3333333333333333,
              "#9c179e"
             ],
             [
              0.4444444444444444,
              "#bd3786"
             ],
             [
              0.5555555555555556,
              "#d8576b"
             ],
             [
              0.6666666666666666,
              "#ed7953"
             ],
             [
              0.7777777777777778,
              "#fb9f3a"
             ],
             [
              0.8888888888888888,
              "#fdca26"
             ],
             [
              1,
              "#f0f921"
             ]
            ],
            "type": "contour"
           }
          ],
          "contourcarpet": [
           {
            "colorbar": {
             "outlinewidth": 0,
             "ticks": ""
            },
            "type": "contourcarpet"
           }
          ],
          "heatmap": [
           {
            "colorbar": {
             "outlinewidth": 0,
             "ticks": ""
            },
            "colorscale": [
             [
              0,
              "#0d0887"
             ],
             [
              0.1111111111111111,
              "#46039f"
             ],
             [
              0.2222222222222222,
              "#7201a8"
             ],
             [
              0.3333333333333333,
              "#9c179e"
             ],
             [
              0.4444444444444444,
              "#bd3786"
             ],
             [
              0.5555555555555556,
              "#d8576b"
             ],
             [
              0.6666666666666666,
              "#ed7953"
             ],
             [
              0.7777777777777778,
              "#fb9f3a"
             ],
             [
              0.8888888888888888,
              "#fdca26"
             ],
             [
              1,
              "#f0f921"
             ]
            ],
            "type": "heatmap"
           }
          ],
          "heatmapgl": [
           {
            "colorbar": {
             "outlinewidth": 0,
             "ticks": ""
            },
            "colorscale": [
             [
              0,
              "#0d0887"
             ],
             [
              0.1111111111111111,
              "#46039f"
             ],
             [
              0.2222222222222222,
              "#7201a8"
             ],
             [
              0.3333333333333333,
              "#9c179e"
             ],
             [
              0.4444444444444444,
              "#bd3786"
             ],
             [
              0.5555555555555556,
              "#d8576b"
             ],
             [
              0.6666666666666666,
              "#ed7953"
             ],
             [
              0.7777777777777778,
              "#fb9f3a"
             ],
             [
              0.8888888888888888,
              "#fdca26"
             ],
             [
              1,
              "#f0f921"
             ]
            ],
            "type": "heatmapgl"
           }
          ],
          "histogram": [
           {
            "marker": {
             "pattern": {
              "fillmode": "overlay",
              "size": 10,
              "solidity": 0.2
             }
            },
            "type": "histogram"
           }
          ],
          "histogram2d": [
           {
            "colorbar": {
             "outlinewidth": 0,
             "ticks": ""
            },
            "colorscale": [
             [
              0,
              "#0d0887"
             ],
             [
              0.1111111111111111,
              "#46039f"
             ],
             [
              0.2222222222222222,
              "#7201a8"
             ],
             [
              0.3333333333333333,
              "#9c179e"
             ],
             [
              0.4444444444444444,
              "#bd3786"
             ],
             [
              0.5555555555555556,
              "#d8576b"
             ],
             [
              0.6666666666666666,
              "#ed7953"
             ],
             [
              0.7777777777777778,
              "#fb9f3a"
             ],
             [
              0.8888888888888888,
              "#fdca26"
             ],
             [
              1,
              "#f0f921"
             ]
            ],
            "type": "histogram2d"
           }
          ],
          "histogram2dcontour": [
           {
            "colorbar": {
             "outlinewidth": 0,
             "ticks": ""
            },
            "colorscale": [
             [
              0,
              "#0d0887"
             ],
             [
              0.1111111111111111,
              "#46039f"
             ],
             [
              0.2222222222222222,
              "#7201a8"
             ],
             [
              0.3333333333333333,
              "#9c179e"
             ],
             [
              0.4444444444444444,
              "#bd3786"
             ],
             [
              0.5555555555555556,
              "#d8576b"
             ],
             [
              0.6666666666666666,
              "#ed7953"
             ],
             [
              0.7777777777777778,
              "#fb9f3a"
             ],
             [
              0.8888888888888888,
              "#fdca26"
             ],
             [
              1,
              "#f0f921"
             ]
            ],
            "type": "histogram2dcontour"
           }
          ],
          "mesh3d": [
           {
            "colorbar": {
             "outlinewidth": 0,
             "ticks": ""
            },
            "type": "mesh3d"
           }
          ],
          "parcoords": [
           {
            "line": {
             "colorbar": {
              "outlinewidth": 0,
              "ticks": ""
             }
            },
            "type": "parcoords"
           }
          ],
          "pie": [
           {
            "automargin": true,
            "type": "pie"
           }
          ],
          "scatter": [
           {
            "fillpattern": {
             "fillmode": "overlay",
             "size": 10,
             "solidity": 0.2
            },
            "type": "scatter"
           }
          ],
          "scatter3d": [
           {
            "line": {
             "colorbar": {
              "outlinewidth": 0,
              "ticks": ""
             }
            },
            "marker": {
             "colorbar": {
              "outlinewidth": 0,
              "ticks": ""
             }
            },
            "type": "scatter3d"
           }
          ],
          "scattercarpet": [
           {
            "marker": {
             "colorbar": {
              "outlinewidth": 0,
              "ticks": ""
             }
            },
            "type": "scattercarpet"
           }
          ],
          "scattergeo": [
           {
            "marker": {
             "colorbar": {
              "outlinewidth": 0,
              "ticks": ""
             }
            },
            "type": "scattergeo"
           }
          ],
          "scattergl": [
           {
            "marker": {
             "colorbar": {
              "outlinewidth": 0,
              "ticks": ""
             }
            },
            "type": "scattergl"
           }
          ],
          "scattermapbox": [
           {
            "marker": {
             "colorbar": {
              "outlinewidth": 0,
              "ticks": ""
             }
            },
            "type": "scattermapbox"
           }
          ],
          "scatterpolar": [
           {
            "marker": {
             "colorbar": {
              "outlinewidth": 0,
              "ticks": ""
             }
            },
            "type": "scatterpolar"
           }
          ],
          "scatterpolargl": [
           {
            "marker": {
             "colorbar": {
              "outlinewidth": 0,
              "ticks": ""
             }
            },
            "type": "scatterpolargl"
           }
          ],
          "scatterternary": [
           {
            "marker": {
             "colorbar": {
              "outlinewidth": 0,
              "ticks": ""
             }
            },
            "type": "scatterternary"
           }
          ],
          "surface": [
           {
            "colorbar": {
             "outlinewidth": 0,
             "ticks": ""
            },
            "colorscale": [
             [
              0,
              "#0d0887"
             ],
             [
              0.1111111111111111,
              "#46039f"
             ],
             [
              0.2222222222222222,
              "#7201a8"
             ],
             [
              0.3333333333333333,
              "#9c179e"
             ],
             [
              0.4444444444444444,
              "#bd3786"
             ],
             [
              0.5555555555555556,
              "#d8576b"
             ],
             [
              0.6666666666666666,
              "#ed7953"
             ],
             [
              0.7777777777777778,
              "#fb9f3a"
             ],
             [
              0.8888888888888888,
              "#fdca26"
             ],
             [
              1,
              "#f0f921"
             ]
            ],
            "type": "surface"
           }
          ],
          "table": [
           {
            "cells": {
             "fill": {
              "color": "#EBF0F8"
             },
             "line": {
              "color": "white"
             }
            },
            "header": {
             "fill": {
              "color": "#C8D4E3"
             },
             "line": {
              "color": "white"
             }
            },
            "type": "table"
           }
          ]
         },
         "layout": {
          "annotationdefaults": {
           "arrowcolor": "#2a3f5f",
           "arrowhead": 0,
           "arrowwidth": 1
          },
          "autotypenumbers": "strict",
          "coloraxis": {
           "colorbar": {
            "outlinewidth": 0,
            "ticks": ""
           }
          },
          "colorscale": {
           "diverging": [
            [
             0,
             "#8e0152"
            ],
            [
             0.1,
             "#c51b7d"
            ],
            [
             0.2,
             "#de77ae"
            ],
            [
             0.3,
             "#f1b6da"
            ],
            [
             0.4,
             "#fde0ef"
            ],
            [
             0.5,
             "#f7f7f7"
            ],
            [
             0.6,
             "#e6f5d0"
            ],
            [
             0.7,
             "#b8e186"
            ],
            [
             0.8,
             "#7fbc41"
            ],
            [
             0.9,
             "#4d9221"
            ],
            [
             1,
             "#276419"
            ]
           ],
           "sequential": [
            [
             0,
             "#0d0887"
            ],
            [
             0.1111111111111111,
             "#46039f"
            ],
            [
             0.2222222222222222,
             "#7201a8"
            ],
            [
             0.3333333333333333,
             "#9c179e"
            ],
            [
             0.4444444444444444,
             "#bd3786"
            ],
            [
             0.5555555555555556,
             "#d8576b"
            ],
            [
             0.6666666666666666,
             "#ed7953"
            ],
            [
             0.7777777777777778,
             "#fb9f3a"
            ],
            [
             0.8888888888888888,
             "#fdca26"
            ],
            [
             1,
             "#f0f921"
            ]
           ],
           "sequentialminus": [
            [
             0,
             "#0d0887"
            ],
            [
             0.1111111111111111,
             "#46039f"
            ],
            [
             0.2222222222222222,
             "#7201a8"
            ],
            [
             0.3333333333333333,
             "#9c179e"
            ],
            [
             0.4444444444444444,
             "#bd3786"
            ],
            [
             0.5555555555555556,
             "#d8576b"
            ],
            [
             0.6666666666666666,
             "#ed7953"
            ],
            [
             0.7777777777777778,
             "#fb9f3a"
            ],
            [
             0.8888888888888888,
             "#fdca26"
            ],
            [
             1,
             "#f0f921"
            ]
           ]
          },
          "colorway": [
           "#636efa",
           "#EF553B",
           "#00cc96",
           "#ab63fa",
           "#FFA15A",
           "#19d3f3",
           "#FF6692",
           "#B6E880",
           "#FF97FF",
           "#FECB52"
          ],
          "font": {
           "color": "#2a3f5f"
          },
          "geo": {
           "bgcolor": "white",
           "lakecolor": "white",
           "landcolor": "#E5ECF6",
           "showlakes": true,
           "showland": true,
           "subunitcolor": "white"
          },
          "hoverlabel": {
           "align": "left"
          },
          "hovermode": "closest",
          "mapbox": {
           "style": "light"
          },
          "paper_bgcolor": "white",
          "plot_bgcolor": "#E5ECF6",
          "polar": {
           "angularaxis": {
            "gridcolor": "white",
            "linecolor": "white",
            "ticks": ""
           },
           "bgcolor": "#E5ECF6",
           "radialaxis": {
            "gridcolor": "white",
            "linecolor": "white",
            "ticks": ""
           }
          },
          "scene": {
           "xaxis": {
            "backgroundcolor": "#E5ECF6",
            "gridcolor": "white",
            "gridwidth": 2,
            "linecolor": "white",
            "showbackground": true,
            "ticks": "",
            "zerolinecolor": "white"
           },
           "yaxis": {
            "backgroundcolor": "#E5ECF6",
            "gridcolor": "white",
            "gridwidth": 2,
            "linecolor": "white",
            "showbackground": true,
            "ticks": "",
            "zerolinecolor": "white"
           },
           "zaxis": {
            "backgroundcolor": "#E5ECF6",
            "gridcolor": "white",
            "gridwidth": 2,
            "linecolor": "white",
            "showbackground": true,
            "ticks": "",
            "zerolinecolor": "white"
           }
          },
          "shapedefaults": {
           "line": {
            "color": "#2a3f5f"
           }
          },
          "ternary": {
           "aaxis": {
            "gridcolor": "white",
            "linecolor": "white",
            "ticks": ""
           },
           "baxis": {
            "gridcolor": "white",
            "linecolor": "white",
            "ticks": ""
           },
           "bgcolor": "#E5ECF6",
           "caxis": {
            "gridcolor": "white",
            "linecolor": "white",
            "ticks": ""
           }
          },
          "title": {
           "x": 0.05
          },
          "xaxis": {
           "automargin": true,
           "gridcolor": "white",
           "linecolor": "white",
           "ticks": "",
           "title": {
            "standoff": 15
           },
           "zerolinecolor": "white",
           "zerolinewidth": 2
          },
          "yaxis": {
           "automargin": true,
           "gridcolor": "white",
           "linecolor": "white",
           "ticks": "",
           "title": {
            "standoff": 15
           },
           "zerolinecolor": "white",
           "zerolinewidth": 2
          }
         }
        },
        "title": {
         "text": "Optimization History Plot"
        },
        "xaxis": {
         "title": {
          "text": "Trial"
         }
        },
        "yaxis": {
         "title": {
          "text": "Objective Value"
         }
        }
       }
      }
     },
     "metadata": {},
     "output_type": "display_data"
    }
   ],
   "source": [
    "# Visualize the optimization history of the Optuna study.\n",
    "# This plot shows how the objective function value has evolved across different trials.\n",
    "\n",
    "optuna.visualization.plot_optimization_history(study)"
   ]
  },
  {
   "cell_type": "code",
   "execution_count": 95,
   "metadata": {},
   "outputs": [
    {
     "data": {
      "application/vnd.plotly.v1+json": {
       "config": {
        "plotlyServerURL": "https://plot.ly"
       },
       "data": [
        {
         "cliponaxis": false,
         "hovertemplate": [
          "min_samples_split (IntDistribution): 0.0005019683298022885<extra></extra>",
          "n_estimators (IntDistribution): 0.002133410596661239<extra></extra>",
          "max_depth (IntDistribution): 0.011667924245274948<extra></extra>",
          "min_samples_leaf (IntDistribution): 0.9856966968282616<extra></extra>"
         ],
         "name": "Objective Value",
         "orientation": "h",
         "text": [
          "<0.01",
          "<0.01",
          "0.01",
          "0.99"
         ],
         "textposition": "outside",
         "type": "bar",
         "x": [
          0.0005019683298022885,
          0.002133410596661239,
          0.011667924245274948,
          0.9856966968282616
         ],
         "y": [
          "min_samples_split",
          "n_estimators",
          "max_depth",
          "min_samples_leaf"
         ]
        }
       ],
       "layout": {
        "template": {
         "data": {
          "bar": [
           {
            "error_x": {
             "color": "#2a3f5f"
            },
            "error_y": {
             "color": "#2a3f5f"
            },
            "marker": {
             "line": {
              "color": "#E5ECF6",
              "width": 0.5
             },
             "pattern": {
              "fillmode": "overlay",
              "size": 10,
              "solidity": 0.2
             }
            },
            "type": "bar"
           }
          ],
          "barpolar": [
           {
            "marker": {
             "line": {
              "color": "#E5ECF6",
              "width": 0.5
             },
             "pattern": {
              "fillmode": "overlay",
              "size": 10,
              "solidity": 0.2
             }
            },
            "type": "barpolar"
           }
          ],
          "carpet": [
           {
            "aaxis": {
             "endlinecolor": "#2a3f5f",
             "gridcolor": "white",
             "linecolor": "white",
             "minorgridcolor": "white",
             "startlinecolor": "#2a3f5f"
            },
            "baxis": {
             "endlinecolor": "#2a3f5f",
             "gridcolor": "white",
             "linecolor": "white",
             "minorgridcolor": "white",
             "startlinecolor": "#2a3f5f"
            },
            "type": "carpet"
           }
          ],
          "choropleth": [
           {
            "colorbar": {
             "outlinewidth": 0,
             "ticks": ""
            },
            "type": "choropleth"
           }
          ],
          "contour": [
           {
            "colorbar": {
             "outlinewidth": 0,
             "ticks": ""
            },
            "colorscale": [
             [
              0,
              "#0d0887"
             ],
             [
              0.1111111111111111,
              "#46039f"
             ],
             [
              0.2222222222222222,
              "#7201a8"
             ],
             [
              0.3333333333333333,
              "#9c179e"
             ],
             [
              0.4444444444444444,
              "#bd3786"
             ],
             [
              0.5555555555555556,
              "#d8576b"
             ],
             [
              0.6666666666666666,
              "#ed7953"
             ],
             [
              0.7777777777777778,
              "#fb9f3a"
             ],
             [
              0.8888888888888888,
              "#fdca26"
             ],
             [
              1,
              "#f0f921"
             ]
            ],
            "type": "contour"
           }
          ],
          "contourcarpet": [
           {
            "colorbar": {
             "outlinewidth": 0,
             "ticks": ""
            },
            "type": "contourcarpet"
           }
          ],
          "heatmap": [
           {
            "colorbar": {
             "outlinewidth": 0,
             "ticks": ""
            },
            "colorscale": [
             [
              0,
              "#0d0887"
             ],
             [
              0.1111111111111111,
              "#46039f"
             ],
             [
              0.2222222222222222,
              "#7201a8"
             ],
             [
              0.3333333333333333,
              "#9c179e"
             ],
             [
              0.4444444444444444,
              "#bd3786"
             ],
             [
              0.5555555555555556,
              "#d8576b"
             ],
             [
              0.6666666666666666,
              "#ed7953"
             ],
             [
              0.7777777777777778,
              "#fb9f3a"
             ],
             [
              0.8888888888888888,
              "#fdca26"
             ],
             [
              1,
              "#f0f921"
             ]
            ],
            "type": "heatmap"
           }
          ],
          "heatmapgl": [
           {
            "colorbar": {
             "outlinewidth": 0,
             "ticks": ""
            },
            "colorscale": [
             [
              0,
              "#0d0887"
             ],
             [
              0.1111111111111111,
              "#46039f"
             ],
             [
              0.2222222222222222,
              "#7201a8"
             ],
             [
              0.3333333333333333,
              "#9c179e"
             ],
             [
              0.4444444444444444,
              "#bd3786"
             ],
             [
              0.5555555555555556,
              "#d8576b"
             ],
             [
              0.6666666666666666,
              "#ed7953"
             ],
             [
              0.7777777777777778,
              "#fb9f3a"
             ],
             [
              0.8888888888888888,
              "#fdca26"
             ],
             [
              1,
              "#f0f921"
             ]
            ],
            "type": "heatmapgl"
           }
          ],
          "histogram": [
           {
            "marker": {
             "pattern": {
              "fillmode": "overlay",
              "size": 10,
              "solidity": 0.2
             }
            },
            "type": "histogram"
           }
          ],
          "histogram2d": [
           {
            "colorbar": {
             "outlinewidth": 0,
             "ticks": ""
            },
            "colorscale": [
             [
              0,
              "#0d0887"
             ],
             [
              0.1111111111111111,
              "#46039f"
             ],
             [
              0.2222222222222222,
              "#7201a8"
             ],
             [
              0.3333333333333333,
              "#9c179e"
             ],
             [
              0.4444444444444444,
              "#bd3786"
             ],
             [
              0.5555555555555556,
              "#d8576b"
             ],
             [
              0.6666666666666666,
              "#ed7953"
             ],
             [
              0.7777777777777778,
              "#fb9f3a"
             ],
             [
              0.8888888888888888,
              "#fdca26"
             ],
             [
              1,
              "#f0f921"
             ]
            ],
            "type": "histogram2d"
           }
          ],
          "histogram2dcontour": [
           {
            "colorbar": {
             "outlinewidth": 0,
             "ticks": ""
            },
            "colorscale": [
             [
              0,
              "#0d0887"
             ],
             [
              0.1111111111111111,
              "#46039f"
             ],
             [
              0.2222222222222222,
              "#7201a8"
             ],
             [
              0.3333333333333333,
              "#9c179e"
             ],
             [
              0.4444444444444444,
              "#bd3786"
             ],
             [
              0.5555555555555556,
              "#d8576b"
             ],
             [
              0.6666666666666666,
              "#ed7953"
             ],
             [
              0.7777777777777778,
              "#fb9f3a"
             ],
             [
              0.8888888888888888,
              "#fdca26"
             ],
             [
              1,
              "#f0f921"
             ]
            ],
            "type": "histogram2dcontour"
           }
          ],
          "mesh3d": [
           {
            "colorbar": {
             "outlinewidth": 0,
             "ticks": ""
            },
            "type": "mesh3d"
           }
          ],
          "parcoords": [
           {
            "line": {
             "colorbar": {
              "outlinewidth": 0,
              "ticks": ""
             }
            },
            "type": "parcoords"
           }
          ],
          "pie": [
           {
            "automargin": true,
            "type": "pie"
           }
          ],
          "scatter": [
           {
            "fillpattern": {
             "fillmode": "overlay",
             "size": 10,
             "solidity": 0.2
            },
            "type": "scatter"
           }
          ],
          "scatter3d": [
           {
            "line": {
             "colorbar": {
              "outlinewidth": 0,
              "ticks": ""
             }
            },
            "marker": {
             "colorbar": {
              "outlinewidth": 0,
              "ticks": ""
             }
            },
            "type": "scatter3d"
           }
          ],
          "scattercarpet": [
           {
            "marker": {
             "colorbar": {
              "outlinewidth": 0,
              "ticks": ""
             }
            },
            "type": "scattercarpet"
           }
          ],
          "scattergeo": [
           {
            "marker": {
             "colorbar": {
              "outlinewidth": 0,
              "ticks": ""
             }
            },
            "type": "scattergeo"
           }
          ],
          "scattergl": [
           {
            "marker": {
             "colorbar": {
              "outlinewidth": 0,
              "ticks": ""
             }
            },
            "type": "scattergl"
           }
          ],
          "scattermapbox": [
           {
            "marker": {
             "colorbar": {
              "outlinewidth": 0,
              "ticks": ""
             }
            },
            "type": "scattermapbox"
           }
          ],
          "scatterpolar": [
           {
            "marker": {
             "colorbar": {
              "outlinewidth": 0,
              "ticks": ""
             }
            },
            "type": "scatterpolar"
           }
          ],
          "scatterpolargl": [
           {
            "marker": {
             "colorbar": {
              "outlinewidth": 0,
              "ticks": ""
             }
            },
            "type": "scatterpolargl"
           }
          ],
          "scatterternary": [
           {
            "marker": {
             "colorbar": {
              "outlinewidth": 0,
              "ticks": ""
             }
            },
            "type": "scatterternary"
           }
          ],
          "surface": [
           {
            "colorbar": {
             "outlinewidth": 0,
             "ticks": ""
            },
            "colorscale": [
             [
              0,
              "#0d0887"
             ],
             [
              0.1111111111111111,
              "#46039f"
             ],
             [
              0.2222222222222222,
              "#7201a8"
             ],
             [
              0.3333333333333333,
              "#9c179e"
             ],
             [
              0.4444444444444444,
              "#bd3786"
             ],
             [
              0.5555555555555556,
              "#d8576b"
             ],
             [
              0.6666666666666666,
              "#ed7953"
             ],
             [
              0.7777777777777778,
              "#fb9f3a"
             ],
             [
              0.8888888888888888,
              "#fdca26"
             ],
             [
              1,
              "#f0f921"
             ]
            ],
            "type": "surface"
           }
          ],
          "table": [
           {
            "cells": {
             "fill": {
              "color": "#EBF0F8"
             },
             "line": {
              "color": "white"
             }
            },
            "header": {
             "fill": {
              "color": "#C8D4E3"
             },
             "line": {
              "color": "white"
             }
            },
            "type": "table"
           }
          ]
         },
         "layout": {
          "annotationdefaults": {
           "arrowcolor": "#2a3f5f",
           "arrowhead": 0,
           "arrowwidth": 1
          },
          "autotypenumbers": "strict",
          "coloraxis": {
           "colorbar": {
            "outlinewidth": 0,
            "ticks": ""
           }
          },
          "colorscale": {
           "diverging": [
            [
             0,
             "#8e0152"
            ],
            [
             0.1,
             "#c51b7d"
            ],
            [
             0.2,
             "#de77ae"
            ],
            [
             0.3,
             "#f1b6da"
            ],
            [
             0.4,
             "#fde0ef"
            ],
            [
             0.5,
             "#f7f7f7"
            ],
            [
             0.6,
             "#e6f5d0"
            ],
            [
             0.7,
             "#b8e186"
            ],
            [
             0.8,
             "#7fbc41"
            ],
            [
             0.9,
             "#4d9221"
            ],
            [
             1,
             "#276419"
            ]
           ],
           "sequential": [
            [
             0,
             "#0d0887"
            ],
            [
             0.1111111111111111,
             "#46039f"
            ],
            [
             0.2222222222222222,
             "#7201a8"
            ],
            [
             0.3333333333333333,
             "#9c179e"
            ],
            [
             0.4444444444444444,
             "#bd3786"
            ],
            [
             0.5555555555555556,
             "#d8576b"
            ],
            [
             0.6666666666666666,
             "#ed7953"
            ],
            [
             0.7777777777777778,
             "#fb9f3a"
            ],
            [
             0.8888888888888888,
             "#fdca26"
            ],
            [
             1,
             "#f0f921"
            ]
           ],
           "sequentialminus": [
            [
             0,
             "#0d0887"
            ],
            [
             0.1111111111111111,
             "#46039f"
            ],
            [
             0.2222222222222222,
             "#7201a8"
            ],
            [
             0.3333333333333333,
             "#9c179e"
            ],
            [
             0.4444444444444444,
             "#bd3786"
            ],
            [
             0.5555555555555556,
             "#d8576b"
            ],
            [
             0.6666666666666666,
             "#ed7953"
            ],
            [
             0.7777777777777778,
             "#fb9f3a"
            ],
            [
             0.8888888888888888,
             "#fdca26"
            ],
            [
             1,
             "#f0f921"
            ]
           ]
          },
          "colorway": [
           "#636efa",
           "#EF553B",
           "#00cc96",
           "#ab63fa",
           "#FFA15A",
           "#19d3f3",
           "#FF6692",
           "#B6E880",
           "#FF97FF",
           "#FECB52"
          ],
          "font": {
           "color": "#2a3f5f"
          },
          "geo": {
           "bgcolor": "white",
           "lakecolor": "white",
           "landcolor": "#E5ECF6",
           "showlakes": true,
           "showland": true,
           "subunitcolor": "white"
          },
          "hoverlabel": {
           "align": "left"
          },
          "hovermode": "closest",
          "mapbox": {
           "style": "light"
          },
          "paper_bgcolor": "white",
          "plot_bgcolor": "#E5ECF6",
          "polar": {
           "angularaxis": {
            "gridcolor": "white",
            "linecolor": "white",
            "ticks": ""
           },
           "bgcolor": "#E5ECF6",
           "radialaxis": {
            "gridcolor": "white",
            "linecolor": "white",
            "ticks": ""
           }
          },
          "scene": {
           "xaxis": {
            "backgroundcolor": "#E5ECF6",
            "gridcolor": "white",
            "gridwidth": 2,
            "linecolor": "white",
            "showbackground": true,
            "ticks": "",
            "zerolinecolor": "white"
           },
           "yaxis": {
            "backgroundcolor": "#E5ECF6",
            "gridcolor": "white",
            "gridwidth": 2,
            "linecolor": "white",
            "showbackground": true,
            "ticks": "",
            "zerolinecolor": "white"
           },
           "zaxis": {
            "backgroundcolor": "#E5ECF6",
            "gridcolor": "white",
            "gridwidth": 2,
            "linecolor": "white",
            "showbackground": true,
            "ticks": "",
            "zerolinecolor": "white"
           }
          },
          "shapedefaults": {
           "line": {
            "color": "#2a3f5f"
           }
          },
          "ternary": {
           "aaxis": {
            "gridcolor": "white",
            "linecolor": "white",
            "ticks": ""
           },
           "baxis": {
            "gridcolor": "white",
            "linecolor": "white",
            "ticks": ""
           },
           "bgcolor": "#E5ECF6",
           "caxis": {
            "gridcolor": "white",
            "linecolor": "white",
            "ticks": ""
           }
          },
          "title": {
           "x": 0.05
          },
          "xaxis": {
           "automargin": true,
           "gridcolor": "white",
           "linecolor": "white",
           "ticks": "",
           "title": {
            "standoff": 15
           },
           "zerolinecolor": "white",
           "zerolinewidth": 2
          },
          "yaxis": {
           "automargin": true,
           "gridcolor": "white",
           "linecolor": "white",
           "ticks": "",
           "title": {
            "standoff": 15
           },
           "zerolinecolor": "white",
           "zerolinewidth": 2
          }
         }
        },
        "title": {
         "text": "Hyperparameter Importances"
        },
        "xaxis": {
         "title": {
          "text": "Hyperparameter Importance"
         }
        },
        "yaxis": {
         "title": {
          "text": "Hyperparameter"
         }
        }
       }
      }
     },
     "metadata": {},
     "output_type": "display_data"
    }
   ],
   "source": [
    "# Visualize the importance of each hyperparameter based on the Optuna study.\n",
    "# This plot helps to understand which hyperparameters most significantly impact the objective function.\n",
    "\n",
    "optuna.visualization.plot_param_importances(study)"
   ]
  },
  {
   "cell_type": "code",
   "execution_count": 96,
   "metadata": {},
   "outputs": [
    {
     "data": {
      "application/vnd.plotly.v1+json": {
       "config": {
        "plotlyServerURL": "https://plot.ly"
       },
       "data": [
        {
         "marker": {
          "color": [
           0,
           1,
           2,
           3,
           4,
           5,
           6,
           7,
           8,
           9,
           10,
           11,
           12,
           13,
           14,
           15,
           16,
           17,
           18,
           19,
           20,
           21,
           22,
           23,
           24,
           25,
           26,
           27,
           28,
           29,
           30,
           31,
           32,
           33,
           34,
           35,
           36,
           37,
           38,
           39,
           40,
           41,
           42,
           43,
           44,
           45,
           46,
           47,
           48,
           49,
           50,
           51,
           52,
           53,
           54,
           55,
           56,
           57,
           58,
           59,
           60,
           61,
           62,
           63,
           64,
           65,
           66,
           67,
           68,
           69,
           70,
           71,
           72,
           73,
           74,
           75,
           76,
           77,
           78,
           79,
           80,
           81,
           82,
           83,
           84,
           85,
           86,
           87,
           88,
           89,
           90,
           91,
           92,
           93,
           94,
           95,
           96,
           97,
           98,
           99,
           100,
           101,
           102,
           103,
           104,
           105,
           106,
           107,
           108,
           109,
           110,
           111,
           112,
           113,
           114,
           115,
           116,
           117,
           118,
           119,
           120,
           121,
           122,
           123,
           124,
           125,
           126,
           127,
           128,
           129,
           130,
           131,
           132,
           133,
           134,
           135,
           136,
           137,
           138,
           139,
           140,
           141,
           142,
           143,
           144,
           145,
           146,
           147,
           148,
           149,
           150,
           151,
           152,
           153,
           154,
           155,
           156,
           157,
           158,
           159,
           160,
           161,
           162,
           163,
           164,
           165,
           166,
           167,
           168,
           169,
           170,
           171,
           172,
           173,
           174,
           175,
           176,
           177,
           178,
           179,
           180,
           181,
           182,
           183,
           184,
           185,
           186,
           187,
           188,
           189,
           190,
           191,
           192,
           193,
           194,
           195,
           196,
           197,
           198,
           199
          ],
          "colorbar": {
           "title": {
            "text": "Trial"
           },
           "x": 1,
           "xpad": 40
          },
          "colorscale": [
           [
            0,
            "rgb(247,251,255)"
           ],
           [
            0.125,
            "rgb(222,235,247)"
           ],
           [
            0.25,
            "rgb(198,219,239)"
           ],
           [
            0.375,
            "rgb(158,202,225)"
           ],
           [
            0.5,
            "rgb(107,174,214)"
           ],
           [
            0.625,
            "rgb(66,146,198)"
           ],
           [
            0.75,
            "rgb(33,113,181)"
           ],
           [
            0.875,
            "rgb(8,81,156)"
           ],
           [
            1,
            "rgb(8,48,107)"
           ]
          ],
          "line": {
           "color": "Grey",
           "width": 0.5
          },
          "showscale": true
         },
         "mode": "markers",
         "name": "Feasible Trial",
         "showlegend": false,
         "type": "scatter",
         "x": [
          9,
          32,
          14,
          10,
          5,
          20,
          18,
          32,
          21,
          32,
          14,
          15,
          26,
          19,
          7,
          31,
          15,
          18,
          3,
          17,
          26,
          25,
          17,
          5,
          19,
          8,
          14,
          6,
          10,
          11,
          30,
          3,
          24,
          25,
          13,
          4,
          27,
          3,
          32,
          23,
          29,
          19,
          12,
          28,
          20,
          9,
          30,
          25,
          19,
          25,
          5,
          10,
          4,
          2,
          27,
          27,
          25,
          5,
          8,
          26,
          6,
          5,
          30,
          13,
          7,
          28,
          8,
          28,
          4,
          21,
          5,
          9,
          19,
          27,
          29,
          7,
          20,
          29,
          14,
          10,
          28,
          5,
          26,
          20,
          2,
          13,
          21,
          31,
          21,
          10,
          6,
          15,
          30,
          18,
          28,
          22,
          14,
          26,
          6,
          28,
          13,
          9,
          8,
          30,
          15,
          31,
          27,
          2,
          7,
          32,
          18,
          20,
          12,
          8,
          17,
          30,
          8,
          9,
          9,
          7,
          23,
          16,
          23,
          5,
          8,
          23,
          19,
          27,
          32,
          23,
          26,
          27,
          18,
          6,
          15,
          14,
          29,
          6,
          19,
          30,
          22,
          10,
          31,
          26,
          7,
          31,
          16,
          9,
          20,
          21,
          32,
          24,
          22,
          6,
          23,
          15,
          22,
          13,
          29,
          9,
          25,
          24,
          32,
          9,
          8,
          11,
          30,
          6,
          32,
          4,
          15,
          22,
          13,
          4,
          27,
          4,
          26,
          23,
          21,
          11,
          2,
          23,
          19,
          18,
          7,
          3,
          3,
          25,
          28,
          8,
          20,
          15,
          27,
          21,
          22,
          21,
          30,
          5,
          28,
          28
         ],
         "xaxis": "x",
         "y": [
          0.8230572244656752,
          0.8202501723628484,
          0.7879247513050329,
          0.7921402541120852,
          0.81604451886142,
          0.7893233527036344,
          0.8075839653304442,
          0.7907318034078598,
          0.8216586230670739,
          0.8202501723628484,
          0.8146360681571949,
          0.7893233527036344,
          0.7893332020092583,
          0.7907318034078598,
          0.8188417216586231,
          0.799162809021964,
          0.810400866738895,
          0.8146262188515709,
          0.7935388555106865,
          0.8033684625233921,
          0.7893332020092584,
          0.7851275485078302,
          0.799162809021964,
          0.7836993991923569,
          0.7893332020092584,
          0.787924751305033,
          0.8019600118191667,
          0.8146262188515709,
          0.8062543090712104,
          0.7921501034177091,
          0.8188712695754947,
          0.7935388555106865,
          0.7921402541120852,
          0.8216586230670739,
          0.7865163006008076,
          0.8146262188515709,
          0.7851078498965822,
          0.8019797104304146,
          0.787944449916281,
          0.787914901999409,
          0.8019600118191669,
          0.8216586230670737,
          0.8019600118191669,
          0.7865064512951838,
          0.7921501034177091,
          0.7893233527036344,
          0.7851078498965822,
          0.8075839653304442,
          0.8047769132276175,
          0.818851570964247,
          0.818851570964247,
          0.8005515611149414,
          0.7893233527036344,
          0.7879149019994091,
          0.8160642174726682,
          0.7865163006008076,
          0.8202403230572244,
          0.8202501723628484,
          0.8244755244755245,
          0.7865163006008076,
          0.7907318034078598,
          0.8132177681473458,
          0.7865064512951838,
          0.823076923076923,
          0.8202600216684723,
          0.8089825667290456,
          0.7907416527134836,
          0.7879247513050329,
          0.787924751305033,
          0.7865163006008076,
          0.8202600216684723,
          0.8202501723628484,
          0.7921402541120852,
          0.799162809021964,
          0.8202600216684723,
          0.7907318034078598,
          0.8146262188515709,
          0.8188417216586231,
          0.7879247513050329,
          0.806175514626219,
          0.8188417216586231,
          0.7865163006008076,
          0.8216586230670739,
          0.7893233527036344,
          0.7766768442824781,
          0.8202501723628484,
          0.8174529695656456,
          0.8188417216586231,
          0.7851176992022063,
          0.8019600118191669,
          0.8075938146360683,
          0.8019600118191669,
          0.8188417216586231,
          0.7893233527036344,
          0.7893233527036344,
          0.8146262188515709,
          0.818851570964247,
          0.8019600118191667,
          0.8202501723628484,
          0.794937456909288,
          0.8047769132276175,
          0.8033586132177681,
          0.8230572244656752,
          0.7893332020092583,
          0.8174332709543979,
          0.8019501625135428,
          0.7921402541120852,
          0.7836993991923569,
          0.8019600118191669,
          0.7921402541120852,
          0.8216586230670739,
          0.7935487048163103,
          0.8132177681473458,
          0.7907318034078598,
          0.8202797202797203,
          0.7865163006008076,
          0.7865163006008077,
          0.8202501723628484,
          0.8216586230670739,
          0.8146262188515709,
          0.8188712695754947,
          0.8089924160346695,
          0.8174431202600217,
          0.8075839653304442,
          0.8202501723628484,
          0.7907318034078598,
          0.8202600216684723,
          0.7935487048163106,
          0.8090022653402936,
          0.8202501723628485,
          0.7865064512951838,
          0.810400866738895,
          0.8216586230670739,
          0.8132177681473458,
          0.8132374667585935,
          0.8118093174431202,
          0.7893332020092584,
          0.8033586132177681,
          0.7865163006008077,
          0.783709248497981,
          0.8188417216586231,
          0.7893233527036344,
          0.7893332020092583,
          0.8132276174529697,
          0.8146262188515709,
          0.8117994681374963,
          0.7865064512951838,
          0.8019600118191669,
          0.7907318034078598,
          0.8202403230572244,
          0.7893233527036344,
          0.8216586230670739,
          0.7893233527036344,
          0.7893233527036344,
          0.8188417216586231,
          0.7893233527036344,
          0.7865064512951838,
          0.7865064512951838,
          0.8090022653402936,
          0.7893233527036344,
          0.8174529695656456,
          0.799162809021964,
          0.8019600118191669,
          0.8132177681473458,
          0.7921402541120852,
          0.7907318034078598,
          0.7865359992120556,
          0.8202501723628484,
          0.8202600216684723,
          0.8005614104205654,
          0.7907318034078598,
          0.7865064512951838,
          0.8174431202600217,
          0.8089924160346695,
          0.799162809021964,
          0.8117994681374963,
          0.8188417216586231,
          0.8019600118191669,
          0.8202698709740964,
          0.810400866738895,
          0.7823106470993795,
          0.7893332020092583,
          0.7907318034078598,
          0.7977642076233626,
          0.8104205653501427,
          0.7823007977937555,
          0.8005712597261893,
          0.7907318034078598,
          0.8174332709543979,
          0.7893233527036344,
          0.8033684625233921,
          0.8132177681473458,
          0.7865163006008076,
          0.8216586230670739,
          0.7949670048261597,
          0.7977642076233626,
          0.7907416527134836,
          0.806175514626219,
          0.7851078498965822,
          0.7907318034078598
         ],
         "yaxis": "y"
        },
        {
         "marker": {
          "color": [
           0,
           1,
           2,
           3,
           4,
           5,
           6,
           7,
           8,
           9,
           10,
           11,
           12,
           13,
           14,
           15,
           16,
           17,
           18,
           19,
           20,
           21,
           22,
           23,
           24,
           25,
           26,
           27,
           28,
           29,
           30,
           31,
           32,
           33,
           34,
           35,
           36,
           37,
           38,
           39,
           40,
           41,
           42,
           43,
           44,
           45,
           46,
           47,
           48,
           49,
           50,
           51,
           52,
           53,
           54,
           55,
           56,
           57,
           58,
           59,
           60,
           61,
           62,
           63,
           64,
           65,
           66,
           67,
           68,
           69,
           70,
           71,
           72,
           73,
           74,
           75,
           76,
           77,
           78,
           79,
           80,
           81,
           82,
           83,
           84,
           85,
           86,
           87,
           88,
           89,
           90,
           91,
           92,
           93,
           94,
           95,
           96,
           97,
           98,
           99,
           100,
           101,
           102,
           103,
           104,
           105,
           106,
           107,
           108,
           109,
           110,
           111,
           112,
           113,
           114,
           115,
           116,
           117,
           118,
           119,
           120,
           121,
           122,
           123,
           124,
           125,
           126,
           127,
           128,
           129,
           130,
           131,
           132,
           133,
           134,
           135,
           136,
           137,
           138,
           139,
           140,
           141,
           142,
           143,
           144,
           145,
           146,
           147,
           148,
           149,
           150,
           151,
           152,
           153,
           154,
           155,
           156,
           157,
           158,
           159,
           160,
           161,
           162,
           163,
           164,
           165,
           166,
           167,
           168,
           169,
           170,
           171,
           172,
           173,
           174,
           175,
           176,
           177,
           178,
           179,
           180,
           181,
           182,
           183,
           184,
           185,
           186,
           187,
           188,
           189,
           190,
           191,
           192,
           193,
           194,
           195,
           196,
           197,
           198,
           199
          ],
          "colorbar": {
           "title": {
            "text": "Trial"
           },
           "x": 1,
           "xpad": 40
          },
          "colorscale": [
           [
            0,
            "rgb(247,251,255)"
           ],
           [
            0.125,
            "rgb(222,235,247)"
           ],
           [
            0.25,
            "rgb(198,219,239)"
           ],
           [
            0.375,
            "rgb(158,202,225)"
           ],
           [
            0.5,
            "rgb(107,174,214)"
           ],
           [
            0.625,
            "rgb(66,146,198)"
           ],
           [
            0.75,
            "rgb(33,113,181)"
           ],
           [
            0.875,
            "rgb(8,81,156)"
           ],
           [
            1,
            "rgb(8,48,107)"
           ]
          ],
          "line": {
           "color": "Grey",
           "width": 0.5
          },
          "showscale": false
         },
         "mode": "markers",
         "name": "Feasible Trial",
         "showlegend": false,
         "type": "scatter",
         "x": [
          5,
          3,
          30,
          20,
          1,
          26,
          13,
          20,
          7,
          3,
          11,
          24,
          26,
          24,
          7,
          19,
          11,
          10,
          26,
          14,
          32,
          30,
          19,
          31,
          32,
          28,
          18,
          11,
          1,
          21,
          6,
          18,
          20,
          6,
          31,
          2,
          29,
          20,
          27,
          28,
          16,
          4,
          16,
          28,
          30,
          24,
          29,
          15,
          15,
          6,
          4,
          18,
          22,
          12,
          1,
          32,
          8,
          2,
          4,
          29,
          23,
          12,
          28,
          2,
          4,
          16,
          29,
          32,
          25,
          32,
          2,
          5,
          21,
          19,
          3,
          23,
          11,
          3,
          31,
          14,
          2,
          31,
          5,
          27,
          29,
          4,
          6,
          6,
          32,
          17,
          12,
          17,
          8,
          26,
          26,
          10,
          6,
          18,
          4,
          18,
          15,
          15,
          7,
          25,
          7,
          18,
          21,
          13,
          17,
          21,
          5,
          20,
          11,
          21,
          6,
          31,
          28,
          5,
          1,
          10,
          2,
          14,
          6,
          14,
          5,
          23,
          4,
          21,
          13,
          1,
          27,
          12,
          5,
          11,
          10,
          11,
          32,
          16,
          28,
          30,
          8,
          24,
          28,
          10,
          10,
          12,
          28,
          17,
          23,
          9,
          26,
          5,
          26,
          25,
          8,
          24,
          27,
          28,
          13,
          25,
          1,
          19,
          17,
          12,
          20,
          22,
          29,
          4,
          6,
          16,
          20,
          27,
          9,
          10,
          19,
          11,
          7,
          17,
          6,
          12,
          22,
          25,
          20,
          19,
          10,
          28,
          18,
          23,
          7,
          24,
          18,
          12,
          30,
          5,
          22,
          19,
          30,
          15,
          28,
          24
         ],
         "xaxis": "x2",
         "y": [
          0.8230572244656752,
          0.8202501723628484,
          0.7879247513050329,
          0.7921402541120852,
          0.81604451886142,
          0.7893233527036344,
          0.8075839653304442,
          0.7907318034078598,
          0.8216586230670739,
          0.8202501723628484,
          0.8146360681571949,
          0.7893233527036344,
          0.7893332020092583,
          0.7907318034078598,
          0.8188417216586231,
          0.799162809021964,
          0.810400866738895,
          0.8146262188515709,
          0.7935388555106865,
          0.8033684625233921,
          0.7893332020092584,
          0.7851275485078302,
          0.799162809021964,
          0.7836993991923569,
          0.7893332020092584,
          0.787924751305033,
          0.8019600118191667,
          0.8146262188515709,
          0.8062543090712104,
          0.7921501034177091,
          0.8188712695754947,
          0.7935388555106865,
          0.7921402541120852,
          0.8216586230670739,
          0.7865163006008076,
          0.8146262188515709,
          0.7851078498965822,
          0.8019797104304146,
          0.787944449916281,
          0.787914901999409,
          0.8019600118191669,
          0.8216586230670737,
          0.8019600118191669,
          0.7865064512951838,
          0.7921501034177091,
          0.7893233527036344,
          0.7851078498965822,
          0.8075839653304442,
          0.8047769132276175,
          0.818851570964247,
          0.818851570964247,
          0.8005515611149414,
          0.7893233527036344,
          0.7879149019994091,
          0.8160642174726682,
          0.7865163006008076,
          0.8202403230572244,
          0.8202501723628484,
          0.8244755244755245,
          0.7865163006008076,
          0.7907318034078598,
          0.8132177681473458,
          0.7865064512951838,
          0.823076923076923,
          0.8202600216684723,
          0.8089825667290456,
          0.7907416527134836,
          0.7879247513050329,
          0.787924751305033,
          0.7865163006008076,
          0.8202600216684723,
          0.8202501723628484,
          0.7921402541120852,
          0.799162809021964,
          0.8202600216684723,
          0.7907318034078598,
          0.8146262188515709,
          0.8188417216586231,
          0.7879247513050329,
          0.806175514626219,
          0.8188417216586231,
          0.7865163006008076,
          0.8216586230670739,
          0.7893233527036344,
          0.7766768442824781,
          0.8202501723628484,
          0.8174529695656456,
          0.8188417216586231,
          0.7851176992022063,
          0.8019600118191669,
          0.8075938146360683,
          0.8019600118191669,
          0.8188417216586231,
          0.7893233527036344,
          0.7893233527036344,
          0.8146262188515709,
          0.818851570964247,
          0.8019600118191667,
          0.8202501723628484,
          0.794937456909288,
          0.8047769132276175,
          0.8033586132177681,
          0.8230572244656752,
          0.7893332020092583,
          0.8174332709543979,
          0.8019501625135428,
          0.7921402541120852,
          0.7836993991923569,
          0.8019600118191669,
          0.7921402541120852,
          0.8216586230670739,
          0.7935487048163103,
          0.8132177681473458,
          0.7907318034078598,
          0.8202797202797203,
          0.7865163006008076,
          0.7865163006008077,
          0.8202501723628484,
          0.8216586230670739,
          0.8146262188515709,
          0.8188712695754947,
          0.8089924160346695,
          0.8174431202600217,
          0.8075839653304442,
          0.8202501723628484,
          0.7907318034078598,
          0.8202600216684723,
          0.7935487048163106,
          0.8090022653402936,
          0.8202501723628485,
          0.7865064512951838,
          0.810400866738895,
          0.8216586230670739,
          0.8132177681473458,
          0.8132374667585935,
          0.8118093174431202,
          0.7893332020092584,
          0.8033586132177681,
          0.7865163006008077,
          0.783709248497981,
          0.8188417216586231,
          0.7893233527036344,
          0.7893332020092583,
          0.8132276174529697,
          0.8146262188515709,
          0.8117994681374963,
          0.7865064512951838,
          0.8019600118191669,
          0.7907318034078598,
          0.8202403230572244,
          0.7893233527036344,
          0.8216586230670739,
          0.7893233527036344,
          0.7893233527036344,
          0.8188417216586231,
          0.7893233527036344,
          0.7865064512951838,
          0.7865064512951838,
          0.8090022653402936,
          0.7893233527036344,
          0.8174529695656456,
          0.799162809021964,
          0.8019600118191669,
          0.8132177681473458,
          0.7921402541120852,
          0.7907318034078598,
          0.7865359992120556,
          0.8202501723628484,
          0.8202600216684723,
          0.8005614104205654,
          0.7907318034078598,
          0.7865064512951838,
          0.8174431202600217,
          0.8089924160346695,
          0.799162809021964,
          0.8117994681374963,
          0.8188417216586231,
          0.8019600118191669,
          0.8202698709740964,
          0.810400866738895,
          0.7823106470993795,
          0.7893332020092583,
          0.7907318034078598,
          0.7977642076233626,
          0.8104205653501427,
          0.7823007977937555,
          0.8005712597261893,
          0.7907318034078598,
          0.8174332709543979,
          0.7893233527036344,
          0.8033684625233921,
          0.8132177681473458,
          0.7865163006008076,
          0.8216586230670739,
          0.7949670048261597,
          0.7977642076233626,
          0.7907416527134836,
          0.806175514626219,
          0.7851078498965822,
          0.7907318034078598
         ],
         "yaxis": "y2"
        },
        {
         "marker": {
          "color": [
           0,
           1,
           2,
           3,
           4,
           5,
           6,
           7,
           8,
           9,
           10,
           11,
           12,
           13,
           14,
           15,
           16,
           17,
           18,
           19,
           20,
           21,
           22,
           23,
           24,
           25,
           26,
           27,
           28,
           29,
           30,
           31,
           32,
           33,
           34,
           35,
           36,
           37,
           38,
           39,
           40,
           41,
           42,
           43,
           44,
           45,
           46,
           47,
           48,
           49,
           50,
           51,
           52,
           53,
           54,
           55,
           56,
           57,
           58,
           59,
           60,
           61,
           62,
           63,
           64,
           65,
           66,
           67,
           68,
           69,
           70,
           71,
           72,
           73,
           74,
           75,
           76,
           77,
           78,
           79,
           80,
           81,
           82,
           83,
           84,
           85,
           86,
           87,
           88,
           89,
           90,
           91,
           92,
           93,
           94,
           95,
           96,
           97,
           98,
           99,
           100,
           101,
           102,
           103,
           104,
           105,
           106,
           107,
           108,
           109,
           110,
           111,
           112,
           113,
           114,
           115,
           116,
           117,
           118,
           119,
           120,
           121,
           122,
           123,
           124,
           125,
           126,
           127,
           128,
           129,
           130,
           131,
           132,
           133,
           134,
           135,
           136,
           137,
           138,
           139,
           140,
           141,
           142,
           143,
           144,
           145,
           146,
           147,
           148,
           149,
           150,
           151,
           152,
           153,
           154,
           155,
           156,
           157,
           158,
           159,
           160,
           161,
           162,
           163,
           164,
           165,
           166,
           167,
           168,
           169,
           170,
           171,
           172,
           173,
           174,
           175,
           176,
           177,
           178,
           179,
           180,
           181,
           182,
           183,
           184,
           185,
           186,
           187,
           188,
           189,
           190,
           191,
           192,
           193,
           194,
           195,
           196,
           197,
           198,
           199
          ],
          "colorbar": {
           "title": {
            "text": "Trial"
           },
           "x": 1,
           "xpad": 40
          },
          "colorscale": [
           [
            0,
            "rgb(247,251,255)"
           ],
           [
            0.125,
            "rgb(222,235,247)"
           ],
           [
            0.25,
            "rgb(198,219,239)"
           ],
           [
            0.375,
            "rgb(158,202,225)"
           ],
           [
            0.5,
            "rgb(107,174,214)"
           ],
           [
            0.625,
            "rgb(66,146,198)"
           ],
           [
            0.75,
            "rgb(33,113,181)"
           ],
           [
            0.875,
            "rgb(8,81,156)"
           ],
           [
            1,
            "rgb(8,48,107)"
           ]
          ],
          "line": {
           "color": "Grey",
           "width": 0.5
          },
          "showscale": false
         },
         "mode": "markers",
         "name": "Feasible Trial",
         "showlegend": false,
         "type": "scatter",
         "x": [
          26,
          21,
          6,
          4,
          27,
          26,
          28,
          6,
          4,
          23,
          15,
          20,
          5,
          18,
          30,
          3,
          27,
          5,
          20,
          5,
          3,
          5,
          26,
          29,
          11,
          9,
          17,
          17,
          2,
          14,
          3,
          15,
          10,
          28,
          30,
          13,
          25,
          25,
          18,
          31,
          2,
          11,
          24,
          4,
          29,
          16,
          23,
          22,
          3,
          13,
          9,
          25,
          9,
          14,
          15,
          4,
          24,
          8,
          4,
          8,
          22,
          4,
          7,
          2,
          21,
          12,
          11,
          16,
          13,
          17,
          13,
          22,
          5,
          12,
          23,
          2,
          2,
          28,
          3,
          5,
          29,
          23,
          5,
          26,
          7,
          3,
          19,
          17,
          18,
          23,
          30,
          26,
          11,
          7,
          21,
          13,
          14,
          32,
          6,
          18,
          31,
          5,
          24,
          21,
          27,
          5,
          21,
          28,
          13,
          22,
          15,
          7,
          14,
          29,
          2,
          14,
          4,
          14,
          12,
          23,
          8,
          13,
          27,
          18,
          30,
          32,
          30,
          30,
          6,
          25,
          31,
          28,
          23,
          24,
          31,
          31,
          32,
          19,
          3,
          7,
          12,
          24,
          32,
          26,
          2,
          25,
          15,
          11,
          13,
          26,
          15,
          15,
          18,
          24,
          29,
          16,
          9,
          26,
          10,
          17,
          24,
          29,
          9,
          12,
          13,
          11,
          2,
          24,
          7,
          9,
          22,
          16,
          18,
          24,
          26,
          21,
          20,
          29,
          16,
          31,
          12,
          30,
          20,
          19,
          4,
          2,
          7,
          28,
          22,
          11,
          9,
          29,
          19,
          24,
          3,
          31,
          27,
          13,
          3,
          21
         ],
         "xaxis": "x3",
         "y": [
          0.8230572244656752,
          0.8202501723628484,
          0.7879247513050329,
          0.7921402541120852,
          0.81604451886142,
          0.7893233527036344,
          0.8075839653304442,
          0.7907318034078598,
          0.8216586230670739,
          0.8202501723628484,
          0.8146360681571949,
          0.7893233527036344,
          0.7893332020092583,
          0.7907318034078598,
          0.8188417216586231,
          0.799162809021964,
          0.810400866738895,
          0.8146262188515709,
          0.7935388555106865,
          0.8033684625233921,
          0.7893332020092584,
          0.7851275485078302,
          0.799162809021964,
          0.7836993991923569,
          0.7893332020092584,
          0.787924751305033,
          0.8019600118191667,
          0.8146262188515709,
          0.8062543090712104,
          0.7921501034177091,
          0.8188712695754947,
          0.7935388555106865,
          0.7921402541120852,
          0.8216586230670739,
          0.7865163006008076,
          0.8146262188515709,
          0.7851078498965822,
          0.8019797104304146,
          0.787944449916281,
          0.787914901999409,
          0.8019600118191669,
          0.8216586230670737,
          0.8019600118191669,
          0.7865064512951838,
          0.7921501034177091,
          0.7893233527036344,
          0.7851078498965822,
          0.8075839653304442,
          0.8047769132276175,
          0.818851570964247,
          0.818851570964247,
          0.8005515611149414,
          0.7893233527036344,
          0.7879149019994091,
          0.8160642174726682,
          0.7865163006008076,
          0.8202403230572244,
          0.8202501723628484,
          0.8244755244755245,
          0.7865163006008076,
          0.7907318034078598,
          0.8132177681473458,
          0.7865064512951838,
          0.823076923076923,
          0.8202600216684723,
          0.8089825667290456,
          0.7907416527134836,
          0.7879247513050329,
          0.787924751305033,
          0.7865163006008076,
          0.8202600216684723,
          0.8202501723628484,
          0.7921402541120852,
          0.799162809021964,
          0.8202600216684723,
          0.7907318034078598,
          0.8146262188515709,
          0.8188417216586231,
          0.7879247513050329,
          0.806175514626219,
          0.8188417216586231,
          0.7865163006008076,
          0.8216586230670739,
          0.7893233527036344,
          0.7766768442824781,
          0.8202501723628484,
          0.8174529695656456,
          0.8188417216586231,
          0.7851176992022063,
          0.8019600118191669,
          0.8075938146360683,
          0.8019600118191669,
          0.8188417216586231,
          0.7893233527036344,
          0.7893233527036344,
          0.8146262188515709,
          0.818851570964247,
          0.8019600118191667,
          0.8202501723628484,
          0.794937456909288,
          0.8047769132276175,
          0.8033586132177681,
          0.8230572244656752,
          0.7893332020092583,
          0.8174332709543979,
          0.8019501625135428,
          0.7921402541120852,
          0.7836993991923569,
          0.8019600118191669,
          0.7921402541120852,
          0.8216586230670739,
          0.7935487048163103,
          0.8132177681473458,
          0.7907318034078598,
          0.8202797202797203,
          0.7865163006008076,
          0.7865163006008077,
          0.8202501723628484,
          0.8216586230670739,
          0.8146262188515709,
          0.8188712695754947,
          0.8089924160346695,
          0.8174431202600217,
          0.8075839653304442,
          0.8202501723628484,
          0.7907318034078598,
          0.8202600216684723,
          0.7935487048163106,
          0.8090022653402936,
          0.8202501723628485,
          0.7865064512951838,
          0.810400866738895,
          0.8216586230670739,
          0.8132177681473458,
          0.8132374667585935,
          0.8118093174431202,
          0.7893332020092584,
          0.8033586132177681,
          0.7865163006008077,
          0.783709248497981,
          0.8188417216586231,
          0.7893233527036344,
          0.7893332020092583,
          0.8132276174529697,
          0.8146262188515709,
          0.8117994681374963,
          0.7865064512951838,
          0.8019600118191669,
          0.7907318034078598,
          0.8202403230572244,
          0.7893233527036344,
          0.8216586230670739,
          0.7893233527036344,
          0.7893233527036344,
          0.8188417216586231,
          0.7893233527036344,
          0.7865064512951838,
          0.7865064512951838,
          0.8090022653402936,
          0.7893233527036344,
          0.8174529695656456,
          0.799162809021964,
          0.8019600118191669,
          0.8132177681473458,
          0.7921402541120852,
          0.7907318034078598,
          0.7865359992120556,
          0.8202501723628484,
          0.8202600216684723,
          0.8005614104205654,
          0.7907318034078598,
          0.7865064512951838,
          0.8174431202600217,
          0.8089924160346695,
          0.799162809021964,
          0.8117994681374963,
          0.8188417216586231,
          0.8019600118191669,
          0.8202698709740964,
          0.810400866738895,
          0.7823106470993795,
          0.7893332020092583,
          0.7907318034078598,
          0.7977642076233626,
          0.8104205653501427,
          0.7823007977937555,
          0.8005712597261893,
          0.7907318034078598,
          0.8174332709543979,
          0.7893233527036344,
          0.8033684625233921,
          0.8132177681473458,
          0.7865163006008076,
          0.8216586230670739,
          0.7949670048261597,
          0.7977642076233626,
          0.7907416527134836,
          0.806175514626219,
          0.7851078498965822,
          0.7907318034078598
         ],
         "yaxis": "y3"
        },
        {
         "marker": {
          "color": [
           0,
           1,
           2,
           3,
           4,
           5,
           6,
           7,
           8,
           9,
           10,
           11,
           12,
           13,
           14,
           15,
           16,
           17,
           18,
           19,
           20,
           21,
           22,
           23,
           24,
           25,
           26,
           27,
           28,
           29,
           30,
           31,
           32,
           33,
           34,
           35,
           36,
           37,
           38,
           39,
           40,
           41,
           42,
           43,
           44,
           45,
           46,
           47,
           48,
           49,
           50,
           51,
           52,
           53,
           54,
           55,
           56,
           57,
           58,
           59,
           60,
           61,
           62,
           63,
           64,
           65,
           66,
           67,
           68,
           69,
           70,
           71,
           72,
           73,
           74,
           75,
           76,
           77,
           78,
           79,
           80,
           81,
           82,
           83,
           84,
           85,
           86,
           87,
           88,
           89,
           90,
           91,
           92,
           93,
           94,
           95,
           96,
           97,
           98,
           99,
           100,
           101,
           102,
           103,
           104,
           105,
           106,
           107,
           108,
           109,
           110,
           111,
           112,
           113,
           114,
           115,
           116,
           117,
           118,
           119,
           120,
           121,
           122,
           123,
           124,
           125,
           126,
           127,
           128,
           129,
           130,
           131,
           132,
           133,
           134,
           135,
           136,
           137,
           138,
           139,
           140,
           141,
           142,
           143,
           144,
           145,
           146,
           147,
           148,
           149,
           150,
           151,
           152,
           153,
           154,
           155,
           156,
           157,
           158,
           159,
           160,
           161,
           162,
           163,
           164,
           165,
           166,
           167,
           168,
           169,
           170,
           171,
           172,
           173,
           174,
           175,
           176,
           177,
           178,
           179,
           180,
           181,
           182,
           183,
           184,
           185,
           186,
           187,
           188,
           189,
           190,
           191,
           192,
           193,
           194,
           195,
           196,
           197,
           198,
           199
          ],
          "colorbar": {
           "title": {
            "text": "Trial"
           },
           "x": 1,
           "xpad": 40
          },
          "colorscale": [
           [
            0,
            "rgb(247,251,255)"
           ],
           [
            0.125,
            "rgb(222,235,247)"
           ],
           [
            0.25,
            "rgb(198,219,239)"
           ],
           [
            0.375,
            "rgb(158,202,225)"
           ],
           [
            0.5,
            "rgb(107,174,214)"
           ],
           [
            0.625,
            "rgb(66,146,198)"
           ],
           [
            0.75,
            "rgb(33,113,181)"
           ],
           [
            0.875,
            "rgb(8,81,156)"
           ],
           [
            1,
            "rgb(8,48,107)"
           ]
          ],
          "line": {
           "color": "Grey",
           "width": 0.5
          },
          "showscale": false
         },
         "mode": "markers",
         "name": "Feasible Trial",
         "showlegend": false,
         "type": "scatter",
         "x": [
          100,
          505,
          672,
          371,
          131,
          361,
          110,
          624,
          264,
          662,
          237,
          447,
          246,
          637,
          694,
          220,
          561,
          579,
          312,
          555,
          655,
          163,
          490,
          487,
          672,
          231,
          115,
          656,
          537,
          110,
          156,
          432,
          432,
          657,
          537,
          461,
          696,
          175,
          159,
          373,
          394,
          591,
          397,
          447,
          131,
          568,
          428,
          132,
          496,
          420,
          170,
          267,
          507,
          185,
          177,
          503,
          499,
          318,
          275,
          531,
          366,
          326,
          462,
          632,
          309,
          137,
          120,
          440,
          198,
          487,
          554,
          445,
          364,
          484,
          217,
          207,
          363,
          506,
          629,
          604,
          494,
          374,
          163,
          414,
          322,
          222,
          518,
          552,
          254,
          632,
          361,
          620,
          448,
          551,
          343,
          689,
          448,
          115,
          235,
          398,
          419,
          564,
          469,
          325,
          659,
          109,
          402,
          115,
          217,
          489,
          238,
          317,
          422,
          361,
          128,
          545,
          364,
          474,
          360,
          202,
          558,
          675,
          375,
          640,
          315,
          308,
          163,
          146,
          665,
          351,
          456,
          363,
          632,
          369,
          153,
          145,
          663,
          280,
          277,
          451,
          129,
          514,
          139,
          586,
          344,
          403,
          508,
          578,
          245,
          159,
          542,
          373,
          424,
          639,
          538,
          574,
          517,
          614,
          638,
          571,
          648,
          503,
          307,
          281,
          553,
          239,
          177,
          614,
          685,
          574,
          691,
          466,
          581,
          544,
          470,
          261,
          520,
          507,
          144,
          179,
          255,
          262,
          596,
          580,
          207,
          574,
          290,
          650,
          662,
          352,
          241,
          485,
          405,
          648,
          189,
          557,
          141,
          543,
          552,
          248
         ],
         "xaxis": "x4",
         "y": [
          0.8230572244656752,
          0.8202501723628484,
          0.7879247513050329,
          0.7921402541120852,
          0.81604451886142,
          0.7893233527036344,
          0.8075839653304442,
          0.7907318034078598,
          0.8216586230670739,
          0.8202501723628484,
          0.8146360681571949,
          0.7893233527036344,
          0.7893332020092583,
          0.7907318034078598,
          0.8188417216586231,
          0.799162809021964,
          0.810400866738895,
          0.8146262188515709,
          0.7935388555106865,
          0.8033684625233921,
          0.7893332020092584,
          0.7851275485078302,
          0.799162809021964,
          0.7836993991923569,
          0.7893332020092584,
          0.787924751305033,
          0.8019600118191667,
          0.8146262188515709,
          0.8062543090712104,
          0.7921501034177091,
          0.8188712695754947,
          0.7935388555106865,
          0.7921402541120852,
          0.8216586230670739,
          0.7865163006008076,
          0.8146262188515709,
          0.7851078498965822,
          0.8019797104304146,
          0.787944449916281,
          0.787914901999409,
          0.8019600118191669,
          0.8216586230670737,
          0.8019600118191669,
          0.7865064512951838,
          0.7921501034177091,
          0.7893233527036344,
          0.7851078498965822,
          0.8075839653304442,
          0.8047769132276175,
          0.818851570964247,
          0.818851570964247,
          0.8005515611149414,
          0.7893233527036344,
          0.7879149019994091,
          0.8160642174726682,
          0.7865163006008076,
          0.8202403230572244,
          0.8202501723628484,
          0.8244755244755245,
          0.7865163006008076,
          0.7907318034078598,
          0.8132177681473458,
          0.7865064512951838,
          0.823076923076923,
          0.8202600216684723,
          0.8089825667290456,
          0.7907416527134836,
          0.7879247513050329,
          0.787924751305033,
          0.7865163006008076,
          0.8202600216684723,
          0.8202501723628484,
          0.7921402541120852,
          0.799162809021964,
          0.8202600216684723,
          0.7907318034078598,
          0.8146262188515709,
          0.8188417216586231,
          0.7879247513050329,
          0.806175514626219,
          0.8188417216586231,
          0.7865163006008076,
          0.8216586230670739,
          0.7893233527036344,
          0.7766768442824781,
          0.8202501723628484,
          0.8174529695656456,
          0.8188417216586231,
          0.7851176992022063,
          0.8019600118191669,
          0.8075938146360683,
          0.8019600118191669,
          0.8188417216586231,
          0.7893233527036344,
          0.7893233527036344,
          0.8146262188515709,
          0.818851570964247,
          0.8019600118191667,
          0.8202501723628484,
          0.794937456909288,
          0.8047769132276175,
          0.8033586132177681,
          0.8230572244656752,
          0.7893332020092583,
          0.8174332709543979,
          0.8019501625135428,
          0.7921402541120852,
          0.7836993991923569,
          0.8019600118191669,
          0.7921402541120852,
          0.8216586230670739,
          0.7935487048163103,
          0.8132177681473458,
          0.7907318034078598,
          0.8202797202797203,
          0.7865163006008076,
          0.7865163006008077,
          0.8202501723628484,
          0.8216586230670739,
          0.8146262188515709,
          0.8188712695754947,
          0.8089924160346695,
          0.8174431202600217,
          0.8075839653304442,
          0.8202501723628484,
          0.7907318034078598,
          0.8202600216684723,
          0.7935487048163106,
          0.8090022653402936,
          0.8202501723628485,
          0.7865064512951838,
          0.810400866738895,
          0.8216586230670739,
          0.8132177681473458,
          0.8132374667585935,
          0.8118093174431202,
          0.7893332020092584,
          0.8033586132177681,
          0.7865163006008077,
          0.783709248497981,
          0.8188417216586231,
          0.7893233527036344,
          0.7893332020092583,
          0.8132276174529697,
          0.8146262188515709,
          0.8117994681374963,
          0.7865064512951838,
          0.8019600118191669,
          0.7907318034078598,
          0.8202403230572244,
          0.7893233527036344,
          0.8216586230670739,
          0.7893233527036344,
          0.7893233527036344,
          0.8188417216586231,
          0.7893233527036344,
          0.7865064512951838,
          0.7865064512951838,
          0.8090022653402936,
          0.7893233527036344,
          0.8174529695656456,
          0.799162809021964,
          0.8019600118191669,
          0.8132177681473458,
          0.7921402541120852,
          0.7907318034078598,
          0.7865359992120556,
          0.8202501723628484,
          0.8202600216684723,
          0.8005614104205654,
          0.7907318034078598,
          0.7865064512951838,
          0.8174431202600217,
          0.8089924160346695,
          0.799162809021964,
          0.8117994681374963,
          0.8188417216586231,
          0.8019600118191669,
          0.8202698709740964,
          0.810400866738895,
          0.7823106470993795,
          0.7893332020092583,
          0.7907318034078598,
          0.7977642076233626,
          0.8104205653501427,
          0.7823007977937555,
          0.8005712597261893,
          0.7907318034078598,
          0.8174332709543979,
          0.7893233527036344,
          0.8033684625233921,
          0.8132177681473458,
          0.7865163006008076,
          0.8216586230670739,
          0.7949670048261597,
          0.7977642076233626,
          0.7907416527134836,
          0.806175514626219,
          0.7851078498965822,
          0.7907318034078598
         ],
         "yaxis": "y4"
        }
       ],
       "layout": {
        "template": {
         "data": {
          "bar": [
           {
            "error_x": {
             "color": "#2a3f5f"
            },
            "error_y": {
             "color": "#2a3f5f"
            },
            "marker": {
             "line": {
              "color": "#E5ECF6",
              "width": 0.5
             },
             "pattern": {
              "fillmode": "overlay",
              "size": 10,
              "solidity": 0.2
             }
            },
            "type": "bar"
           }
          ],
          "barpolar": [
           {
            "marker": {
             "line": {
              "color": "#E5ECF6",
              "width": 0.5
             },
             "pattern": {
              "fillmode": "overlay",
              "size": 10,
              "solidity": 0.2
             }
            },
            "type": "barpolar"
           }
          ],
          "carpet": [
           {
            "aaxis": {
             "endlinecolor": "#2a3f5f",
             "gridcolor": "white",
             "linecolor": "white",
             "minorgridcolor": "white",
             "startlinecolor": "#2a3f5f"
            },
            "baxis": {
             "endlinecolor": "#2a3f5f",
             "gridcolor": "white",
             "linecolor": "white",
             "minorgridcolor": "white",
             "startlinecolor": "#2a3f5f"
            },
            "type": "carpet"
           }
          ],
          "choropleth": [
           {
            "colorbar": {
             "outlinewidth": 0,
             "ticks": ""
            },
            "type": "choropleth"
           }
          ],
          "contour": [
           {
            "colorbar": {
             "outlinewidth": 0,
             "ticks": ""
            },
            "colorscale": [
             [
              0,
              "#0d0887"
             ],
             [
              0.1111111111111111,
              "#46039f"
             ],
             [
              0.2222222222222222,
              "#7201a8"
             ],
             [
              0.3333333333333333,
              "#9c179e"
             ],
             [
              0.4444444444444444,
              "#bd3786"
             ],
             [
              0.5555555555555556,
              "#d8576b"
             ],
             [
              0.6666666666666666,
              "#ed7953"
             ],
             [
              0.7777777777777778,
              "#fb9f3a"
             ],
             [
              0.8888888888888888,
              "#fdca26"
             ],
             [
              1,
              "#f0f921"
             ]
            ],
            "type": "contour"
           }
          ],
          "contourcarpet": [
           {
            "colorbar": {
             "outlinewidth": 0,
             "ticks": ""
            },
            "type": "contourcarpet"
           }
          ],
          "heatmap": [
           {
            "colorbar": {
             "outlinewidth": 0,
             "ticks": ""
            },
            "colorscale": [
             [
              0,
              "#0d0887"
             ],
             [
              0.1111111111111111,
              "#46039f"
             ],
             [
              0.2222222222222222,
              "#7201a8"
             ],
             [
              0.3333333333333333,
              "#9c179e"
             ],
             [
              0.4444444444444444,
              "#bd3786"
             ],
             [
              0.5555555555555556,
              "#d8576b"
             ],
             [
              0.6666666666666666,
              "#ed7953"
             ],
             [
              0.7777777777777778,
              "#fb9f3a"
             ],
             [
              0.8888888888888888,
              "#fdca26"
             ],
             [
              1,
              "#f0f921"
             ]
            ],
            "type": "heatmap"
           }
          ],
          "heatmapgl": [
           {
            "colorbar": {
             "outlinewidth": 0,
             "ticks": ""
            },
            "colorscale": [
             [
              0,
              "#0d0887"
             ],
             [
              0.1111111111111111,
              "#46039f"
             ],
             [
              0.2222222222222222,
              "#7201a8"
             ],
             [
              0.3333333333333333,
              "#9c179e"
             ],
             [
              0.4444444444444444,
              "#bd3786"
             ],
             [
              0.5555555555555556,
              "#d8576b"
             ],
             [
              0.6666666666666666,
              "#ed7953"
             ],
             [
              0.7777777777777778,
              "#fb9f3a"
             ],
             [
              0.8888888888888888,
              "#fdca26"
             ],
             [
              1,
              "#f0f921"
             ]
            ],
            "type": "heatmapgl"
           }
          ],
          "histogram": [
           {
            "marker": {
             "pattern": {
              "fillmode": "overlay",
              "size": 10,
              "solidity": 0.2
             }
            },
            "type": "histogram"
           }
          ],
          "histogram2d": [
           {
            "colorbar": {
             "outlinewidth": 0,
             "ticks": ""
            },
            "colorscale": [
             [
              0,
              "#0d0887"
             ],
             [
              0.1111111111111111,
              "#46039f"
             ],
             [
              0.2222222222222222,
              "#7201a8"
             ],
             [
              0.3333333333333333,
              "#9c179e"
             ],
             [
              0.4444444444444444,
              "#bd3786"
             ],
             [
              0.5555555555555556,
              "#d8576b"
             ],
             [
              0.6666666666666666,
              "#ed7953"
             ],
             [
              0.7777777777777778,
              "#fb9f3a"
             ],
             [
              0.8888888888888888,
              "#fdca26"
             ],
             [
              1,
              "#f0f921"
             ]
            ],
            "type": "histogram2d"
           }
          ],
          "histogram2dcontour": [
           {
            "colorbar": {
             "outlinewidth": 0,
             "ticks": ""
            },
            "colorscale": [
             [
              0,
              "#0d0887"
             ],
             [
              0.1111111111111111,
              "#46039f"
             ],
             [
              0.2222222222222222,
              "#7201a8"
             ],
             [
              0.3333333333333333,
              "#9c179e"
             ],
             [
              0.4444444444444444,
              "#bd3786"
             ],
             [
              0.5555555555555556,
              "#d8576b"
             ],
             [
              0.6666666666666666,
              "#ed7953"
             ],
             [
              0.7777777777777778,
              "#fb9f3a"
             ],
             [
              0.8888888888888888,
              "#fdca26"
             ],
             [
              1,
              "#f0f921"
             ]
            ],
            "type": "histogram2dcontour"
           }
          ],
          "mesh3d": [
           {
            "colorbar": {
             "outlinewidth": 0,
             "ticks": ""
            },
            "type": "mesh3d"
           }
          ],
          "parcoords": [
           {
            "line": {
             "colorbar": {
              "outlinewidth": 0,
              "ticks": ""
             }
            },
            "type": "parcoords"
           }
          ],
          "pie": [
           {
            "automargin": true,
            "type": "pie"
           }
          ],
          "scatter": [
           {
            "fillpattern": {
             "fillmode": "overlay",
             "size": 10,
             "solidity": 0.2
            },
            "type": "scatter"
           }
          ],
          "scatter3d": [
           {
            "line": {
             "colorbar": {
              "outlinewidth": 0,
              "ticks": ""
             }
            },
            "marker": {
             "colorbar": {
              "outlinewidth": 0,
              "ticks": ""
             }
            },
            "type": "scatter3d"
           }
          ],
          "scattercarpet": [
           {
            "marker": {
             "colorbar": {
              "outlinewidth": 0,
              "ticks": ""
             }
            },
            "type": "scattercarpet"
           }
          ],
          "scattergeo": [
           {
            "marker": {
             "colorbar": {
              "outlinewidth": 0,
              "ticks": ""
             }
            },
            "type": "scattergeo"
           }
          ],
          "scattergl": [
           {
            "marker": {
             "colorbar": {
              "outlinewidth": 0,
              "ticks": ""
             }
            },
            "type": "scattergl"
           }
          ],
          "scattermapbox": [
           {
            "marker": {
             "colorbar": {
              "outlinewidth": 0,
              "ticks": ""
             }
            },
            "type": "scattermapbox"
           }
          ],
          "scatterpolar": [
           {
            "marker": {
             "colorbar": {
              "outlinewidth": 0,
              "ticks": ""
             }
            },
            "type": "scatterpolar"
           }
          ],
          "scatterpolargl": [
           {
            "marker": {
             "colorbar": {
              "outlinewidth": 0,
              "ticks": ""
             }
            },
            "type": "scatterpolargl"
           }
          ],
          "scatterternary": [
           {
            "marker": {
             "colorbar": {
              "outlinewidth": 0,
              "ticks": ""
             }
            },
            "type": "scatterternary"
           }
          ],
          "surface": [
           {
            "colorbar": {
             "outlinewidth": 0,
             "ticks": ""
            },
            "colorscale": [
             [
              0,
              "#0d0887"
             ],
             [
              0.1111111111111111,
              "#46039f"
             ],
             [
              0.2222222222222222,
              "#7201a8"
             ],
             [
              0.3333333333333333,
              "#9c179e"
             ],
             [
              0.4444444444444444,
              "#bd3786"
             ],
             [
              0.5555555555555556,
              "#d8576b"
             ],
             [
              0.6666666666666666,
              "#ed7953"
             ],
             [
              0.7777777777777778,
              "#fb9f3a"
             ],
             [
              0.8888888888888888,
              "#fdca26"
             ],
             [
              1,
              "#f0f921"
             ]
            ],
            "type": "surface"
           }
          ],
          "table": [
           {
            "cells": {
             "fill": {
              "color": "#EBF0F8"
             },
             "line": {
              "color": "white"
             }
            },
            "header": {
             "fill": {
              "color": "#C8D4E3"
             },
             "line": {
              "color": "white"
             }
            },
            "type": "table"
           }
          ]
         },
         "layout": {
          "annotationdefaults": {
           "arrowcolor": "#2a3f5f",
           "arrowhead": 0,
           "arrowwidth": 1
          },
          "autotypenumbers": "strict",
          "coloraxis": {
           "colorbar": {
            "outlinewidth": 0,
            "ticks": ""
           }
          },
          "colorscale": {
           "diverging": [
            [
             0,
             "#8e0152"
            ],
            [
             0.1,
             "#c51b7d"
            ],
            [
             0.2,
             "#de77ae"
            ],
            [
             0.3,
             "#f1b6da"
            ],
            [
             0.4,
             "#fde0ef"
            ],
            [
             0.5,
             "#f7f7f7"
            ],
            [
             0.6,
             "#e6f5d0"
            ],
            [
             0.7,
             "#b8e186"
            ],
            [
             0.8,
             "#7fbc41"
            ],
            [
             0.9,
             "#4d9221"
            ],
            [
             1,
             "#276419"
            ]
           ],
           "sequential": [
            [
             0,
             "#0d0887"
            ],
            [
             0.1111111111111111,
             "#46039f"
            ],
            [
             0.2222222222222222,
             "#7201a8"
            ],
            [
             0.3333333333333333,
             "#9c179e"
            ],
            [
             0.4444444444444444,
             "#bd3786"
            ],
            [
             0.5555555555555556,
             "#d8576b"
            ],
            [
             0.6666666666666666,
             "#ed7953"
            ],
            [
             0.7777777777777778,
             "#fb9f3a"
            ],
            [
             0.8888888888888888,
             "#fdca26"
            ],
            [
             1,
             "#f0f921"
            ]
           ],
           "sequentialminus": [
            [
             0,
             "#0d0887"
            ],
            [
             0.1111111111111111,
             "#46039f"
            ],
            [
             0.2222222222222222,
             "#7201a8"
            ],
            [
             0.3333333333333333,
             "#9c179e"
            ],
            [
             0.4444444444444444,
             "#bd3786"
            ],
            [
             0.5555555555555556,
             "#d8576b"
            ],
            [
             0.6666666666666666,
             "#ed7953"
            ],
            [
             0.7777777777777778,
             "#fb9f3a"
            ],
            [
             0.8888888888888888,
             "#fdca26"
            ],
            [
             1,
             "#f0f921"
            ]
           ]
          },
          "colorway": [
           "#636efa",
           "#EF553B",
           "#00cc96",
           "#ab63fa",
           "#FFA15A",
           "#19d3f3",
           "#FF6692",
           "#B6E880",
           "#FF97FF",
           "#FECB52"
          ],
          "font": {
           "color": "#2a3f5f"
          },
          "geo": {
           "bgcolor": "white",
           "lakecolor": "white",
           "landcolor": "#E5ECF6",
           "showlakes": true,
           "showland": true,
           "subunitcolor": "white"
          },
          "hoverlabel": {
           "align": "left"
          },
          "hovermode": "closest",
          "mapbox": {
           "style": "light"
          },
          "paper_bgcolor": "white",
          "plot_bgcolor": "#E5ECF6",
          "polar": {
           "angularaxis": {
            "gridcolor": "white",
            "linecolor": "white",
            "ticks": ""
           },
           "bgcolor": "#E5ECF6",
           "radialaxis": {
            "gridcolor": "white",
            "linecolor": "white",
            "ticks": ""
           }
          },
          "scene": {
           "xaxis": {
            "backgroundcolor": "#E5ECF6",
            "gridcolor": "white",
            "gridwidth": 2,
            "linecolor": "white",
            "showbackground": true,
            "ticks": "",
            "zerolinecolor": "white"
           },
           "yaxis": {
            "backgroundcolor": "#E5ECF6",
            "gridcolor": "white",
            "gridwidth": 2,
            "linecolor": "white",
            "showbackground": true,
            "ticks": "",
            "zerolinecolor": "white"
           },
           "zaxis": {
            "backgroundcolor": "#E5ECF6",
            "gridcolor": "white",
            "gridwidth": 2,
            "linecolor": "white",
            "showbackground": true,
            "ticks": "",
            "zerolinecolor": "white"
           }
          },
          "shapedefaults": {
           "line": {
            "color": "#2a3f5f"
           }
          },
          "ternary": {
           "aaxis": {
            "gridcolor": "white",
            "linecolor": "white",
            "ticks": ""
           },
           "baxis": {
            "gridcolor": "white",
            "linecolor": "white",
            "ticks": ""
           },
           "bgcolor": "#E5ECF6",
           "caxis": {
            "gridcolor": "white",
            "linecolor": "white",
            "ticks": ""
           }
          },
          "title": {
           "x": 0.05
          },
          "xaxis": {
           "automargin": true,
           "gridcolor": "white",
           "linecolor": "white",
           "ticks": "",
           "title": {
            "standoff": 15
           },
           "zerolinecolor": "white",
           "zerolinewidth": 2
          },
          "yaxis": {
           "automargin": true,
           "gridcolor": "white",
           "linecolor": "white",
           "ticks": "",
           "title": {
            "standoff": 15
           },
           "zerolinecolor": "white",
           "zerolinewidth": 2
          }
         }
        },
        "title": {
         "text": "Slice Plot"
        },
        "width": 1200,
        "xaxis": {
         "anchor": "y",
         "domain": [
          0,
          0.2125
         ],
         "title": {
          "text": "max_depth"
         }
        },
        "xaxis2": {
         "anchor": "y2",
         "domain": [
          0.2625,
          0.475
         ],
         "title": {
          "text": "min_samples_leaf"
         }
        },
        "xaxis3": {
         "anchor": "y3",
         "domain": [
          0.525,
          0.7375
         ],
         "title": {
          "text": "min_samples_split"
         }
        },
        "xaxis4": {
         "anchor": "y4",
         "domain": [
          0.7875,
          1
         ],
         "title": {
          "text": "n_estimators"
         }
        },
        "yaxis": {
         "anchor": "x",
         "domain": [
          0,
          1
         ],
         "title": {
          "text": "Objective Value"
         }
        },
        "yaxis2": {
         "anchor": "x2",
         "domain": [
          0,
          1
         ],
         "matches": "y",
         "showticklabels": false
        },
        "yaxis3": {
         "anchor": "x3",
         "domain": [
          0,
          1
         ],
         "matches": "y",
         "showticklabels": false
        },
        "yaxis4": {
         "anchor": "x4",
         "domain": [
          0,
          1
         ],
         "matches": "y",
         "showticklabels": false
        }
       }
      }
     },
     "metadata": {},
     "output_type": "display_data"
    }
   ],
   "source": [
    "# Visualize the relationship between the specified hyperparameters and the objective function.\n",
    "# The plot shows how changes in hyperparameters (\"n_estimators\", \"max_depth\", \"min_samples_split\", \"min_samples_leaf\") affect the optimization outcome.\n",
    "\n",
    "optuna.visualization.plot_slice(study, params=[\"n_estimators\", \"max_depth\", \"min_samples_split\", \"min_samples_leaf\"])"
   ]
  },
  {
   "cell_type": "code",
   "execution_count": 97,
   "metadata": {},
   "outputs": [
    {
     "data": {
      "text/plain": [
       "{'n_estimators': 275,\n",
       " 'max_depth': 8,\n",
       " 'min_samples_split': 4,\n",
       " 'min_samples_leaf': 4}"
      ]
     },
     "execution_count": 97,
     "metadata": {},
     "output_type": "execute_result"
    }
   ],
   "source": [
    "# Retrieve the best hyperparameters found during the optimization process from the Optuna study.\n",
    "\n",
    "best_params = study.best_params\n",
    "\n",
    "best_params"
   ]
  },
  {
   "cell_type": "code",
   "execution_count": 98,
   "metadata": {},
   "outputs": [],
   "source": [
    "# Extract the best hyperparameter values from the Optuna study results.\n",
    "\n",
    "best_n_estimators = best_params[\"n_estimators\"]  # Optimal number of trees in the forest.\n",
    "best_max_depth = best_params[\"max_depth\"]        # Optimal maximum depth of the trees.\n",
    "best_min_samples_split = best_params[\"min_samples_split\"]  # Optimal minimum number of samples required to split an internal node.\n",
    "best_min_samples_leaf = best_params[\"min_samples_leaf\"]    # Optimal minimum number of samples required to be at a leaf node."
   ]
  },
  {
   "cell_type": "code",
   "execution_count": 99,
   "metadata": {},
   "outputs": [],
   "source": [
    "# Initialize the RandomForestClassifier with the best hyperparameters found from the Optuna study.\n",
    "# This model will use the optimal values for number of trees, maximum depth, minimum samples to split, and minimum samples at a leaf node.\n",
    "\n",
    "random_forest: RandomForestClassifier = RandomForestClassifier(\n",
    "    n_estimators=best_n_estimators,\n",
    "    max_depth=best_max_depth,\n",
    "    min_samples_split=best_min_samples_split,\n",
    "    min_samples_leaf=best_min_samples_leaf\n",
    ")"
   ]
  },
  {
   "cell_type": "code",
   "execution_count": 100,
   "metadata": {},
   "outputs": [
    {
     "data": {
      "text/html": [
       "<style>#sk-container-id-4 {\n",
       "  /* Definition of color scheme common for light and dark mode */\n",
       "  --sklearn-color-text: black;\n",
       "  --sklearn-color-line: gray;\n",
       "  /* Definition of color scheme for unfitted estimators */\n",
       "  --sklearn-color-unfitted-level-0: #fff5e6;\n",
       "  --sklearn-color-unfitted-level-1: #f6e4d2;\n",
       "  --sklearn-color-unfitted-level-2: #ffe0b3;\n",
       "  --sklearn-color-unfitted-level-3: chocolate;\n",
       "  /* Definition of color scheme for fitted estimators */\n",
       "  --sklearn-color-fitted-level-0: #f0f8ff;\n",
       "  --sklearn-color-fitted-level-1: #d4ebff;\n",
       "  --sklearn-color-fitted-level-2: #b3dbfd;\n",
       "  --sklearn-color-fitted-level-3: cornflowerblue;\n",
       "\n",
       "  /* Specific color for light theme */\n",
       "  --sklearn-color-text-on-default-background: var(--sg-text-color, var(--theme-code-foreground, var(--jp-content-font-color1, black)));\n",
       "  --sklearn-color-background: var(--sg-background-color, var(--theme-background, var(--jp-layout-color0, white)));\n",
       "  --sklearn-color-border-box: var(--sg-text-color, var(--theme-code-foreground, var(--jp-content-font-color1, black)));\n",
       "  --sklearn-color-icon: #696969;\n",
       "\n",
       "  @media (prefers-color-scheme: dark) {\n",
       "    /* Redefinition of color scheme for dark theme */\n",
       "    --sklearn-color-text-on-default-background: var(--sg-text-color, var(--theme-code-foreground, var(--jp-content-font-color1, white)));\n",
       "    --sklearn-color-background: var(--sg-background-color, var(--theme-background, var(--jp-layout-color0, #111)));\n",
       "    --sklearn-color-border-box: var(--sg-text-color, var(--theme-code-foreground, var(--jp-content-font-color1, white)));\n",
       "    --sklearn-color-icon: #878787;\n",
       "  }\n",
       "}\n",
       "\n",
       "#sk-container-id-4 {\n",
       "  color: var(--sklearn-color-text);\n",
       "}\n",
       "\n",
       "#sk-container-id-4 pre {\n",
       "  padding: 0;\n",
       "}\n",
       "\n",
       "#sk-container-id-4 input.sk-hidden--visually {\n",
       "  border: 0;\n",
       "  clip: rect(1px 1px 1px 1px);\n",
       "  clip: rect(1px, 1px, 1px, 1px);\n",
       "  height: 1px;\n",
       "  margin: -1px;\n",
       "  overflow: hidden;\n",
       "  padding: 0;\n",
       "  position: absolute;\n",
       "  width: 1px;\n",
       "}\n",
       "\n",
       "#sk-container-id-4 div.sk-dashed-wrapped {\n",
       "  border: 1px dashed var(--sklearn-color-line);\n",
       "  margin: 0 0.4em 0.5em 0.4em;\n",
       "  box-sizing: border-box;\n",
       "  padding-bottom: 0.4em;\n",
       "  background-color: var(--sklearn-color-background);\n",
       "}\n",
       "\n",
       "#sk-container-id-4 div.sk-container {\n",
       "  /* jupyter's `normalize.less` sets `[hidden] { display: none; }`\n",
       "     but bootstrap.min.css set `[hidden] { display: none !important; }`\n",
       "     so we also need the `!important` here to be able to override the\n",
       "     default hidden behavior on the sphinx rendered scikit-learn.org.\n",
       "     See: https://github.com/scikit-learn/scikit-learn/issues/21755 */\n",
       "  display: inline-block !important;\n",
       "  position: relative;\n",
       "}\n",
       "\n",
       "#sk-container-id-4 div.sk-text-repr-fallback {\n",
       "  display: none;\n",
       "}\n",
       "\n",
       "div.sk-parallel-item,\n",
       "div.sk-serial,\n",
       "div.sk-item {\n",
       "  /* draw centered vertical line to link estimators */\n",
       "  background-image: linear-gradient(var(--sklearn-color-text-on-default-background), var(--sklearn-color-text-on-default-background));\n",
       "  background-size: 2px 100%;\n",
       "  background-repeat: no-repeat;\n",
       "  background-position: center center;\n",
       "}\n",
       "\n",
       "/* Parallel-specific style estimator block */\n",
       "\n",
       "#sk-container-id-4 div.sk-parallel-item::after {\n",
       "  content: \"\";\n",
       "  width: 100%;\n",
       "  border-bottom: 2px solid var(--sklearn-color-text-on-default-background);\n",
       "  flex-grow: 1;\n",
       "}\n",
       "\n",
       "#sk-container-id-4 div.sk-parallel {\n",
       "  display: flex;\n",
       "  align-items: stretch;\n",
       "  justify-content: center;\n",
       "  background-color: var(--sklearn-color-background);\n",
       "  position: relative;\n",
       "}\n",
       "\n",
       "#sk-container-id-4 div.sk-parallel-item {\n",
       "  display: flex;\n",
       "  flex-direction: column;\n",
       "}\n",
       "\n",
       "#sk-container-id-4 div.sk-parallel-item:first-child::after {\n",
       "  align-self: flex-end;\n",
       "  width: 50%;\n",
       "}\n",
       "\n",
       "#sk-container-id-4 div.sk-parallel-item:last-child::after {\n",
       "  align-self: flex-start;\n",
       "  width: 50%;\n",
       "}\n",
       "\n",
       "#sk-container-id-4 div.sk-parallel-item:only-child::after {\n",
       "  width: 0;\n",
       "}\n",
       "\n",
       "/* Serial-specific style estimator block */\n",
       "\n",
       "#sk-container-id-4 div.sk-serial {\n",
       "  display: flex;\n",
       "  flex-direction: column;\n",
       "  align-items: center;\n",
       "  background-color: var(--sklearn-color-background);\n",
       "  padding-right: 1em;\n",
       "  padding-left: 1em;\n",
       "}\n",
       "\n",
       "\n",
       "/* Toggleable style: style used for estimator/Pipeline/ColumnTransformer box that is\n",
       "clickable and can be expanded/collapsed.\n",
       "- Pipeline and ColumnTransformer use this feature and define the default style\n",
       "- Estimators will overwrite some part of the style using the `sk-estimator` class\n",
       "*/\n",
       "\n",
       "/* Pipeline and ColumnTransformer style (default) */\n",
       "\n",
       "#sk-container-id-4 div.sk-toggleable {\n",
       "  /* Default theme specific background. It is overwritten whether we have a\n",
       "  specific estimator or a Pipeline/ColumnTransformer */\n",
       "  background-color: var(--sklearn-color-background);\n",
       "}\n",
       "\n",
       "/* Toggleable label */\n",
       "#sk-container-id-4 label.sk-toggleable__label {\n",
       "  cursor: pointer;\n",
       "  display: block;\n",
       "  width: 100%;\n",
       "  margin-bottom: 0;\n",
       "  padding: 0.5em;\n",
       "  box-sizing: border-box;\n",
       "  text-align: center;\n",
       "}\n",
       "\n",
       "#sk-container-id-4 label.sk-toggleable__label-arrow:before {\n",
       "  /* Arrow on the left of the label */\n",
       "  content: \"▸\";\n",
       "  float: left;\n",
       "  margin-right: 0.25em;\n",
       "  color: var(--sklearn-color-icon);\n",
       "}\n",
       "\n",
       "#sk-container-id-4 label.sk-toggleable__label-arrow:hover:before {\n",
       "  color: var(--sklearn-color-text);\n",
       "}\n",
       "\n",
       "/* Toggleable content - dropdown */\n",
       "\n",
       "#sk-container-id-4 div.sk-toggleable__content {\n",
       "  max-height: 0;\n",
       "  max-width: 0;\n",
       "  overflow: hidden;\n",
       "  text-align: left;\n",
       "  /* unfitted */\n",
       "  background-color: var(--sklearn-color-unfitted-level-0);\n",
       "}\n",
       "\n",
       "#sk-container-id-4 div.sk-toggleable__content.fitted {\n",
       "  /* fitted */\n",
       "  background-color: var(--sklearn-color-fitted-level-0);\n",
       "}\n",
       "\n",
       "#sk-container-id-4 div.sk-toggleable__content pre {\n",
       "  margin: 0.2em;\n",
       "  border-radius: 0.25em;\n",
       "  color: var(--sklearn-color-text);\n",
       "  /* unfitted */\n",
       "  background-color: var(--sklearn-color-unfitted-level-0);\n",
       "}\n",
       "\n",
       "#sk-container-id-4 div.sk-toggleable__content.fitted pre {\n",
       "  /* unfitted */\n",
       "  background-color: var(--sklearn-color-fitted-level-0);\n",
       "}\n",
       "\n",
       "#sk-container-id-4 input.sk-toggleable__control:checked~div.sk-toggleable__content {\n",
       "  /* Expand drop-down */\n",
       "  max-height: 200px;\n",
       "  max-width: 100%;\n",
       "  overflow: auto;\n",
       "}\n",
       "\n",
       "#sk-container-id-4 input.sk-toggleable__control:checked~label.sk-toggleable__label-arrow:before {\n",
       "  content: \"▾\";\n",
       "}\n",
       "\n",
       "/* Pipeline/ColumnTransformer-specific style */\n",
       "\n",
       "#sk-container-id-4 div.sk-label input.sk-toggleable__control:checked~label.sk-toggleable__label {\n",
       "  color: var(--sklearn-color-text);\n",
       "  background-color: var(--sklearn-color-unfitted-level-2);\n",
       "}\n",
       "\n",
       "#sk-container-id-4 div.sk-label.fitted input.sk-toggleable__control:checked~label.sk-toggleable__label {\n",
       "  background-color: var(--sklearn-color-fitted-level-2);\n",
       "}\n",
       "\n",
       "/* Estimator-specific style */\n",
       "\n",
       "/* Colorize estimator box */\n",
       "#sk-container-id-4 div.sk-estimator input.sk-toggleable__control:checked~label.sk-toggleable__label {\n",
       "  /* unfitted */\n",
       "  background-color: var(--sklearn-color-unfitted-level-2);\n",
       "}\n",
       "\n",
       "#sk-container-id-4 div.sk-estimator.fitted input.sk-toggleable__control:checked~label.sk-toggleable__label {\n",
       "  /* fitted */\n",
       "  background-color: var(--sklearn-color-fitted-level-2);\n",
       "}\n",
       "\n",
       "#sk-container-id-4 div.sk-label label.sk-toggleable__label,\n",
       "#sk-container-id-4 div.sk-label label {\n",
       "  /* The background is the default theme color */\n",
       "  color: var(--sklearn-color-text-on-default-background);\n",
       "}\n",
       "\n",
       "/* On hover, darken the color of the background */\n",
       "#sk-container-id-4 div.sk-label:hover label.sk-toggleable__label {\n",
       "  color: var(--sklearn-color-text);\n",
       "  background-color: var(--sklearn-color-unfitted-level-2);\n",
       "}\n",
       "\n",
       "/* Label box, darken color on hover, fitted */\n",
       "#sk-container-id-4 div.sk-label.fitted:hover label.sk-toggleable__label.fitted {\n",
       "  color: var(--sklearn-color-text);\n",
       "  background-color: var(--sklearn-color-fitted-level-2);\n",
       "}\n",
       "\n",
       "/* Estimator label */\n",
       "\n",
       "#sk-container-id-4 div.sk-label label {\n",
       "  font-family: monospace;\n",
       "  font-weight: bold;\n",
       "  display: inline-block;\n",
       "  line-height: 1.2em;\n",
       "}\n",
       "\n",
       "#sk-container-id-4 div.sk-label-container {\n",
       "  text-align: center;\n",
       "}\n",
       "\n",
       "/* Estimator-specific */\n",
       "#sk-container-id-4 div.sk-estimator {\n",
       "  font-family: monospace;\n",
       "  border: 1px dotted var(--sklearn-color-border-box);\n",
       "  border-radius: 0.25em;\n",
       "  box-sizing: border-box;\n",
       "  margin-bottom: 0.5em;\n",
       "  /* unfitted */\n",
       "  background-color: var(--sklearn-color-unfitted-level-0);\n",
       "}\n",
       "\n",
       "#sk-container-id-4 div.sk-estimator.fitted {\n",
       "  /* fitted */\n",
       "  background-color: var(--sklearn-color-fitted-level-0);\n",
       "}\n",
       "\n",
       "/* on hover */\n",
       "#sk-container-id-4 div.sk-estimator:hover {\n",
       "  /* unfitted */\n",
       "  background-color: var(--sklearn-color-unfitted-level-2);\n",
       "}\n",
       "\n",
       "#sk-container-id-4 div.sk-estimator.fitted:hover {\n",
       "  /* fitted */\n",
       "  background-color: var(--sklearn-color-fitted-level-2);\n",
       "}\n",
       "\n",
       "/* Specification for estimator info (e.g. \"i\" and \"?\") */\n",
       "\n",
       "/* Common style for \"i\" and \"?\" */\n",
       "\n",
       ".sk-estimator-doc-link,\n",
       "a:link.sk-estimator-doc-link,\n",
       "a:visited.sk-estimator-doc-link {\n",
       "  float: right;\n",
       "  font-size: smaller;\n",
       "  line-height: 1em;\n",
       "  font-family: monospace;\n",
       "  background-color: var(--sklearn-color-background);\n",
       "  border-radius: 1em;\n",
       "  height: 1em;\n",
       "  width: 1em;\n",
       "  text-decoration: none !important;\n",
       "  margin-left: 1ex;\n",
       "  /* unfitted */\n",
       "  border: var(--sklearn-color-unfitted-level-1) 1pt solid;\n",
       "  color: var(--sklearn-color-unfitted-level-1);\n",
       "}\n",
       "\n",
       ".sk-estimator-doc-link.fitted,\n",
       "a:link.sk-estimator-doc-link.fitted,\n",
       "a:visited.sk-estimator-doc-link.fitted {\n",
       "  /* fitted */\n",
       "  border: var(--sklearn-color-fitted-level-1) 1pt solid;\n",
       "  color: var(--sklearn-color-fitted-level-1);\n",
       "}\n",
       "\n",
       "/* On hover */\n",
       "div.sk-estimator:hover .sk-estimator-doc-link:hover,\n",
       ".sk-estimator-doc-link:hover,\n",
       "div.sk-label-container:hover .sk-estimator-doc-link:hover,\n",
       ".sk-estimator-doc-link:hover {\n",
       "  /* unfitted */\n",
       "  background-color: var(--sklearn-color-unfitted-level-3);\n",
       "  color: var(--sklearn-color-background);\n",
       "  text-decoration: none;\n",
       "}\n",
       "\n",
       "div.sk-estimator.fitted:hover .sk-estimator-doc-link.fitted:hover,\n",
       ".sk-estimator-doc-link.fitted:hover,\n",
       "div.sk-label-container:hover .sk-estimator-doc-link.fitted:hover,\n",
       ".sk-estimator-doc-link.fitted:hover {\n",
       "  /* fitted */\n",
       "  background-color: var(--sklearn-color-fitted-level-3);\n",
       "  color: var(--sklearn-color-background);\n",
       "  text-decoration: none;\n",
       "}\n",
       "\n",
       "/* Span, style for the box shown on hovering the info icon */\n",
       ".sk-estimator-doc-link span {\n",
       "  display: none;\n",
       "  z-index: 9999;\n",
       "  position: relative;\n",
       "  font-weight: normal;\n",
       "  right: .2ex;\n",
       "  padding: .5ex;\n",
       "  margin: .5ex;\n",
       "  width: min-content;\n",
       "  min-width: 20ex;\n",
       "  max-width: 50ex;\n",
       "  color: var(--sklearn-color-text);\n",
       "  box-shadow: 2pt 2pt 4pt #999;\n",
       "  /* unfitted */\n",
       "  background: var(--sklearn-color-unfitted-level-0);\n",
       "  border: .5pt solid var(--sklearn-color-unfitted-level-3);\n",
       "}\n",
       "\n",
       ".sk-estimator-doc-link.fitted span {\n",
       "  /* fitted */\n",
       "  background: var(--sklearn-color-fitted-level-0);\n",
       "  border: var(--sklearn-color-fitted-level-3);\n",
       "}\n",
       "\n",
       ".sk-estimator-doc-link:hover span {\n",
       "  display: block;\n",
       "}\n",
       "\n",
       "/* \"?\"-specific style due to the `<a>` HTML tag */\n",
       "\n",
       "#sk-container-id-4 a.estimator_doc_link {\n",
       "  float: right;\n",
       "  font-size: 1rem;\n",
       "  line-height: 1em;\n",
       "  font-family: monospace;\n",
       "  background-color: var(--sklearn-color-background);\n",
       "  border-radius: 1rem;\n",
       "  height: 1rem;\n",
       "  width: 1rem;\n",
       "  text-decoration: none;\n",
       "  /* unfitted */\n",
       "  color: var(--sklearn-color-unfitted-level-1);\n",
       "  border: var(--sklearn-color-unfitted-level-1) 1pt solid;\n",
       "}\n",
       "\n",
       "#sk-container-id-4 a.estimator_doc_link.fitted {\n",
       "  /* fitted */\n",
       "  border: var(--sklearn-color-fitted-level-1) 1pt solid;\n",
       "  color: var(--sklearn-color-fitted-level-1);\n",
       "}\n",
       "\n",
       "/* On hover */\n",
       "#sk-container-id-4 a.estimator_doc_link:hover {\n",
       "  /* unfitted */\n",
       "  background-color: var(--sklearn-color-unfitted-level-3);\n",
       "  color: var(--sklearn-color-background);\n",
       "  text-decoration: none;\n",
       "}\n",
       "\n",
       "#sk-container-id-4 a.estimator_doc_link.fitted:hover {\n",
       "  /* fitted */\n",
       "  background-color: var(--sklearn-color-fitted-level-3);\n",
       "}\n",
       "</style><div id=\"sk-container-id-4\" class=\"sk-top-container\"><div class=\"sk-text-repr-fallback\"><pre>RandomForestClassifier(max_depth=8, min_samples_leaf=4, min_samples_split=4,\n",
       "                       n_estimators=275)</pre><b>In a Jupyter environment, please rerun this cell to show the HTML representation or trust the notebook. <br />On GitHub, the HTML representation is unable to render, please try loading this page with nbviewer.org.</b></div><div class=\"sk-container\" hidden><div class=\"sk-item\"><div class=\"sk-estimator fitted sk-toggleable\"><input class=\"sk-toggleable__control sk-hidden--visually\" id=\"sk-estimator-id-4\" type=\"checkbox\" checked><label for=\"sk-estimator-id-4\" class=\"sk-toggleable__label fitted sk-toggleable__label-arrow fitted\">&nbsp;&nbsp;RandomForestClassifier<a class=\"sk-estimator-doc-link fitted\" rel=\"noreferrer\" target=\"_blank\" href=\"https://scikit-learn.org/1.5/modules/generated/sklearn.ensemble.RandomForestClassifier.html\">?<span>Documentation for RandomForestClassifier</span></a><span class=\"sk-estimator-doc-link fitted\">i<span>Fitted</span></span></label><div class=\"sk-toggleable__content fitted\"><pre>RandomForestClassifier(max_depth=8, min_samples_leaf=4, min_samples_split=4,\n",
       "                       n_estimators=275)</pre></div> </div></div></div></div>"
      ],
      "text/plain": [
       "RandomForestClassifier(max_depth=8, min_samples_leaf=4, min_samples_split=4,\n",
       "                       n_estimators=275)"
      ]
     },
     "execution_count": 100,
     "metadata": {},
     "output_type": "execute_result"
    }
   ],
   "source": [
    "# Train the RandomForestClassifier model using the best hyperparameters on the training data (X_train and y_train).\n",
    "# This step allows the model to learn from the training dataset.\n",
    "\n",
    "random_forest.fit(X_train, y_train)"
   ]
  },
  {
   "cell_type": "code",
   "execution_count": 101,
   "metadata": {},
   "outputs": [
    {
     "data": {
      "text/plain": [
       "0.8212290502793296"
      ]
     },
     "execution_count": 101,
     "metadata": {},
     "output_type": "execute_result"
    }
   ],
   "source": [
    "# Evaluate the performance of the trained RandomForestClassifier model on the test data (X_test and y_test).\n",
    "# This returns the accuracy of the model, which indicates the proportion of correctly classified samples in the test set.\n",
    "\n",
    "random_forest.score(X_test, y_test)"
   ]
  },
  {
   "cell_type": "code",
   "execution_count": 102,
   "metadata": {},
   "outputs": [
    {
     "name": "stdout",
     "output_type": "stream",
     "text": [
      "Model saved successfully as 'titanic_model.pkl'\n"
     ]
    }
   ],
   "source": [
    "import pickle\n",
    "\n",
    "# Attempt to save the trained RandomForestClassifier model to a file using pickle.\n",
    "# The model is serialized and saved as 'titanic_model.pkl' for future use.\n",
    "\n",
    "try:\n",
    "    with open(\"titanic_model.pkl\", \"wb\") as file:\n",
    "        pickle.dump(random_forest, file)\n",
    "    print(\"Model saved successfully as 'titanic_model.pkl'\")\n",
    "except Exception as e:\n",
    "    # Print an error message if an exception occurs during the saving process.\n",
    "    print(f\"An error occurred while saving the model: {e}\")"
   ]
  },
  {
   "cell_type": "code",
   "execution_count": 103,
   "metadata": {},
   "outputs": [],
   "source": [
    "# Load the test dataset from 'test.csv' into a DataFrame.\n",
    "# Extract the \"PassengerId\" column to keep track of passenger identifiers for predictions.\n",
    "\n",
    "test_titanic = pd.read_csv(\"test.csv\")\n",
    "passenger_ids = test_titanic[\"PassengerId\"]"
   ]
  },
  {
   "cell_type": "code",
   "execution_count": 104,
   "metadata": {},
   "outputs": [
    {
     "name": "stderr",
     "output_type": "stream",
     "text": [
      "C:\\Users\\AbdouMagico\\AppData\\Local\\Temp\\ipykernel_2844\\3903454634.py:5: FutureWarning:\n",
      "\n",
      "A value is trying to be set on a copy of a DataFrame or Series through chained assignment using an inplace method.\n",
      "The behavior will change in pandas 3.0. This inplace method will never work because the intermediate object on which we are setting values always behaves as a copy.\n",
      "\n",
      "For example, when doing 'df[col].method(value, inplace=True)', try using 'df.method({col: value}, inplace=True)' or df[col] = df[col].method(value) instead, to perform the operation inplace on the original object.\n",
      "\n",
      "\n",
      "\n"
     ]
    }
   ],
   "source": [
    "# Drop the PassengerId column for preprocessing\n",
    "test_titanic.drop(columns=[\"PassengerId\"], axis=1, inplace=True)\n",
    "\n",
    "# Perform the same preprocessing steps as the training set\n",
    "test_titanic[\"Age\"].fillna(test_titanic[\"Age\"].median(), inplace=True)\n",
    "test_titanic[\"Sex\"] = test_titanic[\"Sex\"].apply(lambda x: 1 if x == \"male\" else 0)\n",
    "test_titanic[\"FamilySize\"] = test_titanic[\"Parch\"] + test_titanic[\"SibSp\"]\n",
    "test_titanic.drop(columns=[\"Parch\", \"SibSp\"], axis=1, inplace=True)\n",
    "\n",
    "# One-hot encode the Embarked column\n",
    "test_titanic = test_titanic.join(pd.get_dummies(test_titanic[\"Embarked\"], prefix=\"EmbarkedAt\")).drop(columns=[\"Embarked\"], axis=1)\n",
    "test_titanic[\"isAlone\"] = (test_titanic[\"FamilySize\"] == 0).astype(int)\n",
    "\n",
    "# Create AgeGroup based on the age ranges\n",
    "test_titanic[\"AgeGroup\"] = test_titanic[\"Age\"].apply(lambda x: \"child\" if x < 13 else \"teenager\" if x < 19 else \"adult\" if x < 60 else \"senior\")\n",
    "test_titanic[\"AgeGroup\"] = pd.factorize(test_titanic[\"AgeGroup\"])[0]\n",
    "\n",
    "# Group Ticket by size and map to test set\n",
    "ticket_group_size = test_titanic.groupby(by=[\"Ticket\"]).size()\n",
    "test_titanic[\"TicketGroupSize\"] = test_titanic[\"Ticket\"].map(ticket_group_size)\n",
    "\n",
    "# Factorize Fare categories\n",
    "test_titanic[\"Fare\"] = test_titanic[\"Fare\"].apply(lambda x: \"low\" if x <= 50 else \"medium\" if x <= 150 else \"high\")\n",
    "test_titanic[\"Fare\"] = pd.factorize(test_titanic[\"Fare\"])[0]\n",
    "\n",
    "# Extract and encode titles from the Name column\n",
    "test_titanic['Title'] = test_titanic['Name'].apply(lambda x: x.split(',')[1].split('.')[0].strip())\n",
    "test_titanic = test_titanic.join(pd.get_dummies(test_titanic[\"Title\"], prefix=\"Title\")).drop(columns=[\"Title\"], axis=1)\n",
    "\n",
    "# Handle Deck information from Cabin\n",
    "test_titanic[\"Deck\"] = test_titanic[\"Cabin\"].str[0].fillna(\"Unknown\")\n",
    "test_titanic = test_titanic.join(pd.get_dummies(test_titanic[\"Deck\"], prefix=\"Deck\")).drop(columns=[\"Deck\", \"Cabin\"], axis=1)\n",
    "\n",
    "# Add the missing NameLength feature\n",
    "test_titanic[\"NameLength\"] = test_titanic[\"Name\"].apply(len)\n",
    "\n",
    "# Drop unnecessary columns\n",
    "test_titanic.drop(columns=[\"Name\", \"Ticket\"], axis=1, inplace=True)\n",
    "\n",
    "# Calculate FarePerPerson\n",
    "test_titanic['FarePerPerson'] = test_titanic['Fare'] / (test_titanic['FamilySize'] + 1)\n",
    "\n",
    "# Convert boolean values in the DataFrame to binary: True becomes 1 and False becomes 0.\n",
    "# Non-boolean values remain unchanged.\n",
    "test_titanic = test_titanic.map(lambda x: 1 if x is True else 0 if x is False else x)"
   ]
  },
  {
   "cell_type": "code",
   "execution_count": 105,
   "metadata": {},
   "outputs": [
    {
     "data": {
      "text/html": [
       "<div>\n",
       "<style scoped>\n",
       "    .dataframe tbody tr th:only-of-type {\n",
       "        vertical-align: middle;\n",
       "    }\n",
       "\n",
       "    .dataframe tbody tr th {\n",
       "        vertical-align: top;\n",
       "    }\n",
       "\n",
       "    .dataframe thead th {\n",
       "        text-align: right;\n",
       "    }\n",
       "</style>\n",
       "<table border=\"1\" class=\"dataframe\">\n",
       "  <thead>\n",
       "    <tr style=\"text-align: right;\">\n",
       "      <th></th>\n",
       "      <th>Pclass</th>\n",
       "      <th>Sex</th>\n",
       "      <th>Age</th>\n",
       "      <th>Fare</th>\n",
       "      <th>FamilySize</th>\n",
       "      <th>EmbarkedAt_C</th>\n",
       "      <th>EmbarkedAt_Q</th>\n",
       "      <th>EmbarkedAt_S</th>\n",
       "      <th>isAlone</th>\n",
       "      <th>AgeGroup</th>\n",
       "      <th>...</th>\n",
       "      <th>Deck_A</th>\n",
       "      <th>Deck_B</th>\n",
       "      <th>Deck_C</th>\n",
       "      <th>Deck_D</th>\n",
       "      <th>Deck_E</th>\n",
       "      <th>Deck_F</th>\n",
       "      <th>Deck_G</th>\n",
       "      <th>Deck_Unknown</th>\n",
       "      <th>NameLength</th>\n",
       "      <th>FarePerPerson</th>\n",
       "    </tr>\n",
       "  </thead>\n",
       "  <tbody>\n",
       "    <tr>\n",
       "      <th>0</th>\n",
       "      <td>3</td>\n",
       "      <td>1</td>\n",
       "      <td>34.5</td>\n",
       "      <td>0</td>\n",
       "      <td>0</td>\n",
       "      <td>0</td>\n",
       "      <td>1</td>\n",
       "      <td>0</td>\n",
       "      <td>1</td>\n",
       "      <td>0</td>\n",
       "      <td>...</td>\n",
       "      <td>0</td>\n",
       "      <td>0</td>\n",
       "      <td>0</td>\n",
       "      <td>0</td>\n",
       "      <td>0</td>\n",
       "      <td>0</td>\n",
       "      <td>0</td>\n",
       "      <td>1</td>\n",
       "      <td>16</td>\n",
       "      <td>0.0</td>\n",
       "    </tr>\n",
       "    <tr>\n",
       "      <th>1</th>\n",
       "      <td>3</td>\n",
       "      <td>0</td>\n",
       "      <td>47.0</td>\n",
       "      <td>0</td>\n",
       "      <td>1</td>\n",
       "      <td>0</td>\n",
       "      <td>0</td>\n",
       "      <td>1</td>\n",
       "      <td>0</td>\n",
       "      <td>0</td>\n",
       "      <td>...</td>\n",
       "      <td>0</td>\n",
       "      <td>0</td>\n",
       "      <td>0</td>\n",
       "      <td>0</td>\n",
       "      <td>0</td>\n",
       "      <td>0</td>\n",
       "      <td>0</td>\n",
       "      <td>1</td>\n",
       "      <td>32</td>\n",
       "      <td>0.0</td>\n",
       "    </tr>\n",
       "    <tr>\n",
       "      <th>2</th>\n",
       "      <td>2</td>\n",
       "      <td>1</td>\n",
       "      <td>62.0</td>\n",
       "      <td>0</td>\n",
       "      <td>0</td>\n",
       "      <td>0</td>\n",
       "      <td>1</td>\n",
       "      <td>0</td>\n",
       "      <td>1</td>\n",
       "      <td>1</td>\n",
       "      <td>...</td>\n",
       "      <td>0</td>\n",
       "      <td>0</td>\n",
       "      <td>0</td>\n",
       "      <td>0</td>\n",
       "      <td>0</td>\n",
       "      <td>0</td>\n",
       "      <td>0</td>\n",
       "      <td>1</td>\n",
       "      <td>25</td>\n",
       "      <td>0.0</td>\n",
       "    </tr>\n",
       "    <tr>\n",
       "      <th>3</th>\n",
       "      <td>3</td>\n",
       "      <td>1</td>\n",
       "      <td>27.0</td>\n",
       "      <td>0</td>\n",
       "      <td>0</td>\n",
       "      <td>0</td>\n",
       "      <td>0</td>\n",
       "      <td>1</td>\n",
       "      <td>1</td>\n",
       "      <td>0</td>\n",
       "      <td>...</td>\n",
       "      <td>0</td>\n",
       "      <td>0</td>\n",
       "      <td>0</td>\n",
       "      <td>0</td>\n",
       "      <td>0</td>\n",
       "      <td>0</td>\n",
       "      <td>0</td>\n",
       "      <td>1</td>\n",
       "      <td>16</td>\n",
       "      <td>0.0</td>\n",
       "    </tr>\n",
       "    <tr>\n",
       "      <th>4</th>\n",
       "      <td>3</td>\n",
       "      <td>0</td>\n",
       "      <td>22.0</td>\n",
       "      <td>0</td>\n",
       "      <td>2</td>\n",
       "      <td>0</td>\n",
       "      <td>0</td>\n",
       "      <td>1</td>\n",
       "      <td>0</td>\n",
       "      <td>0</td>\n",
       "      <td>...</td>\n",
       "      <td>0</td>\n",
       "      <td>0</td>\n",
       "      <td>0</td>\n",
       "      <td>0</td>\n",
       "      <td>0</td>\n",
       "      <td>0</td>\n",
       "      <td>0</td>\n",
       "      <td>1</td>\n",
       "      <td>44</td>\n",
       "      <td>0.0</td>\n",
       "    </tr>\n",
       "  </tbody>\n",
       "</table>\n",
       "<p>5 rows × 30 columns</p>\n",
       "</div>"
      ],
      "text/plain": [
       "   Pclass  Sex   Age  Fare  FamilySize  EmbarkedAt_C  EmbarkedAt_Q  \\\n",
       "0       3    1  34.5     0           0             0             1   \n",
       "1       3    0  47.0     0           1             0             0   \n",
       "2       2    1  62.0     0           0             0             1   \n",
       "3       3    1  27.0     0           0             0             0   \n",
       "4       3    0  22.0     0           2             0             0   \n",
       "\n",
       "   EmbarkedAt_S  isAlone  AgeGroup  ...  Deck_A  Deck_B  Deck_C  Deck_D  \\\n",
       "0             0        1         0  ...       0       0       0       0   \n",
       "1             1        0         0  ...       0       0       0       0   \n",
       "2             0        1         1  ...       0       0       0       0   \n",
       "3             1        1         0  ...       0       0       0       0   \n",
       "4             1        0         0  ...       0       0       0       0   \n",
       "\n",
       "   Deck_E  Deck_F  Deck_G  Deck_Unknown  NameLength  FarePerPerson  \n",
       "0       0       0       0             1          16            0.0  \n",
       "1       0       0       0             1          32            0.0  \n",
       "2       0       0       0             1          25            0.0  \n",
       "3       0       0       0             1          16            0.0  \n",
       "4       0       0       0             1          44            0.0  \n",
       "\n",
       "[5 rows x 30 columns]"
      ]
     },
     "execution_count": 105,
     "metadata": {},
     "output_type": "execute_result"
    }
   ],
   "source": [
    "test_titanic.head()"
   ]
  },
  {
   "cell_type": "code",
   "execution_count": 106,
   "metadata": {},
   "outputs": [],
   "source": [
    "import joblib\n",
    "\n",
    "# Load the previously saved RandomForestClassifier model from the file 'titanic_model.pkl' using joblib.\n",
    "# This allows you to use the trained model for making predictions or further analysis.\n",
    "\n",
    "model = joblib.load(\"titanic_model.pkl\")"
   ]
  },
  {
   "cell_type": "code",
   "execution_count": 107,
   "metadata": {},
   "outputs": [
    {
     "data": {
      "text/plain": [
       "Index(['Pclass', 'Sex', 'Age', 'Fare', 'FamilySize', 'EmbarkedAt_C',\n",
       "       'EmbarkedAt_Q', 'EmbarkedAt_S', 'isAlone', 'AgeGroup',\n",
       "       'TicketGroupSize', 'Title_Col', 'Title_Dona', 'Title_Dr',\n",
       "       'Title_Master', 'Title_Miss', 'Title_Mr', 'Title_Mrs', 'Title_Ms',\n",
       "       'Title_Rev', 'Deck_A', 'Deck_B', 'Deck_C', 'Deck_D', 'Deck_E', 'Deck_F',\n",
       "       'Deck_G', 'Deck_Unknown', 'NameLength', 'FarePerPerson'],\n",
       "      dtype='object')"
      ]
     },
     "execution_count": 107,
     "metadata": {},
     "output_type": "execute_result"
    }
   ],
   "source": [
    "# Display the column names of the test dataset to understand its structure and identify which features are available for prediction.\n",
    "\n",
    "test_titanic.columns"
   ]
  },
  {
   "cell_type": "code",
   "execution_count": 108,
   "metadata": {},
   "outputs": [
    {
     "data": {
      "text/plain": [
       "Index(['PassengerId', 'Survived', 'Pclass', 'Sex', 'Age', 'Fare', 'FamilySize',\n",
       "       'EmbarkedAt_C', 'EmbarkedAt_Q', 'EmbarkedAt_S', 'isAlone', 'AgeGroup',\n",
       "       'TicketGroupSize', 'NameLength', 'Title_Capt', 'Title_Col', 'Title_Don',\n",
       "       'Title_Dr', 'Title_Jonkheer', 'Title_Lady', 'Title_Major',\n",
       "       'Title_Master', 'Title_Miss', 'Title_Mlle', 'Title_Mme', 'Title_Mr',\n",
       "       'Title_Mrs', 'Title_Ms', 'Title_Rev', 'Title_Sir', 'Title_the Countess',\n",
       "       'Deck_A', 'Deck_B', 'Deck_C', 'Deck_D', 'Deck_E', 'Deck_F', 'Deck_G',\n",
       "       'Deck_T', 'Deck_Unknown', 'FarePerPerson'],\n",
       "      dtype='object')"
      ]
     },
     "execution_count": 108,
     "metadata": {},
     "output_type": "execute_result"
    }
   ],
   "source": [
    "# Display the column names of the training dataset to understand its structure and identify the features used for model training.\n",
    "\n",
    "titanic.columns"
   ]
  },
  {
   "cell_type": "code",
   "execution_count": 109,
   "metadata": {},
   "outputs": [],
   "source": [
    "expected_columns = [\n",
    "    'Pclass', 'Sex', 'Age', 'Fare', 'FamilySize', 'EmbarkedAt_C', 'EmbarkedAt_Q', 'EmbarkedAt_S',\n",
    "    'isAlone', 'AgeGroup', 'TicketGroupSize', 'NameLength', 'Title_Capt', 'Title_Col', 'Title_Don',\n",
    "    'Title_Dr', 'Title_Jonkheer', 'Title_Lady', 'Title_Major', 'Title_Master', 'Title_Miss',\n",
    "    'Title_Mlle', 'Title_Mme', 'Title_Mr', 'Title_Mrs', 'Title_Ms', 'Title_Rev', 'Title_Sir',\n",
    "    'Title_the Countess', 'Deck_A', 'Deck_B', 'Deck_C', 'Deck_D', 'Deck_E', 'Deck_F', 'Deck_G',\n",
    "    'Deck_T', 'Deck_Unknown', 'FarePerPerson'\n",
    "]\n",
    "\n",
    "# Add any missing columns with default values of 0\n",
    "for column in expected_columns:\n",
    "    if column not in test_titanic.columns:\n",
    "        test_titanic[column] = 0\n",
    "\n",
    "# Reorder columns to match the training set\n",
    "test_titanic = test_titanic[expected_columns]"
   ]
  },
  {
   "cell_type": "code",
   "execution_count": 110,
   "metadata": {},
   "outputs": [],
   "source": [
    "# Use the loaded model to make predictions on the test dataset.\n",
    "# The 'predict' method generates the predicted class labels for each sample in the test dataset.\n",
    "\n",
    "predictions = model.predict(test_titanic)"
   ]
  },
  {
   "cell_type": "code",
   "execution_count": 111,
   "metadata": {},
   "outputs": [
    {
     "data": {
      "text/html": [
       "<div>\n",
       "<style scoped>\n",
       "    .dataframe tbody tr th:only-of-type {\n",
       "        vertical-align: middle;\n",
       "    }\n",
       "\n",
       "    .dataframe tbody tr th {\n",
       "        vertical-align: top;\n",
       "    }\n",
       "\n",
       "    .dataframe thead th {\n",
       "        text-align: right;\n",
       "    }\n",
       "</style>\n",
       "<table border=\"1\" class=\"dataframe\">\n",
       "  <thead>\n",
       "    <tr style=\"text-align: right;\">\n",
       "      <th></th>\n",
       "      <th>PassengerId</th>\n",
       "      <th>Survived</th>\n",
       "    </tr>\n",
       "  </thead>\n",
       "  <tbody>\n",
       "    <tr>\n",
       "      <th>0</th>\n",
       "      <td>892</td>\n",
       "      <td>0</td>\n",
       "    </tr>\n",
       "    <tr>\n",
       "      <th>1</th>\n",
       "      <td>893</td>\n",
       "      <td>1</td>\n",
       "    </tr>\n",
       "    <tr>\n",
       "      <th>2</th>\n",
       "      <td>894</td>\n",
       "      <td>0</td>\n",
       "    </tr>\n",
       "    <tr>\n",
       "      <th>3</th>\n",
       "      <td>895</td>\n",
       "      <td>0</td>\n",
       "    </tr>\n",
       "    <tr>\n",
       "      <th>4</th>\n",
       "      <td>896</td>\n",
       "      <td>1</td>\n",
       "    </tr>\n",
       "    <tr>\n",
       "      <th>...</th>\n",
       "      <td>...</td>\n",
       "      <td>...</td>\n",
       "    </tr>\n",
       "    <tr>\n",
       "      <th>414</th>\n",
       "      <td>1306</td>\n",
       "      <td>1</td>\n",
       "    </tr>\n",
       "    <tr>\n",
       "      <th>415</th>\n",
       "      <td>1307</td>\n",
       "      <td>0</td>\n",
       "    </tr>\n",
       "    <tr>\n",
       "      <th>416</th>\n",
       "      <td>1308</td>\n",
       "      <td>0</td>\n",
       "    </tr>\n",
       "    <tr>\n",
       "      <th>417</th>\n",
       "      <td>1309</td>\n",
       "      <td>0</td>\n",
       "    </tr>\n",
       "    <tr>\n",
       "      <th>418</th>\n",
       "      <td>1310</td>\n",
       "      <td>1</td>\n",
       "    </tr>\n",
       "  </tbody>\n",
       "</table>\n",
       "<p>419 rows × 2 columns</p>\n",
       "</div>"
      ],
      "text/plain": [
       "     PassengerId  Survived\n",
       "0            892         0\n",
       "1            893         1\n",
       "2            894         0\n",
       "3            895         0\n",
       "4            896         1\n",
       "..           ...       ...\n",
       "414         1306         1\n",
       "415         1307         0\n",
       "416         1308         0\n",
       "417         1309         0\n",
       "418         1310         1\n",
       "\n",
       "[419 rows x 2 columns]"
      ]
     },
     "execution_count": 111,
     "metadata": {},
     "output_type": "execute_result"
    }
   ],
   "source": [
    "# Create a DataFrame to store the predictions.\n",
    "# The DataFrame includes 'PassengerId' from the test dataset and the corresponding predicted 'Survived' values.\n",
    "\n",
    "submission = pd.DataFrame({\n",
    "    \"PassengerId\": passenger_ids,\n",
    "    \"Survived\": predictions\n",
    "})\n",
    "\n",
    "# Display the DataFrame containing the predictions.\n",
    "submission"
   ]
  },
  {
   "cell_type": "code",
   "execution_count": 112,
   "metadata": {},
   "outputs": [],
   "source": [
    "# Save the predictions to a CSV file named 'submission.csv'.\n",
    "# The file will include 'PassengerId' and 'Survived' columns, formatted as required for submission.\n",
    "\n",
    "submission.to_csv('submission.csv', index=False)"
   ]
  },
  {
   "cell_type": "markdown",
   "metadata": {},
   "source": [
    "## Done"
   ]
  }
 ],
 "metadata": {
  "kernelspec": {
   "display_name": "Python 3",
   "language": "python",
   "name": "python3"
  },
  "language_info": {
   "codemirror_mode": {
    "name": "ipython",
    "version": 3
   },
   "file_extension": ".py",
   "mimetype": "text/x-python",
   "name": "python",
   "nbconvert_exporter": "python",
   "pygments_lexer": "ipython3",
   "version": "3.11.1"
  }
 },
 "nbformat": 4,
 "nbformat_minor": 2
}
