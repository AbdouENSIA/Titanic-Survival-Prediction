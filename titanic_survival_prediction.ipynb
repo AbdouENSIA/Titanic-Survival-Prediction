{
 "cells": [
  {
   "cell_type": "code",
   "execution_count": 1,
   "metadata": {},
   "outputs": [],
   "source": [
    "# Import pandas library for data manipulation and analysis, commonly aliased as `pd`.\n",
    "import pandas as pd"
   ]
  },
  {
   "cell_type": "code",
   "execution_count": 2,
   "metadata": {},
   "outputs": [],
   "source": [
    "# Load the Titanic dataset from the \"train.csv\" file into a pandas DataFrame.\n",
    "# This dataset will be used for data analysis and modeling tasks.\n",
    "\n",
    "titanic = pd.read_csv(\"train.csv\")"
   ]
  },
  {
   "cell_type": "markdown",
   "metadata": {},
   "source": [
    "## Data Pre-Processing"
   ]
  },
  {
   "cell_type": "code",
   "execution_count": 3,
   "metadata": {},
   "outputs": [
    {
     "data": {
      "text/html": [
       "<div>\n",
       "<style scoped>\n",
       "    .dataframe tbody tr th:only-of-type {\n",
       "        vertical-align: middle;\n",
       "    }\n",
       "\n",
       "    .dataframe tbody tr th {\n",
       "        vertical-align: top;\n",
       "    }\n",
       "\n",
       "    .dataframe thead th {\n",
       "        text-align: right;\n",
       "    }\n",
       "</style>\n",
       "<table border=\"1\" class=\"dataframe\">\n",
       "  <thead>\n",
       "    <tr style=\"text-align: right;\">\n",
       "      <th></th>\n",
       "      <th>PassengerId</th>\n",
       "      <th>Survived</th>\n",
       "      <th>Pclass</th>\n",
       "      <th>Name</th>\n",
       "      <th>Sex</th>\n",
       "      <th>Age</th>\n",
       "      <th>SibSp</th>\n",
       "      <th>Parch</th>\n",
       "      <th>Ticket</th>\n",
       "      <th>Fare</th>\n",
       "      <th>Cabin</th>\n",
       "      <th>Embarked</th>\n",
       "    </tr>\n",
       "  </thead>\n",
       "  <tbody>\n",
       "    <tr>\n",
       "      <th>0</th>\n",
       "      <td>1</td>\n",
       "      <td>0</td>\n",
       "      <td>3</td>\n",
       "      <td>Braund, Mr. Owen Harris</td>\n",
       "      <td>male</td>\n",
       "      <td>22.0</td>\n",
       "      <td>1</td>\n",
       "      <td>0</td>\n",
       "      <td>A/5 21171</td>\n",
       "      <td>7.2500</td>\n",
       "      <td>NaN</td>\n",
       "      <td>S</td>\n",
       "    </tr>\n",
       "    <tr>\n",
       "      <th>1</th>\n",
       "      <td>2</td>\n",
       "      <td>1</td>\n",
       "      <td>1</td>\n",
       "      <td>Cumings, Mrs. John Bradley (Florence Briggs Th...</td>\n",
       "      <td>female</td>\n",
       "      <td>38.0</td>\n",
       "      <td>1</td>\n",
       "      <td>0</td>\n",
       "      <td>PC 17599</td>\n",
       "      <td>71.2833</td>\n",
       "      <td>C85</td>\n",
       "      <td>C</td>\n",
       "    </tr>\n",
       "    <tr>\n",
       "      <th>2</th>\n",
       "      <td>3</td>\n",
       "      <td>1</td>\n",
       "      <td>3</td>\n",
       "      <td>Heikkinen, Miss. Laina</td>\n",
       "      <td>female</td>\n",
       "      <td>26.0</td>\n",
       "      <td>0</td>\n",
       "      <td>0</td>\n",
       "      <td>STON/O2. 3101282</td>\n",
       "      <td>7.9250</td>\n",
       "      <td>NaN</td>\n",
       "      <td>S</td>\n",
       "    </tr>\n",
       "    <tr>\n",
       "      <th>3</th>\n",
       "      <td>4</td>\n",
       "      <td>1</td>\n",
       "      <td>1</td>\n",
       "      <td>Futrelle, Mrs. Jacques Heath (Lily May Peel)</td>\n",
       "      <td>female</td>\n",
       "      <td>35.0</td>\n",
       "      <td>1</td>\n",
       "      <td>0</td>\n",
       "      <td>113803</td>\n",
       "      <td>53.1000</td>\n",
       "      <td>C123</td>\n",
       "      <td>S</td>\n",
       "    </tr>\n",
       "    <tr>\n",
       "      <th>4</th>\n",
       "      <td>5</td>\n",
       "      <td>0</td>\n",
       "      <td>3</td>\n",
       "      <td>Allen, Mr. William Henry</td>\n",
       "      <td>male</td>\n",
       "      <td>35.0</td>\n",
       "      <td>0</td>\n",
       "      <td>0</td>\n",
       "      <td>373450</td>\n",
       "      <td>8.0500</td>\n",
       "      <td>NaN</td>\n",
       "      <td>S</td>\n",
       "    </tr>\n",
       "  </tbody>\n",
       "</table>\n",
       "</div>"
      ],
      "text/plain": [
       "   PassengerId  Survived  Pclass  \\\n",
       "0            1         0       3   \n",
       "1            2         1       1   \n",
       "2            3         1       3   \n",
       "3            4         1       1   \n",
       "4            5         0       3   \n",
       "\n",
       "                                                Name     Sex   Age  SibSp  \\\n",
       "0                            Braund, Mr. Owen Harris    male  22.0      1   \n",
       "1  Cumings, Mrs. John Bradley (Florence Briggs Th...  female  38.0      1   \n",
       "2                             Heikkinen, Miss. Laina  female  26.0      0   \n",
       "3       Futrelle, Mrs. Jacques Heath (Lily May Peel)  female  35.0      1   \n",
       "4                           Allen, Mr. William Henry    male  35.0      0   \n",
       "\n",
       "   Parch            Ticket     Fare Cabin Embarked  \n",
       "0      0         A/5 21171   7.2500   NaN        S  \n",
       "1      0          PC 17599  71.2833   C85        C  \n",
       "2      0  STON/O2. 3101282   7.9250   NaN        S  \n",
       "3      0            113803  53.1000  C123        S  \n",
       "4      0            373450   8.0500   NaN        S  "
      ]
     },
     "execution_count": 3,
     "metadata": {},
     "output_type": "execute_result"
    }
   ],
   "source": [
    "titanic.head()"
   ]
  },
  {
   "cell_type": "code",
   "execution_count": 4,
   "metadata": {},
   "outputs": [
    {
     "data": {
      "text/plain": [
       "PassengerId      int64\n",
       "Survived         int64\n",
       "Pclass           int64\n",
       "Name            object\n",
       "Sex             object\n",
       "Age            float64\n",
       "SibSp            int64\n",
       "Parch            int64\n",
       "Ticket          object\n",
       "Fare           float64\n",
       "Cabin           object\n",
       "Embarked        object\n",
       "dtype: object"
      ]
     },
     "execution_count": 4,
     "metadata": {},
     "output_type": "execute_result"
    }
   ],
   "source": [
    "# Display the data types of each column in the Titanic DataFrame.\n",
    "# This helps in understanding the nature of the data for preprocessing.\n",
    "\n",
    "titanic.dtypes"
   ]
  },
  {
   "cell_type": "code",
   "execution_count": 5,
   "metadata": {},
   "outputs": [],
   "source": [
    "# Remove the \"Cabin\" column from the Titanic DataFrame as it may contain a lot of missing values\n",
    "# or be irrelevant for the analysis. The operation is performed in place, modifying the original DataFrame.\n",
    "\n",
    "titanic.drop(columns=[\"Cabin\"], axis=1, inplace=True)"
   ]
  },
  {
   "cell_type": "code",
   "execution_count": 6,
   "metadata": {},
   "outputs": [
    {
     "data": {
      "text/plain": [
       "Age\n",
       "False    714\n",
       "True     177\n",
       "Name: count, dtype: int64"
      ]
     },
     "execution_count": 6,
     "metadata": {},
     "output_type": "execute_result"
    }
   ],
   "source": [
    "# Count the number of missing values (NaNs) in the \"Age\" column of the Titanic DataFrame.\n",
    "# This will help assess the extent of missing data for the \"Age\" feature.\n",
    "\n",
    "titanic.Age.isna().value_counts()"
   ]
  },
  {
   "cell_type": "code",
   "execution_count": 7,
   "metadata": {},
   "outputs": [
    {
     "name": "stderr",
     "output_type": "stream",
     "text": [
      "C:\\Users\\AbdouMagico\\AppData\\Local\\Temp\\ipykernel_20420\\2509367079.py:3: FutureWarning: A value is trying to be set on a copy of a DataFrame or Series through chained assignment using an inplace method.\n",
      "The behavior will change in pandas 3.0. This inplace method will never work because the intermediate object on which we are setting values always behaves as a copy.\n",
      "\n",
      "For example, when doing 'df[col].method(value, inplace=True)', try using 'df.method({col: value}, inplace=True)' or df[col] = df[col].method(value) instead, to perform the operation inplace on the original object.\n",
      "\n",
      "\n",
      "  titanic[\"Age\"].fillna(titanic[\"Age\"].median(), inplace=True)\n"
     ]
    }
   ],
   "source": [
    "# Replace missing values in the \"Age\" column with the median age.\n",
    "\n",
    "titanic[\"Age\"].fillna(titanic[\"Age\"].median(), inplace=True)"
   ]
  },
  {
   "cell_type": "code",
   "execution_count": 8,
   "metadata": {},
   "outputs": [],
   "source": [
    "# Convert the \"Sex\" column to binary values: 1 for male and 0 for female.\n",
    "\n",
    "titanic[\"Sex\"] = titanic[\"Sex\"].apply(lambda x: 1 if x == \"male\" else 0)"
   ]
  },
  {
   "cell_type": "code",
   "execution_count": 9,
   "metadata": {},
   "outputs": [],
   "source": [
    "# Create a new column \"FamilySize\" by summing \"Parch\" (parents/children) and \"SibSp\" (siblings/spouses).\n",
    "\n",
    "titanic[\"FamilySize\"] = titanic[\"Parch\"] + titanic[\"SibSp\"]\n",
    "\n",
    "# Remove the \"Parch\" and \"SibSp\" columns as their information is now represented in \"FamilySize\".\n",
    "\n",
    "titanic.drop(columns=[\"Parch\", \"SibSp\"], axis=1, inplace=True)"
   ]
  },
  {
   "cell_type": "code",
   "execution_count": 10,
   "metadata": {},
   "outputs": [],
   "source": [
    "# One-hot encode the \"Embarked\" column, creating new binary columns for each embarkation port.\n",
    "# Drop the original \"Embarked\" column after encoding.\n",
    "\n",
    "titanic = titanic.join(pd.get_dummies(titanic[\"Embarked\"], prefix=\"EmbarkedAt\")).drop(columns=[\"Embarked\"], axis=1)"
   ]
  },
  {
   "cell_type": "code",
   "execution_count": 11,
   "metadata": {},
   "outputs": [],
   "source": [
    "# Convert boolean values in the DataFrame to binary: True becomes 1 and False becomes 0.\n",
    "# Non-boolean values remain unchanged.\n",
    "\n",
    "titanic = titanic.map(lambda x: 1 if x is True else 0 if x is False else x)"
   ]
  },
  {
   "cell_type": "code",
   "execution_count": 12,
   "metadata": {},
   "outputs": [],
   "source": [
    "# Create a new column \"isAlone\" where 1 indicates the passenger is alone (FamilySize == 0) \n",
    "# and 0 indicates the passenger is not alone.\n",
    "\n",
    "titanic[\"isAlone\"] = (titanic[\"FamilySize\"] == 0).astype(int)"
   ]
  },
  {
   "cell_type": "code",
   "execution_count": 13,
   "metadata": {},
   "outputs": [],
   "source": [
    "# Create a new column \"AgeGroup\" by categorizing the \"Age\" column into age groups:\n",
    "# \"child\" for ages under 13, \"teenager\" for ages 13-18, \"adult\" for ages 19-59, and \"senior\" for ages 60 and above.\n",
    "\n",
    "titanic[\"AgeGroup\"] = titanic[\"Age\"].apply(lambda x: \"child\" if x < 13 else \"teenager\" if x < 19 else \"adult\" if x < 60 else \"senior\")"
   ]
  },
  {
   "cell_type": "code",
   "execution_count": 14,
   "metadata": {},
   "outputs": [],
   "source": [
    "# Convert the \"AgeGroup\" categorical values to numeric labels using factorization.\n",
    "# Each unique age group is assigned a unique integer.\n",
    "\n",
    "titanic[\"AgeGroup\"] = pd.factorize(titanic[\"AgeGroup\"])[0]"
   ]
  },
  {
   "cell_type": "code",
   "execution_count": 15,
   "metadata": {},
   "outputs": [],
   "source": [
    "# Calculate the size of each group based on the \"Ticket\" column, representing the number of passengers with the same ticket.\n",
    "\n",
    "ticket_group_size = titanic.groupby(by=[\"Ticket\"]).size()\n",
    "\n",
    "# Map the group sizes to a new column \"TicketGroupSize\" in the DataFrame.\n",
    "# This column shows the number of passengers sharing the same ticket.\n",
    "\n",
    "titanic[\"TicketGroupSize\"] = titanic[\"Ticket\"].map(ticket_group_size)"
   ]
  },
  {
   "cell_type": "code",
   "execution_count": 16,
   "metadata": {},
   "outputs": [],
   "source": [
    "# Categorize the \"Fare\" column into fare groups:\n",
    "# \"low\" for fares less than or equal to 50,\n",
    "# \"medium\" for fares between 51 and 150,\n",
    "# and \"high\" for fares greater than 150.\n",
    "\n",
    "titanic[\"Fare\"] = titanic[\"Fare\"].apply(lambda x: \"low\" if x <= 50 else \"medium\" if x <= 150 else \"high\")"
   ]
  },
  {
   "cell_type": "code",
   "execution_count": 17,
   "metadata": {},
   "outputs": [],
   "source": [
    "# Convert the \"Fare\" categorical values to numeric labels using factorization.\n",
    "# Each unique fare category (\"low\", \"medium\", \"high\") is assigned a unique integer.\n",
    "\n",
    "titanic[\"Fare\"] = pd.factorize(titanic[\"Fare\"])[0]"
   ]
  },
  {
   "cell_type": "code",
   "execution_count": 18,
   "metadata": {},
   "outputs": [],
   "source": [
    "# Extract the title from the \"Name\" column, which is located between the comma and the period.\n",
    "# The title is then cleaned of any leading or trailing whitespace.\n",
    "\n",
    "titanic['Title'] = titanic['Name'].apply(lambda x: x.split(',')[1].split('.')[0].strip())\n",
    "\n",
    "# Drop the \"Name\" and \"Ticket\" columns as their information is no longer needed for analysis.\n",
    "\n",
    "titanic.drop(columns=[\"Name\", \"Ticket\"], axis=1, inplace=True)"
   ]
  },
  {
   "cell_type": "code",
   "execution_count": 19,
   "metadata": {},
   "outputs": [],
   "source": [
    "# One-hot encode the \"Title\" column, creating binary columns for each title (e.g., \"Mr\", \"Mrs\").\n",
    "# Drop the original \"Title\" column after encoding.\n",
    "\n",
    "titanic = titanic.join(pd.get_dummies(titanic[\"Title\"], prefix=\"Title\")).drop(columns=[\"Title\"], axis=1)"
   ]
  },
  {
   "cell_type": "code",
   "execution_count": 20,
   "metadata": {},
   "outputs": [],
   "source": [
    "# Convert boolean values in the DataFrame to binary: True becomes 1 and False becomes 0.\n",
    "# Non-boolean values remain unchanged.\n",
    "\n",
    "titanic = titanic.map(lambda x: 1 if x is True else 0 if x is False else x)"
   ]
  },
  {
   "cell_type": "code",
   "execution_count": 21,
   "metadata": {},
   "outputs": [
    {
     "data": {
      "text/html": [
       "<div>\n",
       "<style scoped>\n",
       "    .dataframe tbody tr th:only-of-type {\n",
       "        vertical-align: middle;\n",
       "    }\n",
       "\n",
       "    .dataframe tbody tr th {\n",
       "        vertical-align: top;\n",
       "    }\n",
       "\n",
       "    .dataframe thead th {\n",
       "        text-align: right;\n",
       "    }\n",
       "</style>\n",
       "<table border=\"1\" class=\"dataframe\">\n",
       "  <thead>\n",
       "    <tr style=\"text-align: right;\">\n",
       "      <th></th>\n",
       "      <th>PassengerId</th>\n",
       "      <th>Survived</th>\n",
       "      <th>Pclass</th>\n",
       "      <th>Sex</th>\n",
       "      <th>Age</th>\n",
       "      <th>Fare</th>\n",
       "      <th>FamilySize</th>\n",
       "      <th>EmbarkedAt_C</th>\n",
       "      <th>EmbarkedAt_Q</th>\n",
       "      <th>EmbarkedAt_S</th>\n",
       "      <th>...</th>\n",
       "      <th>Title_Master</th>\n",
       "      <th>Title_Miss</th>\n",
       "      <th>Title_Mlle</th>\n",
       "      <th>Title_Mme</th>\n",
       "      <th>Title_Mr</th>\n",
       "      <th>Title_Mrs</th>\n",
       "      <th>Title_Ms</th>\n",
       "      <th>Title_Rev</th>\n",
       "      <th>Title_Sir</th>\n",
       "      <th>Title_the Countess</th>\n",
       "    </tr>\n",
       "  </thead>\n",
       "  <tbody>\n",
       "    <tr>\n",
       "      <th>0</th>\n",
       "      <td>1</td>\n",
       "      <td>0</td>\n",
       "      <td>3</td>\n",
       "      <td>1</td>\n",
       "      <td>22.0</td>\n",
       "      <td>0</td>\n",
       "      <td>1</td>\n",
       "      <td>0</td>\n",
       "      <td>0</td>\n",
       "      <td>1</td>\n",
       "      <td>...</td>\n",
       "      <td>0</td>\n",
       "      <td>0</td>\n",
       "      <td>0</td>\n",
       "      <td>0</td>\n",
       "      <td>1</td>\n",
       "      <td>0</td>\n",
       "      <td>0</td>\n",
       "      <td>0</td>\n",
       "      <td>0</td>\n",
       "      <td>0</td>\n",
       "    </tr>\n",
       "    <tr>\n",
       "      <th>1</th>\n",
       "      <td>2</td>\n",
       "      <td>1</td>\n",
       "      <td>1</td>\n",
       "      <td>0</td>\n",
       "      <td>38.0</td>\n",
       "      <td>1</td>\n",
       "      <td>1</td>\n",
       "      <td>1</td>\n",
       "      <td>0</td>\n",
       "      <td>0</td>\n",
       "      <td>...</td>\n",
       "      <td>0</td>\n",
       "      <td>0</td>\n",
       "      <td>0</td>\n",
       "      <td>0</td>\n",
       "      <td>0</td>\n",
       "      <td>1</td>\n",
       "      <td>0</td>\n",
       "      <td>0</td>\n",
       "      <td>0</td>\n",
       "      <td>0</td>\n",
       "    </tr>\n",
       "    <tr>\n",
       "      <th>2</th>\n",
       "      <td>3</td>\n",
       "      <td>1</td>\n",
       "      <td>3</td>\n",
       "      <td>0</td>\n",
       "      <td>26.0</td>\n",
       "      <td>0</td>\n",
       "      <td>0</td>\n",
       "      <td>0</td>\n",
       "      <td>0</td>\n",
       "      <td>1</td>\n",
       "      <td>...</td>\n",
       "      <td>0</td>\n",
       "      <td>1</td>\n",
       "      <td>0</td>\n",
       "      <td>0</td>\n",
       "      <td>0</td>\n",
       "      <td>0</td>\n",
       "      <td>0</td>\n",
       "      <td>0</td>\n",
       "      <td>0</td>\n",
       "      <td>0</td>\n",
       "    </tr>\n",
       "    <tr>\n",
       "      <th>3</th>\n",
       "      <td>4</td>\n",
       "      <td>1</td>\n",
       "      <td>1</td>\n",
       "      <td>0</td>\n",
       "      <td>35.0</td>\n",
       "      <td>1</td>\n",
       "      <td>1</td>\n",
       "      <td>0</td>\n",
       "      <td>0</td>\n",
       "      <td>1</td>\n",
       "      <td>...</td>\n",
       "      <td>0</td>\n",
       "      <td>0</td>\n",
       "      <td>0</td>\n",
       "      <td>0</td>\n",
       "      <td>0</td>\n",
       "      <td>1</td>\n",
       "      <td>0</td>\n",
       "      <td>0</td>\n",
       "      <td>0</td>\n",
       "      <td>0</td>\n",
       "    </tr>\n",
       "    <tr>\n",
       "      <th>4</th>\n",
       "      <td>5</td>\n",
       "      <td>0</td>\n",
       "      <td>3</td>\n",
       "      <td>1</td>\n",
       "      <td>35.0</td>\n",
       "      <td>0</td>\n",
       "      <td>0</td>\n",
       "      <td>0</td>\n",
       "      <td>0</td>\n",
       "      <td>1</td>\n",
       "      <td>...</td>\n",
       "      <td>0</td>\n",
       "      <td>0</td>\n",
       "      <td>0</td>\n",
       "      <td>0</td>\n",
       "      <td>1</td>\n",
       "      <td>0</td>\n",
       "      <td>0</td>\n",
       "      <td>0</td>\n",
       "      <td>0</td>\n",
       "      <td>0</td>\n",
       "    </tr>\n",
       "  </tbody>\n",
       "</table>\n",
       "<p>5 rows × 30 columns</p>\n",
       "</div>"
      ],
      "text/plain": [
       "   PassengerId  Survived  Pclass  Sex   Age  Fare  FamilySize  EmbarkedAt_C  \\\n",
       "0            1         0       3    1  22.0     0           1             0   \n",
       "1            2         1       1    0  38.0     1           1             1   \n",
       "2            3         1       3    0  26.0     0           0             0   \n",
       "3            4         1       1    0  35.0     1           1             0   \n",
       "4            5         0       3    1  35.0     0           0             0   \n",
       "\n",
       "   EmbarkedAt_Q  EmbarkedAt_S  ...  Title_Master  Title_Miss  Title_Mlle  \\\n",
       "0             0             1  ...             0           0           0   \n",
       "1             0             0  ...             0           0           0   \n",
       "2             0             1  ...             0           1           0   \n",
       "3             0             1  ...             0           0           0   \n",
       "4             0             1  ...             0           0           0   \n",
       "\n",
       "   Title_Mme  Title_Mr  Title_Mrs  Title_Ms  Title_Rev  Title_Sir  \\\n",
       "0          0         1          0         0          0          0   \n",
       "1          0         0          1         0          0          0   \n",
       "2          0         0          0         0          0          0   \n",
       "3          0         0          1         0          0          0   \n",
       "4          0         1          0         0          0          0   \n",
       "\n",
       "   Title_the Countess  \n",
       "0                   0  \n",
       "1                   0  \n",
       "2                   0  \n",
       "3                   0  \n",
       "4                   0  \n",
       "\n",
       "[5 rows x 30 columns]"
      ]
     },
     "execution_count": 21,
     "metadata": {},
     "output_type": "execute_result"
    }
   ],
   "source": [
    "titanic.head()"
   ]
  },
  {
   "cell_type": "markdown",
   "metadata": {},
   "source": [
    "## Training the Model"
   ]
  },
  {
   "cell_type": "code",
   "execution_count": 22,
   "metadata": {},
   "outputs": [],
   "source": [
    "# Import the RandomForestClassifier from sklearn.ensemble for building and training a random forest model.\n",
    "from sklearn.ensemble import RandomForestClassifier\n",
    "\n",
    "# Import train_test_split from sklearn.model_selection to split the dataset into training and testing sets.\n",
    "# This helps in evaluating the performance of the model on unseen data.\n",
    "from sklearn.model_selection import train_test_split"
   ]
  },
  {
   "cell_type": "code",
   "execution_count": 23,
   "metadata": {},
   "outputs": [],
   "source": [
    "# Initialize a RandomForestClassifier model with parallel processing enabled (n_jobs=-1).\n",
    "# This allows the model to use all available CPU cores for training, potentially speeding up the process.\n",
    "\n",
    "model: RandomForestClassifier = RandomForestClassifier(n_jobs=-1)"
   ]
  },
  {
   "cell_type": "code",
   "execution_count": 24,
   "metadata": {},
   "outputs": [],
   "source": [
    "# Separate the features (X) from the target variable (y).\n",
    "# X contains all columns except \"Survived\", which is the target variable for prediction.\n",
    "# y contains the \"Survived\" column, representing whether the passenger survived.\n",
    "\n",
    "X, y = titanic.drop(columns=[\"Survived\"], axis=1), titanic[\"Survived\"]"
   ]
  },
  {
   "cell_type": "code",
   "execution_count": 25,
   "metadata": {},
   "outputs": [],
   "source": [
    "# Split the dataset into training and testing sets.\n",
    "# 20% of the data is reserved for testing (test_size=0.2), while the remaining 80% is used for training.\n",
    "# This helps evaluate the model's performance on unseen data.\n",
    "\n",
    "X_train, X_test, y_train, y_test = train_test_split(X, y, test_size=0.2)"
   ]
  },
  {
   "cell_type": "code",
   "execution_count": 26,
   "metadata": {},
   "outputs": [
    {
     "data": {
      "text/html": [
       "<style>#sk-container-id-1 {\n",
       "  /* Definition of color scheme common for light and dark mode */\n",
       "  --sklearn-color-text: black;\n",
       "  --sklearn-color-line: gray;\n",
       "  /* Definition of color scheme for unfitted estimators */\n",
       "  --sklearn-color-unfitted-level-0: #fff5e6;\n",
       "  --sklearn-color-unfitted-level-1: #f6e4d2;\n",
       "  --sklearn-color-unfitted-level-2: #ffe0b3;\n",
       "  --sklearn-color-unfitted-level-3: chocolate;\n",
       "  /* Definition of color scheme for fitted estimators */\n",
       "  --sklearn-color-fitted-level-0: #f0f8ff;\n",
       "  --sklearn-color-fitted-level-1: #d4ebff;\n",
       "  --sklearn-color-fitted-level-2: #b3dbfd;\n",
       "  --sklearn-color-fitted-level-3: cornflowerblue;\n",
       "\n",
       "  /* Specific color for light theme */\n",
       "  --sklearn-color-text-on-default-background: var(--sg-text-color, var(--theme-code-foreground, var(--jp-content-font-color1, black)));\n",
       "  --sklearn-color-background: var(--sg-background-color, var(--theme-background, var(--jp-layout-color0, white)));\n",
       "  --sklearn-color-border-box: var(--sg-text-color, var(--theme-code-foreground, var(--jp-content-font-color1, black)));\n",
       "  --sklearn-color-icon: #696969;\n",
       "\n",
       "  @media (prefers-color-scheme: dark) {\n",
       "    /* Redefinition of color scheme for dark theme */\n",
       "    --sklearn-color-text-on-default-background: var(--sg-text-color, var(--theme-code-foreground, var(--jp-content-font-color1, white)));\n",
       "    --sklearn-color-background: var(--sg-background-color, var(--theme-background, var(--jp-layout-color0, #111)));\n",
       "    --sklearn-color-border-box: var(--sg-text-color, var(--theme-code-foreground, var(--jp-content-font-color1, white)));\n",
       "    --sklearn-color-icon: #878787;\n",
       "  }\n",
       "}\n",
       "\n",
       "#sk-container-id-1 {\n",
       "  color: var(--sklearn-color-text);\n",
       "}\n",
       "\n",
       "#sk-container-id-1 pre {\n",
       "  padding: 0;\n",
       "}\n",
       "\n",
       "#sk-container-id-1 input.sk-hidden--visually {\n",
       "  border: 0;\n",
       "  clip: rect(1px 1px 1px 1px);\n",
       "  clip: rect(1px, 1px, 1px, 1px);\n",
       "  height: 1px;\n",
       "  margin: -1px;\n",
       "  overflow: hidden;\n",
       "  padding: 0;\n",
       "  position: absolute;\n",
       "  width: 1px;\n",
       "}\n",
       "\n",
       "#sk-container-id-1 div.sk-dashed-wrapped {\n",
       "  border: 1px dashed var(--sklearn-color-line);\n",
       "  margin: 0 0.4em 0.5em 0.4em;\n",
       "  box-sizing: border-box;\n",
       "  padding-bottom: 0.4em;\n",
       "  background-color: var(--sklearn-color-background);\n",
       "}\n",
       "\n",
       "#sk-container-id-1 div.sk-container {\n",
       "  /* jupyter's `normalize.less` sets `[hidden] { display: none; }`\n",
       "     but bootstrap.min.css set `[hidden] { display: none !important; }`\n",
       "     so we also need the `!important` here to be able to override the\n",
       "     default hidden behavior on the sphinx rendered scikit-learn.org.\n",
       "     See: https://github.com/scikit-learn/scikit-learn/issues/21755 */\n",
       "  display: inline-block !important;\n",
       "  position: relative;\n",
       "}\n",
       "\n",
       "#sk-container-id-1 div.sk-text-repr-fallback {\n",
       "  display: none;\n",
       "}\n",
       "\n",
       "div.sk-parallel-item,\n",
       "div.sk-serial,\n",
       "div.sk-item {\n",
       "  /* draw centered vertical line to link estimators */\n",
       "  background-image: linear-gradient(var(--sklearn-color-text-on-default-background), var(--sklearn-color-text-on-default-background));\n",
       "  background-size: 2px 100%;\n",
       "  background-repeat: no-repeat;\n",
       "  background-position: center center;\n",
       "}\n",
       "\n",
       "/* Parallel-specific style estimator block */\n",
       "\n",
       "#sk-container-id-1 div.sk-parallel-item::after {\n",
       "  content: \"\";\n",
       "  width: 100%;\n",
       "  border-bottom: 2px solid var(--sklearn-color-text-on-default-background);\n",
       "  flex-grow: 1;\n",
       "}\n",
       "\n",
       "#sk-container-id-1 div.sk-parallel {\n",
       "  display: flex;\n",
       "  align-items: stretch;\n",
       "  justify-content: center;\n",
       "  background-color: var(--sklearn-color-background);\n",
       "  position: relative;\n",
       "}\n",
       "\n",
       "#sk-container-id-1 div.sk-parallel-item {\n",
       "  display: flex;\n",
       "  flex-direction: column;\n",
       "}\n",
       "\n",
       "#sk-container-id-1 div.sk-parallel-item:first-child::after {\n",
       "  align-self: flex-end;\n",
       "  width: 50%;\n",
       "}\n",
       "\n",
       "#sk-container-id-1 div.sk-parallel-item:last-child::after {\n",
       "  align-self: flex-start;\n",
       "  width: 50%;\n",
       "}\n",
       "\n",
       "#sk-container-id-1 div.sk-parallel-item:only-child::after {\n",
       "  width: 0;\n",
       "}\n",
       "\n",
       "/* Serial-specific style estimator block */\n",
       "\n",
       "#sk-container-id-1 div.sk-serial {\n",
       "  display: flex;\n",
       "  flex-direction: column;\n",
       "  align-items: center;\n",
       "  background-color: var(--sklearn-color-background);\n",
       "  padding-right: 1em;\n",
       "  padding-left: 1em;\n",
       "}\n",
       "\n",
       "\n",
       "/* Toggleable style: style used for estimator/Pipeline/ColumnTransformer box that is\n",
       "clickable and can be expanded/collapsed.\n",
       "- Pipeline and ColumnTransformer use this feature and define the default style\n",
       "- Estimators will overwrite some part of the style using the `sk-estimator` class\n",
       "*/\n",
       "\n",
       "/* Pipeline and ColumnTransformer style (default) */\n",
       "\n",
       "#sk-container-id-1 div.sk-toggleable {\n",
       "  /* Default theme specific background. It is overwritten whether we have a\n",
       "  specific estimator or a Pipeline/ColumnTransformer */\n",
       "  background-color: var(--sklearn-color-background);\n",
       "}\n",
       "\n",
       "/* Toggleable label */\n",
       "#sk-container-id-1 label.sk-toggleable__label {\n",
       "  cursor: pointer;\n",
       "  display: block;\n",
       "  width: 100%;\n",
       "  margin-bottom: 0;\n",
       "  padding: 0.5em;\n",
       "  box-sizing: border-box;\n",
       "  text-align: center;\n",
       "}\n",
       "\n",
       "#sk-container-id-1 label.sk-toggleable__label-arrow:before {\n",
       "  /* Arrow on the left of the label */\n",
       "  content: \"▸\";\n",
       "  float: left;\n",
       "  margin-right: 0.25em;\n",
       "  color: var(--sklearn-color-icon);\n",
       "}\n",
       "\n",
       "#sk-container-id-1 label.sk-toggleable__label-arrow:hover:before {\n",
       "  color: var(--sklearn-color-text);\n",
       "}\n",
       "\n",
       "/* Toggleable content - dropdown */\n",
       "\n",
       "#sk-container-id-1 div.sk-toggleable__content {\n",
       "  max-height: 0;\n",
       "  max-width: 0;\n",
       "  overflow: hidden;\n",
       "  text-align: left;\n",
       "  /* unfitted */\n",
       "  background-color: var(--sklearn-color-unfitted-level-0);\n",
       "}\n",
       "\n",
       "#sk-container-id-1 div.sk-toggleable__content.fitted {\n",
       "  /* fitted */\n",
       "  background-color: var(--sklearn-color-fitted-level-0);\n",
       "}\n",
       "\n",
       "#sk-container-id-1 div.sk-toggleable__content pre {\n",
       "  margin: 0.2em;\n",
       "  border-radius: 0.25em;\n",
       "  color: var(--sklearn-color-text);\n",
       "  /* unfitted */\n",
       "  background-color: var(--sklearn-color-unfitted-level-0);\n",
       "}\n",
       "\n",
       "#sk-container-id-1 div.sk-toggleable__content.fitted pre {\n",
       "  /* unfitted */\n",
       "  background-color: var(--sklearn-color-fitted-level-0);\n",
       "}\n",
       "\n",
       "#sk-container-id-1 input.sk-toggleable__control:checked~div.sk-toggleable__content {\n",
       "  /* Expand drop-down */\n",
       "  max-height: 200px;\n",
       "  max-width: 100%;\n",
       "  overflow: auto;\n",
       "}\n",
       "\n",
       "#sk-container-id-1 input.sk-toggleable__control:checked~label.sk-toggleable__label-arrow:before {\n",
       "  content: \"▾\";\n",
       "}\n",
       "\n",
       "/* Pipeline/ColumnTransformer-specific style */\n",
       "\n",
       "#sk-container-id-1 div.sk-label input.sk-toggleable__control:checked~label.sk-toggleable__label {\n",
       "  color: var(--sklearn-color-text);\n",
       "  background-color: var(--sklearn-color-unfitted-level-2);\n",
       "}\n",
       "\n",
       "#sk-container-id-1 div.sk-label.fitted input.sk-toggleable__control:checked~label.sk-toggleable__label {\n",
       "  background-color: var(--sklearn-color-fitted-level-2);\n",
       "}\n",
       "\n",
       "/* Estimator-specific style */\n",
       "\n",
       "/* Colorize estimator box */\n",
       "#sk-container-id-1 div.sk-estimator input.sk-toggleable__control:checked~label.sk-toggleable__label {\n",
       "  /* unfitted */\n",
       "  background-color: var(--sklearn-color-unfitted-level-2);\n",
       "}\n",
       "\n",
       "#sk-container-id-1 div.sk-estimator.fitted input.sk-toggleable__control:checked~label.sk-toggleable__label {\n",
       "  /* fitted */\n",
       "  background-color: var(--sklearn-color-fitted-level-2);\n",
       "}\n",
       "\n",
       "#sk-container-id-1 div.sk-label label.sk-toggleable__label,\n",
       "#sk-container-id-1 div.sk-label label {\n",
       "  /* The background is the default theme color */\n",
       "  color: var(--sklearn-color-text-on-default-background);\n",
       "}\n",
       "\n",
       "/* On hover, darken the color of the background */\n",
       "#sk-container-id-1 div.sk-label:hover label.sk-toggleable__label {\n",
       "  color: var(--sklearn-color-text);\n",
       "  background-color: var(--sklearn-color-unfitted-level-2);\n",
       "}\n",
       "\n",
       "/* Label box, darken color on hover, fitted */\n",
       "#sk-container-id-1 div.sk-label.fitted:hover label.sk-toggleable__label.fitted {\n",
       "  color: var(--sklearn-color-text);\n",
       "  background-color: var(--sklearn-color-fitted-level-2);\n",
       "}\n",
       "\n",
       "/* Estimator label */\n",
       "\n",
       "#sk-container-id-1 div.sk-label label {\n",
       "  font-family: monospace;\n",
       "  font-weight: bold;\n",
       "  display: inline-block;\n",
       "  line-height: 1.2em;\n",
       "}\n",
       "\n",
       "#sk-container-id-1 div.sk-label-container {\n",
       "  text-align: center;\n",
       "}\n",
       "\n",
       "/* Estimator-specific */\n",
       "#sk-container-id-1 div.sk-estimator {\n",
       "  font-family: monospace;\n",
       "  border: 1px dotted var(--sklearn-color-border-box);\n",
       "  border-radius: 0.25em;\n",
       "  box-sizing: border-box;\n",
       "  margin-bottom: 0.5em;\n",
       "  /* unfitted */\n",
       "  background-color: var(--sklearn-color-unfitted-level-0);\n",
       "}\n",
       "\n",
       "#sk-container-id-1 div.sk-estimator.fitted {\n",
       "  /* fitted */\n",
       "  background-color: var(--sklearn-color-fitted-level-0);\n",
       "}\n",
       "\n",
       "/* on hover */\n",
       "#sk-container-id-1 div.sk-estimator:hover {\n",
       "  /* unfitted */\n",
       "  background-color: var(--sklearn-color-unfitted-level-2);\n",
       "}\n",
       "\n",
       "#sk-container-id-1 div.sk-estimator.fitted:hover {\n",
       "  /* fitted */\n",
       "  background-color: var(--sklearn-color-fitted-level-2);\n",
       "}\n",
       "\n",
       "/* Specification for estimator info (e.g. \"i\" and \"?\") */\n",
       "\n",
       "/* Common style for \"i\" and \"?\" */\n",
       "\n",
       ".sk-estimator-doc-link,\n",
       "a:link.sk-estimator-doc-link,\n",
       "a:visited.sk-estimator-doc-link {\n",
       "  float: right;\n",
       "  font-size: smaller;\n",
       "  line-height: 1em;\n",
       "  font-family: monospace;\n",
       "  background-color: var(--sklearn-color-background);\n",
       "  border-radius: 1em;\n",
       "  height: 1em;\n",
       "  width: 1em;\n",
       "  text-decoration: none !important;\n",
       "  margin-left: 1ex;\n",
       "  /* unfitted */\n",
       "  border: var(--sklearn-color-unfitted-level-1) 1pt solid;\n",
       "  color: var(--sklearn-color-unfitted-level-1);\n",
       "}\n",
       "\n",
       ".sk-estimator-doc-link.fitted,\n",
       "a:link.sk-estimator-doc-link.fitted,\n",
       "a:visited.sk-estimator-doc-link.fitted {\n",
       "  /* fitted */\n",
       "  border: var(--sklearn-color-fitted-level-1) 1pt solid;\n",
       "  color: var(--sklearn-color-fitted-level-1);\n",
       "}\n",
       "\n",
       "/* On hover */\n",
       "div.sk-estimator:hover .sk-estimator-doc-link:hover,\n",
       ".sk-estimator-doc-link:hover,\n",
       "div.sk-label-container:hover .sk-estimator-doc-link:hover,\n",
       ".sk-estimator-doc-link:hover {\n",
       "  /* unfitted */\n",
       "  background-color: var(--sklearn-color-unfitted-level-3);\n",
       "  color: var(--sklearn-color-background);\n",
       "  text-decoration: none;\n",
       "}\n",
       "\n",
       "div.sk-estimator.fitted:hover .sk-estimator-doc-link.fitted:hover,\n",
       ".sk-estimator-doc-link.fitted:hover,\n",
       "div.sk-label-container:hover .sk-estimator-doc-link.fitted:hover,\n",
       ".sk-estimator-doc-link.fitted:hover {\n",
       "  /* fitted */\n",
       "  background-color: var(--sklearn-color-fitted-level-3);\n",
       "  color: var(--sklearn-color-background);\n",
       "  text-decoration: none;\n",
       "}\n",
       "\n",
       "/* Span, style for the box shown on hovering the info icon */\n",
       ".sk-estimator-doc-link span {\n",
       "  display: none;\n",
       "  z-index: 9999;\n",
       "  position: relative;\n",
       "  font-weight: normal;\n",
       "  right: .2ex;\n",
       "  padding: .5ex;\n",
       "  margin: .5ex;\n",
       "  width: min-content;\n",
       "  min-width: 20ex;\n",
       "  max-width: 50ex;\n",
       "  color: var(--sklearn-color-text);\n",
       "  box-shadow: 2pt 2pt 4pt #999;\n",
       "  /* unfitted */\n",
       "  background: var(--sklearn-color-unfitted-level-0);\n",
       "  border: .5pt solid var(--sklearn-color-unfitted-level-3);\n",
       "}\n",
       "\n",
       ".sk-estimator-doc-link.fitted span {\n",
       "  /* fitted */\n",
       "  background: var(--sklearn-color-fitted-level-0);\n",
       "  border: var(--sklearn-color-fitted-level-3);\n",
       "}\n",
       "\n",
       ".sk-estimator-doc-link:hover span {\n",
       "  display: block;\n",
       "}\n",
       "\n",
       "/* \"?\"-specific style due to the `<a>` HTML tag */\n",
       "\n",
       "#sk-container-id-1 a.estimator_doc_link {\n",
       "  float: right;\n",
       "  font-size: 1rem;\n",
       "  line-height: 1em;\n",
       "  font-family: monospace;\n",
       "  background-color: var(--sklearn-color-background);\n",
       "  border-radius: 1rem;\n",
       "  height: 1rem;\n",
       "  width: 1rem;\n",
       "  text-decoration: none;\n",
       "  /* unfitted */\n",
       "  color: var(--sklearn-color-unfitted-level-1);\n",
       "  border: var(--sklearn-color-unfitted-level-1) 1pt solid;\n",
       "}\n",
       "\n",
       "#sk-container-id-1 a.estimator_doc_link.fitted {\n",
       "  /* fitted */\n",
       "  border: var(--sklearn-color-fitted-level-1) 1pt solid;\n",
       "  color: var(--sklearn-color-fitted-level-1);\n",
       "}\n",
       "\n",
       "/* On hover */\n",
       "#sk-container-id-1 a.estimator_doc_link:hover {\n",
       "  /* unfitted */\n",
       "  background-color: var(--sklearn-color-unfitted-level-3);\n",
       "  color: var(--sklearn-color-background);\n",
       "  text-decoration: none;\n",
       "}\n",
       "\n",
       "#sk-container-id-1 a.estimator_doc_link.fitted:hover {\n",
       "  /* fitted */\n",
       "  background-color: var(--sklearn-color-fitted-level-3);\n",
       "}\n",
       "</style><div id=\"sk-container-id-1\" class=\"sk-top-container\"><div class=\"sk-text-repr-fallback\"><pre>RandomForestClassifier(n_jobs=-1)</pre><b>In a Jupyter environment, please rerun this cell to show the HTML representation or trust the notebook. <br />On GitHub, the HTML representation is unable to render, please try loading this page with nbviewer.org.</b></div><div class=\"sk-container\" hidden><div class=\"sk-item\"><div class=\"sk-estimator fitted sk-toggleable\"><input class=\"sk-toggleable__control sk-hidden--visually\" id=\"sk-estimator-id-1\" type=\"checkbox\" checked><label for=\"sk-estimator-id-1\" class=\"sk-toggleable__label fitted sk-toggleable__label-arrow fitted\">&nbsp;&nbsp;RandomForestClassifier<a class=\"sk-estimator-doc-link fitted\" rel=\"noreferrer\" target=\"_blank\" href=\"https://scikit-learn.org/1.5/modules/generated/sklearn.ensemble.RandomForestClassifier.html\">?<span>Documentation for RandomForestClassifier</span></a><span class=\"sk-estimator-doc-link fitted\">i<span>Fitted</span></span></label><div class=\"sk-toggleable__content fitted\"><pre>RandomForestClassifier(n_jobs=-1)</pre></div> </div></div></div></div>"
      ],
      "text/plain": [
       "RandomForestClassifier(n_jobs=-1)"
      ]
     },
     "execution_count": 26,
     "metadata": {},
     "output_type": "execute_result"
    }
   ],
   "source": [
    "# Train the RandomForestClassifier model using the training data (X_train and y_train).\n",
    "# The model learns to predict the target variable \"Survived\" based on the features provided.\n",
    "\n",
    "model.fit(X_train, y_train)"
   ]
  },
  {
   "cell_type": "code",
   "execution_count": 27,
   "metadata": {},
   "outputs": [
    {
     "data": {
      "text/plain": [
       "0.8547486033519553"
      ]
     },
     "execution_count": 27,
     "metadata": {},
     "output_type": "execute_result"
    }
   ],
   "source": [
    "# Evaluate the trained RandomForestClassifier model on the test data (X_test and y_test).\n",
    "# This returns the accuracy of the model, representing the proportion of correctly classified samples.\n",
    "\n",
    "model.score(X_test, y_test)"
   ]
  },
  {
   "cell_type": "code",
   "execution_count": 28,
   "metadata": {},
   "outputs": [],
   "source": [
    "# Import matplotlib's pyplot module as plt for creating static, interactive, and animated visualizations.\n",
    "# This module provides functions to generate various types of plots and charts.\n",
    "\n",
    "import matplotlib.pyplot as plt"
   ]
  },
  {
   "cell_type": "code",
   "execution_count": 29,
   "metadata": {},
   "outputs": [
    {
     "data": {
      "text/plain": [
       "{'PassengerId': np.float64(0.22902985094455428),\n",
       " 'Age': np.float64(0.16224685019149165),\n",
       " 'Sex': np.float64(0.12173489735919478),\n",
       " 'Title_Mr': np.float64(0.10788984935293393),\n",
       " 'Pclass': np.float64(0.08622164496046807),\n",
       " 'TicketGroupSize': np.float64(0.05859713834540956),\n",
       " 'FamilySize': np.float64(0.048363835789047176),\n",
       " 'Title_Miss': np.float64(0.035068093081752696),\n",
       " 'Fare': np.float64(0.03414286486511552),\n",
       " 'Title_Mrs': np.float64(0.028992472509820483),\n",
       " 'AgeGroup': np.float64(0.01869419544941183),\n",
       " 'EmbarkedAt_S': np.float64(0.015450526257223363),\n",
       " 'EmbarkedAt_C': np.float64(0.01298603807016171),\n",
       " 'isAlone': np.float64(0.012478273984713845),\n",
       " 'EmbarkedAt_Q': np.float64(0.008709853657789264),\n",
       " 'Title_Master': np.float64(0.0076747784228277825),\n",
       " 'Title_Dr': np.float64(0.003105647656636929),\n",
       " 'Title_Rev': np.float64(0.002557867988751098),\n",
       " 'Title_Col': np.float64(0.0013226073336524088),\n",
       " 'Title_Don': np.float64(0.0012926592743606467),\n",
       " 'Title_Major': np.float64(0.0009966127240022674),\n",
       " 'Title_Capt': np.float64(0.0007286169642062569),\n",
       " 'Title_Jonkheer': np.float64(0.0004963903309834293),\n",
       " 'Title_Sir': np.float64(0.0003142818061339528),\n",
       " 'Title_Lady': np.float64(0.0002910291918183541),\n",
       " 'Title_Ms': np.float64(0.00019277152577861677),\n",
       " 'Title_Mlle': np.float64(0.00015372283195981578),\n",
       " 'Title_Mme': np.float64(0.0001380140363908715),\n",
       " 'Title_the Countess': np.float64(0.00012861509340955177)}"
      ]
     },
     "execution_count": 29,
     "metadata": {},
     "output_type": "execute_result"
    }
   ],
   "source": [
    "# Extract feature importances from the trained RandomForestClassifier model.\n",
    "# feature_importances contains the importance scores for each feature, \n",
    "# and feature_names contains the names of the features.\n",
    "\n",
    "feature_importances = model.feature_importances_\n",
    "feature_names = model.feature_names_in_\n",
    "\n",
    "# Combine feature names and their corresponding importance scores into a dictionary,\n",
    "# then sort the dictionary by importance scores in descending order.\n",
    "\n",
    "sorted_importances = dict(\n",
    "    sorted(\n",
    "        zip(feature_names, feature_importances),\n",
    "        key=lambda x: x[1],\n",
    "        reverse=True\n",
    "    )\n",
    ")\n",
    "\n",
    "# Display the sorted feature importances.\n",
    "sorted_importances"
   ]
  },
  {
   "cell_type": "code",
   "execution_count": 30,
   "metadata": {},
   "outputs": [
    {
     "data": {
      "image/png": "[encoded data removed]",
      "text/plain": [
       "<Figure size 1000x600 with 1 Axes>"
      ]
     },
     "metadata": {},
     "output_type": "display_data"
    }
   ],
   "source": [
    "# Create a bar chart to visualize the feature importances.\n",
    "# The plot shows the importance scores of features in descending order.\n",
    "\n",
    "plt.figure(figsize=(10, 6))  # Set the figure size for the plot.\n",
    "\n",
    "# Plot the bar chart with feature names on the x-axis and their importance scores on the y-axis.\n",
    "plt.bar(sorted_importances.keys(), sorted_importances.values(), color='steelblue', edgecolor='black')\n",
    "\n",
    "# Set the title and labels with appropriate fonts and sizes.\n",
    "plt.title('Feature Importances', fontsize=16, fontweight='bold')\n",
    "plt.xlabel('Features', fontsize=12)\n",
    "plt.ylabel('Importance Score', fontsize=12)\n",
    "\n",
    "# Rotate x-axis labels for better readability and adjust font size.\n",
    "plt.xticks(rotation=90, ha='right', fontsize=10)\n",
    "\n",
    "# Adjust layout to prevent clipping of labels and add a grid to the y-axis.\n",
    "plt.tight_layout()\n",
    "plt.grid(axis='y', linestyle='--', alpha=0.6)\n",
    "\n",
    "# Display the plot.\n",
    "plt.show()"
   ]
  },
  {
   "cell_type": "markdown",
   "metadata": {},
   "source": [
    "## Enhancing Model Performance"
   ]
  },
  {
   "cell_type": "code",
   "execution_count": 31,
   "metadata": {},
   "outputs": [],
   "source": [
    "# Import the Optuna library for hyperparameter optimization and automated machine learning.\n",
    "import optuna\n",
    "\n",
    "# Import cross_val_score from sklearn.model_selection to evaluate the model using cross-validation.\n",
    "# This function helps in assessing the model's performance and generalization ability across different subsets of the data.\n",
    "from sklearn.model_selection import cross_val_score"
   ]
  },
  {
   "cell_type": "code",
   "execution_count": 32,
   "metadata": {},
   "outputs": [],
   "source": [
    "def objective(trial: optuna.Trial) -> float:\n",
    "    # Suggest hyperparameters for the RandomForestClassifier using the Optuna trial object.\n",
    "    n_estimators = trial.suggest_int(\"n_estimators\", 100, 700)  # Number of trees in the forest.\n",
    "    max_depth = trial.suggest_int(\"max_depth\", 2, 32)            # Maximum depth of each tree.\n",
    "    min_samples_split = trial.suggest_int(\"min_samples_split\", 2, 32)  # Minimum number of samples required to split an internal node.\n",
    "    min_samples_leaf = trial.suggest_int(\"min_samples_leaf\", 1, 32)    # Minimum number of samples required to be at a leaf node.\n",
    "\n",
    "    # Initialize the RandomForestClassifier with suggested hyperparameters.\n",
    "    model = RandomForestClassifier(\n",
    "        n_estimators=n_estimators,\n",
    "        max_depth=max_depth,\n",
    "        min_samples_split=min_samples_split,\n",
    "        min_samples_leaf=min_samples_leaf,\n",
    "        n_jobs=-1,        # Use all available CPU cores.\n",
    "        random_state=42   # Set random seed for reproducibility.\n",
    "    )\n",
    "\n",
    "    # Evaluate the model using cross-validation with 5 folds.\n",
    "    # Calculate the accuracy score for each fold.\n",
    "    score: list[float] = cross_val_score(model, X_train, y_train, n_jobs=-1, cv=5, scoring=\"accuracy\")\n",
    "\n",
    "    # Compute the mean accuracy score across all folds.\n",
    "    mean_score = score.mean()\n",
    "\n",
    "    # Return the mean accuracy score as the objective value for Optuna optimization.\n",
    "    return mean_score"
   ]
  },
  {
   "cell_type": "code",
   "execution_count": 33,
   "metadata": {},
   "outputs": [
    {
     "name": "stderr",
     "output_type": "stream",
     "text": [
      "[I 2024-09-08 20:30:04,070] A new study created in memory with name: no-name-6e9bdb7e-318a-461b-a3b9-6342f6f1b6c5\n"
     ]
    }
   ],
   "source": [
    "# Create an Optuna study for hyperparameter optimization.\n",
    "# The study aims to maximize the objective function's value, using a random sampling strategy for trial generation.\n",
    "\n",
    "study = optuna.create_study(direction=\"maximize\", sampler=optuna.samplers.RandomSampler())"
   ]
  },
  {
   "cell_type": "code",
   "execution_count": 34,
   "metadata": {},
   "outputs": [
    {
     "name": "stderr",
     "output_type": "stream",
     "text": [
      "[I 2024-09-08 20:30:10,682] Trial 0 finished with value: 0.7977248104008667 and parameters: {'n_estimators': 155, 'max_depth': 8, 'min_samples_split': 2, 'min_samples_leaf': 20}. Best is trial 0 with value: 0.7977248104008667.\n",
      "[I 2024-09-08 20:30:14,075] Trial 1 finished with value: 0.7920811582783414 and parameters: {'n_estimators': 577, 'max_depth': 22, 'min_samples_split': 20, 'min_samples_leaf': 23}. Best is trial 0 with value: 0.7977248104008667.\n",
      "[I 2024-09-08 20:30:16,955] Trial 2 finished with value: 0.7977248104008667 and parameters: {'n_estimators': 508, 'max_depth': 3, 'min_samples_split': 15, 'min_samples_leaf': 15}. Best is trial 0 with value: 0.7977248104008667.\n",
      "[I 2024-09-08 20:30:20,240] Trial 3 finished with value: 0.8202009258347287 and parameters: {'n_estimators': 513, 'max_depth': 5, 'min_samples_split': 6, 'min_samples_leaf': 4}. Best is trial 3 with value: 0.8202009258347287.\n",
      "[I 2024-09-08 20:30:20,959] Trial 4 finished with value: 0.8117502216093765 and parameters: {'n_estimators': 107, 'max_depth': 22, 'min_samples_split': 10, 'min_samples_leaf': 4}. Best is trial 3 with value: 0.8202009258347287.\n",
      "[I 2024-09-08 20:30:21,764] Trial 5 finished with value: 0.7892741061755146 and parameters: {'n_estimators': 131, 'max_depth': 17, 'min_samples_split': 9, 'min_samples_leaf': 28}. Best is trial 3 with value: 0.8202009258347287.\n",
      "[I 2024-09-08 20:30:24,094] Trial 6 finished with value: 0.810381168127647 and parameters: {'n_estimators': 396, 'max_depth': 30, 'min_samples_split': 28, 'min_samples_leaf': 12}. Best is trial 3 with value: 0.8202009258347287.\n",
      "[I 2024-09-08 20:30:28,075] Trial 7 finished with value: 0.801950162513543 and parameters: {'n_estimators': 692, 'max_depth': 18, 'min_samples_split': 20, 'min_samples_leaf': 17}. Best is trial 3 with value: 0.8202009258347287.\n",
      "[I 2024-09-08 20:30:28,809] Trial 8 finished with value: 0.8103516202107752 and parameters: {'n_estimators': 110, 'max_depth': 19, 'min_samples_split': 5, 'min_samples_leaf': 5}. Best is trial 3 with value: 0.8202009258347287.\n",
      "[I 2024-09-08 20:30:30,581] Trial 9 finished with value: 0.813148823007978 and parameters: {'n_estimators': 222, 'max_depth': 7, 'min_samples_split': 11, 'min_samples_leaf': 1}. Best is trial 3 with value: 0.8202009258347287.\n",
      "[I 2024-09-08 20:30:33,642] Trial 10 finished with value: 0.8047572146163695 and parameters: {'n_estimators': 447, 'max_depth': 3, 'min_samples_split': 9, 'min_samples_leaf': 6}. Best is trial 3 with value: 0.8202009258347287.\n",
      "[I 2024-09-08 20:30:35,112] Trial 11 finished with value: 0.7977051117896188 and parameters: {'n_estimators': 181, 'max_depth': 20, 'min_samples_split': 23, 'min_samples_leaf': 21}. Best is trial 3 with value: 0.8202009258347287.\n",
      "[I 2024-09-08 20:30:38,078] Trial 12 finished with value: 0.79068255687974 and parameters: {'n_estimators': 516, 'max_depth': 9, 'min_samples_split': 11, 'min_samples_leaf': 25}. Best is trial 3 with value: 0.8202009258347287.\n",
      "[I 2024-09-08 20:30:41,085] Trial 13 finished with value: 0.8216093765389539 and parameters: {'n_estimators': 368, 'max_depth': 28, 'min_samples_split': 9, 'min_samples_leaf': 5}. Best is trial 13 with value: 0.8216093765389539.\n",
      "[I 2024-09-08 20:30:43,318] Trial 14 finished with value: 0.8061656653205949 and parameters: {'n_estimators': 298, 'max_depth': 22, 'min_samples_split': 8, 'min_samples_leaf': 14}. Best is trial 13 with value: 0.8216093765389539.\n",
      "[I 2024-09-08 20:30:45,899] Trial 15 finished with value: 0.7892741061755146 and parameters: {'n_estimators': 383, 'max_depth': 2, 'min_samples_split': 31, 'min_samples_leaf': 16}. Best is trial 13 with value: 0.8216093765389539.\n",
      "[I 2024-09-08 20:30:46,627] Trial 16 finished with value: 0.8131685216192258 and parameters: {'n_estimators': 112, 'max_depth': 10, 'min_samples_split': 29, 'min_samples_leaf': 9}. Best is trial 13 with value: 0.8216093765389539.\n",
      "[I 2024-09-08 20:30:50,104] Trial 17 finished with value: 0.8173840244262781 and parameters: {'n_estimators': 584, 'max_depth': 16, 'min_samples_split': 21, 'min_samples_leaf': 7}. Best is trial 13 with value: 0.8216093765389539.\n",
      "[I 2024-09-08 20:30:53,498] Trial 18 finished with value: 0.7878853540825371 and parameters: {'n_estimators': 577, 'max_depth': 7, 'min_samples_split': 9, 'min_samples_leaf': 32}. Best is trial 13 with value: 0.8216093765389539.\n",
      "[I 2024-09-08 20:30:56,483] Trial 19 finished with value: 0.7878755047769131 and parameters: {'n_estimators': 462, 'max_depth': 29, 'min_samples_split': 15, 'min_samples_leaf': 30}. Best is trial 13 with value: 0.8216093765389539.\n",
      "[I 2024-09-08 20:30:57,907] Trial 20 finished with value: 0.8019501625135428 and parameters: {'n_estimators': 218, 'max_depth': 21, 'min_samples_split': 5, 'min_samples_leaf': 17}. Best is trial 13 with value: 0.8216093765389539.\n",
      "[I 2024-09-08 20:31:00,925] Trial 21 finished with value: 0.8005417118093174 and parameters: {'n_estimators': 505, 'max_depth': 27, 'min_samples_split': 17, 'min_samples_leaf': 18}. Best is trial 13 with value: 0.8216093765389539.\n",
      "[I 2024-09-08 20:31:03,741] Trial 22 finished with value: 0.7920811582783414 and parameters: {'n_estimators': 476, 'max_depth': 18, 'min_samples_split': 25, 'min_samples_leaf': 23}. Best is trial 13 with value: 0.8216093765389539.\n",
      "[I 2024-09-08 20:31:07,701] Trial 23 finished with value: 0.8173840244262779 and parameters: {'n_estimators': 642, 'max_depth': 9, 'min_samples_split': 13, 'min_samples_leaf': 2}. Best is trial 13 with value: 0.8216093765389539.\n",
      "[I 2024-09-08 20:31:08,798] Trial 24 finished with value: 0.8173840244262781 and parameters: {'n_estimators': 158, 'max_depth': 31, 'min_samples_split': 12, 'min_samples_leaf': 7}. Best is trial 13 with value: 0.8216093765389539.\n",
      "[I 2024-09-08 20:31:11,591] Trial 25 finished with value: 0.8145769723234514 and parameters: {'n_estimators': 425, 'max_depth': 14, 'min_samples_split': 14, 'min_samples_leaf': 4}. Best is trial 13 with value: 0.8216093765389539.\n",
      "[I 2024-09-08 20:31:15,236] Trial 26 finished with value: 0.8061656653205949 and parameters: {'n_estimators': 602, 'max_depth': 11, 'min_samples_split': 2, 'min_samples_leaf': 15}. Best is trial 13 with value: 0.8216093765389539.\n",
      "[I 2024-09-08 20:31:18,206] Trial 27 finished with value: 0.8075544174135724 and parameters: {'n_estimators': 490, 'max_depth': 30, 'min_samples_split': 4, 'min_samples_leaf': 11}. Best is trial 13 with value: 0.8216093765389539.\n",
      "[I 2024-09-08 20:31:21,729] Trial 28 finished with value: 0.8173840244262779 and parameters: {'n_estimators': 578, 'max_depth': 7, 'min_samples_split': 27, 'min_samples_leaf': 7}. Best is trial 13 with value: 0.8216093765389539.\n",
      "[I 2024-09-08 20:31:23,736] Trial 29 finished with value: 0.79068255687974 and parameters: {'n_estimators': 326, 'max_depth': 15, 'min_samples_split': 9, 'min_samples_leaf': 29}. Best is trial 13 with value: 0.8216093765389539.\n",
      "[I 2024-09-08 20:31:24,731] Trial 30 finished with value: 0.79068255687974 and parameters: {'n_estimators': 153, 'max_depth': 24, 'min_samples_split': 4, 'min_samples_leaf': 26}. Best is trial 13 with value: 0.8216093765389539.\n",
      "[I 2024-09-08 20:31:28,651] Trial 31 finished with value: 0.8131783709248499 and parameters: {'n_estimators': 641, 'max_depth': 18, 'min_samples_split': 26, 'min_samples_leaf': 8}. Best is trial 13 with value: 0.8216093765389539.\n",
      "[I 2024-09-08 20:31:29,476] Trial 32 finished with value: 0.7892741061755146 and parameters: {'n_estimators': 124, 'max_depth': 26, 'min_samples_split': 7, 'min_samples_leaf': 29}. Best is trial 13 with value: 0.8216093765389539.\n",
      "[I 2024-09-08 20:31:32,338] Trial 33 finished with value: 0.8117600709150006 and parameters: {'n_estimators': 430, 'max_depth': 31, 'min_samples_split': 28, 'min_samples_leaf': 1}. Best is trial 13 with value: 0.8216093765389539.\n",
      "[I 2024-09-08 20:31:35,412] Trial 34 finished with value: 0.8089628681177977 and parameters: {'n_estimators': 468, 'max_depth': 11, 'min_samples_split': 15, 'min_samples_leaf': 10}. Best is trial 13 with value: 0.8216093765389539.\n",
      "[I 2024-09-08 20:31:38,509] Trial 35 finished with value: 0.8047670639219936 and parameters: {'n_estimators': 513, 'max_depth': 3, 'min_samples_split': 3, 'min_samples_leaf': 12}. Best is trial 13 with value: 0.8216093765389539.\n",
      "[I 2024-09-08 20:31:41,432] Trial 36 finished with value: 0.8075642667191965 and parameters: {'n_estimators': 453, 'max_depth': 8, 'min_samples_split': 26, 'min_samples_leaf': 11}. Best is trial 13 with value: 0.8216093765389539.\n",
      "[I 2024-09-08 20:31:42,711] Trial 37 finished with value: 0.8201910765291048 and parameters: {'n_estimators': 187, 'max_depth': 25, 'min_samples_split': 25, 'min_samples_leaf': 5}. Best is trial 13 with value: 0.8216093765389539.\n",
      "[I 2024-09-08 20:31:46,291] Trial 38 finished with value: 0.7963163596966414 and parameters: {'n_estimators': 601, 'max_depth': 3, 'min_samples_split': 6, 'min_samples_leaf': 18}. Best is trial 13 with value: 0.8216093765389539.\n",
      "[I 2024-09-08 20:31:48,647] Trial 39 finished with value: 0.8061656653205949 and parameters: {'n_estimators': 360, 'max_depth': 21, 'min_samples_split': 15, 'min_samples_leaf': 13}. Best is trial 13 with value: 0.8216093765389539.\n",
      "[I 2024-09-08 20:31:50,219] Trial 40 finished with value: 0.8061656653205949 and parameters: {'n_estimators': 246, 'max_depth': 21, 'min_samples_split': 7, 'min_samples_leaf': 14}. Best is trial 13 with value: 0.8216093765389539.\n",
      "[I 2024-09-08 20:31:52,826] Trial 41 finished with value: 0.7934896089825668 and parameters: {'n_estimators': 359, 'max_depth': 12, 'min_samples_split': 16, 'min_samples_leaf': 21}. Best is trial 13 with value: 0.8216093765389539.\n",
      "[I 2024-09-08 20:31:58,249] Trial 42 finished with value: 0.79068255687974 and parameters: {'n_estimators': 666, 'max_depth': 8, 'min_samples_split': 31, 'min_samples_leaf': 27}. Best is trial 13 with value: 0.8216093765389539.\n",
      "[I 2024-09-08 20:32:02,665] Trial 43 finished with value: 0.8005417118093174 and parameters: {'n_estimators': 537, 'max_depth': 9, 'min_samples_split': 4, 'min_samples_leaf': 18}. Best is trial 13 with value: 0.8216093765389539.\n",
      "[I 2024-09-08 20:32:06,091] Trial 44 finished with value: 0.8047572146163695 and parameters: {'n_estimators': 532, 'max_depth': 22, 'min_samples_split': 20, 'min_samples_leaf': 15}. Best is trial 13 with value: 0.8216093765389539.\n",
      "[I 2024-09-08 20:32:08,913] Trial 45 finished with value: 0.7878853540825371 and parameters: {'n_estimators': 446, 'max_depth': 15, 'min_samples_split': 23, 'min_samples_leaf': 32}. Best is trial 13 with value: 0.8216093765389539.\n",
      "[I 2024-09-08 20:32:12,210] Trial 46 finished with value: 0.7892839554811386 and parameters: {'n_estimators': 514, 'max_depth': 3, 'min_samples_split': 27, 'min_samples_leaf': 28}. Best is trial 13 with value: 0.8216093765389539.\n",
      "[I 2024-09-08 20:32:13,935] Trial 47 finished with value: 0.7892741061755146 and parameters: {'n_estimators': 271, 'max_depth': 12, 'min_samples_split': 13, 'min_samples_leaf': 26}. Best is trial 13 with value: 0.8216093765389539.\n",
      "[I 2024-09-08 20:32:17,269] Trial 48 finished with value: 0.79068255687974 and parameters: {'n_estimators': 540, 'max_depth': 26, 'min_samples_split': 2, 'min_samples_leaf': 26}. Best is trial 13 with value: 0.8216093765389539.\n",
      "[I 2024-09-08 20:32:19,664] Trial 49 finished with value: 0.8047670639219936 and parameters: {'n_estimators': 366, 'max_depth': 18, 'min_samples_split': 30, 'min_samples_leaf': 15}. Best is trial 13 with value: 0.8216093765389539.\n",
      "[I 2024-09-08 20:32:23,695] Trial 50 finished with value: 0.8061656653205949 and parameters: {'n_estimators': 637, 'max_depth': 19, 'min_samples_split': 14, 'min_samples_leaf': 12}. Best is trial 13 with value: 0.8216093765389539.\n",
      "[I 2024-09-08 20:32:27,987] Trial 51 finished with value: 0.8061656653205949 and parameters: {'n_estimators': 683, 'max_depth': 32, 'min_samples_split': 13, 'min_samples_leaf': 15}. Best is trial 13 with value: 0.8216093765389539.\n",
      "[I 2024-09-08 20:32:30,129] Trial 52 finished with value: 0.810381168127647 and parameters: {'n_estimators': 287, 'max_depth': 9, 'min_samples_split': 27, 'min_samples_leaf': 12}. Best is trial 13 with value: 0.8216093765389539.\n",
      "[I 2024-09-08 20:32:33,751] Trial 53 finished with value: 0.8159755737220526 and parameters: {'n_estimators': 541, 'max_depth': 19, 'min_samples_split': 9, 'min_samples_leaf': 2}. Best is trial 13 with value: 0.8216093765389539.\n",
      "[I 2024-09-08 20:32:35,379] Trial 54 finished with value: 0.7892839554811386 and parameters: {'n_estimators': 246, 'max_depth': 18, 'min_samples_split': 24, 'min_samples_leaf': 32}. Best is trial 13 with value: 0.8216093765389539.\n",
      "[I 2024-09-08 20:32:37,706] Trial 55 finished with value: 0.817393873731902 and parameters: {'n_estimators': 347, 'max_depth': 12, 'min_samples_split': 21, 'min_samples_leaf': 1}. Best is trial 13 with value: 0.8216093765389539.\n",
      "[I 2024-09-08 20:32:40,589] Trial 56 finished with value: 0.7920811582783414 and parameters: {'n_estimators': 451, 'max_depth': 17, 'min_samples_split': 12, 'min_samples_leaf': 24}. Best is trial 13 with value: 0.8216093765389539.\n",
      "[I 2024-09-08 20:32:45,073] Trial 57 finished with value: 0.8131685216192259 and parameters: {'n_estimators': 691, 'max_depth': 28, 'min_samples_split': 20, 'min_samples_leaf': 9}. Best is trial 13 with value: 0.8216093765389539.\n",
      "[I 2024-09-08 20:32:46,280] Trial 58 finished with value: 0.7892741061755146 and parameters: {'n_estimators': 179, 'max_depth': 32, 'min_samples_split': 10, 'min_samples_leaf': 29}. Best is trial 13 with value: 0.8216093765389539.\n",
      "[I 2024-09-08 20:32:47,839] Trial 59 finished with value: 0.8047572146163695 and parameters: {'n_estimators': 235, 'max_depth': 4, 'min_samples_split': 5, 'min_samples_leaf': 11}. Best is trial 13 with value: 0.8216093765389539.\n",
      "[I 2024-09-08 20:32:49,457] Trial 60 finished with value: 0.8187727765192555 and parameters: {'n_estimators': 235, 'max_depth': 10, 'min_samples_split': 12, 'min_samples_leaf': 3}. Best is trial 13 with value: 0.8216093765389539.\n",
      "[I 2024-09-08 20:32:52,775] Trial 61 finished with value: 0.810371318822023 and parameters: {'n_estimators': 516, 'max_depth': 12, 'min_samples_split': 6, 'min_samples_leaf': 11}. Best is trial 13 with value: 0.8216093765389539.\n",
      "[I 2024-09-08 20:32:55,958] Trial 62 finished with value: 0.7892839554811386 and parameters: {'n_estimators': 512, 'max_depth': 3, 'min_samples_split': 9, 'min_samples_leaf': 28}. Best is trial 13 with value: 0.8216093765389539.\n",
      "[I 2024-09-08 20:32:57,208] Trial 63 finished with value: 0.8131685216192259 and parameters: {'n_estimators': 172, 'max_depth': 30, 'min_samples_split': 3, 'min_samples_leaf': 3}. Best is trial 13 with value: 0.8216093765389539.\n",
      "[I 2024-09-08 20:33:01,188] Trial 64 finished with value: 0.8061656653205949 and parameters: {'n_estimators': 614, 'max_depth': 32, 'min_samples_split': 5, 'min_samples_leaf': 15}. Best is trial 13 with value: 0.8216093765389539.\n",
      "[I 2024-09-08 20:33:02,752] Trial 65 finished with value: 0.7934896089825668 and parameters: {'n_estimators': 216, 'max_depth': 8, 'min_samples_split': 26, 'min_samples_leaf': 24}. Best is trial 13 with value: 0.8216093765389539.\n",
      "[I 2024-09-08 20:33:05,669] Trial 66 finished with value: 0.7878755047769131 and parameters: {'n_estimators': 452, 'max_depth': 29, 'min_samples_split': 8, 'min_samples_leaf': 30}. Best is trial 13 with value: 0.8216093765389539.\n",
      "[I 2024-09-08 20:33:07,420] Trial 67 finished with value: 0.8061656653205949 and parameters: {'n_estimators': 261, 'max_depth': 10, 'min_samples_split': 28, 'min_samples_leaf': 13}. Best is trial 13 with value: 0.8216093765389539.\n",
      "[I 2024-09-08 20:33:11,582] Trial 68 finished with value: 0.7934896089825668 and parameters: {'n_estimators': 683, 'max_depth': 6, 'min_samples_split': 27, 'min_samples_leaf': 23}. Best is trial 13 with value: 0.8216093765389539.\n",
      "[I 2024-09-08 20:33:14,435] Trial 69 finished with value: 0.8173840244262779 and parameters: {'n_estimators': 441, 'max_depth': 18, 'min_samples_split': 11, 'min_samples_leaf': 6}. Best is trial 13 with value: 0.8216093765389539.\n",
      "[I 2024-09-08 20:33:15,565] Trial 70 finished with value: 0.8075544174135724 and parameters: {'n_estimators': 153, 'max_depth': 13, 'min_samples_split': 6, 'min_samples_leaf': 2}. Best is trial 13 with value: 0.8216093765389539.\n",
      "[I 2024-09-08 20:33:17,023] Trial 71 finished with value: 0.7977248104008667 and parameters: {'n_estimators': 179, 'max_depth': 3, 'min_samples_split': 19, 'min_samples_leaf': 18}. Best is trial 13 with value: 0.8216093765389539.\n",
      "[I 2024-09-08 20:33:20,093] Trial 72 finished with value: 0.7963163596966414 and parameters: {'n_estimators': 495, 'max_depth': 3, 'min_samples_split': 25, 'min_samples_leaf': 18}. Best is trial 13 with value: 0.8216093765389539.\n",
      "[I 2024-09-08 20:33:22,711] Trial 73 finished with value: 0.8033586132177681 and parameters: {'n_estimators': 419, 'max_depth': 13, 'min_samples_split': 26, 'min_samples_leaf': 16}. Best is trial 13 with value: 0.8216093765389539.\n",
      "[I 2024-09-08 20:33:25,617] Trial 74 finished with value: 0.801950162513543 and parameters: {'n_estimators': 454, 'max_depth': 20, 'min_samples_split': 16, 'min_samples_leaf': 16}. Best is trial 13 with value: 0.8216093765389539.\n",
      "[I 2024-09-08 20:33:28,957] Trial 75 finished with value: 0.810371318822023 and parameters: {'n_estimators': 522, 'max_depth': 14, 'min_samples_split': 19, 'min_samples_leaf': 10}. Best is trial 13 with value: 0.8216093765389539.\n",
      "[I 2024-09-08 20:33:30,762] Trial 76 finished with value: 0.7892839554811386 and parameters: {'n_estimators': 282, 'max_depth': 31, 'min_samples_split': 10, 'min_samples_leaf': 31}. Best is trial 13 with value: 0.8216093765389539.\n",
      "[I 2024-09-08 20:33:33,959] Trial 77 finished with value: 0.79068255687974 and parameters: {'n_estimators': 495, 'max_depth': 21, 'min_samples_split': 20, 'min_samples_leaf': 25}. Best is trial 13 with value: 0.8216093765389539.\n",
      "[I 2024-09-08 20:33:36,078] Trial 78 finished with value: 0.79068255687974 and parameters: {'n_estimators': 302, 'max_depth': 7, 'min_samples_split': 17, 'min_samples_leaf': 27}. Best is trial 13 with value: 0.8216093765389539.\n",
      "[I 2024-09-08 20:33:40,131] Trial 79 finished with value: 0.79068255687974 and parameters: {'n_estimators': 657, 'max_depth': 29, 'min_samples_split': 5, 'min_samples_leaf': 24}. Best is trial 13 with value: 0.8216093765389539.\n",
      "[I 2024-09-08 20:33:43,276] Trial 80 finished with value: 0.8047572146163695 and parameters: {'n_estimators': 500, 'max_depth': 25, 'min_samples_split': 23, 'min_samples_leaf': 15}. Best is trial 13 with value: 0.8216093765389539.\n",
      "[I 2024-09-08 20:33:44,944] Trial 81 finished with value: 0.8019501625135428 and parameters: {'n_estimators': 249, 'max_depth': 7, 'min_samples_split': 13, 'min_samples_leaf': 16}. Best is trial 13 with value: 0.8216093765389539.\n",
      "[I 2024-09-08 20:33:47,414] Trial 82 finished with value: 0.8173840244262781 and parameters: {'n_estimators': 368, 'max_depth': 22, 'min_samples_split': 24, 'min_samples_leaf': 2}. Best is trial 13 with value: 0.8216093765389539.\n",
      "[I 2024-09-08 20:33:49,663] Trial 83 finished with value: 0.7977248104008667 and parameters: {'n_estimators': 334, 'max_depth': 23, 'min_samples_split': 15, 'min_samples_leaf': 18}. Best is trial 13 with value: 0.8216093765389539.\n",
      "[I 2024-09-08 20:33:51,822] Trial 84 finished with value: 0.7920910075839653 and parameters: {'n_estimators': 329, 'max_depth': 12, 'min_samples_split': 11, 'min_samples_leaf': 23}. Best is trial 13 with value: 0.8216093765389539.\n",
      "[I 2024-09-08 20:33:55,241] Trial 85 finished with value: 0.8061656653205949 and parameters: {'n_estimators': 531, 'max_depth': 31, 'min_samples_split': 22, 'min_samples_leaf': 13}. Best is trial 13 with value: 0.8216093765389539.\n",
      "[I 2024-09-08 20:33:56,664] Trial 86 finished with value: 0.7920811582783414 and parameters: {'n_estimators': 210, 'max_depth': 26, 'min_samples_split': 26, 'min_samples_leaf': 22}. Best is trial 13 with value: 0.8216093765389539.\n",
      "[I 2024-09-08 20:33:59,341] Trial 87 finished with value: 0.79068255687974 and parameters: {'n_estimators': 424, 'max_depth': 19, 'min_samples_split': 6, 'min_samples_leaf': 27}. Best is trial 13 with value: 0.8216093765389539.\n",
      "[I 2024-09-08 20:34:03,093] Trial 88 finished with value: 0.7920910075839653 and parameters: {'n_estimators': 589, 'max_depth': 19, 'min_samples_split': 6, 'min_samples_leaf': 22}. Best is trial 13 with value: 0.8216093765389539.\n",
      "[I 2024-09-08 20:34:04,912] Trial 89 finished with value: 0.8145572737122034 and parameters: {'n_estimators': 231, 'max_depth': 26, 'min_samples_split': 17, 'min_samples_leaf': 1}. Best is trial 13 with value: 0.8216093765389539.\n",
      "[I 2024-09-08 20:34:08,349] Trial 90 finished with value: 0.817393873731902 and parameters: {'n_estimators': 516, 'max_depth': 21, 'min_samples_split': 19, 'min_samples_leaf': 8}. Best is trial 13 with value: 0.8216093765389539.\n",
      "[I 2024-09-08 20:34:11,221] Trial 91 finished with value: 0.8188023244361272 and parameters: {'n_estimators': 412, 'max_depth': 19, 'min_samples_split': 18, 'min_samples_leaf': 6}. Best is trial 13 with value: 0.8216093765389539.\n",
      "[I 2024-09-08 20:34:14,201] Trial 92 finished with value: 0.7878853540825371 and parameters: {'n_estimators': 479, 'max_depth': 31, 'min_samples_split': 14, 'min_samples_leaf': 32}. Best is trial 13 with value: 0.8216093765389539.\n",
      "[I 2024-09-08 20:34:18,112] Trial 93 finished with value: 0.79068255687974 and parameters: {'n_estimators': 631, 'max_depth': 18, 'min_samples_split': 30, 'min_samples_leaf': 25}. Best is trial 13 with value: 0.8216093765389539.\n",
      "[I 2024-09-08 20:34:20,598] Trial 94 finished with value: 0.8215995272333301 and parameters: {'n_estimators': 379, 'max_depth': 10, 'min_samples_split': 3, 'min_samples_leaf': 8}. Best is trial 13 with value: 0.8216093765389539.\n",
      "[I 2024-09-08 20:34:24,023] Trial 95 finished with value: 0.8159657244164287 and parameters: {'n_estimators': 530, 'max_depth': 29, 'min_samples_split': 11, 'min_samples_leaf': 9}. Best is trial 13 with value: 0.8216093765389539.\n",
      "[I 2024-09-08 20:34:25,643] Trial 96 finished with value: 0.7892741061755146 and parameters: {'n_estimators': 231, 'max_depth': 11, 'min_samples_split': 32, 'min_samples_leaf': 26}. Best is trial 13 with value: 0.8216093765389539.\n",
      "[I 2024-09-08 20:34:28,307] Trial 97 finished with value: 0.801950162513543 and parameters: {'n_estimators': 412, 'max_depth': 25, 'min_samples_split': 20, 'min_samples_leaf': 17}. Best is trial 13 with value: 0.8216093765389539.\n",
      "[I 2024-09-08 20:34:30,417] Trial 98 finished with value: 0.801950162513543 and parameters: {'n_estimators': 329, 'max_depth': 15, 'min_samples_split': 14, 'min_samples_leaf': 16}. Best is trial 13 with value: 0.8216093765389539.\n",
      "[I 2024-09-08 20:34:34,134] Trial 99 finished with value: 0.8061656653205949 and parameters: {'n_estimators': 598, 'max_depth': 32, 'min_samples_split': 5, 'min_samples_leaf': 15}. Best is trial 13 with value: 0.8216093765389539.\n",
      "[I 2024-09-08 20:34:35,002] Trial 100 finished with value: 0.8005220131980696 and parameters: {'n_estimators': 123, 'max_depth': 11, 'min_samples_split': 21, 'min_samples_leaf': 19}. Best is trial 13 with value: 0.8216093765389539.\n",
      "[I 2024-09-08 20:34:35,841] Trial 101 finished with value: 0.7977051117896188 and parameters: {'n_estimators': 116, 'max_depth': 7, 'min_samples_split': 14, 'min_samples_leaf': 21}. Best is trial 13 with value: 0.8216093765389539.\n",
      "[I 2024-09-08 20:34:39,320] Trial 102 finished with value: 0.8061656653205949 and parameters: {'n_estimators': 553, 'max_depth': 8, 'min_samples_split': 3, 'min_samples_leaf': 15}. Best is trial 13 with value: 0.8216093765389539.\n",
      "[I 2024-09-08 20:34:41,356] Trial 103 finished with value: 0.7892839554811386 and parameters: {'n_estimators': 321, 'max_depth': 28, 'min_samples_split': 21, 'min_samples_leaf': 32}. Best is trial 13 with value: 0.8216093765389539.\n",
      "[I 2024-09-08 20:34:45,335] Trial 104 finished with value: 0.7934896089825668 and parameters: {'n_estimators': 615, 'max_depth': 16, 'min_samples_split': 20, 'min_samples_leaf': 22}. Best is trial 13 with value: 0.8216093765389539.\n",
      "[I 2024-09-08 20:34:47,035] Trial 105 finished with value: 0.7878755047769131 and parameters: {'n_estimators': 257, 'max_depth': 6, 'min_samples_split': 21, 'min_samples_leaf': 30}. Best is trial 13 with value: 0.8216093765389539.\n",
      "[I 2024-09-08 20:34:48,284] Trial 106 finished with value: 0.8019501625135428 and parameters: {'n_estimators': 181, 'max_depth': 3, 'min_samples_split': 7, 'min_samples_leaf': 15}. Best is trial 13 with value: 0.8216093765389539.\n",
      "[I 2024-09-08 20:34:49,112] Trial 107 finished with value: 0.8103713188220232 and parameters: {'n_estimators': 111, 'max_depth': 31, 'min_samples_split': 4, 'min_samples_leaf': 12}. Best is trial 13 with value: 0.8216093765389539.\n",
      "[I 2024-09-08 20:34:52,355] Trial 108 finished with value: 0.801950162513543 and parameters: {'n_estimators': 506, 'max_depth': 8, 'min_samples_split': 18, 'min_samples_leaf': 17}. Best is trial 13 with value: 0.8216093765389539.\n",
      "[I 2024-09-08 20:34:56,211] Trial 109 finished with value: 0.8061656653205949 and parameters: {'n_estimators': 603, 'max_depth': 32, 'min_samples_split': 31, 'min_samples_leaf': 12}. Best is trial 13 with value: 0.8216093765389539.\n",
      "[I 2024-09-08 20:34:58,738] Trial 110 finished with value: 0.817393873731902 and parameters: {'n_estimators': 383, 'max_depth': 27, 'min_samples_split': 22, 'min_samples_leaf': 4}. Best is trial 13 with value: 0.8216093765389539.\n",
      "[I 2024-09-08 20:35:02,134] Trial 111 finished with value: 0.8201812272234807 and parameters: {'n_estimators': 491, 'max_depth': 18, 'min_samples_split': 7, 'min_samples_leaf': 3}. Best is trial 13 with value: 0.8216093765389539.\n",
      "[I 2024-09-08 20:35:03,142] Trial 112 finished with value: 0.7920910075839653 and parameters: {'n_estimators': 139, 'max_depth': 11, 'min_samples_split': 12, 'min_samples_leaf': 26}. Best is trial 13 with value: 0.8216093765389539.\n",
      "[I 2024-09-08 20:35:07,146] Trial 113 finished with value: 0.794907908992416 and parameters: {'n_estimators': 614, 'max_depth': 14, 'min_samples_split': 31, 'min_samples_leaf': 20}. Best is trial 13 with value: 0.8216093765389539.\n",
      "[I 2024-09-08 20:35:10,561] Trial 114 finished with value: 0.7878853540825371 and parameters: {'n_estimators': 551, 'max_depth': 26, 'min_samples_split': 27, 'min_samples_leaf': 30}. Best is trial 13 with value: 0.8216093765389539.\n",
      "[I 2024-09-08 20:35:13,608] Trial 115 finished with value: 0.8061656653205949 and parameters: {'n_estimators': 474, 'max_depth': 7, 'min_samples_split': 7, 'min_samples_leaf': 12}. Best is trial 13 with value: 0.8216093765389539.\n",
      "[I 2024-09-08 20:35:16,207] Trial 116 finished with value: 0.8089727174234216 and parameters: {'n_estimators': 401, 'max_depth': 26, 'min_samples_split': 32, 'min_samples_leaf': 10}. Best is trial 13 with value: 0.8216093765389539.\n",
      "[I 2024-09-08 20:35:18,045] Trial 117 finished with value: 0.8159755737220525 and parameters: {'n_estimators': 272, 'max_depth': 18, 'min_samples_split': 4, 'min_samples_leaf': 6}. Best is trial 13 with value: 0.8216093765389539.\n",
      "[I 2024-09-08 20:35:20,269] Trial 118 finished with value: 0.794907908992416 and parameters: {'n_estimators': 334, 'max_depth': 2, 'min_samples_split': 24, 'min_samples_leaf': 6}. Best is trial 13 with value: 0.8216093765389539.\n",
      "[I 2024-09-08 20:35:22,650] Trial 119 finished with value: 0.8061656653205949 and parameters: {'n_estimators': 369, 'max_depth': 9, 'min_samples_split': 5, 'min_samples_leaf': 13}. Best is trial 13 with value: 0.8216093765389539.\n",
      "[I 2024-09-08 20:35:25,072] Trial 120 finished with value: 0.8047572146163695 and parameters: {'n_estimators': 388, 'max_depth': 3, 'min_samples_split': 11, 'min_samples_leaf': 4}. Best is trial 13 with value: 0.8216093765389539.\n",
      "[I 2024-09-08 20:35:27,386] Trial 121 finished with value: 0.7934896089825668 and parameters: {'n_estimators': 362, 'max_depth': 12, 'min_samples_split': 9, 'min_samples_leaf': 22}. Best is trial 13 with value: 0.8216093765389539.\n",
      "[I 2024-09-08 20:35:28,425] Trial 122 finished with value: 0.8187924751305033 and parameters: {'n_estimators': 147, 'max_depth': 32, 'min_samples_split': 30, 'min_samples_leaf': 3}. Best is trial 13 with value: 0.8216093765389539.\n",
      "[I 2024-09-08 20:35:31,360] Trial 123 finished with value: 0.801950162513543 and parameters: {'n_estimators': 460, 'max_depth': 10, 'min_samples_split': 6, 'min_samples_leaf': 17}. Best is trial 13 with value: 0.8216093765389539.\n",
      "[I 2024-09-08 20:35:35,821] Trial 124 finished with value: 0.8145769723234512 and parameters: {'n_estimators': 697, 'max_depth': 24, 'min_samples_split': 10, 'min_samples_leaf': 10}. Best is trial 13 with value: 0.8216093765389539.\n",
      "[I 2024-09-08 20:35:40,017] Trial 125 finished with value: 0.8061459667093469 and parameters: {'n_estimators': 601, 'max_depth': 31, 'min_samples_split': 4, 'min_samples_leaf': 2}. Best is trial 13 with value: 0.8216093765389539.\n",
      "[I 2024-09-08 20:35:41,444] Trial 126 finished with value: 0.79068255687974 and parameters: {'n_estimators': 215, 'max_depth': 26, 'min_samples_split': 4, 'min_samples_leaf': 26}. Best is trial 13 with value: 0.8216093765389539.\n",
      "[I 2024-09-08 20:35:43,693] Trial 127 finished with value: 0.7934896089825668 and parameters: {'n_estimators': 339, 'max_depth': 4, 'min_samples_split': 24, 'min_samples_leaf': 22}. Best is trial 13 with value: 0.8216093765389539.\n",
      "[I 2024-09-08 20:35:45,877] Trial 128 finished with value: 0.79068255687974 and parameters: {'n_estimators': 341, 'max_depth': 21, 'min_samples_split': 5, 'min_samples_leaf': 25}. Best is trial 13 with value: 0.8216093765389539.\n",
      "[I 2024-09-08 20:35:46,729] Trial 129 finished with value: 0.8145769723234512 and parameters: {'n_estimators': 114, 'max_depth': 31, 'min_samples_split': 15, 'min_samples_leaf': 3}. Best is trial 13 with value: 0.8216093765389539.\n",
      "[I 2024-09-08 20:35:50,287] Trial 130 finished with value: 0.79068255687974 and parameters: {'n_estimators': 558, 'max_depth': 10, 'min_samples_split': 9, 'min_samples_leaf': 28}. Best is trial 13 with value: 0.8216093765389539.\n",
      "[I 2024-09-08 20:35:53,562] Trial 131 finished with value: 0.8033586132177681 and parameters: {'n_estimators': 485, 'max_depth': 13, 'min_samples_split': 20, 'min_samples_leaf': 14}. Best is trial 13 with value: 0.8216093765389539.\n",
      "[I 2024-09-08 20:35:54,745] Trial 132 finished with value: 0.8075642667191962 and parameters: {'n_estimators': 170, 'max_depth': 32, 'min_samples_split': 23, 'min_samples_leaf': 12}. Best is trial 13 with value: 0.8216093765389539.\n",
      "[I 2024-09-08 20:35:57,125] Trial 133 finished with value: 0.79068255687974 and parameters: {'n_estimators': 355, 'max_depth': 7, 'min_samples_split': 32, 'min_samples_leaf': 26}. Best is trial 13 with value: 0.8216093765389539.\n",
      "[I 2024-09-08 20:35:59,380] Trial 134 finished with value: 0.79068255687974 and parameters: {'n_estimators': 314, 'max_depth': 17, 'min_samples_split': 11, 'min_samples_leaf': 25}. Best is trial 13 with value: 0.8216093765389539.\n",
      "[I 2024-09-08 20:36:00,163] Trial 135 finished with value: 0.8089628681177977 and parameters: {'n_estimators': 106, 'max_depth': 24, 'min_samples_split': 29, 'min_samples_leaf': 11}. Best is trial 13 with value: 0.8216093765389539.\n",
      "[I 2024-09-08 20:36:01,618] Trial 136 finished with value: 0.7878656554712893 and parameters: {'n_estimators': 214, 'max_depth': 14, 'min_samples_split': 27, 'min_samples_leaf': 28}. Best is trial 13 with value: 0.8216093765389539.\n",
      "[I 2024-09-08 20:36:03,930] Trial 137 finished with value: 0.8047670639219936 and parameters: {'n_estimators': 232, 'max_depth': 30, 'min_samples_split': 23, 'min_samples_leaf': 15}. Best is trial 13 with value: 0.8216093765389539.\n",
      "[I 2024-09-08 20:36:08,197] Trial 138 finished with value: 0.79068255687974 and parameters: {'n_estimators': 626, 'max_depth': 27, 'min_samples_split': 31, 'min_samples_leaf': 24}. Best is trial 13 with value: 0.8216093765389539.\n",
      "[I 2024-09-08 20:36:10,617] Trial 139 finished with value: 0.8201910765291046 and parameters: {'n_estimators': 377, 'max_depth': 29, 'min_samples_split': 11, 'min_samples_leaf': 8}. Best is trial 13 with value: 0.8216093765389539.\n",
      "[I 2024-09-08 20:36:11,474] Trial 140 finished with value: 0.7962966610853935 and parameters: {'n_estimators': 120, 'max_depth': 17, 'min_samples_split': 9, 'min_samples_leaf': 22}. Best is trial 13 with value: 0.8216093765389539.\n",
      "[I 2024-09-08 20:36:14,639] Trial 141 finished with value: 0.8075544174135724 and parameters: {'n_estimators': 496, 'max_depth': 17, 'min_samples_split': 2, 'min_samples_leaf': 11}. Best is trial 13 with value: 0.8216093765389539.\n",
      "[I 2024-09-08 20:36:15,941] Trial 142 finished with value: 0.8075642667191962 and parameters: {'n_estimators': 187, 'max_depth': 25, 'min_samples_split': 13, 'min_samples_leaf': 12}. Best is trial 13 with value: 0.8216093765389539.\n",
      "[I 2024-09-08 20:36:18,992] Trial 143 finished with value: 0.7892741061755146 and parameters: {'n_estimators': 490, 'max_depth': 2, 'min_samples_split': 30, 'min_samples_leaf': 17}. Best is trial 13 with value: 0.8216093765389539.\n",
      "[I 2024-09-08 20:36:21,924] Trial 144 finished with value: 0.7934896089825668 and parameters: {'n_estimators': 474, 'max_depth': 3, 'min_samples_split': 9, 'min_samples_leaf': 20}. Best is trial 13 with value: 0.8216093765389539.\n",
      "[I 2024-09-08 20:36:26,308] Trial 145 finished with value: 0.8187727765192555 and parameters: {'n_estimators': 658, 'max_depth': 14, 'min_samples_split': 3, 'min_samples_leaf': 3}. Best is trial 13 with value: 0.8216093765389539.\n",
      "[I 2024-09-08 20:36:29,021] Trial 146 finished with value: 0.8061656653205949 and parameters: {'n_estimators': 404, 'max_depth': 24, 'min_samples_split': 5, 'min_samples_leaf': 13}. Best is trial 13 with value: 0.8216093765389539.\n",
      "[I 2024-09-08 20:36:32,850] Trial 147 finished with value: 0.8047670639219936 and parameters: {'n_estimators': 539, 'max_depth': 7, 'min_samples_split': 25, 'min_samples_leaf': 14}. Best is trial 13 with value: 0.8216093765389539.\n",
      "[I 2024-09-08 20:36:36,317] Trial 148 finished with value: 0.790692406185364 and parameters: {'n_estimators': 474, 'max_depth': 2, 'min_samples_split': 29, 'min_samples_leaf': 3}. Best is trial 13 with value: 0.8216093765389539.\n",
      "[I 2024-09-08 20:36:37,697] Trial 149 finished with value: 0.8117797695262485 and parameters: {'n_estimators': 193, 'max_depth': 25, 'min_samples_split': 23, 'min_samples_leaf': 8}. Best is trial 13 with value: 0.8216093765389539.\n",
      "[I 2024-09-08 20:36:38,802] Trial 150 finished with value: 0.8229981286319316 and parameters: {'n_estimators': 157, 'max_depth': 26, 'min_samples_split': 9, 'min_samples_leaf': 5}. Best is trial 150 with value: 0.8229981286319316.\n",
      "[I 2024-09-08 20:36:39,710] Trial 151 finished with value: 0.8033586132177681 and parameters: {'n_estimators': 126, 'max_depth': 10, 'min_samples_split': 13, 'min_samples_leaf': 16}. Best is trial 150 with value: 0.8229981286319316.\n",
      "[I 2024-09-08 20:36:43,134] Trial 152 finished with value: 0.8159657244164287 and parameters: {'n_estimators': 530, 'max_depth': 13, 'min_samples_split': 6, 'min_samples_leaf': 9}. Best is trial 150 with value: 0.8229981286319316.\n",
      "[I 2024-09-08 20:36:45,734] Trial 153 finished with value: 0.7920910075839653 and parameters: {'n_estimators': 372, 'max_depth': 31, 'min_samples_split': 19, 'min_samples_leaf': 23}. Best is trial 150 with value: 0.8229981286319316.\n",
      "[I 2024-09-08 20:36:49,471] Trial 154 finished with value: 0.8202009258347287 and parameters: {'n_estimators': 581, 'max_depth': 18, 'min_samples_split': 26, 'min_samples_leaf': 5}. Best is trial 150 with value: 0.8229981286319316.\n",
      "[I 2024-09-08 20:36:52,663] Trial 155 finished with value: 0.8159657244164287 and parameters: {'n_estimators': 485, 'max_depth': 28, 'min_samples_split': 12, 'min_samples_leaf': 9}. Best is trial 150 with value: 0.8229981286319316.\n",
      "[I 2024-09-08 20:36:54,786] Trial 156 finished with value: 0.8145769723234514 and parameters: {'n_estimators': 315, 'max_depth': 11, 'min_samples_split': 26, 'min_samples_leaf': 8}. Best is trial 150 with value: 0.8229981286319316.\n",
      "[I 2024-09-08 20:36:56,594] Trial 157 finished with value: 0.817374175120654 and parameters: {'n_estimators': 241, 'max_depth': 14, 'min_samples_split': 15, 'min_samples_leaf': 9}. Best is trial 150 with value: 0.8229981286319316.\n",
      "[I 2024-09-08 20:36:59,987] Trial 158 finished with value: 0.79068255687974 and parameters: {'n_estimators': 535, 'max_depth': 23, 'min_samples_split': 21, 'min_samples_leaf': 27}. Best is trial 150 with value: 0.8229981286319316.\n",
      "[I 2024-09-08 20:37:02,378] Trial 159 finished with value: 0.79068255687974 and parameters: {'n_estimators': 348, 'max_depth': 19, 'min_samples_split': 10, 'min_samples_leaf': 28}. Best is trial 150 with value: 0.8229981286319316.\n",
      "[I 2024-09-08 20:37:03,507] Trial 160 finished with value: 0.8103614695163991 and parameters: {'n_estimators': 151, 'max_depth': 21, 'min_samples_split': 2, 'min_samples_leaf': 3}. Best is trial 150 with value: 0.8229981286319316.\n",
      "[I 2024-09-08 20:37:05,420] Trial 161 finished with value: 0.79068255687974 and parameters: {'n_estimators': 280, 'max_depth': 9, 'min_samples_split': 14, 'min_samples_leaf': 29}. Best is trial 150 with value: 0.8229981286319316.\n",
      "[I 2024-09-08 20:37:06,666] Trial 162 finished with value: 0.7948980596867921 and parameters: {'n_estimators': 181, 'max_depth': 15, 'min_samples_split': 15, 'min_samples_leaf': 22}. Best is trial 150 with value: 0.8229981286319316.\n",
      "[I 2024-09-08 20:37:09,485] Trial 163 finished with value: 0.8033586132177681 and parameters: {'n_estimators': 441, 'max_depth': 22, 'min_samples_split': 14, 'min_samples_leaf': 15}. Best is trial 150 with value: 0.8229981286319316.\n",
      "[I 2024-09-08 20:37:12,001] Trial 164 finished with value: 0.801950162513543 and parameters: {'n_estimators': 388, 'max_depth': 31, 'min_samples_split': 3, 'min_samples_leaf': 17}. Best is trial 150 with value: 0.8229981286319316.\n",
      "[I 2024-09-08 20:37:14,012] Trial 165 finished with value: 0.817374175120654 and parameters: {'n_estimators': 280, 'max_depth': 29, 'min_samples_split': 4, 'min_samples_leaf': 8}. Best is trial 150 with value: 0.8229981286319316.\n",
      "[I 2024-09-08 20:37:15,007] Trial 166 finished with value: 0.7934896089825668 and parameters: {'n_estimators': 143, 'max_depth': 27, 'min_samples_split': 6, 'min_samples_leaf': 25}. Best is trial 150 with value: 0.8229981286319316.\n",
      "[I 2024-09-08 20:37:18,891] Trial 167 finished with value: 0.7920811582783414 and parameters: {'n_estimators': 614, 'max_depth': 18, 'min_samples_split': 26, 'min_samples_leaf': 24}. Best is trial 150 with value: 0.8229981286319316.\n",
      "[I 2024-09-08 20:37:21,345] Trial 168 finished with value: 0.8173840244262779 and parameters: {'n_estimators': 366, 'max_depth': 8, 'min_samples_split': 25, 'min_samples_leaf': 5}. Best is trial 150 with value: 0.8229981286319316.\n",
      "[I 2024-09-08 20:37:24,492] Trial 169 finished with value: 0.7920811582783414 and parameters: {'n_estimators': 500, 'max_depth': 18, 'min_samples_split': 20, 'min_samples_leaf': 24}. Best is trial 150 with value: 0.8229981286319316.\n",
      "[I 2024-09-08 20:37:28,040] Trial 170 finished with value: 0.79068255687974 and parameters: {'n_estimators': 557, 'max_depth': 29, 'min_samples_split': 21, 'min_samples_leaf': 26}. Best is trial 150 with value: 0.8229981286319316.\n",
      "[I 2024-09-08 20:37:30,395] Trial 171 finished with value: 0.8202107751403526 and parameters: {'n_estimators': 327, 'max_depth': 19, 'min_samples_split': 20, 'min_samples_leaf': 4}. Best is trial 150 with value: 0.8229981286319316.\n",
      "[I 2024-09-08 20:37:31,241] Trial 172 finished with value: 0.8145572737122032 and parameters: {'n_estimators': 112, 'max_depth': 14, 'min_samples_split': 9, 'min_samples_leaf': 9}. Best is trial 150 with value: 0.8229981286319316.\n",
      "[I 2024-09-08 20:37:33,795] Trial 173 finished with value: 0.8047670639219936 and parameters: {'n_estimators': 393, 'max_depth': 11, 'min_samples_split': 28, 'min_samples_leaf': 15}. Best is trial 150 with value: 0.8229981286319316.\n",
      "[I 2024-09-08 20:37:37,723] Trial 174 finished with value: 0.817393873731902 and parameters: {'n_estimators': 592, 'max_depth': 16, 'min_samples_split': 3, 'min_samples_leaf': 4}. Best is trial 150 with value: 0.8229981286319316.\n",
      "[I 2024-09-08 20:37:40,966] Trial 175 finished with value: 0.7920811582783414 and parameters: {'n_estimators': 499, 'max_depth': 11, 'min_samples_split': 9, 'min_samples_leaf': 23}. Best is trial 150 with value: 0.8229981286319316.\n",
      "[I 2024-09-08 20:37:43,002] Trial 176 finished with value: 0.8173840244262781 and parameters: {'n_estimators': 307, 'max_depth': 5, 'min_samples_split': 17, 'min_samples_leaf': 4}. Best is trial 150 with value: 0.8229981286319316.\n",
      "[I 2024-09-08 20:37:46,959] Trial 177 finished with value: 0.801950162513543 and parameters: {'n_estimators': 613, 'max_depth': 22, 'min_samples_split': 10, 'min_samples_leaf': 17}. Best is trial 150 with value: 0.8229981286319316.\n",
      "[I 2024-09-08 20:37:49,567] Trial 178 finished with value: 0.801950162513543 and parameters: {'n_estimators': 380, 'max_depth': 22, 'min_samples_split': 22, 'min_samples_leaf': 17}. Best is trial 150 with value: 0.8229981286319316.\n",
      "[I 2024-09-08 20:37:54,143] Trial 179 finished with value: 0.8033487639121443 and parameters: {'n_estimators': 685, 'max_depth': 5, 'min_samples_split': 27, 'min_samples_leaf': 17}. Best is trial 150 with value: 0.8229981286319316.\n",
      "[I 2024-09-08 20:37:57,889] Trial 180 finished with value: 0.79068255687974 and parameters: {'n_estimators': 600, 'max_depth': 14, 'min_samples_split': 18, 'min_samples_leaf': 27}. Best is trial 150 with value: 0.8229981286319316.\n",
      "[I 2024-09-08 20:38:01,165] Trial 181 finished with value: 0.8188121737417511 and parameters: {'n_estimators': 498, 'max_depth': 25, 'min_samples_split': 9, 'min_samples_leaf': 5}. Best is trial 150 with value: 0.8229981286319316.\n",
      "[I 2024-09-08 20:38:03,568] Trial 182 finished with value: 0.79068255687974 and parameters: {'n_estimators': 354, 'max_depth': 30, 'min_samples_split': 14, 'min_samples_leaf': 27}. Best is trial 150 with value: 0.8229981286319316.\n",
      "[I 2024-09-08 20:38:05,096] Trial 183 finished with value: 0.8173840244262781 and parameters: {'n_estimators': 201, 'max_depth': 22, 'min_samples_split': 32, 'min_samples_leaf': 6}. Best is trial 150 with value: 0.8229981286319316.\n",
      "[I 2024-09-08 20:38:06,670] Trial 184 finished with value: 0.8187826258248794 and parameters: {'n_estimators': 228, 'max_depth': 17, 'min_samples_split': 3, 'min_samples_leaf': 5}. Best is trial 150 with value: 0.8229981286319316.\n",
      "[I 2024-09-08 20:38:10,486] Trial 185 finished with value: 0.7920811582783414 and parameters: {'n_estimators': 606, 'max_depth': 10, 'min_samples_split': 20, 'min_samples_leaf': 24}. Best is trial 150 with value: 0.8229981286319316.\n",
      "[I 2024-09-08 20:38:14,129] Trial 186 finished with value: 0.8061656653205949 and parameters: {'n_estimators': 548, 'max_depth': 16, 'min_samples_split': 10, 'min_samples_leaf': 12}. Best is trial 150 with value: 0.8229981286319316.\n",
      "[I 2024-09-08 20:38:16,471] Trial 187 finished with value: 0.8047670639219936 and parameters: {'n_estimators': 354, 'max_depth': 6, 'min_samples_split': 2, 'min_samples_leaf': 14}. Best is trial 150 with value: 0.8229981286319316.\n",
      "[I 2024-09-08 20:38:18,454] Trial 188 finished with value: 0.8187826258248794 and parameters: {'n_estimators': 295, 'max_depth': 23, 'min_samples_split': 11, 'min_samples_leaf': 9}. Best is trial 150 with value: 0.8229981286319316.\n",
      "[I 2024-09-08 20:38:21,003] Trial 189 finished with value: 0.7850684526740864 and parameters: {'n_estimators': 374, 'max_depth': 2, 'min_samples_split': 11, 'min_samples_leaf': 32}. Best is trial 150 with value: 0.8229981286319316.\n",
      "[I 2024-09-08 20:38:24,113] Trial 190 finished with value: 0.8061558160149709 and parameters: {'n_estimators': 481, 'max_depth': 8, 'min_samples_split': 19, 'min_samples_leaf': 11}. Best is trial 150 with value: 0.8229981286319316.\n",
      "[I 2024-09-08 20:38:26,441] Trial 191 finished with value: 0.8033586132177681 and parameters: {'n_estimators': 354, 'max_depth': 7, 'min_samples_split': 19, 'min_samples_leaf': 16}. Best is trial 150 with value: 0.8229981286319316.\n",
      "[I 2024-09-08 20:38:27,914] Trial 192 finished with value: 0.79068255687974 and parameters: {'n_estimators': 218, 'max_depth': 22, 'min_samples_split': 23, 'min_samples_leaf': 26}. Best is trial 150 with value: 0.8229981286319316.\n",
      "[I 2024-09-08 20:38:30,474] Trial 193 finished with value: 0.8061656653205949 and parameters: {'n_estimators': 396, 'max_depth': 7, 'min_samples_split': 4, 'min_samples_leaf': 13}. Best is trial 150 with value: 0.8229981286319316.\n",
      "[I 2024-09-08 20:38:32,207] Trial 194 finished with value: 0.8159755737220526 and parameters: {'n_estimators': 250, 'max_depth': 10, 'min_samples_split': 15, 'min_samples_leaf': 3}. Best is trial 150 with value: 0.8229981286319316.\n",
      "[I 2024-09-08 20:38:36,509] Trial 195 finished with value: 0.7878853540825371 and parameters: {'n_estimators': 654, 'max_depth': 25, 'min_samples_split': 19, 'min_samples_leaf': 32}. Best is trial 150 with value: 0.8229981286319316.\n",
      "[I 2024-09-08 20:38:39,117] Trial 196 finished with value: 0.8005417118093174 and parameters: {'n_estimators': 409, 'max_depth': 11, 'min_samples_split': 5, 'min_samples_leaf': 18}. Best is trial 150 with value: 0.8229981286319316.\n",
      "[I 2024-09-08 20:38:40,761] Trial 197 finished with value: 0.7977248104008667 and parameters: {'n_estimators': 248, 'max_depth': 32, 'min_samples_split': 21, 'min_samples_leaf': 19}. Best is trial 150 with value: 0.8229981286319316.\n",
      "[I 2024-09-08 20:38:43,008] Trial 198 finished with value: 0.8117797695262483 and parameters: {'n_estimators': 337, 'max_depth': 32, 'min_samples_split': 28, 'min_samples_leaf': 10}. Best is trial 150 with value: 0.8229981286319316.\n",
      "[I 2024-09-08 20:38:46,543] Trial 199 finished with value: 0.8145671230178273 and parameters: {'n_estimators': 521, 'max_depth': 15, 'min_samples_split': 5, 'min_samples_leaf': 9}. Best is trial 150 with value: 0.8229981286319316.\n",
      "[I 2024-09-08 20:38:47,619] Trial 200 finished with value: 0.8047473653107456 and parameters: {'n_estimators': 154, 'max_depth': 10, 'min_samples_split': 4, 'min_samples_leaf': 15}. Best is trial 150 with value: 0.8229981286319316.\n",
      "[I 2024-09-08 20:38:48,577] Trial 201 finished with value: 0.7948980596867921 and parameters: {'n_estimators': 134, 'max_depth': 5, 'min_samples_split': 10, 'min_samples_leaf': 22}. Best is trial 150 with value: 0.8229981286319316.\n",
      "[I 2024-09-08 20:38:50,842] Trial 202 finished with value: 0.7934896089825668 and parameters: {'n_estimators': 334, 'max_depth': 4, 'min_samples_split': 8, 'min_samples_leaf': 22}. Best is trial 150 with value: 0.8229981286319316.\n",
      "[I 2024-09-08 20:38:52,335] Trial 203 finished with value: 0.7794937456909288 and parameters: {'n_estimators': 196, 'max_depth': 20, 'min_samples_split': 2, 'min_samples_leaf': 1}. Best is trial 150 with value: 0.8229981286319316.\n",
      "[I 2024-09-08 20:38:56,412] Trial 204 finished with value: 0.79068255687974 and parameters: {'n_estimators': 626, 'max_depth': 6, 'min_samples_split': 30, 'min_samples_leaf': 25}. Best is trial 150 with value: 0.8229981286319316.\n",
      "[I 2024-09-08 20:38:58,375] Trial 205 finished with value: 0.8173840244262779 and parameters: {'n_estimators': 290, 'max_depth': 17, 'min_samples_split': 8, 'min_samples_leaf': 6}. Best is trial 150 with value: 0.8229981286319316.\n",
      "[I 2024-09-08 20:39:01,852] Trial 206 finished with value: 0.8061656653205949 and parameters: {'n_estimators': 538, 'max_depth': 28, 'min_samples_split': 30, 'min_samples_leaf': 13}. Best is trial 150 with value: 0.8229981286319316.\n",
      "[I 2024-09-08 20:39:02,766] Trial 207 finished with value: 0.7934994582881907 and parameters: {'n_estimators': 129, 'max_depth': 32, 'min_samples_split': 27, 'min_samples_leaf': 23}. Best is trial 150 with value: 0.8229981286319316.\n",
      "[I 2024-09-08 20:39:04,087] Trial 208 finished with value: 0.7934896089825668 and parameters: {'n_estimators': 181, 'max_depth': 32, 'min_samples_split': 24, 'min_samples_leaf': 23}. Best is trial 150 with value: 0.8229981286319316.\n",
      "[I 2024-09-08 20:39:05,036] Trial 209 finished with value: 0.7878755047769131 and parameters: {'n_estimators': 122, 'max_depth': 7, 'min_samples_split': 20, 'min_samples_leaf': 32}. Best is trial 150 with value: 0.8229981286319316.\n",
      "[I 2024-09-08 20:39:08,607] Trial 210 finished with value: 0.7920910075839653 and parameters: {'n_estimators': 540, 'max_depth': 23, 'min_samples_split': 32, 'min_samples_leaf': 22}. Best is trial 150 with value: 0.8229981286319316.\n",
      "[I 2024-09-08 20:39:11,116] Trial 211 finished with value: 0.79068255687974 and parameters: {'n_estimators': 395, 'max_depth': 27, 'min_samples_split': 10, 'min_samples_leaf': 28}. Best is trial 150 with value: 0.8229981286319316.\n",
      "[I 2024-09-08 20:39:14,045] Trial 212 finished with value: 0.8061558160149709 and parameters: {'n_estimators': 458, 'max_depth': 15, 'min_samples_split': 13, 'min_samples_leaf': 12}. Best is trial 150 with value: 0.8229981286319316.\n",
      "[I 2024-09-08 20:39:17,711] Trial 213 finished with value: 0.7878853540825371 and parameters: {'n_estimators': 593, 'max_depth': 30, 'min_samples_split': 25, 'min_samples_leaf': 32}. Best is trial 150 with value: 0.8229981286319316.\n",
      "[I 2024-09-08 20:39:21,461] Trial 214 finished with value: 0.79068255687974 and parameters: {'n_estimators': 600, 'max_depth': 6, 'min_samples_split': 12, 'min_samples_leaf': 24}. Best is trial 150 with value: 0.8229981286319316.\n",
      "[I 2024-09-08 20:39:23,721] Trial 215 finished with value: 0.8033586132177681 and parameters: {'n_estimators': 317, 'max_depth': 18, 'min_samples_split': 10, 'min_samples_leaf': 15}. Best is trial 150 with value: 0.8229981286319316.\n",
      "[I 2024-09-08 20:39:24,607] Trial 216 finished with value: 0.7878755047769131 and parameters: {'n_estimators': 127, 'max_depth': 4, 'min_samples_split': 28, 'min_samples_leaf': 28}. Best is trial 150 with value: 0.8229981286319316.\n",
      "[I 2024-09-08 20:39:25,611] Trial 217 finished with value: 0.8159854230276766 and parameters: {'n_estimators': 141, 'max_depth': 28, 'min_samples_split': 16, 'min_samples_leaf': 4}. Best is trial 150 with value: 0.8229981286319316.\n",
      "[I 2024-09-08 20:39:27,262] Trial 218 finished with value: 0.7934896089825668 and parameters: {'n_estimators': 251, 'max_depth': 14, 'min_samples_split': 31, 'min_samples_leaf': 23}. Best is trial 150 with value: 0.8229981286319316.\n",
      "[I 2024-09-08 20:39:31,220] Trial 219 finished with value: 0.821609376538954 and parameters: {'n_estimators': 607, 'max_depth': 18, 'min_samples_split': 17, 'min_samples_leaf': 4}. Best is trial 150 with value: 0.8229981286319316.\n",
      "[I 2024-09-08 20:39:33,499] Trial 220 finished with value: 0.79068255687974 and parameters: {'n_estimators': 314, 'max_depth': 15, 'min_samples_split': 5, 'min_samples_leaf': 27}. Best is trial 150 with value: 0.8229981286319316.\n",
      "[I 2024-09-08 20:39:35,263] Trial 221 finished with value: 0.8061656653205949 and parameters: {'n_estimators': 268, 'max_depth': 29, 'min_samples_split': 13, 'min_samples_leaf': 13}. Best is trial 150 with value: 0.8229981286319316.\n",
      "[I 2024-09-08 20:39:39,191] Trial 222 finished with value: 0.8187924751305033 and parameters: {'n_estimators': 596, 'max_depth': 7, 'min_samples_split': 22, 'min_samples_leaf': 6}. Best is trial 150 with value: 0.8229981286319316.\n",
      "[I 2024-09-08 20:39:40,323] Trial 223 finished with value: 0.8103713188220232 and parameters: {'n_estimators': 157, 'max_depth': 26, 'min_samples_split': 28, 'min_samples_leaf': 10}. Best is trial 150 with value: 0.8229981286319316.\n",
      "[I 2024-09-08 20:39:42,592] Trial 224 finished with value: 0.79068255687974 and parameters: {'n_estimators': 354, 'max_depth': 7, 'min_samples_split': 10, 'min_samples_leaf': 27}. Best is trial 150 with value: 0.8229981286319316.\n",
      "[I 2024-09-08 20:39:45,475] Trial 225 finished with value: 0.817393873731902 and parameters: {'n_estimators': 428, 'max_depth': 28, 'min_samples_split': 15, 'min_samples_leaf': 3}. Best is trial 150 with value: 0.8229981286319316.\n",
      "[I 2024-09-08 20:39:48,869] Trial 226 finished with value: 0.8201812272234807 and parameters: {'n_estimators': 504, 'max_depth': 16, 'min_samples_split': 7, 'min_samples_leaf': 3}. Best is trial 150 with value: 0.8229981286319316.\n",
      "[I 2024-09-08 20:39:52,676] Trial 227 finished with value: 0.79068255687974 and parameters: {'n_estimators': 535, 'max_depth': 19, 'min_samples_split': 17, 'min_samples_leaf': 28}. Best is trial 150 with value: 0.8229981286319316.\n",
      "[I 2024-09-08 20:39:57,333] Trial 228 finished with value: 0.817374175120654 and parameters: {'n_estimators': 695, 'max_depth': 10, 'min_samples_split': 3, 'min_samples_leaf': 9}. Best is trial 150 with value: 0.8229981286319316.\n",
      "[I 2024-09-08 20:39:59,473] Trial 229 finished with value: 0.801950162513543 and parameters: {'n_estimators': 320, 'max_depth': 5, 'min_samples_split': 18, 'min_samples_leaf': 18}. Best is trial 150 with value: 0.8229981286319316.\n",
      "[I 2024-09-08 20:40:02,775] Trial 230 finished with value: 0.8187924751305033 and parameters: {'n_estimators': 486, 'max_depth': 14, 'min_samples_split': 28, 'min_samples_leaf': 6}. Best is trial 150 with value: 0.8229981286319316.\n",
      "[I 2024-09-08 20:40:04,096] Trial 231 finished with value: 0.79068255687974 and parameters: {'n_estimators': 185, 'max_depth': 14, 'min_samples_split': 22, 'min_samples_leaf': 27}. Best is trial 150 with value: 0.8229981286319316.\n",
      "[I 2024-09-08 20:40:08,197] Trial 232 finished with value: 0.8033586132177681 and parameters: {'n_estimators': 633, 'max_depth': 14, 'min_samples_split': 31, 'min_samples_leaf': 16}. Best is trial 150 with value: 0.8229981286319316.\n",
      "[I 2024-09-08 20:40:12,286] Trial 233 finished with value: 0.7892839554811386 and parameters: {'n_estimators': 635, 'max_depth': 21, 'min_samples_split': 10, 'min_samples_leaf': 29}. Best is trial 150 with value: 0.8229981286319316.\n",
      "[I 2024-09-08 20:40:16,296] Trial 234 finished with value: 0.801950162513543 and parameters: {'n_estimators': 626, 'max_depth': 13, 'min_samples_split': 25, 'min_samples_leaf': 17}. Best is trial 150 with value: 0.8229981286319316.\n",
      "[I 2024-09-08 20:40:20,267] Trial 235 finished with value: 0.79068255687974 and parameters: {'n_estimators': 609, 'max_depth': 25, 'min_samples_split': 13, 'min_samples_leaf': 25}. Best is trial 150 with value: 0.8229981286319316.\n",
      "[I 2024-09-08 20:40:21,463] Trial 236 finished with value: 0.7878656554712893 and parameters: {'n_estimators': 163, 'max_depth': 20, 'min_samples_split': 18, 'min_samples_leaf': 29}. Best is trial 150 with value: 0.8229981286319316.\n",
      "[I 2024-09-08 20:40:22,676] Trial 237 finished with value: 0.7977051117896188 and parameters: {'n_estimators': 160, 'max_depth': 9, 'min_samples_split': 27, 'min_samples_leaf': 21}. Best is trial 150 with value: 0.8229981286319316.\n",
      "[I 2024-09-08 20:40:26,874] Trial 238 finished with value: 0.817393873731902 and parameters: {'n_estimators': 628, 'max_depth': 12, 'min_samples_split': 28, 'min_samples_leaf': 2}. Best is trial 150 with value: 0.8229981286319316.\n",
      "[I 2024-09-08 20:40:28,174] Trial 239 finished with value: 0.8089727174234216 and parameters: {'n_estimators': 182, 'max_depth': 27, 'min_samples_split': 27, 'min_samples_leaf': 11}. Best is trial 150 with value: 0.8229981286319316.\n",
      "[I 2024-09-08 20:40:31,577] Trial 240 finished with value: 0.8187924751305033 and parameters: {'n_estimators': 512, 'max_depth': 24, 'min_samples_split': 6, 'min_samples_leaf': 7}. Best is trial 150 with value: 0.8229981286319316.\n",
      "[I 2024-09-08 20:40:33,125] Trial 241 finished with value: 0.8117600709150006 and parameters: {'n_estimators': 225, 'max_depth': 23, 'min_samples_split': 3, 'min_samples_leaf': 10}. Best is trial 150 with value: 0.8229981286319316.\n",
      "[I 2024-09-08 20:40:34,085] Trial 242 finished with value: 0.7963065103910175 and parameters: {'n_estimators': 137, 'max_depth': 16, 'min_samples_split': 9, 'min_samples_leaf': 23}. Best is trial 150 with value: 0.8229981286319316.\n",
      "[I 2024-09-08 20:40:38,346] Trial 243 finished with value: 0.79068255687974 and parameters: {'n_estimators': 674, 'max_depth': 29, 'min_samples_split': 23, 'min_samples_leaf': 24}. Best is trial 150 with value: 0.8229981286319316.\n",
      "[I 2024-09-08 20:40:39,460] Trial 244 finished with value: 0.7948980596867921 and parameters: {'n_estimators': 154, 'max_depth': 29, 'min_samples_split': 14, 'min_samples_leaf': 22}. Best is trial 150 with value: 0.8229981286319316.\n",
      "[I 2024-09-08 20:40:41,999] Trial 245 finished with value: 0.7892839554811386 and parameters: {'n_estimators': 370, 'max_depth': 26, 'min_samples_split': 19, 'min_samples_leaf': 32}. Best is trial 150 with value: 0.8229981286319316.\n",
      "[I 2024-09-08 20:40:45,509] Trial 246 finished with value: 0.8202009258347287 and parameters: {'n_estimators': 526, 'max_depth': 23, 'min_samples_split': 10, 'min_samples_leaf': 8}. Best is trial 150 with value: 0.8229981286319316.\n",
      "[I 2024-09-08 20:40:47,574] Trial 247 finished with value: 0.7991332611050921 and parameters: {'n_estimators': 312, 'max_depth': 4, 'min_samples_split': 24, 'min_samples_leaf': 18}. Best is trial 150 with value: 0.8229981286319316.\n",
      "[I 2024-09-08 20:40:49,698] Trial 248 finished with value: 0.8047670639219936 and parameters: {'n_estimators': 320, 'max_depth': 4, 'min_samples_split': 18, 'min_samples_leaf': 10}. Best is trial 150 with value: 0.8229981286319316.\n",
      "[I 2024-09-08 20:40:53,781] Trial 249 finished with value: 0.7878853540825371 and parameters: {'n_estimators': 621, 'max_depth': 6, 'min_samples_split': 29, 'min_samples_leaf': 31}. Best is trial 150 with value: 0.8229981286319316.\n"
     ]
    }
   ],
   "source": [
    "# Optimize the objective function using the Optuna study.\n",
    "# Perform 250 trials to find the best hyperparameters based on the objective function.\n",
    "\n",
    "study.optimize(objective, n_trials=250)"
   ]
  },
  {
   "cell_type": "code",
   "execution_count": 35,
   "metadata": {},
   "outputs": [
    {
     "data": {
      "application/vnd.plotly.v1+json": {
       "config": {
        "plotlyServerURL": "https://plot.ly"
       },
       "data": [
        {
         "mode": "markers",
         "name": "Objective Value",
         "type": "scatter",
         "x": [
          0,
          1,
          2,
          3,
          4,
          5,
          6,
          7,
          8,
          9,
          10,
          11,
          12,
          13,
          14,
          15,
          16,
          17,
          18,
          19,
          20,
          21,
          22,
          23,
          24,
          25,
          26,
          27,
          28,
          29,
          30,
          31,
          32,
          33,
          34,
          35,
          36,
          37,
          38,
          39,
          40,
          41,
          42,
          43,
          44,
          45,
          46,
          47,
          48,
          49,
          50,
          51,
          52,
          53,
          54,
          55,
          56,
          57,
          58,
          59,
          60,
          61,
          62,
          63,
          64,
          65,
          66,
          67,
          68,
          69,
          70,
          71,
          72,
          73,
          74,
          75,
          76,
          77,
          78,
          79,
          80,
          81,
          82,
          83,
          84,
          85,
          86,
          87,
          88,
          89,
          90,
          91,
          92,
          93,
          94,
          95,
          96,
          97,
          98,
          99,
          100,
          101,
          102,
          103,
          104,
          105,
          106,
          107,
          108,
          109,
          110,
          111,
          112,
          113,
          114,
          115,
          116,
          117,
          118,
          119,
          120,
          121,
          122,
          123,
          124,
          125,
          126,
          127,
          128,
          129,
          130,
          131,
          132,
          133,
          134,
          135,
          136,
          137,
          138,
          139,
          140,
          141,
          142,
          143,
          144,
          145,
          146,
          147,
          148,
          149,
          150,
          151,
          152,
          153,
          154,
          155,
          156,
          157,
          158,
          159,
          160,
          161,
          162,
          163,
          164,
          165,
          166,
          167,
          168,
          169,
          170,
          171,
          172,
          173,
          174,
          175,
          176,
          177,
          178,
          179,
          180,
          181,
          182,
          183,
          184,
          185,
          186,
          187,
          188,
          189,
          190,
          191,
          192,
          193,
          194,
          195,
          196,
          197,
          198,
          199,
          200,
          201,
          202,
          203,
          204,
          205,
          206,
          207,
          208,
          209,
          210,
          211,
          212,
          213,
          214,
          215,
          216,
          217,
          218,
          219,
          220,
          221,
          222,
          223,
          224,
          225,
          226,
          227,
          228,
          229,
          230,
          231,
          232,
          233,
          234,
          235,
          236,
          237,
          238,
          239,
          240,
          241,
          242,
          243,
          244,
          245,
          246,
          247,
          248,
          249
         ],
         "y": [
          0.7977248104008667,
          0.7920811582783414,
          0.7977248104008667,
          0.8202009258347287,
          0.8117502216093765,
          0.7892741061755146,
          0.810381168127647,
          0.801950162513543,
          0.8103516202107752,
          0.813148823007978,
          0.8047572146163695,
          0.7977051117896188,
          0.79068255687974,
          0.8216093765389539,
          0.8061656653205949,
          0.7892741061755146,
          0.8131685216192258,
          0.8173840244262781,
          0.7878853540825371,
          0.7878755047769131,
          0.8019501625135428,
          0.8005417118093174,
          0.7920811582783414,
          0.8173840244262779,
          0.8173840244262781,
          0.8145769723234514,
          0.8061656653205949,
          0.8075544174135724,
          0.8173840244262779,
          0.79068255687974,
          0.79068255687974,
          0.8131783709248499,
          0.7892741061755146,
          0.8117600709150006,
          0.8089628681177977,
          0.8047670639219936,
          0.8075642667191965,
          0.8201910765291048,
          0.7963163596966414,
          0.8061656653205949,
          0.8061656653205949,
          0.7934896089825668,
          0.79068255687974,
          0.8005417118093174,
          0.8047572146163695,
          0.7878853540825371,
          0.7892839554811386,
          0.7892741061755146,
          0.79068255687974,
          0.8047670639219936,
          0.8061656653205949,
          0.8061656653205949,
          0.810381168127647,
          0.8159755737220526,
          0.7892839554811386,
          0.817393873731902,
          0.7920811582783414,
          0.8131685216192259,
          0.7892741061755146,
          0.8047572146163695,
          0.8187727765192555,
          0.810371318822023,
          0.7892839554811386,
          0.8131685216192259,
          0.8061656653205949,
          0.7934896089825668,
          0.7878755047769131,
          0.8061656653205949,
          0.7934896089825668,
          0.8173840244262779,
          0.8075544174135724,
          0.7977248104008667,
          0.7963163596966414,
          0.8033586132177681,
          0.801950162513543,
          0.810371318822023,
          0.7892839554811386,
          0.79068255687974,
          0.79068255687974,
          0.79068255687974,
          0.8047572146163695,
          0.8019501625135428,
          0.8173840244262781,
          0.7977248104008667,
          0.7920910075839653,
          0.8061656653205949,
          0.7920811582783414,
          0.79068255687974,
          0.7920910075839653,
          0.8145572737122034,
          0.817393873731902,
          0.8188023244361272,
          0.7878853540825371,
          0.79068255687974,
          0.8215995272333301,
          0.8159657244164287,
          0.7892741061755146,
          0.801950162513543,
          0.801950162513543,
          0.8061656653205949,
          0.8005220131980696,
          0.7977051117896188,
          0.8061656653205949,
          0.7892839554811386,
          0.7934896089825668,
          0.7878755047769131,
          0.8019501625135428,
          0.8103713188220232,
          0.801950162513543,
          0.8061656653205949,
          0.817393873731902,
          0.8201812272234807,
          0.7920910075839653,
          0.794907908992416,
          0.7878853540825371,
          0.8061656653205949,
          0.8089727174234216,
          0.8159755737220525,
          0.794907908992416,
          0.8061656653205949,
          0.8047572146163695,
          0.7934896089825668,
          0.8187924751305033,
          0.801950162513543,
          0.8145769723234512,
          0.8061459667093469,
          0.79068255687974,
          0.7934896089825668,
          0.79068255687974,
          0.8145769723234512,
          0.79068255687974,
          0.8033586132177681,
          0.8075642667191962,
          0.79068255687974,
          0.79068255687974,
          0.8089628681177977,
          0.7878656554712893,
          0.8047670639219936,
          0.79068255687974,
          0.8201910765291046,
          0.7962966610853935,
          0.8075544174135724,
          0.8075642667191962,
          0.7892741061755146,
          0.7934896089825668,
          0.8187727765192555,
          0.8061656653205949,
          0.8047670639219936,
          0.790692406185364,
          0.8117797695262485,
          0.8229981286319316,
          0.8033586132177681,
          0.8159657244164287,
          0.7920910075839653,
          0.8202009258347287,
          0.8159657244164287,
          0.8145769723234514,
          0.817374175120654,
          0.79068255687974,
          0.79068255687974,
          0.8103614695163991,
          0.79068255687974,
          0.7948980596867921,
          0.8033586132177681,
          0.801950162513543,
          0.817374175120654,
          0.7934896089825668,
          0.7920811582783414,
          0.8173840244262779,
          0.7920811582783414,
          0.79068255687974,
          0.8202107751403526,
          0.8145572737122032,
          0.8047670639219936,
          0.817393873731902,
          0.7920811582783414,
          0.8173840244262781,
          0.801950162513543,
          0.801950162513543,
          0.8033487639121443,
          0.79068255687974,
          0.8188121737417511,
          0.79068255687974,
          0.8173840244262781,
          0.8187826258248794,
          0.7920811582783414,
          0.8061656653205949,
          0.8047670639219936,
          0.8187826258248794,
          0.7850684526740864,
          0.8061558160149709,
          0.8033586132177681,
          0.79068255687974,
          0.8061656653205949,
          0.8159755737220526,
          0.7878853540825371,
          0.8005417118093174,
          0.7977248104008667,
          0.8117797695262483,
          0.8145671230178273,
          0.8047473653107456,
          0.7948980596867921,
          0.7934896089825668,
          0.7794937456909288,
          0.79068255687974,
          0.8173840244262779,
          0.8061656653205949,
          0.7934994582881907,
          0.7934896089825668,
          0.7878755047769131,
          0.7920910075839653,
          0.79068255687974,
          0.8061558160149709,
          0.7878853540825371,
          0.79068255687974,
          0.8033586132177681,
          0.7878755047769131,
          0.8159854230276766,
          0.7934896089825668,
          0.821609376538954,
          0.79068255687974,
          0.8061656653205949,
          0.8187924751305033,
          0.8103713188220232,
          0.79068255687974,
          0.817393873731902,
          0.8201812272234807,
          0.79068255687974,
          0.817374175120654,
          0.801950162513543,
          0.8187924751305033,
          0.79068255687974,
          0.8033586132177681,
          0.7892839554811386,
          0.801950162513543,
          0.79068255687974,
          0.7878656554712893,
          0.7977051117896188,
          0.817393873731902,
          0.8089727174234216,
          0.8187924751305033,
          0.8117600709150006,
          0.7963065103910175,
          0.79068255687974,
          0.7948980596867921,
          0.7892839554811386,
          0.8202009258347287,
          0.7991332611050921,
          0.8047670639219936,
          0.7878853540825371
         ]
        },
        {
         "mode": "lines",
         "name": "Best Value",
         "type": "scatter",
         "x": [
          0,
          1,
          2,
          3,
          4,
          5,
          6,
          7,
          8,
          9,
          10,
          11,
          12,
          13,
          14,
          15,
          16,
          17,
          18,
          19,
          20,
          21,
          22,
          23,
          24,
          25,
          26,
          27,
          28,
          29,
          30,
          31,
          32,
          33,
          34,
          35,
          36,
          37,
          38,
          39,
          40,
          41,
          42,
          43,
          44,
          45,
          46,
          47,
          48,
          49,
          50,
          51,
          52,
          53,
          54,
          55,
          56,
          57,
          58,
          59,
          60,
          61,
          62,
          63,
          64,
          65,
          66,
          67,
          68,
          69,
          70,
          71,
          72,
          73,
          74,
          75,
          76,
          77,
          78,
          79,
          80,
          81,
          82,
          83,
          84,
          85,
          86,
          87,
          88,
          89,
          90,
          91,
          92,
          93,
          94,
          95,
          96,
          97,
          98,
          99,
          100,
          101,
          102,
          103,
          104,
          105,
          106,
          107,
          108,
          109,
          110,
          111,
          112,
          113,
          114,
          115,
          116,
          117,
          118,
          119,
          120,
          121,
          122,
          123,
          124,
          125,
          126,
          127,
          128,
          129,
          130,
          131,
          132,
          133,
          134,
          135,
          136,
          137,
          138,
          139,
          140,
          141,
          142,
          143,
          144,
          145,
          146,
          147,
          148,
          149,
          150,
          151,
          152,
          153,
          154,
          155,
          156,
          157,
          158,
          159,
          160,
          161,
          162,
          163,
          164,
          165,
          166,
          167,
          168,
          169,
          170,
          171,
          172,
          173,
          174,
          175,
          176,
          177,
          178,
          179,
          180,
          181,
          182,
          183,
          184,
          185,
          186,
          187,
          188,
          189,
          190,
          191,
          192,
          193,
          194,
          195,
          196,
          197,
          198,
          199,
          200,
          201,
          202,
          203,
          204,
          205,
          206,
          207,
          208,
          209,
          210,
          211,
          212,
          213,
          214,
          215,
          216,
          217,
          218,
          219,
          220,
          221,
          222,
          223,
          224,
          225,
          226,
          227,
          228,
          229,
          230,
          231,
          232,
          233,
          234,
          235,
          236,
          237,
          238,
          239,
          240,
          241,
          242,
          243,
          244,
          245,
          246,
          247,
          248,
          249
         ],
         "y": [
          0.7977248104008667,
          0.7977248104008667,
          0.7977248104008667,
          0.8202009258347287,
          0.8202009258347287,
          0.8202009258347287,
          0.8202009258347287,
          0.8202009258347287,
          0.8202009258347287,
          0.8202009258347287,
          0.8202009258347287,
          0.8202009258347287,
          0.8202009258347287,
          0.8216093765389539,
          0.8216093765389539,
          0.8216093765389539,
          0.8216093765389539,
          0.8216093765389539,
          0.8216093765389539,
          0.8216093765389539,
          0.8216093765389539,
          0.8216093765389539,
          0.8216093765389539,
          0.8216093765389539,
          0.8216093765389539,
          0.8216093765389539,
          0.8216093765389539,
          0.8216093765389539,
          0.8216093765389539,
          0.8216093765389539,
          0.8216093765389539,
          0.8216093765389539,
          0.8216093765389539,
          0.8216093765389539,
          0.8216093765389539,
          0.8216093765389539,
          0.8216093765389539,
          0.8216093765389539,
          0.8216093765389539,
          0.8216093765389539,
          0.8216093765389539,
          0.8216093765389539,
          0.8216093765389539,
          0.8216093765389539,
          0.8216093765389539,
          0.8216093765389539,
          0.8216093765389539,
          0.8216093765389539,
          0.8216093765389539,
          0.8216093765389539,
          0.8216093765389539,
          0.8216093765389539,
          0.8216093765389539,
          0.8216093765389539,
          0.8216093765389539,
          0.8216093765389539,
          0.8216093765389539,
          0.8216093765389539,
          0.8216093765389539,
          0.8216093765389539,
          0.8216093765389539,
          0.8216093765389539,
          0.8216093765389539,
          0.8216093765389539,
          0.8216093765389539,
          0.8216093765389539,
          0.8216093765389539,
          0.8216093765389539,
          0.8216093765389539,
          0.8216093765389539,
          0.8216093765389539,
          0.8216093765389539,
          0.8216093765389539,
          0.8216093765389539,
          0.8216093765389539,
          0.8216093765389539,
          0.8216093765389539,
          0.8216093765389539,
          0.8216093765389539,
          0.8216093765389539,
          0.8216093765389539,
          0.8216093765389539,
          0.8216093765389539,
          0.8216093765389539,
          0.8216093765389539,
          0.8216093765389539,
          0.8216093765389539,
          0.8216093765389539,
          0.8216093765389539,
          0.8216093765389539,
          0.8216093765389539,
          0.8216093765389539,
          0.8216093765389539,
          0.8216093765389539,
          0.8216093765389539,
          0.8216093765389539,
          0.8216093765389539,
          0.8216093765389539,
          0.8216093765389539,
          0.8216093765389539,
          0.8216093765389539,
          0.8216093765389539,
          0.8216093765389539,
          0.8216093765389539,
          0.8216093765389539,
          0.8216093765389539,
          0.8216093765389539,
          0.8216093765389539,
          0.8216093765389539,
          0.8216093765389539,
          0.8216093765389539,
          0.8216093765389539,
          0.8216093765389539,
          0.8216093765389539,
          0.8216093765389539,
          0.8216093765389539,
          0.8216093765389539,
          0.8216093765389539,
          0.8216093765389539,
          0.8216093765389539,
          0.8216093765389539,
          0.8216093765389539,
          0.8216093765389539,
          0.8216093765389539,
          0.8216093765389539,
          0.8216093765389539,
          0.8216093765389539,
          0.8216093765389539,
          0.8216093765389539,
          0.8216093765389539,
          0.8216093765389539,
          0.8216093765389539,
          0.8216093765389539,
          0.8216093765389539,
          0.8216093765389539,
          0.8216093765389539,
          0.8216093765389539,
          0.8216093765389539,
          0.8216093765389539,
          0.8216093765389539,
          0.8216093765389539,
          0.8216093765389539,
          0.8216093765389539,
          0.8216093765389539,
          0.8216093765389539,
          0.8216093765389539,
          0.8216093765389539,
          0.8216093765389539,
          0.8216093765389539,
          0.8216093765389539,
          0.8229981286319316,
          0.8229981286319316,
          0.8229981286319316,
          0.8229981286319316,
          0.8229981286319316,
          0.8229981286319316,
          0.8229981286319316,
          0.8229981286319316,
          0.8229981286319316,
          0.8229981286319316,
          0.8229981286319316,
          0.8229981286319316,
          0.8229981286319316,
          0.8229981286319316,
          0.8229981286319316,
          0.8229981286319316,
          0.8229981286319316,
          0.8229981286319316,
          0.8229981286319316,
          0.8229981286319316,
          0.8229981286319316,
          0.8229981286319316,
          0.8229981286319316,
          0.8229981286319316,
          0.8229981286319316,
          0.8229981286319316,
          0.8229981286319316,
          0.8229981286319316,
          0.8229981286319316,
          0.8229981286319316,
          0.8229981286319316,
          0.8229981286319316,
          0.8229981286319316,
          0.8229981286319316,
          0.8229981286319316,
          0.8229981286319316,
          0.8229981286319316,
          0.8229981286319316,
          0.8229981286319316,
          0.8229981286319316,
          0.8229981286319316,
          0.8229981286319316,
          0.8229981286319316,
          0.8229981286319316,
          0.8229981286319316,
          0.8229981286319316,
          0.8229981286319316,
          0.8229981286319316,
          0.8229981286319316,
          0.8229981286319316,
          0.8229981286319316,
          0.8229981286319316,
          0.8229981286319316,
          0.8229981286319316,
          0.8229981286319316,
          0.8229981286319316,
          0.8229981286319316,
          0.8229981286319316,
          0.8229981286319316,
          0.8229981286319316,
          0.8229981286319316,
          0.8229981286319316,
          0.8229981286319316,
          0.8229981286319316,
          0.8229981286319316,
          0.8229981286319316,
          0.8229981286319316,
          0.8229981286319316,
          0.8229981286319316,
          0.8229981286319316,
          0.8229981286319316,
          0.8229981286319316,
          0.8229981286319316,
          0.8229981286319316,
          0.8229981286319316,
          0.8229981286319316,
          0.8229981286319316,
          0.8229981286319316,
          0.8229981286319316,
          0.8229981286319316,
          0.8229981286319316,
          0.8229981286319316,
          0.8229981286319316,
          0.8229981286319316,
          0.8229981286319316,
          0.8229981286319316,
          0.8229981286319316,
          0.8229981286319316,
          0.8229981286319316,
          0.8229981286319316,
          0.8229981286319316,
          0.8229981286319316,
          0.8229981286319316,
          0.8229981286319316,
          0.8229981286319316,
          0.8229981286319316,
          0.8229981286319316,
          0.8229981286319316,
          0.8229981286319316,
          0.8229981286319316
         ]
        },
        {
         "marker": {
          "color": "#cccccc"
         },
         "mode": "markers",
         "name": "Infeasible Trial",
         "showlegend": false,
         "type": "scatter",
         "x": [],
         "y": []
        }
       ],
       "layout": {
        "template": {
         "data": {
          "bar": [
           {
            "error_x": {
             "color": "#2a3f5f"
            },
            "error_y": {
             "color": "#2a3f5f"
            },
            "marker": {
             "line": {
              "color": "#E5ECF6",
              "width": 0.5
             },
             "pattern": {
              "fillmode": "overlay",
              "size": 10,
              "solidity": 0.2
             }
            },
            "type": "bar"
           }
          ],
          "barpolar": [
           {
            "marker": {
             "line": {
              "color": "#E5ECF6",
              "width": 0.5
             },
             "pattern": {
              "fillmode": "overlay",
              "size": 10,
              "solidity": 0.2
             }
            },
            "type": "barpolar"
           }
          ],
          "carpet": [
           {
            "aaxis": {
             "endlinecolor": "#2a3f5f",
             "gridcolor": "white",
             "linecolor": "white",
             "minorgridcolor": "white",
             "startlinecolor": "#2a3f5f"
            },
            "baxis": {
             "endlinecolor": "#2a3f5f",
             "gridcolor": "white",
             "linecolor": "white",
             "minorgridcolor": "white",
             "startlinecolor": "#2a3f5f"
            },
            "type": "carpet"
           }
          ],
          "choropleth": [
           {
            "colorbar": {
             "outlinewidth": 0,
             "ticks": ""
            },
            "type": "choropleth"
           }
          ],
          "contour": [
           {
            "colorbar": {
             "outlinewidth": 0,
             "ticks": ""
            },
            "colorscale": [
             [
              0,
              "#0d0887"
             ],
             [
              0.1111111111111111,
              "#46039f"
             ],
             [
              0.2222222222222222,
              "#7201a8"
             ],
             [
              0.3333333333333333,
              "#9c179e"
             ],
             [
              0.4444444444444444,
              "#bd3786"
             ],
             [
              0.5555555555555556,
              "#d8576b"
             ],
             [
              0.6666666666666666,
              "#ed7953"
             ],
             [
              0.7777777777777778,
              "#fb9f3a"
             ],
             [
              0.8888888888888888,
              "#fdca26"
             ],
             [
              1,
              "#f0f921"
             ]
            ],
            "type": "contour"
           }
          ],
          "contourcarpet": [
           {
            "colorbar": {
             "outlinewidth": 0,
             "ticks": ""
            },
            "type": "contourcarpet"
           }
          ],
          "heatmap": [
           {
            "colorbar": {
             "outlinewidth": 0,
             "ticks": ""
            },
            "colorscale": [
             [
              0,
              "#0d0887"
             ],
             [
              0.1111111111111111,
              "#46039f"
             ],
             [
              0.2222222222222222,
              "#7201a8"
             ],
             [
              0.3333333333333333,
              "#9c179e"
             ],
             [
              0.4444444444444444,
              "#bd3786"
             ],
             [
              0.5555555555555556,
              "#d8576b"
             ],
             [
              0.6666666666666666,
              "#ed7953"
             ],
             [
              0.7777777777777778,
              "#fb9f3a"
             ],
             [
              0.8888888888888888,
              "#fdca26"
             ],
             [
              1,
              "#f0f921"
             ]
            ],
            "type": "heatmap"
           }
          ],
          "heatmapgl": [
           {
            "colorbar": {
             "outlinewidth": 0,
             "ticks": ""
            },
            "colorscale": [
             [
              0,
              "#0d0887"
             ],
             [
              0.1111111111111111,
              "#46039f"
             ],
             [
              0.2222222222222222,
              "#7201a8"
             ],
             [
              0.3333333333333333,
              "#9c179e"
             ],
             [
              0.4444444444444444,
              "#bd3786"
             ],
             [
              0.5555555555555556,
              "#d8576b"
             ],
             [
              0.6666666666666666,
              "#ed7953"
             ],
             [
              0.7777777777777778,
              "#fb9f3a"
             ],
             [
              0.8888888888888888,
              "#fdca26"
             ],
             [
              1,
              "#f0f921"
             ]
            ],
            "type": "heatmapgl"
           }
          ],
          "histogram": [
           {
            "marker": {
             "pattern": {
              "fillmode": "overlay",
              "size": 10,
              "solidity": 0.2
             }
            },
            "type": "histogram"
           }
          ],
          "histogram2d": [
           {
            "colorbar": {
             "outlinewidth": 0,
             "ticks": ""
            },
            "colorscale": [
             [
              0,
              "#0d0887"
             ],
             [
              0.1111111111111111,
              "#46039f"
             ],
             [
              0.2222222222222222,
              "#7201a8"
             ],
             [
              0.3333333333333333,
              "#9c179e"
             ],
             [
              0.4444444444444444,
              "#bd3786"
             ],
             [
              0.5555555555555556,
              "#d8576b"
             ],
             [
              0.6666666666666666,
              "#ed7953"
             ],
             [
              0.7777777777777778,
              "#fb9f3a"
             ],
             [
              0.8888888888888888,
              "#fdca26"
             ],
             [
              1,
              "#f0f921"
             ]
            ],
            "type": "histogram2d"
           }
          ],
          "histogram2dcontour": [
           {
            "colorbar": {
             "outlinewidth": 0,
             "ticks": ""
            },
            "colorscale": [
             [
              0,
              "#0d0887"
             ],
             [
              0.1111111111111111,
              "#46039f"
             ],
             [
              0.2222222222222222,
              "#7201a8"
             ],
             [
              0.3333333333333333,
              "#9c179e"
             ],
             [
              0.4444444444444444,
              "#bd3786"
             ],
             [
              0.5555555555555556,
              "#d8576b"
             ],
             [
              0.6666666666666666,
              "#ed7953"
             ],
             [
              0.7777777777777778,
              "#fb9f3a"
             ],
             [
              0.8888888888888888,
              "#fdca26"
             ],
             [
              1,
              "#f0f921"
             ]
            ],
            "type": "histogram2dcontour"
           }
          ],
          "mesh3d": [
           {
            "colorbar": {
             "outlinewidth": 0,
             "ticks": ""
            },
            "type": "mesh3d"
           }
          ],
          "parcoords": [
           {
            "line": {
             "colorbar": {
              "outlinewidth": 0,
              "ticks": ""
             }
            },
            "type": "parcoords"
           }
          ],
          "pie": [
           {
            "automargin": true,
            "type": "pie"
           }
          ],
          "scatter": [
           {
            "fillpattern": {
             "fillmode": "overlay",
             "size": 10,
             "solidity": 0.2
            },
            "type": "scatter"
           }
          ],
          "scatter3d": [
           {
            "line": {
             "colorbar": {
              "outlinewidth": 0,
              "ticks": ""
             }
            },
            "marker": {
             "colorbar": {
              "outlinewidth": 0,
              "ticks": ""
             }
            },
            "type": "scatter3d"
           }
          ],
          "scattercarpet": [
           {
            "marker": {
             "colorbar": {
              "outlinewidth": 0,
              "ticks": ""
             }
            },
            "type": "scattercarpet"
           }
          ],
          "scattergeo": [
           {
            "marker": {
             "colorbar": {
              "outlinewidth": 0,
              "ticks": ""
             }
            },
            "type": "scattergeo"
           }
          ],
          "scattergl": [
           {
            "marker": {
             "colorbar": {
              "outlinewidth": 0,
              "ticks": ""
             }
            },
            "type": "scattergl"
           }
          ],
          "scattermapbox": [
           {
            "marker": {
             "colorbar": {
              "outlinewidth": 0,
              "ticks": ""
             }
            },
            "type": "scattermapbox"
           }
          ],
          "scatterpolar": [
           {
            "marker": {
             "colorbar": {
              "outlinewidth": 0,
              "ticks": ""
             }
            },
            "type": "scatterpolar"
           }
          ],
          "scatterpolargl": [
           {
            "marker": {
             "colorbar": {
              "outlinewidth": 0,
              "ticks": ""
             }
            },
            "type": "scatterpolargl"
           }
          ],
          "scatterternary": [
           {
            "marker": {
             "colorbar": {
              "outlinewidth": 0,
              "ticks": ""
             }
            },
            "type": "scatterternary"
           }
          ],
          "surface": [
           {
            "colorbar": {
             "outlinewidth": 0,
             "ticks": ""
            },
            "colorscale": [
             [
              0,
              "#0d0887"
             ],
             [
              0.1111111111111111,
              "#46039f"
             ],
             [
              0.2222222222222222,
              "#7201a8"
             ],
             [
              0.3333333333333333,
              "#9c179e"
             ],
             [
              0.4444444444444444,
              "#bd3786"
             ],
             [
              0.5555555555555556,
              "#d8576b"
             ],
             [
              0.6666666666666666,
              "#ed7953"
             ],
             [
              0.7777777777777778,
              "#fb9f3a"
             ],
             [
              0.8888888888888888,
              "#fdca26"
             ],
             [
              1,
              "#f0f921"
             ]
            ],
            "type": "surface"
           }
          ],
          "table": [
           {
            "cells": {
             "fill": {
              "color": "#EBF0F8"
             },
             "line": {
              "color": "white"
             }
            },
            "header": {
             "fill": {
              "color": "#C8D4E3"
             },
             "line": {
              "color": "white"
             }
            },
            "type": "table"
           }
          ]
         },
         "layout": {
          "annotationdefaults": {
           "arrowcolor": "#2a3f5f",
           "arrowhead": 0,
           "arrowwidth": 1
          },
          "autotypenumbers": "strict",
          "coloraxis": {
           "colorbar": {
            "outlinewidth": 0,
            "ticks": ""
           }
          },
          "colorscale": {
           "diverging": [
            [
             0,
             "#8e0152"
            ],
            [
             0.1,
             "#c51b7d"
            ],
            [
             0.2,
             "#de77ae"
            ],
            [
             0.3,
             "#f1b6da"
            ],
            [
             0.4,
             "#fde0ef"
            ],
            [
             0.5,
             "#f7f7f7"
            ],
            [
             0.6,
             "#e6f5d0"
            ],
            [
             0.7,
             "#b8e186"
            ],
            [
             0.8,
             "#7fbc41"
            ],
            [
             0.9,
             "#4d9221"
            ],
            [
             1,
             "#276419"
            ]
           ],
           "sequential": [
            [
             0,
             "#0d0887"
            ],
            [
             0.1111111111111111,
             "#46039f"
            ],
            [
             0.2222222222222222,
             "#7201a8"
            ],
            [
             0.3333333333333333,
             "#9c179e"
            ],
            [
             0.4444444444444444,
             "#bd3786"
            ],
            [
             0.5555555555555556,
             "#d8576b"
            ],
            [
             0.6666666666666666,
             "#ed7953"
            ],
            [
             0.7777777777777778,
             "#fb9f3a"
            ],
            [
             0.8888888888888888,
             "#fdca26"
            ],
            [
             1,
             "#f0f921"
            ]
           ],
           "sequentialminus": [
            [
             0,
             "#0d0887"
            ],
            [
             0.1111111111111111,
             "#46039f"
            ],
            [
             0.2222222222222222,
             "#7201a8"
            ],
            [
             0.3333333333333333,
             "#9c179e"
            ],
            [
             0.4444444444444444,
             "#bd3786"
            ],
            [
             0.5555555555555556,
             "#d8576b"
            ],
            [
             0.6666666666666666,
             "#ed7953"
            ],
            [
             0.7777777777777778,
             "#fb9f3a"
            ],
            [
             0.8888888888888888,
             "#fdca26"
            ],
            [
             1,
             "#f0f921"
            ]
           ]
          },
          "colorway": [
           "#636efa",
           "#EF553B",
           "#00cc96",
           "#ab63fa",
           "#FFA15A",
           "#19d3f3",
           "#FF6692",
           "#B6E880",
           "#FF97FF",
           "#FECB52"
          ],
          "font": {
           "color": "#2a3f5f"
          },
          "geo": {
           "bgcolor": "white",
           "lakecolor": "white",
           "landcolor": "#E5ECF6",
           "showlakes": true,
           "showland": true,
           "subunitcolor": "white"
          },
          "hoverlabel": {
           "align": "left"
          },
          "hovermode": "closest",
          "mapbox": {
           "style": "light"
          },
          "paper_bgcolor": "white",
          "plot_bgcolor": "#E5ECF6",
          "polar": {
           "angularaxis": {
            "gridcolor": "white",
            "linecolor": "white",
            "ticks": ""
           },
           "bgcolor": "#E5ECF6",
           "radialaxis": {
            "gridcolor": "white",
            "linecolor": "white",
            "ticks": ""
           }
          },
          "scene": {
           "xaxis": {
            "backgroundcolor": "#E5ECF6",
            "gridcolor": "white",
            "gridwidth": 2,
            "linecolor": "white",
            "showbackground": true,
            "ticks": "",
            "zerolinecolor": "white"
           },
           "yaxis": {
            "backgroundcolor": "#E5ECF6",
            "gridcolor": "white",
            "gridwidth": 2,
            "linecolor": "white",
            "showbackground": true,
            "ticks": "",
            "zerolinecolor": "white"
           },
           "zaxis": {
            "backgroundcolor": "#E5ECF6",
            "gridcolor": "white",
            "gridwidth": 2,
            "linecolor": "white",
            "showbackground": true,
            "ticks": "",
            "zerolinecolor": "white"
           }
          },
          "shapedefaults": {
           "line": {
            "color": "#2a3f5f"
           }
          },
          "ternary": {
           "aaxis": {
            "gridcolor": "white",
            "linecolor": "white",
            "ticks": ""
           },
           "baxis": {
            "gridcolor": "white",
            "linecolor": "white",
            "ticks": ""
           },
           "bgcolor": "#E5ECF6",
           "caxis": {
            "gridcolor": "white",
            "linecolor": "white",
            "ticks": ""
           }
          },
          "title": {
           "x": 0.05
          },
          "xaxis": {
           "automargin": true,
           "gridcolor": "white",
           "linecolor": "white",
           "ticks": "",
           "title": {
            "standoff": 15
           },
           "zerolinecolor": "white",
           "zerolinewidth": 2
          },
          "yaxis": {
           "automargin": true,
           "gridcolor": "white",
           "linecolor": "white",
           "ticks": "",
           "title": {
            "standoff": 15
           },
           "zerolinecolor": "white",
           "zerolinewidth": 2
          }
         }
        },
        "title": {
         "text": "Optimization History Plot"
        },
        "xaxis": {
         "title": {
          "text": "Trial"
         }
        },
        "yaxis": {
         "title": {
          "text": "Objective Value"
         }
        }
       }
      }
     },
     "metadata": {},
     "output_type": "display_data"
    }
   ],
   "source": [
    "# Visualize the optimization history of the Optuna study.\n",
    "# This plot shows how the objective function value has evolved across different trials.\n",
    "\n",
    "optuna.visualization.plot_optimization_history(study)"
   ]
  },
  {
   "cell_type": "code",
   "execution_count": 36,
   "metadata": {},
   "outputs": [
    {
     "data": {
      "application/vnd.plotly.v1+json": {
       "config": {
        "plotlyServerURL": "https://plot.ly"
       },
       "data": [
        {
         "cliponaxis": false,
         "hovertemplate": [
          "n_estimators (IntDistribution): 0.0012378672383154812<extra></extra>",
          "min_samples_split (IntDistribution): 0.006880838932498729<extra></extra>",
          "max_depth (IntDistribution): 0.022945358313259907<extra></extra>",
          "min_samples_leaf (IntDistribution): 0.9689359355159259<extra></extra>"
         ],
         "name": "Objective Value",
         "orientation": "h",
         "text": [
          "<0.01",
          "<0.01",
          "0.02",
          "0.97"
         ],
         "textposition": "outside",
         "type": "bar",
         "x": [
          0.0012378672383154812,
          0.006880838932498729,
          0.022945358313259907,
          0.9689359355159259
         ],
         "y": [
          "n_estimators",
          "min_samples_split",
          "max_depth",
          "min_samples_leaf"
         ]
        }
       ],
       "layout": {
        "template": {
         "data": {
          "bar": [
           {
            "error_x": {
             "color": "#2a3f5f"
            },
            "error_y": {
             "color": "#2a3f5f"
            },
            "marker": {
             "line": {
              "color": "#E5ECF6",
              "width": 0.5
             },
             "pattern": {
              "fillmode": "overlay",
              "size": 10,
              "solidity": 0.2
             }
            },
            "type": "bar"
           }
          ],
          "barpolar": [
           {
            "marker": {
             "line": {
              "color": "#E5ECF6",
              "width": 0.5
             },
             "pattern": {
              "fillmode": "overlay",
              "size": 10,
              "solidity": 0.2
             }
            },
            "type": "barpolar"
           }
          ],
          "carpet": [
           {
            "aaxis": {
             "endlinecolor": "#2a3f5f",
             "gridcolor": "white",
             "linecolor": "white",
             "minorgridcolor": "white",
             "startlinecolor": "#2a3f5f"
            },
            "baxis": {
             "endlinecolor": "#2a3f5f",
             "gridcolor": "white",
             "linecolor": "white",
             "minorgridcolor": "white",
             "startlinecolor": "#2a3f5f"
            },
            "type": "carpet"
           }
          ],
          "choropleth": [
           {
            "colorbar": {
             "outlinewidth": 0,
             "ticks": ""
            },
            "type": "choropleth"
           }
          ],
          "contour": [
           {
            "colorbar": {
             "outlinewidth": 0,
             "ticks": ""
            },
            "colorscale": [
             [
              0,
              "#0d0887"
             ],
             [
              0.1111111111111111,
              "#46039f"
             ],
             [
              0.2222222222222222,
              "#7201a8"
             ],
             [
              0.3333333333333333,
              "#9c179e"
             ],
             [
              0.4444444444444444,
              "#bd3786"
             ],
             [
              0.5555555555555556,
              "#d8576b"
             ],
             [
              0.6666666666666666,
              "#ed7953"
             ],
             [
              0.7777777777777778,
              "#fb9f3a"
             ],
             [
              0.8888888888888888,
              "#fdca26"
             ],
             [
              1,
              "#f0f921"
             ]
            ],
            "type": "contour"
           }
          ],
          "contourcarpet": [
           {
            "colorbar": {
             "outlinewidth": 0,
             "ticks": ""
            },
            "type": "contourcarpet"
           }
          ],
          "heatmap": [
           {
            "colorbar": {
             "outlinewidth": 0,
             "ticks": ""
            },
            "colorscale": [
             [
              0,
              "#0d0887"
             ],
             [
              0.1111111111111111,
              "#46039f"
             ],
             [
              0.2222222222222222,
              "#7201a8"
             ],
             [
              0.3333333333333333,
              "#9c179e"
             ],
             [
              0.4444444444444444,
              "#bd3786"
             ],
             [
              0.5555555555555556,
              "#d8576b"
             ],
             [
              0.6666666666666666,
              "#ed7953"
             ],
             [
              0.7777777777777778,
              "#fb9f3a"
             ],
             [
              0.8888888888888888,
              "#fdca26"
             ],
             [
              1,
              "#f0f921"
             ]
            ],
            "type": "heatmap"
           }
          ],
          "heatmapgl": [
           {
            "colorbar": {
             "outlinewidth": 0,
             "ticks": ""
            },
            "colorscale": [
             [
              0,
              "#0d0887"
             ],
             [
              0.1111111111111111,
              "#46039f"
             ],
             [
              0.2222222222222222,
              "#7201a8"
             ],
             [
              0.3333333333333333,
              "#9c179e"
             ],
             [
              0.4444444444444444,
              "#bd3786"
             ],
             [
              0.5555555555555556,
              "#d8576b"
             ],
             [
              0.6666666666666666,
              "#ed7953"
             ],
             [
              0.7777777777777778,
              "#fb9f3a"
             ],
             [
              0.8888888888888888,
              "#fdca26"
             ],
             [
              1,
              "#f0f921"
             ]
            ],
            "type": "heatmapgl"
           }
          ],
          "histogram": [
           {
            "marker": {
             "pattern": {
              "fillmode": "overlay",
              "size": 10,
              "solidity": 0.2
             }
            },
            "type": "histogram"
           }
          ],
          "histogram2d": [
           {
            "colorbar": {
             "outlinewidth": 0,
             "ticks": ""
            },
            "colorscale": [
             [
              0,
              "#0d0887"
             ],
             [
              0.1111111111111111,
              "#46039f"
             ],
             [
              0.2222222222222222,
              "#7201a8"
             ],
             [
              0.3333333333333333,
              "#9c179e"
             ],
             [
              0.4444444444444444,
              "#bd3786"
             ],
             [
              0.5555555555555556,
              "#d8576b"
             ],
             [
              0.6666666666666666,
              "#ed7953"
             ],
             [
              0.7777777777777778,
              "#fb9f3a"
             ],
             [
              0.8888888888888888,
              "#fdca26"
             ],
             [
              1,
              "#f0f921"
             ]
            ],
            "type": "histogram2d"
           }
          ],
          "histogram2dcontour": [
           {
            "colorbar": {
             "outlinewidth": 0,
             "ticks": ""
            },
            "colorscale": [
             [
              0,
              "#0d0887"
             ],
             [
              0.1111111111111111,
              "#46039f"
             ],
             [
              0.2222222222222222,
              "#7201a8"
             ],
             [
              0.3333333333333333,
              "#9c179e"
             ],
             [
              0.4444444444444444,
              "#bd3786"
             ],
             [
              0.5555555555555556,
              "#d8576b"
             ],
             [
              0.6666666666666666,
              "#ed7953"
             ],
             [
              0.7777777777777778,
              "#fb9f3a"
             ],
             [
              0.8888888888888888,
              "#fdca26"
             ],
             [
              1,
              "#f0f921"
             ]
            ],
            "type": "histogram2dcontour"
           }
          ],
          "mesh3d": [
           {
            "colorbar": {
             "outlinewidth": 0,
             "ticks": ""
            },
            "type": "mesh3d"
           }
          ],
          "parcoords": [
           {
            "line": {
             "colorbar": {
              "outlinewidth": 0,
              "ticks": ""
             }
            },
            "type": "parcoords"
           }
          ],
          "pie": [
           {
            "automargin": true,
            "type": "pie"
           }
          ],
          "scatter": [
           {
            "fillpattern": {
             "fillmode": "overlay",
             "size": 10,
             "solidity": 0.2
            },
            "type": "scatter"
           }
          ],
          "scatter3d": [
           {
            "line": {
             "colorbar": {
              "outlinewidth": 0,
              "ticks": ""
             }
            },
            "marker": {
             "colorbar": {
              "outlinewidth": 0,
              "ticks": ""
             }
            },
            "type": "scatter3d"
           }
          ],
          "scattercarpet": [
           {
            "marker": {
             "colorbar": {
              "outlinewidth": 0,
              "ticks": ""
             }
            },
            "type": "scattercarpet"
           }
          ],
          "scattergeo": [
           {
            "marker": {
             "colorbar": {
              "outlinewidth": 0,
              "ticks": ""
             }
            },
            "type": "scattergeo"
           }
          ],
          "scattergl": [
           {
            "marker": {
             "colorbar": {
              "outlinewidth": 0,
              "ticks": ""
             }
            },
            "type": "scattergl"
           }
          ],
          "scattermapbox": [
           {
            "marker": {
             "colorbar": {
              "outlinewidth": 0,
              "ticks": ""
             }
            },
            "type": "scattermapbox"
           }
          ],
          "scatterpolar": [
           {
            "marker": {
             "colorbar": {
              "outlinewidth": 0,
              "ticks": ""
             }
            },
            "type": "scatterpolar"
           }
          ],
          "scatterpolargl": [
           {
            "marker": {
             "colorbar": {
              "outlinewidth": 0,
              "ticks": ""
             }
            },
            "type": "scatterpolargl"
           }
          ],
          "scatterternary": [
           {
            "marker": {
             "colorbar": {
              "outlinewidth": 0,
              "ticks": ""
             }
            },
            "type": "scatterternary"
           }
          ],
          "surface": [
           {
            "colorbar": {
             "outlinewidth": 0,
             "ticks": ""
            },
            "colorscale": [
             [
              0,
              "#0d0887"
             ],
             [
              0.1111111111111111,
              "#46039f"
             ],
             [
              0.2222222222222222,
              "#7201a8"
             ],
             [
              0.3333333333333333,
              "#9c179e"
             ],
             [
              0.4444444444444444,
              "#bd3786"
             ],
             [
              0.5555555555555556,
              "#d8576b"
             ],
             [
              0.6666666666666666,
              "#ed7953"
             ],
             [
              0.7777777777777778,
              "#fb9f3a"
             ],
             [
              0.8888888888888888,
              "#fdca26"
             ],
             [
              1,
              "#f0f921"
             ]
            ],
            "type": "surface"
           }
          ],
          "table": [
           {
            "cells": {
             "fill": {
              "color": "#EBF0F8"
             },
             "line": {
              "color": "white"
             }
            },
            "header": {
             "fill": {
              "color": "#C8D4E3"
             },
             "line": {
              "color": "white"
             }
            },
            "type": "table"
           }
          ]
         },
         "layout": {
          "annotationdefaults": {
           "arrowcolor": "#2a3f5f",
           "arrowhead": 0,
           "arrowwidth": 1
          },
          "autotypenumbers": "strict",
          "coloraxis": {
           "colorbar": {
            "outlinewidth": 0,
            "ticks": ""
           }
          },
          "colorscale": {
           "diverging": [
            [
             0,
             "#8e0152"
            ],
            [
             0.1,
             "#c51b7d"
            ],
            [
             0.2,
             "#de77ae"
            ],
            [
             0.3,
             "#f1b6da"
            ],
            [
             0.4,
             "#fde0ef"
            ],
            [
             0.5,
             "#f7f7f7"
            ],
            [
             0.6,
             "#e6f5d0"
            ],
            [
             0.7,
             "#b8e186"
            ],
            [
             0.8,
             "#7fbc41"
            ],
            [
             0.9,
             "#4d9221"
            ],
            [
             1,
             "#276419"
            ]
           ],
           "sequential": [
            [
             0,
             "#0d0887"
            ],
            [
             0.1111111111111111,
             "#46039f"
            ],
            [
             0.2222222222222222,
             "#7201a8"
            ],
            [
             0.3333333333333333,
             "#9c179e"
            ],
            [
             0.4444444444444444,
             "#bd3786"
            ],
            [
             0.5555555555555556,
             "#d8576b"
            ],
            [
             0.6666666666666666,
             "#ed7953"
            ],
            [
             0.7777777777777778,
             "#fb9f3a"
            ],
            [
             0.8888888888888888,
             "#fdca26"
            ],
            [
             1,
             "#f0f921"
            ]
           ],
           "sequentialminus": [
            [
             0,
             "#0d0887"
            ],
            [
             0.1111111111111111,
             "#46039f"
            ],
            [
             0.2222222222222222,
             "#7201a8"
            ],
            [
             0.3333333333333333,
             "#9c179e"
            ],
            [
             0.4444444444444444,
             "#bd3786"
            ],
            [
             0.5555555555555556,
             "#d8576b"
            ],
            [
             0.6666666666666666,
             "#ed7953"
            ],
            [
             0.7777777777777778,
             "#fb9f3a"
            ],
            [
             0.8888888888888888,
             "#fdca26"
            ],
            [
             1,
             "#f0f921"
            ]
           ]
          },
          "colorway": [
           "#636efa",
           "#EF553B",
           "#00cc96",
           "#ab63fa",
           "#FFA15A",
           "#19d3f3",
           "#FF6692",
           "#B6E880",
           "#FF97FF",
           "#FECB52"
          ],
          "font": {
           "color": "#2a3f5f"
          },
          "geo": {
           "bgcolor": "white",
           "lakecolor": "white",
           "landcolor": "#E5ECF6",
           "showlakes": true,
           "showland": true,
           "subunitcolor": "white"
          },
          "hoverlabel": {
           "align": "left"
          },
          "hovermode": "closest",
          "mapbox": {
           "style": "light"
          },
          "paper_bgcolor": "white",
          "plot_bgcolor": "#E5ECF6",
          "polar": {
           "angularaxis": {
            "gridcolor": "white",
            "linecolor": "white",
            "ticks": ""
           },
           "bgcolor": "#E5ECF6",
           "radialaxis": {
            "gridcolor": "white",
            "linecolor": "white",
            "ticks": ""
           }
          },
          "scene": {
           "xaxis": {
            "backgroundcolor": "#E5ECF6",
            "gridcolor": "white",
            "gridwidth": 2,
            "linecolor": "white",
            "showbackground": true,
            "ticks": "",
            "zerolinecolor": "white"
           },
           "yaxis": {
            "backgroundcolor": "#E5ECF6",
            "gridcolor": "white",
            "gridwidth": 2,
            "linecolor": "white",
            "showbackground": true,
            "ticks": "",
            "zerolinecolor": "white"
           },
           "zaxis": {
            "backgroundcolor": "#E5ECF6",
            "gridcolor": "white",
            "gridwidth": 2,
            "linecolor": "white",
            "showbackground": true,
            "ticks": "",
            "zerolinecolor": "white"
           }
          },
          "shapedefaults": {
           "line": {
            "color": "#2a3f5f"
           }
          },
          "ternary": {
           "aaxis": {
            "gridcolor": "white",
            "linecolor": "white",
            "ticks": ""
           },
           "baxis": {
            "gridcolor": "white",
            "linecolor": "white",
            "ticks": ""
           },
           "bgcolor": "#E5ECF6",
           "caxis": {
            "gridcolor": "white",
            "linecolor": "white",
            "ticks": ""
           }
          },
          "title": {
           "x": 0.05
          },
          "xaxis": {
           "automargin": true,
           "gridcolor": "white",
           "linecolor": "white",
           "ticks": "",
           "title": {
            "standoff": 15
           },
           "zerolinecolor": "white",
           "zerolinewidth": 2
          },
          "yaxis": {
           "automargin": true,
           "gridcolor": "white",
           "linecolor": "white",
           "ticks": "",
           "title": {
            "standoff": 15
           },
           "zerolinecolor": "white",
           "zerolinewidth": 2
          }
         }
        },
        "title": {
         "text": "Hyperparameter Importances"
        },
        "xaxis": {
         "title": {
          "text": "Hyperparameter Importance"
         }
        },
        "yaxis": {
         "title": {
          "text": "Hyperparameter"
         }
        }
       }
      }
     },
     "metadata": {},
     "output_type": "display_data"
    }
   ],
   "source": [
    "# Visualize the importance of each hyperparameter based on the Optuna study.\n",
    "# This plot helps to understand which hyperparameters most significantly impact the objective function.\n",
    "\n",
    "optuna.visualization.plot_param_importances(study)"
   ]
  },
  {
   "cell_type": "code",
   "execution_count": 37,
   "metadata": {},
   "outputs": [
    {
     "data": {
      "application/vnd.plotly.v1+json": {
       "config": {
        "plotlyServerURL": "https://plot.ly"
       },
       "data": [
        {
         "marker": {
          "color": [
           0,
           1,
           2,
           3,
           4,
           5,
           6,
           7,
           8,
           9,
           10,
           11,
           12,
           13,
           14,
           15,
           16,
           17,
           18,
           19,
           20,
           21,
           22,
           23,
           24,
           25,
           26,
           27,
           28,
           29,
           30,
           31,
           32,
           33,
           34,
           35,
           36,
           37,
           38,
           39,
           40,
           41,
           42,
           43,
           44,
           45,
           46,
           47,
           48,
           49,
           50,
           51,
           52,
           53,
           54,
           55,
           56,
           57,
           58,
           59,
           60,
           61,
           62,
           63,
           64,
           65,
           66,
           67,
           68,
           69,
           70,
           71,
           72,
           73,
           74,
           75,
           76,
           77,
           78,
           79,
           80,
           81,
           82,
           83,
           84,
           85,
           86,
           87,
           88,
           89,
           90,
           91,
           92,
           93,
           94,
           95,
           96,
           97,
           98,
           99,
           100,
           101,
           102,
           103,
           104,
           105,
           106,
           107,
           108,
           109,
           110,
           111,
           112,
           113,
           114,
           115,
           116,
           117,
           118,
           119,
           120,
           121,
           122,
           123,
           124,
           125,
           126,
           127,
           128,
           129,
           130,
           131,
           132,
           133,
           134,
           135,
           136,
           137,
           138,
           139,
           140,
           141,
           142,
           143,
           144,
           145,
           146,
           147,
           148,
           149,
           150,
           151,
           152,
           153,
           154,
           155,
           156,
           157,
           158,
           159,
           160,
           161,
           162,
           163,
           164,
           165,
           166,
           167,
           168,
           169,
           170,
           171,
           172,
           173,
           174,
           175,
           176,
           177,
           178,
           179,
           180,
           181,
           182,
           183,
           184,
           185,
           186,
           187,
           188,
           189,
           190,
           191,
           192,
           193,
           194,
           195,
           196,
           197,
           198,
           199,
           200,
           201,
           202,
           203,
           204,
           205,
           206,
           207,
           208,
           209,
           210,
           211,
           212,
           213,
           214,
           215,
           216,
           217,
           218,
           219,
           220,
           221,
           222,
           223,
           224,
           225,
           226,
           227,
           228,
           229,
           230,
           231,
           232,
           233,
           234,
           235,
           236,
           237,
           238,
           239,
           240,
           241,
           242,
           243,
           244,
           245,
           246,
           247,
           248,
           249
          ],
          "colorbar": {
           "title": {
            "text": "Trial"
           },
           "x": 1,
           "xpad": 40
          },
          "colorscale": [
           [
            0,
            "rgb(247,251,255)"
           ],
           [
            0.125,
            "rgb(222,235,247)"
           ],
           [
            0.25,
            "rgb(198,219,239)"
           ],
           [
            0.375,
            "rgb(158,202,225)"
           ],
           [
            0.5,
            "rgb(107,174,214)"
           ],
           [
            0.625,
            "rgb(66,146,198)"
           ],
           [
            0.75,
            "rgb(33,113,181)"
           ],
           [
            0.875,
            "rgb(8,81,156)"
           ],
           [
            1,
            "rgb(8,48,107)"
           ]
          ],
          "line": {
           "color": "Grey",
           "width": 0.5
          },
          "showscale": true
         },
         "mode": "markers",
         "name": "Feasible Trial",
         "showlegend": false,
         "type": "scatter",
         "x": [
          8,
          22,
          3,
          5,
          22,
          17,
          30,
          18,
          19,
          7,
          3,
          20,
          9,
          28,
          22,
          2,
          10,
          16,
          7,
          29,
          21,
          27,
          18,
          9,
          31,
          14,
          11,
          30,
          7,
          15,
          24,
          18,
          26,
          31,
          11,
          3,
          8,
          25,
          3,
          21,
          21,
          12,
          8,
          9,
          22,
          15,
          3,
          12,
          26,
          18,
          19,
          32,
          9,
          19,
          18,
          12,
          17,
          28,
          32,
          4,
          10,
          12,
          3,
          30,
          32,
          8,
          29,
          10,
          6,
          18,
          13,
          3,
          3,
          13,
          20,
          14,
          31,
          21,
          7,
          29,
          25,
          7,
          22,
          23,
          12,
          31,
          26,
          19,
          19,
          26,
          21,
          19,
          31,
          18,
          10,
          29,
          11,
          25,
          15,
          32,
          11,
          7,
          8,
          28,
          16,
          6,
          3,
          31,
          8,
          32,
          27,
          18,
          11,
          14,
          26,
          7,
          26,
          18,
          2,
          9,
          3,
          12,
          32,
          10,
          24,
          31,
          26,
          4,
          21,
          31,
          10,
          13,
          32,
          7,
          17,
          24,
          14,
          30,
          27,
          29,
          17,
          17,
          25,
          2,
          3,
          14,
          24,
          7,
          2,
          25,
          26,
          10,
          13,
          31,
          18,
          28,
          11,
          14,
          23,
          19,
          21,
          9,
          15,
          22,
          31,
          29,
          27,
          18,
          8,
          18,
          29,
          19,
          14,
          11,
          16,
          11,
          5,
          22,
          22,
          5,
          14,
          25,
          30,
          22,
          17,
          10,
          16,
          6,
          23,
          2,
          8,
          7,
          22,
          7,
          10,
          25,
          11,
          32,
          32,
          15,
          10,
          5,
          4,
          20,
          6,
          17,
          28,
          32,
          32,
          7,
          23,
          27,
          15,
          30,
          6,
          18,
          4,
          28,
          14,
          18,
          15,
          29,
          7,
          26,
          7,
          28,
          16,
          19,
          10,
          5,
          14,
          14,
          14,
          21,
          13,
          25,
          20,
          9,
          12,
          27,
          24,
          23,
          16,
          29,
          29,
          26,
          23,
          4,
          4,
          6
         ],
         "xaxis": "x",
         "y": [
          0.7977248104008667,
          0.7920811582783414,
          0.7977248104008667,
          0.8202009258347287,
          0.8117502216093765,
          0.7892741061755146,
          0.810381168127647,
          0.801950162513543,
          0.8103516202107752,
          0.813148823007978,
          0.8047572146163695,
          0.7977051117896188,
          0.79068255687974,
          0.8216093765389539,
          0.8061656653205949,
          0.7892741061755146,
          0.8131685216192258,
          0.8173840244262781,
          0.7878853540825371,
          0.7878755047769131,
          0.8019501625135428,
          0.8005417118093174,
          0.7920811582783414,
          0.8173840244262779,
          0.8173840244262781,
          0.8145769723234514,
          0.8061656653205949,
          0.8075544174135724,
          0.8173840244262779,
          0.79068255687974,
          0.79068255687974,
          0.8131783709248499,
          0.7892741061755146,
          0.8117600709150006,
          0.8089628681177977,
          0.8047670639219936,
          0.8075642667191965,
          0.8201910765291048,
          0.7963163596966414,
          0.8061656653205949,
          0.8061656653205949,
          0.7934896089825668,
          0.79068255687974,
          0.8005417118093174,
          0.8047572146163695,
          0.7878853540825371,
          0.7892839554811386,
          0.7892741061755146,
          0.79068255687974,
          0.8047670639219936,
          0.8061656653205949,
          0.8061656653205949,
          0.810381168127647,
          0.8159755737220526,
          0.7892839554811386,
          0.817393873731902,
          0.7920811582783414,
          0.8131685216192259,
          0.7892741061755146,
          0.8047572146163695,
          0.8187727765192555,
          0.810371318822023,
          0.7892839554811386,
          0.8131685216192259,
          0.8061656653205949,
          0.7934896089825668,
          0.7878755047769131,
          0.8061656653205949,
          0.7934896089825668,
          0.8173840244262779,
          0.8075544174135724,
          0.7977248104008667,
          0.7963163596966414,
          0.8033586132177681,
          0.801950162513543,
          0.810371318822023,
          0.7892839554811386,
          0.79068255687974,
          0.79068255687974,
          0.79068255687974,
          0.8047572146163695,
          0.8019501625135428,
          0.8173840244262781,
          0.7977248104008667,
          0.7920910075839653,
          0.8061656653205949,
          0.7920811582783414,
          0.79068255687974,
          0.7920910075839653,
          0.8145572737122034,
          0.817393873731902,
          0.8188023244361272,
          0.7878853540825371,
          0.79068255687974,
          0.8215995272333301,
          0.8159657244164287,
          0.7892741061755146,
          0.801950162513543,
          0.801950162513543,
          0.8061656653205949,
          0.8005220131980696,
          0.7977051117896188,
          0.8061656653205949,
          0.7892839554811386,
          0.7934896089825668,
          0.7878755047769131,
          0.8019501625135428,
          0.8103713188220232,
          0.801950162513543,
          0.8061656653205949,
          0.817393873731902,
          0.8201812272234807,
          0.7920910075839653,
          0.794907908992416,
          0.7878853540825371,
          0.8061656653205949,
          0.8089727174234216,
          0.8159755737220525,
          0.794907908992416,
          0.8061656653205949,
          0.8047572146163695,
          0.7934896089825668,
          0.8187924751305033,
          0.801950162513543,
          0.8145769723234512,
          0.8061459667093469,
          0.79068255687974,
          0.7934896089825668,
          0.79068255687974,
          0.8145769723234512,
          0.79068255687974,
          0.8033586132177681,
          0.8075642667191962,
          0.79068255687974,
          0.79068255687974,
          0.8089628681177977,
          0.7878656554712893,
          0.8047670639219936,
          0.79068255687974,
          0.8201910765291046,
          0.7962966610853935,
          0.8075544174135724,
          0.8075642667191962,
          0.7892741061755146,
          0.7934896089825668,
          0.8187727765192555,
          0.8061656653205949,
          0.8047670639219936,
          0.790692406185364,
          0.8117797695262485,
          0.8229981286319316,
          0.8033586132177681,
          0.8159657244164287,
          0.7920910075839653,
          0.8202009258347287,
          0.8159657244164287,
          0.8145769723234514,
          0.817374175120654,
          0.79068255687974,
          0.79068255687974,
          0.8103614695163991,
          0.79068255687974,
          0.7948980596867921,
          0.8033586132177681,
          0.801950162513543,
          0.817374175120654,
          0.7934896089825668,
          0.7920811582783414,
          0.8173840244262779,
          0.7920811582783414,
          0.79068255687974,
          0.8202107751403526,
          0.8145572737122032,
          0.8047670639219936,
          0.817393873731902,
          0.7920811582783414,
          0.8173840244262781,
          0.801950162513543,
          0.801950162513543,
          0.8033487639121443,
          0.79068255687974,
          0.8188121737417511,
          0.79068255687974,
          0.8173840244262781,
          0.8187826258248794,
          0.7920811582783414,
          0.8061656653205949,
          0.8047670639219936,
          0.8187826258248794,
          0.7850684526740864,
          0.8061558160149709,
          0.8033586132177681,
          0.79068255687974,
          0.8061656653205949,
          0.8159755737220526,
          0.7878853540825371,
          0.8005417118093174,
          0.7977248104008667,
          0.8117797695262483,
          0.8145671230178273,
          0.8047473653107456,
          0.7948980596867921,
          0.7934896089825668,
          0.7794937456909288,
          0.79068255687974,
          0.8173840244262779,
          0.8061656653205949,
          0.7934994582881907,
          0.7934896089825668,
          0.7878755047769131,
          0.7920910075839653,
          0.79068255687974,
          0.8061558160149709,
          0.7878853540825371,
          0.79068255687974,
          0.8033586132177681,
          0.7878755047769131,
          0.8159854230276766,
          0.7934896089825668,
          0.821609376538954,
          0.79068255687974,
          0.8061656653205949,
          0.8187924751305033,
          0.8103713188220232,
          0.79068255687974,
          0.817393873731902,
          0.8201812272234807,
          0.79068255687974,
          0.817374175120654,
          0.801950162513543,
          0.8187924751305033,
          0.79068255687974,
          0.8033586132177681,
          0.7892839554811386,
          0.801950162513543,
          0.79068255687974,
          0.7878656554712893,
          0.7977051117896188,
          0.817393873731902,
          0.8089727174234216,
          0.8187924751305033,
          0.8117600709150006,
          0.7963065103910175,
          0.79068255687974,
          0.7948980596867921,
          0.7892839554811386,
          0.8202009258347287,
          0.7991332611050921,
          0.8047670639219936,
          0.7878853540825371
         ],
         "yaxis": "y"
        },
        {
         "marker": {
          "color": [
           0,
           1,
           2,
           3,
           4,
           5,
           6,
           7,
           8,
           9,
           10,
           11,
           12,
           13,
           14,
           15,
           16,
           17,
           18,
           19,
           20,
           21,
           22,
           23,
           24,
           25,
           26,
           27,
           28,
           29,
           30,
           31,
           32,
           33,
           34,
           35,
           36,
           37,
           38,
           39,
           40,
           41,
           42,
           43,
           44,
           45,
           46,
           47,
           48,
           49,
           50,
           51,
           52,
           53,
           54,
           55,
           56,
           57,
           58,
           59,
           60,
           61,
           62,
           63,
           64,
           65,
           66,
           67,
           68,
           69,
           70,
           71,
           72,
           73,
           74,
           75,
           76,
           77,
           78,
           79,
           80,
           81,
           82,
           83,
           84,
           85,
           86,
           87,
           88,
           89,
           90,
           91,
           92,
           93,
           94,
           95,
           96,
           97,
           98,
           99,
           100,
           101,
           102,
           103,
           104,
           105,
           106,
           107,
           108,
           109,
           110,
           111,
           112,
           113,
           114,
           115,
           116,
           117,
           118,
           119,
           120,
           121,
           122,
           123,
           124,
           125,
           126,
           127,
           128,
           129,
           130,
           131,
           132,
           133,
           134,
           135,
           136,
           137,
           138,
           139,
           140,
           141,
           142,
           143,
           144,
           145,
           146,
           147,
           148,
           149,
           150,
           151,
           152,
           153,
           154,
           155,
           156,
           157,
           158,
           159,
           160,
           161,
           162,
           163,
           164,
           165,
           166,
           167,
           168,
           169,
           170,
           171,
           172,
           173,
           174,
           175,
           176,
           177,
           178,
           179,
           180,
           181,
           182,
           183,
           184,
           185,
           186,
           187,
           188,
           189,
           190,
           191,
           192,
           193,
           194,
           195,
           196,
           197,
           198,
           199,
           200,
           201,
           202,
           203,
           204,
           205,
           206,
           207,
           208,
           209,
           210,
           211,
           212,
           213,
           214,
           215,
           216,
           217,
           218,
           219,
           220,
           221,
           222,
           223,
           224,
           225,
           226,
           227,
           228,
           229,
           230,
           231,
           232,
           233,
           234,
           235,
           236,
           237,
           238,
           239,
           240,
           241,
           242,
           243,
           244,
           245,
           246,
           247,
           248,
           249
          ],
          "colorbar": {
           "title": {
            "text": "Trial"
           },
           "x": 1,
           "xpad": 40
          },
          "colorscale": [
           [
            0,
            "rgb(247,251,255)"
           ],
           [
            0.125,
            "rgb(222,235,247)"
           ],
           [
            0.25,
            "rgb(198,219,239)"
           ],
           [
            0.375,
            "rgb(158,202,225)"
           ],
           [
            0.5,
            "rgb(107,174,214)"
           ],
           [
            0.625,
            "rgb(66,146,198)"
           ],
           [
            0.75,
            "rgb(33,113,181)"
           ],
           [
            0.875,
            "rgb(8,81,156)"
           ],
           [
            1,
            "rgb(8,48,107)"
           ]
          ],
          "line": {
           "color": "Grey",
           "width": 0.5
          },
          "showscale": false
         },
         "mode": "markers",
         "name": "Feasible Trial",
         "showlegend": false,
         "type": "scatter",
         "x": [
          20,
          23,
          15,
          4,
          4,
          28,
          12,
          17,
          5,
          1,
          6,
          21,
          25,
          5,
          14,
          16,
          9,
          7,
          32,
          30,
          17,
          18,
          23,
          2,
          7,
          4,
          15,
          11,
          7,
          29,
          26,
          8,
          29,
          1,
          10,
          12,
          11,
          5,
          18,
          13,
          14,
          21,
          27,
          18,
          15,
          32,
          28,
          26,
          26,
          15,
          12,
          15,
          12,
          2,
          32,
          1,
          24,
          9,
          29,
          11,
          3,
          11,
          28,
          3,
          15,
          24,
          30,
          13,
          23,
          6,
          2,
          18,
          18,
          16,
          16,
          10,
          31,
          25,
          27,
          24,
          15,
          16,
          2,
          18,
          23,
          13,
          22,
          27,
          22,
          1,
          8,
          6,
          32,
          25,
          8,
          9,
          26,
          17,
          16,
          15,
          19,
          21,
          15,
          32,
          22,
          30,
          15,
          12,
          17,
          12,
          4,
          3,
          26,
          20,
          30,
          12,
          10,
          6,
          6,
          13,
          4,
          22,
          3,
          17,
          10,
          2,
          26,
          22,
          25,
          3,
          28,
          14,
          12,
          26,
          25,
          11,
          28,
          15,
          24,
          8,
          22,
          11,
          12,
          17,
          20,
          3,
          13,
          14,
          3,
          8,
          5,
          16,
          9,
          23,
          5,
          9,
          8,
          9,
          27,
          28,
          3,
          29,
          22,
          15,
          17,
          8,
          25,
          24,
          5,
          24,
          26,
          4,
          9,
          15,
          4,
          23,
          4,
          17,
          17,
          17,
          27,
          5,
          27,
          6,
          5,
          24,
          12,
          14,
          9,
          32,
          11,
          16,
          26,
          13,
          3,
          32,
          18,
          19,
          10,
          9,
          15,
          22,
          22,
          1,
          25,
          6,
          13,
          23,
          23,
          32,
          22,
          28,
          12,
          32,
          24,
          15,
          28,
          4,
          23,
          4,
          27,
          13,
          6,
          10,
          27,
          3,
          3,
          28,
          9,
          18,
          6,
          27,
          16,
          29,
          17,
          25,
          29,
          21,
          2,
          11,
          7,
          10,
          23,
          24,
          22,
          32,
          8,
          18,
          10,
          31
         ],
         "xaxis": "x2",
         "y": [
          0.7977248104008667,
          0.7920811582783414,
          0.7977248104008667,
          0.8202009258347287,
          0.8117502216093765,
          0.7892741061755146,
          0.810381168127647,
          0.801950162513543,
          0.8103516202107752,
          0.813148823007978,
          0.8047572146163695,
          0.7977051117896188,
          0.79068255687974,
          0.8216093765389539,
          0.8061656653205949,
          0.7892741061755146,
          0.8131685216192258,
          0.8173840244262781,
          0.7878853540825371,
          0.7878755047769131,
          0.8019501625135428,
          0.8005417118093174,
          0.7920811582783414,
          0.8173840244262779,
          0.8173840244262781,
          0.8145769723234514,
          0.8061656653205949,
          0.8075544174135724,
          0.8173840244262779,
          0.79068255687974,
          0.79068255687974,
          0.8131783709248499,
          0.7892741061755146,
          0.8117600709150006,
          0.8089628681177977,
          0.8047670639219936,
          0.8075642667191965,
          0.8201910765291048,
          0.7963163596966414,
          0.8061656653205949,
          0.8061656653205949,
          0.7934896089825668,
          0.79068255687974,
          0.8005417118093174,
          0.8047572146163695,
          0.7878853540825371,
          0.7892839554811386,
          0.7892741061755146,
          0.79068255687974,
          0.8047670639219936,
          0.8061656653205949,
          0.8061656653205949,
          0.810381168127647,
          0.8159755737220526,
          0.7892839554811386,
          0.817393873731902,
          0.7920811582783414,
          0.8131685216192259,
          0.7892741061755146,
          0.8047572146163695,
          0.8187727765192555,
          0.810371318822023,
          0.7892839554811386,
          0.8131685216192259,
          0.8061656653205949,
          0.7934896089825668,
          0.7878755047769131,
          0.8061656653205949,
          0.7934896089825668,
          0.8173840244262779,
          0.8075544174135724,
          0.7977248104008667,
          0.7963163596966414,
          0.8033586132177681,
          0.801950162513543,
          0.810371318822023,
          0.7892839554811386,
          0.79068255687974,
          0.79068255687974,
          0.79068255687974,
          0.8047572146163695,
          0.8019501625135428,
          0.8173840244262781,
          0.7977248104008667,
          0.7920910075839653,
          0.8061656653205949,
          0.7920811582783414,
          0.79068255687974,
          0.7920910075839653,
          0.8145572737122034,
          0.817393873731902,
          0.8188023244361272,
          0.7878853540825371,
          0.79068255687974,
          0.8215995272333301,
          0.8159657244164287,
          0.7892741061755146,
          0.801950162513543,
          0.801950162513543,
          0.8061656653205949,
          0.8005220131980696,
          0.7977051117896188,
          0.8061656653205949,
          0.7892839554811386,
          0.7934896089825668,
          0.7878755047769131,
          0.8019501625135428,
          0.8103713188220232,
          0.801950162513543,
          0.8061656653205949,
          0.817393873731902,
          0.8201812272234807,
          0.7920910075839653,
          0.794907908992416,
          0.7878853540825371,
          0.8061656653205949,
          0.8089727174234216,
          0.8159755737220525,
          0.794907908992416,
          0.8061656653205949,
          0.8047572146163695,
          0.7934896089825668,
          0.8187924751305033,
          0.801950162513543,
          0.8145769723234512,
          0.8061459667093469,
          0.79068255687974,
          0.7934896089825668,
          0.79068255687974,
          0.8145769723234512,
          0.79068255687974,
          0.8033586132177681,
          0.8075642667191962,
          0.79068255687974,
          0.79068255687974,
          0.8089628681177977,
          0.7878656554712893,
          0.8047670639219936,
          0.79068255687974,
          0.8201910765291046,
          0.7962966610853935,
          0.8075544174135724,
          0.8075642667191962,
          0.7892741061755146,
          0.7934896089825668,
          0.8187727765192555,
          0.8061656653205949,
          0.8047670639219936,
          0.790692406185364,
          0.8117797695262485,
          0.8229981286319316,
          0.8033586132177681,
          0.8159657244164287,
          0.7920910075839653,
          0.8202009258347287,
          0.8159657244164287,
          0.8145769723234514,
          0.817374175120654,
          0.79068255687974,
          0.79068255687974,
          0.8103614695163991,
          0.79068255687974,
          0.7948980596867921,
          0.8033586132177681,
          0.801950162513543,
          0.817374175120654,
          0.7934896089825668,
          0.7920811582783414,
          0.8173840244262779,
          0.7920811582783414,
          0.79068255687974,
          0.8202107751403526,
          0.8145572737122032,
          0.8047670639219936,
          0.817393873731902,
          0.7920811582783414,
          0.8173840244262781,
          0.801950162513543,
          0.801950162513543,
          0.8033487639121443,
          0.79068255687974,
          0.8188121737417511,
          0.79068255687974,
          0.8173840244262781,
          0.8187826258248794,
          0.7920811582783414,
          0.8061656653205949,
          0.8047670639219936,
          0.8187826258248794,
          0.7850684526740864,
          0.8061558160149709,
          0.8033586132177681,
          0.79068255687974,
          0.8061656653205949,
          0.8159755737220526,
          0.7878853540825371,
          0.8005417118093174,
          0.7977248104008667,
          0.8117797695262483,
          0.8145671230178273,
          0.8047473653107456,
          0.7948980596867921,
          0.7934896089825668,
          0.7794937456909288,
          0.79068255687974,
          0.8173840244262779,
          0.8061656653205949,
          0.7934994582881907,
          0.7934896089825668,
          0.7878755047769131,
          0.7920910075839653,
          0.79068255687974,
          0.8061558160149709,
          0.7878853540825371,
          0.79068255687974,
          0.8033586132177681,
          0.7878755047769131,
          0.8159854230276766,
          0.7934896089825668,
          0.821609376538954,
          0.79068255687974,
          0.8061656653205949,
          0.8187924751305033,
          0.8103713188220232,
          0.79068255687974,
          0.817393873731902,
          0.8201812272234807,
          0.79068255687974,
          0.817374175120654,
          0.801950162513543,
          0.8187924751305033,
          0.79068255687974,
          0.8033586132177681,
          0.7892839554811386,
          0.801950162513543,
          0.79068255687974,
          0.7878656554712893,
          0.7977051117896188,
          0.817393873731902,
          0.8089727174234216,
          0.8187924751305033,
          0.8117600709150006,
          0.7963065103910175,
          0.79068255687974,
          0.7948980596867921,
          0.7892839554811386,
          0.8202009258347287,
          0.7991332611050921,
          0.8047670639219936,
          0.7878853540825371
         ],
         "yaxis": "y2"
        },
        {
         "marker": {
          "color": [
           0,
           1,
           2,
           3,
           4,
           5,
           6,
           7,
           8,
           9,
           10,
           11,
           12,
           13,
           14,
           15,
           16,
           17,
           18,
           19,
           20,
           21,
           22,
           23,
           24,
           25,
           26,
           27,
           28,
           29,
           30,
           31,
           32,
           33,
           34,
           35,
           36,
           37,
           38,
           39,
           40,
           41,
           42,
           43,
           44,
           45,
           46,
           47,
           48,
           49,
           50,
           51,
           52,
           53,
           54,
           55,
           56,
           57,
           58,
           59,
           60,
           61,
           62,
           63,
           64,
           65,
           66,
           67,
           68,
           69,
           70,
           71,
           72,
           73,
           74,
           75,
           76,
           77,
           78,
           79,
           80,
           81,
           82,
           83,
           84,
           85,
           86,
           87,
           88,
           89,
           90,
           91,
           92,
           93,
           94,
           95,
           96,
           97,
           98,
           99,
           100,
           101,
           102,
           103,
           104,
           105,
           106,
           107,
           108,
           109,
           110,
           111,
           112,
           113,
           114,
           115,
           116,
           117,
           118,
           119,
           120,
           121,
           122,
           123,
           124,
           125,
           126,
           127,
           128,
           129,
           130,
           131,
           132,
           133,
           134,
           135,
           136,
           137,
           138,
           139,
           140,
           141,
           142,
           143,
           144,
           145,
           146,
           147,
           148,
           149,
           150,
           151,
           152,
           153,
           154,
           155,
           156,
           157,
           158,
           159,
           160,
           161,
           162,
           163,
           164,
           165,
           166,
           167,
           168,
           169,
           170,
           171,
           172,
           173,
           174,
           175,
           176,
           177,
           178,
           179,
           180,
           181,
           182,
           183,
           184,
           185,
           186,
           187,
           188,
           189,
           190,
           191,
           192,
           193,
           194,
           195,
           196,
           197,
           198,
           199,
           200,
           201,
           202,
           203,
           204,
           205,
           206,
           207,
           208,
           209,
           210,
           211,
           212,
           213,
           214,
           215,
           216,
           217,
           218,
           219,
           220,
           221,
           222,
           223,
           224,
           225,
           226,
           227,
           228,
           229,
           230,
           231,
           232,
           233,
           234,
           235,
           236,
           237,
           238,
           239,
           240,
           241,
           242,
           243,
           244,
           245,
           246,
           247,
           248,
           249
          ],
          "colorbar": {
           "title": {
            "text": "Trial"
           },
           "x": 1,
           "xpad": 40
          },
          "colorscale": [
           [
            0,
            "rgb(247,251,255)"
           ],
           [
            0.125,
            "rgb(222,235,247)"
           ],
           [
            0.25,
            "rgb(198,219,239)"
           ],
           [
            0.375,
            "rgb(158,202,225)"
           ],
           [
            0.5,
            "rgb(107,174,214)"
           ],
           [
            0.625,
            "rgb(66,146,198)"
           ],
           [
            0.75,
            "rgb(33,113,181)"
           ],
           [
            0.875,
            "rgb(8,81,156)"
           ],
           [
            1,
            "rgb(8,48,107)"
           ]
          ],
          "line": {
           "color": "Grey",
           "width": 0.5
          },
          "showscale": false
         },
         "mode": "markers",
         "name": "Feasible Trial",
         "showlegend": false,
         "type": "scatter",
         "x": [
          2,
          20,
          15,
          6,
          10,
          9,
          28,
          20,
          5,
          11,
          9,
          23,
          11,
          9,
          8,
          31,
          29,
          21,
          9,
          15,
          5,
          17,
          25,
          13,
          12,
          14,
          2,
          4,
          27,
          9,
          4,
          26,
          7,
          28,
          15,
          3,
          26,
          25,
          6,
          15,
          7,
          16,
          31,
          4,
          20,
          23,
          27,
          13,
          2,
          30,
          14,
          13,
          27,
          9,
          24,
          21,
          12,
          20,
          10,
          5,
          12,
          6,
          9,
          3,
          5,
          26,
          8,
          28,
          27,
          11,
          6,
          19,
          25,
          26,
          16,
          19,
          10,
          20,
          17,
          5,
          23,
          13,
          24,
          15,
          11,
          22,
          26,
          6,
          6,
          17,
          19,
          18,
          14,
          30,
          3,
          11,
          32,
          20,
          14,
          5,
          21,
          14,
          3,
          21,
          20,
          21,
          7,
          4,
          18,
          31,
          22,
          7,
          12,
          31,
          27,
          7,
          32,
          4,
          24,
          5,
          11,
          9,
          30,
          6,
          10,
          4,
          4,
          24,
          5,
          15,
          9,
          20,
          23,
          32,
          11,
          29,
          27,
          23,
          31,
          11,
          9,
          2,
          13,
          30,
          9,
          3,
          5,
          25,
          29,
          23,
          9,
          13,
          6,
          19,
          26,
          12,
          26,
          15,
          21,
          10,
          2,
          14,
          15,
          14,
          3,
          4,
          6,
          26,
          25,
          20,
          21,
          20,
          9,
          28,
          3,
          9,
          17,
          10,
          22,
          27,
          18,
          9,
          14,
          32,
          3,
          20,
          10,
          2,
          11,
          11,
          19,
          19,
          23,
          4,
          15,
          19,
          5,
          21,
          28,
          5,
          4,
          10,
          8,
          2,
          30,
          8,
          30,
          27,
          24,
          20,
          32,
          10,
          13,
          25,
          12,
          10,
          28,
          16,
          31,
          17,
          5,
          13,
          22,
          28,
          10,
          15,
          7,
          17,
          3,
          18,
          28,
          22,
          31,
          10,
          25,
          13,
          18,
          27,
          28,
          27,
          6,
          3,
          9,
          23,
          14,
          19,
          10,
          24,
          18,
          29
         ],
         "xaxis": "x3",
         "y": [
          0.7977248104008667,
          0.7920811582783414,
          0.7977248104008667,
          0.8202009258347287,
          0.8117502216093765,
          0.7892741061755146,
          0.810381168127647,
          0.801950162513543,
          0.8103516202107752,
          0.813148823007978,
          0.8047572146163695,
          0.7977051117896188,
          0.79068255687974,
          0.8216093765389539,
          0.8061656653205949,
          0.7892741061755146,
          0.8131685216192258,
          0.8173840244262781,
          0.7878853540825371,
          0.7878755047769131,
          0.8019501625135428,
          0.8005417118093174,
          0.7920811582783414,
          0.8173840244262779,
          0.8173840244262781,
          0.8145769723234514,
          0.8061656653205949,
          0.8075544174135724,
          0.8173840244262779,
          0.79068255687974,
          0.79068255687974,
          0.8131783709248499,
          0.7892741061755146,
          0.8117600709150006,
          0.8089628681177977,
          0.8047670639219936,
          0.8075642667191965,
          0.8201910765291048,
          0.7963163596966414,
          0.8061656653205949,
          0.8061656653205949,
          0.7934896089825668,
          0.79068255687974,
          0.8005417118093174,
          0.8047572146163695,
          0.7878853540825371,
          0.7892839554811386,
          0.7892741061755146,
          0.79068255687974,
          0.8047670639219936,
          0.8061656653205949,
          0.8061656653205949,
          0.810381168127647,
          0.8159755737220526,
          0.7892839554811386,
          0.817393873731902,
          0.7920811582783414,
          0.8131685216192259,
          0.7892741061755146,
          0.8047572146163695,
          0.8187727765192555,
          0.810371318822023,
          0.7892839554811386,
          0.8131685216192259,
          0.8061656653205949,
          0.7934896089825668,
          0.7878755047769131,
          0.8061656653205949,
          0.7934896089825668,
          0.8173840244262779,
          0.8075544174135724,
          0.7977248104008667,
          0.7963163596966414,
          0.8033586132177681,
          0.801950162513543,
          0.810371318822023,
          0.7892839554811386,
          0.79068255687974,
          0.79068255687974,
          0.79068255687974,
          0.8047572146163695,
          0.8019501625135428,
          0.8173840244262781,
          0.7977248104008667,
          0.7920910075839653,
          0.8061656653205949,
          0.7920811582783414,
          0.79068255687974,
          0.7920910075839653,
          0.8145572737122034,
          0.817393873731902,
          0.8188023244361272,
          0.7878853540825371,
          0.79068255687974,
          0.8215995272333301,
          0.8159657244164287,
          0.7892741061755146,
          0.801950162513543,
          0.801950162513543,
          0.8061656653205949,
          0.8005220131980696,
          0.7977051117896188,
          0.8061656653205949,
          0.7892839554811386,
          0.7934896089825668,
          0.7878755047769131,
          0.8019501625135428,
          0.8103713188220232,
          0.801950162513543,
          0.8061656653205949,
          0.817393873731902,
          0.8201812272234807,
          0.7920910075839653,
          0.794907908992416,
          0.7878853540825371,
          0.8061656653205949,
          0.8089727174234216,
          0.8159755737220525,
          0.794907908992416,
          0.8061656653205949,
          0.8047572146163695,
          0.7934896089825668,
          0.8187924751305033,
          0.801950162513543,
          0.8145769723234512,
          0.8061459667093469,
          0.79068255687974,
          0.7934896089825668,
          0.79068255687974,
          0.8145769723234512,
          0.79068255687974,
          0.8033586132177681,
          0.8075642667191962,
          0.79068255687974,
          0.79068255687974,
          0.8089628681177977,
          0.7878656554712893,
          0.8047670639219936,
          0.79068255687974,
          0.8201910765291046,
          0.7962966610853935,
          0.8075544174135724,
          0.8075642667191962,
          0.7892741061755146,
          0.7934896089825668,
          0.8187727765192555,
          0.8061656653205949,
          0.8047670639219936,
          0.790692406185364,
          0.8117797695262485,
          0.8229981286319316,
          0.8033586132177681,
          0.8159657244164287,
          0.7920910075839653,
          0.8202009258347287,
          0.8159657244164287,
          0.8145769723234514,
          0.817374175120654,
          0.79068255687974,
          0.79068255687974,
          0.8103614695163991,
          0.79068255687974,
          0.7948980596867921,
          0.8033586132177681,
          0.801950162513543,
          0.817374175120654,
          0.7934896089825668,
          0.7920811582783414,
          0.8173840244262779,
          0.7920811582783414,
          0.79068255687974,
          0.8202107751403526,
          0.8145572737122032,
          0.8047670639219936,
          0.817393873731902,
          0.7920811582783414,
          0.8173840244262781,
          0.801950162513543,
          0.801950162513543,
          0.8033487639121443,
          0.79068255687974,
          0.8188121737417511,
          0.79068255687974,
          0.8173840244262781,
          0.8187826258248794,
          0.7920811582783414,
          0.8061656653205949,
          0.8047670639219936,
          0.8187826258248794,
          0.7850684526740864,
          0.8061558160149709,
          0.8033586132177681,
          0.79068255687974,
          0.8061656653205949,
          0.8159755737220526,
          0.7878853540825371,
          0.8005417118093174,
          0.7977248104008667,
          0.8117797695262483,
          0.8145671230178273,
          0.8047473653107456,
          0.7948980596867921,
          0.7934896089825668,
          0.7794937456909288,
          0.79068255687974,
          0.8173840244262779,
          0.8061656653205949,
          0.7934994582881907,
          0.7934896089825668,
          0.7878755047769131,
          0.7920910075839653,
          0.79068255687974,
          0.8061558160149709,
          0.7878853540825371,
          0.79068255687974,
          0.8033586132177681,
          0.7878755047769131,
          0.8159854230276766,
          0.7934896089825668,
          0.821609376538954,
          0.79068255687974,
          0.8061656653205949,
          0.8187924751305033,
          0.8103713188220232,
          0.79068255687974,
          0.817393873731902,
          0.8201812272234807,
          0.79068255687974,
          0.817374175120654,
          0.801950162513543,
          0.8187924751305033,
          0.79068255687974,
          0.8033586132177681,
          0.7892839554811386,
          0.801950162513543,
          0.79068255687974,
          0.7878656554712893,
          0.7977051117896188,
          0.817393873731902,
          0.8089727174234216,
          0.8187924751305033,
          0.8117600709150006,
          0.7963065103910175,
          0.79068255687974,
          0.7948980596867921,
          0.7892839554811386,
          0.8202009258347287,
          0.7991332611050921,
          0.8047670639219936,
          0.7878853540825371
         ],
         "yaxis": "y3"
        },
        {
         "marker": {
          "color": [
           0,
           1,
           2,
           3,
           4,
           5,
           6,
           7,
           8,
           9,
           10,
           11,
           12,
           13,
           14,
           15,
           16,
           17,
           18,
           19,
           20,
           21,
           22,
           23,
           24,
           25,
           26,
           27,
           28,
           29,
           30,
           31,
           32,
           33,
           34,
           35,
           36,
           37,
           38,
           39,
           40,
           41,
           42,
           43,
           44,
           45,
           46,
           47,
           48,
           49,
           50,
           51,
           52,
           53,
           54,
           55,
           56,
           57,
           58,
           59,
           60,
           61,
           62,
           63,
           64,
           65,
           66,
           67,
           68,
           69,
           70,
           71,
           72,
           73,
           74,
           75,
           76,
           77,
           78,
           79,
           80,
           81,
           82,
           83,
           84,
           85,
           86,
           87,
           88,
           89,
           90,
           91,
           92,
           93,
           94,
           95,
           96,
           97,
           98,
           99,
           100,
           101,
           102,
           103,
           104,
           105,
           106,
           107,
           108,
           109,
           110,
           111,
           112,
           113,
           114,
           115,
           116,
           117,
           118,
           119,
           120,
           121,
           122,
           123,
           124,
           125,
           126,
           127,
           128,
           129,
           130,
           131,
           132,
           133,
           134,
           135,
           136,
           137,
           138,
           139,
           140,
           141,
           142,
           143,
           144,
           145,
           146,
           147,
           148,
           149,
           150,
           151,
           152,
           153,
           154,
           155,
           156,
           157,
           158,
           159,
           160,
           161,
           162,
           163,
           164,
           165,
           166,
           167,
           168,
           169,
           170,
           171,
           172,
           173,
           174,
           175,
           176,
           177,
           178,
           179,
           180,
           181,
           182,
           183,
           184,
           185,
           186,
           187,
           188,
           189,
           190,
           191,
           192,
           193,
           194,
           195,
           196,
           197,
           198,
           199,
           200,
           201,
           202,
           203,
           204,
           205,
           206,
           207,
           208,
           209,
           210,
           211,
           212,
           213,
           214,
           215,
           216,
           217,
           218,
           219,
           220,
           221,
           222,
           223,
           224,
           225,
           226,
           227,
           228,
           229,
           230,
           231,
           232,
           233,
           234,
           235,
           236,
           237,
           238,
           239,
           240,
           241,
           242,
           243,
           244,
           245,
           246,
           247,
           248,
           249
          ],
          "colorbar": {
           "title": {
            "text": "Trial"
           },
           "x": 1,
           "xpad": 40
          },
          "colorscale": [
           [
            0,
            "rgb(247,251,255)"
           ],
           [
            0.125,
            "rgb(222,235,247)"
           ],
           [
            0.25,
            "rgb(198,219,239)"
           ],
           [
            0.375,
            "rgb(158,202,225)"
           ],
           [
            0.5,
            "rgb(107,174,214)"
           ],
           [
            0.625,
            "rgb(66,146,198)"
           ],
           [
            0.75,
            "rgb(33,113,181)"
           ],
           [
            0.875,
            "rgb(8,81,156)"
           ],
           [
            1,
            "rgb(8,48,107)"
           ]
          ],
          "line": {
           "color": "Grey",
           "width": 0.5
          },
          "showscale": false
         },
         "mode": "markers",
         "name": "Feasible Trial",
         "showlegend": false,
         "type": "scatter",
         "x": [
          155,
          577,
          508,
          513,
          107,
          131,
          396,
          692,
          110,
          222,
          447,
          181,
          516,
          368,
          298,
          383,
          112,
          584,
          577,
          462,
          218,
          505,
          476,
          642,
          158,
          425,
          602,
          490,
          578,
          326,
          153,
          641,
          124,
          430,
          468,
          513,
          453,
          187,
          601,
          360,
          246,
          359,
          666,
          537,
          532,
          446,
          514,
          271,
          540,
          366,
          637,
          683,
          287,
          541,
          246,
          347,
          451,
          691,
          179,
          235,
          235,
          516,
          512,
          172,
          614,
          216,
          452,
          261,
          683,
          441,
          153,
          179,
          495,
          419,
          454,
          522,
          282,
          495,
          302,
          657,
          500,
          249,
          368,
          334,
          329,
          531,
          210,
          424,
          589,
          231,
          516,
          412,
          479,
          631,
          379,
          530,
          231,
          412,
          329,
          598,
          123,
          116,
          553,
          321,
          615,
          257,
          181,
          111,
          506,
          603,
          383,
          491,
          139,
          614,
          551,
          474,
          401,
          272,
          334,
          369,
          388,
          362,
          147,
          460,
          697,
          601,
          215,
          339,
          341,
          114,
          558,
          485,
          170,
          355,
          314,
          106,
          214,
          232,
          626,
          377,
          120,
          496,
          187,
          490,
          474,
          658,
          404,
          539,
          474,
          193,
          157,
          126,
          530,
          372,
          581,
          485,
          315,
          241,
          535,
          348,
          151,
          280,
          181,
          441,
          388,
          280,
          143,
          614,
          366,
          500,
          557,
          327,
          112,
          393,
          592,
          499,
          307,
          613,
          380,
          685,
          600,
          498,
          354,
          201,
          228,
          606,
          548,
          354,
          295,
          374,
          481,
          354,
          218,
          396,
          250,
          654,
          409,
          248,
          337,
          521,
          154,
          134,
          334,
          196,
          626,
          290,
          538,
          129,
          181,
          122,
          540,
          395,
          458,
          593,
          600,
          317,
          127,
          141,
          251,
          607,
          314,
          268,
          596,
          157,
          354,
          428,
          504,
          535,
          695,
          320,
          486,
          185,
          633,
          635,
          626,
          609,
          163,
          160,
          628,
          182,
          512,
          225,
          137,
          674,
          154,
          370,
          526,
          312,
          320,
          621
         ],
         "xaxis": "x4",
         "y": [
          0.7977248104008667,
          0.7920811582783414,
          0.7977248104008667,
          0.8202009258347287,
          0.8117502216093765,
          0.7892741061755146,
          0.810381168127647,
          0.801950162513543,
          0.8103516202107752,
          0.813148823007978,
          0.8047572146163695,
          0.7977051117896188,
          0.79068255687974,
          0.8216093765389539,
          0.8061656653205949,
          0.7892741061755146,
          0.8131685216192258,
          0.8173840244262781,
          0.7878853540825371,
          0.7878755047769131,
          0.8019501625135428,
          0.8005417118093174,
          0.7920811582783414,
          0.8173840244262779,
          0.8173840244262781,
          0.8145769723234514,
          0.8061656653205949,
          0.8075544174135724,
          0.8173840244262779,
          0.79068255687974,
          0.79068255687974,
          0.8131783709248499,
          0.7892741061755146,
          0.8117600709150006,
          0.8089628681177977,
          0.8047670639219936,
          0.8075642667191965,
          0.8201910765291048,
          0.7963163596966414,
          0.8061656653205949,
          0.8061656653205949,
          0.7934896089825668,
          0.79068255687974,
          0.8005417118093174,
          0.8047572146163695,
          0.7878853540825371,
          0.7892839554811386,
          0.7892741061755146,
          0.79068255687974,
          0.8047670639219936,
          0.8061656653205949,
          0.8061656653205949,
          0.810381168127647,
          0.8159755737220526,
          0.7892839554811386,
          0.817393873731902,
          0.7920811582783414,
          0.8131685216192259,
          0.7892741061755146,
          0.8047572146163695,
          0.8187727765192555,
          0.810371318822023,
          0.7892839554811386,
          0.8131685216192259,
          0.8061656653205949,
          0.7934896089825668,
          0.7878755047769131,
          0.8061656653205949,
          0.7934896089825668,
          0.8173840244262779,
          0.8075544174135724,
          0.7977248104008667,
          0.7963163596966414,
          0.8033586132177681,
          0.801950162513543,
          0.810371318822023,
          0.7892839554811386,
          0.79068255687974,
          0.79068255687974,
          0.79068255687974,
          0.8047572146163695,
          0.8019501625135428,
          0.8173840244262781,
          0.7977248104008667,
          0.7920910075839653,
          0.8061656653205949,
          0.7920811582783414,
          0.79068255687974,
          0.7920910075839653,
          0.8145572737122034,
          0.817393873731902,
          0.8188023244361272,
          0.7878853540825371,
          0.79068255687974,
          0.8215995272333301,
          0.8159657244164287,
          0.7892741061755146,
          0.801950162513543,
          0.801950162513543,
          0.8061656653205949,
          0.8005220131980696,
          0.7977051117896188,
          0.8061656653205949,
          0.7892839554811386,
          0.7934896089825668,
          0.7878755047769131,
          0.8019501625135428,
          0.8103713188220232,
          0.801950162513543,
          0.8061656653205949,
          0.817393873731902,
          0.8201812272234807,
          0.7920910075839653,
          0.794907908992416,
          0.7878853540825371,
          0.8061656653205949,
          0.8089727174234216,
          0.8159755737220525,
          0.794907908992416,
          0.8061656653205949,
          0.8047572146163695,
          0.7934896089825668,
          0.8187924751305033,
          0.801950162513543,
          0.8145769723234512,
          0.8061459667093469,
          0.79068255687974,
          0.7934896089825668,
          0.79068255687974,
          0.8145769723234512,
          0.79068255687974,
          0.8033586132177681,
          0.8075642667191962,
          0.79068255687974,
          0.79068255687974,
          0.8089628681177977,
          0.7878656554712893,
          0.8047670639219936,
          0.79068255687974,
          0.8201910765291046,
          0.7962966610853935,
          0.8075544174135724,
          0.8075642667191962,
          0.7892741061755146,
          0.7934896089825668,
          0.8187727765192555,
          0.8061656653205949,
          0.8047670639219936,
          0.790692406185364,
          0.8117797695262485,
          0.8229981286319316,
          0.8033586132177681,
          0.8159657244164287,
          0.7920910075839653,
          0.8202009258347287,
          0.8159657244164287,
          0.8145769723234514,
          0.817374175120654,
          0.79068255687974,
          0.79068255687974,
          0.8103614695163991,
          0.79068255687974,
          0.7948980596867921,
          0.8033586132177681,
          0.801950162513543,
          0.817374175120654,
          0.7934896089825668,
          0.7920811582783414,
          0.8173840244262779,
          0.7920811582783414,
          0.79068255687974,
          0.8202107751403526,
          0.8145572737122032,
          0.8047670639219936,
          0.817393873731902,
          0.7920811582783414,
          0.8173840244262781,
          0.801950162513543,
          0.801950162513543,
          0.8033487639121443,
          0.79068255687974,
          0.8188121737417511,
          0.79068255687974,
          0.8173840244262781,
          0.8187826258248794,
          0.7920811582783414,
          0.8061656653205949,
          0.8047670639219936,
          0.8187826258248794,
          0.7850684526740864,
          0.8061558160149709,
          0.8033586132177681,
          0.79068255687974,
          0.8061656653205949,
          0.8159755737220526,
          0.7878853540825371,
          0.8005417118093174,
          0.7977248104008667,
          0.8117797695262483,
          0.8145671230178273,
          0.8047473653107456,
          0.7948980596867921,
          0.7934896089825668,
          0.7794937456909288,
          0.79068255687974,
          0.8173840244262779,
          0.8061656653205949,
          0.7934994582881907,
          0.7934896089825668,
          0.7878755047769131,
          0.7920910075839653,
          0.79068255687974,
          0.8061558160149709,
          0.7878853540825371,
          0.79068255687974,
          0.8033586132177681,
          0.7878755047769131,
          0.8159854230276766,
          0.7934896089825668,
          0.821609376538954,
          0.79068255687974,
          0.8061656653205949,
          0.8187924751305033,
          0.8103713188220232,
          0.79068255687974,
          0.817393873731902,
          0.8201812272234807,
          0.79068255687974,
          0.817374175120654,
          0.801950162513543,
          0.8187924751305033,
          0.79068255687974,
          0.8033586132177681,
          0.7892839554811386,
          0.801950162513543,
          0.79068255687974,
          0.7878656554712893,
          0.7977051117896188,
          0.817393873731902,
          0.8089727174234216,
          0.8187924751305033,
          0.8117600709150006,
          0.7963065103910175,
          0.79068255687974,
          0.7948980596867921,
          0.7892839554811386,
          0.8202009258347287,
          0.7991332611050921,
          0.8047670639219936,
          0.7878853540825371
         ],
         "yaxis": "y4"
        }
       ],
       "layout": {
        "template": {
         "data": {
          "bar": [
           {
            "error_x": {
             "color": "#2a3f5f"
            },
            "error_y": {
             "color": "#2a3f5f"
            },
            "marker": {
             "line": {
              "color": "#E5ECF6",
              "width": 0.5
             },
             "pattern": {
              "fillmode": "overlay",
              "size": 10,
              "solidity": 0.2
             }
            },
            "type": "bar"
           }
          ],
          "barpolar": [
           {
            "marker": {
             "line": {
              "color": "#E5ECF6",
              "width": 0.5
             },
             "pattern": {
              "fillmode": "overlay",
              "size": 10,
              "solidity": 0.2
             }
            },
            "type": "barpolar"
           }
          ],
          "carpet": [
           {
            "aaxis": {
             "endlinecolor": "#2a3f5f",
             "gridcolor": "white",
             "linecolor": "white",
             "minorgridcolor": "white",
             "startlinecolor": "#2a3f5f"
            },
            "baxis": {
             "endlinecolor": "#2a3f5f",
             "gridcolor": "white",
             "linecolor": "white",
             "minorgridcolor": "white",
             "startlinecolor": "#2a3f5f"
            },
            "type": "carpet"
           }
          ],
          "choropleth": [
           {
            "colorbar": {
             "outlinewidth": 0,
             "ticks": ""
            },
            "type": "choropleth"
           }
          ],
          "contour": [
           {
            "colorbar": {
             "outlinewidth": 0,
             "ticks": ""
            },
            "colorscale": [
             [
              0,
              "#0d0887"
             ],
             [
              0.1111111111111111,
              "#46039f"
             ],
             [
              0.2222222222222222,
              "#7201a8"
             ],
             [
              0.3333333333333333,
              "#9c179e"
             ],
             [
              0.4444444444444444,
              "#bd3786"
             ],
             [
              0.5555555555555556,
              "#d8576b"
             ],
             [
              0.6666666666666666,
              "#ed7953"
             ],
             [
              0.7777777777777778,
              "#fb9f3a"
             ],
             [
              0.8888888888888888,
              "#fdca26"
             ],
             [
              1,
              "#f0f921"
             ]
            ],
            "type": "contour"
           }
          ],
          "contourcarpet": [
           {
            "colorbar": {
             "outlinewidth": 0,
             "ticks": ""
            },
            "type": "contourcarpet"
           }
          ],
          "heatmap": [
           {
            "colorbar": {
             "outlinewidth": 0,
             "ticks": ""
            },
            "colorscale": [
             [
              0,
              "#0d0887"
             ],
             [
              0.1111111111111111,
              "#46039f"
             ],
             [
              0.2222222222222222,
              "#7201a8"
             ],
             [
              0.3333333333333333,
              "#9c179e"
             ],
             [
              0.4444444444444444,
              "#bd3786"
             ],
             [
              0.5555555555555556,
              "#d8576b"
             ],
             [
              0.6666666666666666,
              "#ed7953"
             ],
             [
              0.7777777777777778,
              "#fb9f3a"
             ],
             [
              0.8888888888888888,
              "#fdca26"
             ],
             [
              1,
              "#f0f921"
             ]
            ],
            "type": "heatmap"
           }
          ],
          "heatmapgl": [
           {
            "colorbar": {
             "outlinewidth": 0,
             "ticks": ""
            },
            "colorscale": [
             [
              0,
              "#0d0887"
             ],
             [
              0.1111111111111111,
              "#46039f"
             ],
             [
              0.2222222222222222,
              "#7201a8"
             ],
             [
              0.3333333333333333,
              "#9c179e"
             ],
             [
              0.4444444444444444,
              "#bd3786"
             ],
             [
              0.5555555555555556,
              "#d8576b"
             ],
             [
              0.6666666666666666,
              "#ed7953"
             ],
             [
              0.7777777777777778,
              "#fb9f3a"
             ],
             [
              0.8888888888888888,
              "#fdca26"
             ],
             [
              1,
              "#f0f921"
             ]
            ],
            "type": "heatmapgl"
           }
          ],
          "histogram": [
           {
            "marker": {
             "pattern": {
              "fillmode": "overlay",
              "size": 10,
              "solidity": 0.2
             }
            },
            "type": "histogram"
           }
          ],
          "histogram2d": [
           {
            "colorbar": {
             "outlinewidth": 0,
             "ticks": ""
            },
            "colorscale": [
             [
              0,
              "#0d0887"
             ],
             [
              0.1111111111111111,
              "#46039f"
             ],
             [
              0.2222222222222222,
              "#7201a8"
             ],
             [
              0.3333333333333333,
              "#9c179e"
             ],
             [
              0.4444444444444444,
              "#bd3786"
             ],
             [
              0.5555555555555556,
              "#d8576b"
             ],
             [
              0.6666666666666666,
              "#ed7953"
             ],
             [
              0.7777777777777778,
              "#fb9f3a"
             ],
             [
              0.8888888888888888,
              "#fdca26"
             ],
             [
              1,
              "#f0f921"
             ]
            ],
            "type": "histogram2d"
           }
          ],
          "histogram2dcontour": [
           {
            "colorbar": {
             "outlinewidth": 0,
             "ticks": ""
            },
            "colorscale": [
             [
              0,
              "#0d0887"
             ],
             [
              0.1111111111111111,
              "#46039f"
             ],
             [
              0.2222222222222222,
              "#7201a8"
             ],
             [
              0.3333333333333333,
              "#9c179e"
             ],
             [
              0.4444444444444444,
              "#bd3786"
             ],
             [
              0.5555555555555556,
              "#d8576b"
             ],
             [
              0.6666666666666666,
              "#ed7953"
             ],
             [
              0.7777777777777778,
              "#fb9f3a"
             ],
             [
              0.8888888888888888,
              "#fdca26"
             ],
             [
              1,
              "#f0f921"
             ]
            ],
            "type": "histogram2dcontour"
           }
          ],
          "mesh3d": [
           {
            "colorbar": {
             "outlinewidth": 0,
             "ticks": ""
            },
            "type": "mesh3d"
           }
          ],
          "parcoords": [
           {
            "line": {
             "colorbar": {
              "outlinewidth": 0,
              "ticks": ""
             }
            },
            "type": "parcoords"
           }
          ],
          "pie": [
           {
            "automargin": true,
            "type": "pie"
           }
          ],
          "scatter": [
           {
            "fillpattern": {
             "fillmode": "overlay",
             "size": 10,
             "solidity": 0.2
            },
            "type": "scatter"
           }
          ],
          "scatter3d": [
           {
            "line": {
             "colorbar": {
              "outlinewidth": 0,
              "ticks": ""
             }
            },
            "marker": {
             "colorbar": {
              "outlinewidth": 0,
              "ticks": ""
             }
            },
            "type": "scatter3d"
           }
          ],
          "scattercarpet": [
           {
            "marker": {
             "colorbar": {
              "outlinewidth": 0,
              "ticks": ""
             }
            },
            "type": "scattercarpet"
           }
          ],
          "scattergeo": [
           {
            "marker": {
             "colorbar": {
              "outlinewidth": 0,
              "ticks": ""
             }
            },
            "type": "scattergeo"
           }
          ],
          "scattergl": [
           {
            "marker": {
             "colorbar": {
              "outlinewidth": 0,
              "ticks": ""
             }
            },
            "type": "scattergl"
           }
          ],
          "scattermapbox": [
           {
            "marker": {
             "colorbar": {
              "outlinewidth": 0,
              "ticks": ""
             }
            },
            "type": "scattermapbox"
           }
          ],
          "scatterpolar": [
           {
            "marker": {
             "colorbar": {
              "outlinewidth": 0,
              "ticks": ""
             }
            },
            "type": "scatterpolar"
           }
          ],
          "scatterpolargl": [
           {
            "marker": {
             "colorbar": {
              "outlinewidth": 0,
              "ticks": ""
             }
            },
            "type": "scatterpolargl"
           }
          ],
          "scatterternary": [
           {
            "marker": {
             "colorbar": {
              "outlinewidth": 0,
              "ticks": ""
             }
            },
            "type": "scatterternary"
           }
          ],
          "surface": [
           {
            "colorbar": {
             "outlinewidth": 0,
             "ticks": ""
            },
            "colorscale": [
             [
              0,
              "#0d0887"
             ],
             [
              0.1111111111111111,
              "#46039f"
             ],
             [
              0.2222222222222222,
              "#7201a8"
             ],
             [
              0.3333333333333333,
              "#9c179e"
             ],
             [
              0.4444444444444444,
              "#bd3786"
             ],
             [
              0.5555555555555556,
              "#d8576b"
             ],
             [
              0.6666666666666666,
              "#ed7953"
             ],
             [
              0.7777777777777778,
              "#fb9f3a"
             ],
             [
              0.8888888888888888,
              "#fdca26"
             ],
             [
              1,
              "#f0f921"
             ]
            ],
            "type": "surface"
           }
          ],
          "table": [
           {
            "cells": {
             "fill": {
              "color": "#EBF0F8"
             },
             "line": {
              "color": "white"
             }
            },
            "header": {
             "fill": {
              "color": "#C8D4E3"
             },
             "line": {
              "color": "white"
             }
            },
            "type": "table"
           }
          ]
         },
         "layout": {
          "annotationdefaults": {
           "arrowcolor": "#2a3f5f",
           "arrowhead": 0,
           "arrowwidth": 1
          },
          "autotypenumbers": "strict",
          "coloraxis": {
           "colorbar": {
            "outlinewidth": 0,
            "ticks": ""
           }
          },
          "colorscale": {
           "diverging": [
            [
             0,
             "#8e0152"
            ],
            [
             0.1,
             "#c51b7d"
            ],
            [
             0.2,
             "#de77ae"
            ],
            [
             0.3,
             "#f1b6da"
            ],
            [
             0.4,
             "#fde0ef"
            ],
            [
             0.5,
             "#f7f7f7"
            ],
            [
             0.6,
             "#e6f5d0"
            ],
            [
             0.7,
             "#b8e186"
            ],
            [
             0.8,
             "#7fbc41"
            ],
            [
             0.9,
             "#4d9221"
            ],
            [
             1,
             "#276419"
            ]
           ],
           "sequential": [
            [
             0,
             "#0d0887"
            ],
            [
             0.1111111111111111,
             "#46039f"
            ],
            [
             0.2222222222222222,
             "#7201a8"
            ],
            [
             0.3333333333333333,
             "#9c179e"
            ],
            [
             0.4444444444444444,
             "#bd3786"
            ],
            [
             0.5555555555555556,
             "#d8576b"
            ],
            [
             0.6666666666666666,
             "#ed7953"
            ],
            [
             0.7777777777777778,
             "#fb9f3a"
            ],
            [
             0.8888888888888888,
             "#fdca26"
            ],
            [
             1,
             "#f0f921"
            ]
           ],
           "sequentialminus": [
            [
             0,
             "#0d0887"
            ],
            [
             0.1111111111111111,
             "#46039f"
            ],
            [
             0.2222222222222222,
             "#7201a8"
            ],
            [
             0.3333333333333333,
             "#9c179e"
            ],
            [
             0.4444444444444444,
             "#bd3786"
            ],
            [
             0.5555555555555556,
             "#d8576b"
            ],
            [
             0.6666666666666666,
             "#ed7953"
            ],
            [
             0.7777777777777778,
             "#fb9f3a"
            ],
            [
             0.8888888888888888,
             "#fdca26"
            ],
            [
             1,
             "#f0f921"
            ]
           ]
          },
          "colorway": [
           "#636efa",
           "#EF553B",
           "#00cc96",
           "#ab63fa",
           "#FFA15A",
           "#19d3f3",
           "#FF6692",
           "#B6E880",
           "#FF97FF",
           "#FECB52"
          ],
          "font": {
           "color": "#2a3f5f"
          },
          "geo": {
           "bgcolor": "white",
           "lakecolor": "white",
           "landcolor": "#E5ECF6",
           "showlakes": true,
           "showland": true,
           "subunitcolor": "white"
          },
          "hoverlabel": {
           "align": "left"
          },
          "hovermode": "closest",
          "mapbox": {
           "style": "light"
          },
          "paper_bgcolor": "white",
          "plot_bgcolor": "#E5ECF6",
          "polar": {
           "angularaxis": {
            "gridcolor": "white",
            "linecolor": "white",
            "ticks": ""
           },
           "bgcolor": "#E5ECF6",
           "radialaxis": {
            "gridcolor": "white",
            "linecolor": "white",
            "ticks": ""
           }
          },
          "scene": {
           "xaxis": {
            "backgroundcolor": "#E5ECF6",
            "gridcolor": "white",
            "gridwidth": 2,
            "linecolor": "white",
            "showbackground": true,
            "ticks": "",
            "zerolinecolor": "white"
           },
           "yaxis": {
            "backgroundcolor": "#E5ECF6",
            "gridcolor": "white",
            "gridwidth": 2,
            "linecolor": "white",
            "showbackground": true,
            "ticks": "",
            "zerolinecolor": "white"
           },
           "zaxis": {
            "backgroundcolor": "#E5ECF6",
            "gridcolor": "white",
            "gridwidth": 2,
            "linecolor": "white",
            "showbackground": true,
            "ticks": "",
            "zerolinecolor": "white"
           }
          },
          "shapedefaults": {
           "line": {
            "color": "#2a3f5f"
           }
          },
          "ternary": {
           "aaxis": {
            "gridcolor": "white",
            "linecolor": "white",
            "ticks": ""
           },
           "baxis": {
            "gridcolor": "white",
            "linecolor": "white",
            "ticks": ""
           },
           "bgcolor": "#E5ECF6",
           "caxis": {
            "gridcolor": "white",
            "linecolor": "white",
            "ticks": ""
           }
          },
          "title": {
           "x": 0.05
          },
          "xaxis": {
           "automargin": true,
           "gridcolor": "white",
           "linecolor": "white",
           "ticks": "",
           "title": {
            "standoff": 15
           },
           "zerolinecolor": "white",
           "zerolinewidth": 2
          },
          "yaxis": {
           "automargin": true,
           "gridcolor": "white",
           "linecolor": "white",
           "ticks": "",
           "title": {
            "standoff": 15
           },
           "zerolinecolor": "white",
           "zerolinewidth": 2
          }
         }
        },
        "title": {
         "text": "Slice Plot"
        },
        "width": 1200,
        "xaxis": {
         "anchor": "y",
         "domain": [
          0,
          0.2125
         ],
         "title": {
          "text": "max_depth"
         }
        },
        "xaxis2": {
         "anchor": "y2",
         "domain": [
          0.2625,
          0.475
         ],
         "title": {
          "text": "min_samples_leaf"
         }
        },
        "xaxis3": {
         "anchor": "y3",
         "domain": [
          0.525,
          0.7375
         ],
         "title": {
          "text": "min_samples_split"
         }
        },
        "xaxis4": {
         "anchor": "y4",
         "domain": [
          0.7875,
          1
         ],
         "title": {
          "text": "n_estimators"
         }
        },
        "yaxis": {
         "anchor": "x",
         "domain": [
          0,
          1
         ],
         "title": {
          "text": "Objective Value"
         }
        },
        "yaxis2": {
         "anchor": "x2",
         "domain": [
          0,
          1
         ],
         "matches": "y",
         "showticklabels": false
        },
        "yaxis3": {
         "anchor": "x3",
         "domain": [
          0,
          1
         ],
         "matches": "y",
         "showticklabels": false
        },
        "yaxis4": {
         "anchor": "x4",
         "domain": [
          0,
          1
         ],
         "matches": "y",
         "showticklabels": false
        }
       }
      }
     },
     "metadata": {},
     "output_type": "display_data"
    }
   ],
   "source": [
    "# Visualize the relationship between the specified hyperparameters and the objective function.\n",
    "# The plot shows how changes in hyperparameters (\"n_estimators\", \"max_depth\", \"min_samples_split\", \"min_samples_leaf\") affect the optimization outcome.\n",
    "\n",
    "optuna.visualization.plot_slice(study, params=[\"n_estimators\", \"max_depth\", \"min_samples_split\", \"min_samples_leaf\"])"
   ]
  },
  {
   "cell_type": "code",
   "execution_count": 38,
   "metadata": {},
   "outputs": [
    {
     "data": {
      "text/plain": [
       "{'n_estimators': 157,\n",
       " 'max_depth': 26,\n",
       " 'min_samples_split': 9,\n",
       " 'min_samples_leaf': 5}"
      ]
     },
     "execution_count": 38,
     "metadata": {},
     "output_type": "execute_result"
    }
   ],
   "source": [
    "# Retrieve the best hyperparameters found during the optimization process from the Optuna study.\n",
    "\n",
    "best_params = study.best_params\n",
    "\n",
    "best_params"
   ]
  },
  {
   "cell_type": "code",
   "execution_count": 39,
   "metadata": {},
   "outputs": [],
   "source": [
    "# Extract the best hyperparameter values from the Optuna study results.\n",
    "\n",
    "best_n_estimators = best_params[\"n_estimators\"]  # Optimal number of trees in the forest.\n",
    "best_max_depth = best_params[\"max_depth\"]        # Optimal maximum depth of the trees.\n",
    "best_min_samples_split = best_params[\"min_samples_split\"]  # Optimal minimum number of samples required to split an internal node.\n",
    "best_min_samples_leaf = best_params[\"min_samples_leaf\"]    # Optimal minimum number of samples required to be at a leaf node."
   ]
  },
  {
   "cell_type": "code",
   "execution_count": 40,
   "metadata": {},
   "outputs": [],
   "source": [
    "# Initialize the RandomForestClassifier with the best hyperparameters found from the Optuna study.\n",
    "# This model will use the optimal values for number of trees, maximum depth, minimum samples to split, and minimum samples at a leaf node.\n",
    "\n",
    "best_model: RandomForestClassifier = RandomForestClassifier(\n",
    "    n_estimators=best_n_estimators,\n",
    "    max_depth=best_max_depth,\n",
    "    min_samples_split=best_min_samples_split,\n",
    "    min_samples_leaf=best_min_samples_leaf\n",
    ")"
   ]
  },
  {
   "cell_type": "code",
   "execution_count": 41,
   "metadata": {},
   "outputs": [
    {
     "data": {
      "text/html": [
       "<style>#sk-container-id-2 {\n",
       "  /* Definition of color scheme common for light and dark mode */\n",
       "  --sklearn-color-text: black;\n",
       "  --sklearn-color-line: gray;\n",
       "  /* Definition of color scheme for unfitted estimators */\n",
       "  --sklearn-color-unfitted-level-0: #fff5e6;\n",
       "  --sklearn-color-unfitted-level-1: #f6e4d2;\n",
       "  --sklearn-color-unfitted-level-2: #ffe0b3;\n",
       "  --sklearn-color-unfitted-level-3: chocolate;\n",
       "  /* Definition of color scheme for fitted estimators */\n",
       "  --sklearn-color-fitted-level-0: #f0f8ff;\n",
       "  --sklearn-color-fitted-level-1: #d4ebff;\n",
       "  --sklearn-color-fitted-level-2: #b3dbfd;\n",
       "  --sklearn-color-fitted-level-3: cornflowerblue;\n",
       "\n",
       "  /* Specific color for light theme */\n",
       "  --sklearn-color-text-on-default-background: var(--sg-text-color, var(--theme-code-foreground, var(--jp-content-font-color1, black)));\n",
       "  --sklearn-color-background: var(--sg-background-color, var(--theme-background, var(--jp-layout-color0, white)));\n",
       "  --sklearn-color-border-box: var(--sg-text-color, var(--theme-code-foreground, var(--jp-content-font-color1, black)));\n",
       "  --sklearn-color-icon: #696969;\n",
       "\n",
       "  @media (prefers-color-scheme: dark) {\n",
       "    /* Redefinition of color scheme for dark theme */\n",
       "    --sklearn-color-text-on-default-background: var(--sg-text-color, var(--theme-code-foreground, var(--jp-content-font-color1, white)));\n",
       "    --sklearn-color-background: var(--sg-background-color, var(--theme-background, var(--jp-layout-color0, #111)));\n",
       "    --sklearn-color-border-box: var(--sg-text-color, var(--theme-code-foreground, var(--jp-content-font-color1, white)));\n",
       "    --sklearn-color-icon: #878787;\n",
       "  }\n",
       "}\n",
       "\n",
       "#sk-container-id-2 {\n",
       "  color: var(--sklearn-color-text);\n",
       "}\n",
       "\n",
       "#sk-container-id-2 pre {\n",
       "  padding: 0;\n",
       "}\n",
       "\n",
       "#sk-container-id-2 input.sk-hidden--visually {\n",
       "  border: 0;\n",
       "  clip: rect(1px 1px 1px 1px);\n",
       "  clip: rect(1px, 1px, 1px, 1px);\n",
       "  height: 1px;\n",
       "  margin: -1px;\n",
       "  overflow: hidden;\n",
       "  padding: 0;\n",
       "  position: absolute;\n",
       "  width: 1px;\n",
       "}\n",
       "\n",
       "#sk-container-id-2 div.sk-dashed-wrapped {\n",
       "  border: 1px dashed var(--sklearn-color-line);\n",
       "  margin: 0 0.4em 0.5em 0.4em;\n",
       "  box-sizing: border-box;\n",
       "  padding-bottom: 0.4em;\n",
       "  background-color: var(--sklearn-color-background);\n",
       "}\n",
       "\n",
       "#sk-container-id-2 div.sk-container {\n",
       "  /* jupyter's `normalize.less` sets `[hidden] { display: none; }`\n",
       "     but bootstrap.min.css set `[hidden] { display: none !important; }`\n",
       "     so we also need the `!important` here to be able to override the\n",
       "     default hidden behavior on the sphinx rendered scikit-learn.org.\n",
       "     See: https://github.com/scikit-learn/scikit-learn/issues/21755 */\n",
       "  display: inline-block !important;\n",
       "  position: relative;\n",
       "}\n",
       "\n",
       "#sk-container-id-2 div.sk-text-repr-fallback {\n",
       "  display: none;\n",
       "}\n",
       "\n",
       "div.sk-parallel-item,\n",
       "div.sk-serial,\n",
       "div.sk-item {\n",
       "  /* draw centered vertical line to link estimators */\n",
       "  background-image: linear-gradient(var(--sklearn-color-text-on-default-background), var(--sklearn-color-text-on-default-background));\n",
       "  background-size: 2px 100%;\n",
       "  background-repeat: no-repeat;\n",
       "  background-position: center center;\n",
       "}\n",
       "\n",
       "/* Parallel-specific style estimator block */\n",
       "\n",
       "#sk-container-id-2 div.sk-parallel-item::after {\n",
       "  content: \"\";\n",
       "  width: 100%;\n",
       "  border-bottom: 2px solid var(--sklearn-color-text-on-default-background);\n",
       "  flex-grow: 1;\n",
       "}\n",
       "\n",
       "#sk-container-id-2 div.sk-parallel {\n",
       "  display: flex;\n",
       "  align-items: stretch;\n",
       "  justify-content: center;\n",
       "  background-color: var(--sklearn-color-background);\n",
       "  position: relative;\n",
       "}\n",
       "\n",
       "#sk-container-id-2 div.sk-parallel-item {\n",
       "  display: flex;\n",
       "  flex-direction: column;\n",
       "}\n",
       "\n",
       "#sk-container-id-2 div.sk-parallel-item:first-child::after {\n",
       "  align-self: flex-end;\n",
       "  width: 50%;\n",
       "}\n",
       "\n",
       "#sk-container-id-2 div.sk-parallel-item:last-child::after {\n",
       "  align-self: flex-start;\n",
       "  width: 50%;\n",
       "}\n",
       "\n",
       "#sk-container-id-2 div.sk-parallel-item:only-child::after {\n",
       "  width: 0;\n",
       "}\n",
       "\n",
       "/* Serial-specific style estimator block */\n",
       "\n",
       "#sk-container-id-2 div.sk-serial {\n",
       "  display: flex;\n",
       "  flex-direction: column;\n",
       "  align-items: center;\n",
       "  background-color: var(--sklearn-color-background);\n",
       "  padding-right: 1em;\n",
       "  padding-left: 1em;\n",
       "}\n",
       "\n",
       "\n",
       "/* Toggleable style: style used for estimator/Pipeline/ColumnTransformer box that is\n",
       "clickable and can be expanded/collapsed.\n",
       "- Pipeline and ColumnTransformer use this feature and define the default style\n",
       "- Estimators will overwrite some part of the style using the `sk-estimator` class\n",
       "*/\n",
       "\n",
       "/* Pipeline and ColumnTransformer style (default) */\n",
       "\n",
       "#sk-container-id-2 div.sk-toggleable {\n",
       "  /* Default theme specific background. It is overwritten whether we have a\n",
       "  specific estimator or a Pipeline/ColumnTransformer */\n",
       "  background-color: var(--sklearn-color-background);\n",
       "}\n",
       "\n",
       "/* Toggleable label */\n",
       "#sk-container-id-2 label.sk-toggleable__label {\n",
       "  cursor: pointer;\n",
       "  display: block;\n",
       "  width: 100%;\n",
       "  margin-bottom: 0;\n",
       "  padding: 0.5em;\n",
       "  box-sizing: border-box;\n",
       "  text-align: center;\n",
       "}\n",
       "\n",
       "#sk-container-id-2 label.sk-toggleable__label-arrow:before {\n",
       "  /* Arrow on the left of the label */\n",
       "  content: \"▸\";\n",
       "  float: left;\n",
       "  margin-right: 0.25em;\n",
       "  color: var(--sklearn-color-icon);\n",
       "}\n",
       "\n",
       "#sk-container-id-2 label.sk-toggleable__label-arrow:hover:before {\n",
       "  color: var(--sklearn-color-text);\n",
       "}\n",
       "\n",
       "/* Toggleable content - dropdown */\n",
       "\n",
       "#sk-container-id-2 div.sk-toggleable__content {\n",
       "  max-height: 0;\n",
       "  max-width: 0;\n",
       "  overflow: hidden;\n",
       "  text-align: left;\n",
       "  /* unfitted */\n",
       "  background-color: var(--sklearn-color-unfitted-level-0);\n",
       "}\n",
       "\n",
       "#sk-container-id-2 div.sk-toggleable__content.fitted {\n",
       "  /* fitted */\n",
       "  background-color: var(--sklearn-color-fitted-level-0);\n",
       "}\n",
       "\n",
       "#sk-container-id-2 div.sk-toggleable__content pre {\n",
       "  margin: 0.2em;\n",
       "  border-radius: 0.25em;\n",
       "  color: var(--sklearn-color-text);\n",
       "  /* unfitted */\n",
       "  background-color: var(--sklearn-color-unfitted-level-0);\n",
       "}\n",
       "\n",
       "#sk-container-id-2 div.sk-toggleable__content.fitted pre {\n",
       "  /* unfitted */\n",
       "  background-color: var(--sklearn-color-fitted-level-0);\n",
       "}\n",
       "\n",
       "#sk-container-id-2 input.sk-toggleable__control:checked~div.sk-toggleable__content {\n",
       "  /* Expand drop-down */\n",
       "  max-height: 200px;\n",
       "  max-width: 100%;\n",
       "  overflow: auto;\n",
       "}\n",
       "\n",
       "#sk-container-id-2 input.sk-toggleable__control:checked~label.sk-toggleable__label-arrow:before {\n",
       "  content: \"▾\";\n",
       "}\n",
       "\n",
       "/* Pipeline/ColumnTransformer-specific style */\n",
       "\n",
       "#sk-container-id-2 div.sk-label input.sk-toggleable__control:checked~label.sk-toggleable__label {\n",
       "  color: var(--sklearn-color-text);\n",
       "  background-color: var(--sklearn-color-unfitted-level-2);\n",
       "}\n",
       "\n",
       "#sk-container-id-2 div.sk-label.fitted input.sk-toggleable__control:checked~label.sk-toggleable__label {\n",
       "  background-color: var(--sklearn-color-fitted-level-2);\n",
       "}\n",
       "\n",
       "/* Estimator-specific style */\n",
       "\n",
       "/* Colorize estimator box */\n",
       "#sk-container-id-2 div.sk-estimator input.sk-toggleable__control:checked~label.sk-toggleable__label {\n",
       "  /* unfitted */\n",
       "  background-color: var(--sklearn-color-unfitted-level-2);\n",
       "}\n",
       "\n",
       "#sk-container-id-2 div.sk-estimator.fitted input.sk-toggleable__control:checked~label.sk-toggleable__label {\n",
       "  /* fitted */\n",
       "  background-color: var(--sklearn-color-fitted-level-2);\n",
       "}\n",
       "\n",
       "#sk-container-id-2 div.sk-label label.sk-toggleable__label,\n",
       "#sk-container-id-2 div.sk-label label {\n",
       "  /* The background is the default theme color */\n",
       "  color: var(--sklearn-color-text-on-default-background);\n",
       "}\n",
       "\n",
       "/* On hover, darken the color of the background */\n",
       "#sk-container-id-2 div.sk-label:hover label.sk-toggleable__label {\n",
       "  color: var(--sklearn-color-text);\n",
       "  background-color: var(--sklearn-color-unfitted-level-2);\n",
       "}\n",
       "\n",
       "/* Label box, darken color on hover, fitted */\n",
       "#sk-container-id-2 div.sk-label.fitted:hover label.sk-toggleable__label.fitted {\n",
       "  color: var(--sklearn-color-text);\n",
       "  background-color: var(--sklearn-color-fitted-level-2);\n",
       "}\n",
       "\n",
       "/* Estimator label */\n",
       "\n",
       "#sk-container-id-2 div.sk-label label {\n",
       "  font-family: monospace;\n",
       "  font-weight: bold;\n",
       "  display: inline-block;\n",
       "  line-height: 1.2em;\n",
       "}\n",
       "\n",
       "#sk-container-id-2 div.sk-label-container {\n",
       "  text-align: center;\n",
       "}\n",
       "\n",
       "/* Estimator-specific */\n",
       "#sk-container-id-2 div.sk-estimator {\n",
       "  font-family: monospace;\n",
       "  border: 1px dotted var(--sklearn-color-border-box);\n",
       "  border-radius: 0.25em;\n",
       "  box-sizing: border-box;\n",
       "  margin-bottom: 0.5em;\n",
       "  /* unfitted */\n",
       "  background-color: var(--sklearn-color-unfitted-level-0);\n",
       "}\n",
       "\n",
       "#sk-container-id-2 div.sk-estimator.fitted {\n",
       "  /* fitted */\n",
       "  background-color: var(--sklearn-color-fitted-level-0);\n",
       "}\n",
       "\n",
       "/* on hover */\n",
       "#sk-container-id-2 div.sk-estimator:hover {\n",
       "  /* unfitted */\n",
       "  background-color: var(--sklearn-color-unfitted-level-2);\n",
       "}\n",
       "\n",
       "#sk-container-id-2 div.sk-estimator.fitted:hover {\n",
       "  /* fitted */\n",
       "  background-color: var(--sklearn-color-fitted-level-2);\n",
       "}\n",
       "\n",
       "/* Specification for estimator info (e.g. \"i\" and \"?\") */\n",
       "\n",
       "/* Common style for \"i\" and \"?\" */\n",
       "\n",
       ".sk-estimator-doc-link,\n",
       "a:link.sk-estimator-doc-link,\n",
       "a:visited.sk-estimator-doc-link {\n",
       "  float: right;\n",
       "  font-size: smaller;\n",
       "  line-height: 1em;\n",
       "  font-family: monospace;\n",
       "  background-color: var(--sklearn-color-background);\n",
       "  border-radius: 1em;\n",
       "  height: 1em;\n",
       "  width: 1em;\n",
       "  text-decoration: none !important;\n",
       "  margin-left: 1ex;\n",
       "  /* unfitted */\n",
       "  border: var(--sklearn-color-unfitted-level-1) 1pt solid;\n",
       "  color: var(--sklearn-color-unfitted-level-1);\n",
       "}\n",
       "\n",
       ".sk-estimator-doc-link.fitted,\n",
       "a:link.sk-estimator-doc-link.fitted,\n",
       "a:visited.sk-estimator-doc-link.fitted {\n",
       "  /* fitted */\n",
       "  border: var(--sklearn-color-fitted-level-1) 1pt solid;\n",
       "  color: var(--sklearn-color-fitted-level-1);\n",
       "}\n",
       "\n",
       "/* On hover */\n",
       "div.sk-estimator:hover .sk-estimator-doc-link:hover,\n",
       ".sk-estimator-doc-link:hover,\n",
       "div.sk-label-container:hover .sk-estimator-doc-link:hover,\n",
       ".sk-estimator-doc-link:hover {\n",
       "  /* unfitted */\n",
       "  background-color: var(--sklearn-color-unfitted-level-3);\n",
       "  color: var(--sklearn-color-background);\n",
       "  text-decoration: none;\n",
       "}\n",
       "\n",
       "div.sk-estimator.fitted:hover .sk-estimator-doc-link.fitted:hover,\n",
       ".sk-estimator-doc-link.fitted:hover,\n",
       "div.sk-label-container:hover .sk-estimator-doc-link.fitted:hover,\n",
       ".sk-estimator-doc-link.fitted:hover {\n",
       "  /* fitted */\n",
       "  background-color: var(--sklearn-color-fitted-level-3);\n",
       "  color: var(--sklearn-color-background);\n",
       "  text-decoration: none;\n",
       "}\n",
       "\n",
       "/* Span, style for the box shown on hovering the info icon */\n",
       ".sk-estimator-doc-link span {\n",
       "  display: none;\n",
       "  z-index: 9999;\n",
       "  position: relative;\n",
       "  font-weight: normal;\n",
       "  right: .2ex;\n",
       "  padding: .5ex;\n",
       "  margin: .5ex;\n",
       "  width: min-content;\n",
       "  min-width: 20ex;\n",
       "  max-width: 50ex;\n",
       "  color: var(--sklearn-color-text);\n",
       "  box-shadow: 2pt 2pt 4pt #999;\n",
       "  /* unfitted */\n",
       "  background: var(--sklearn-color-unfitted-level-0);\n",
       "  border: .5pt solid var(--sklearn-color-unfitted-level-3);\n",
       "}\n",
       "\n",
       ".sk-estimator-doc-link.fitted span {\n",
       "  /* fitted */\n",
       "  background: var(--sklearn-color-fitted-level-0);\n",
       "  border: var(--sklearn-color-fitted-level-3);\n",
       "}\n",
       "\n",
       ".sk-estimator-doc-link:hover span {\n",
       "  display: block;\n",
       "}\n",
       "\n",
       "/* \"?\"-specific style due to the `<a>` HTML tag */\n",
       "\n",
       "#sk-container-id-2 a.estimator_doc_link {\n",
       "  float: right;\n",
       "  font-size: 1rem;\n",
       "  line-height: 1em;\n",
       "  font-family: monospace;\n",
       "  background-color: var(--sklearn-color-background);\n",
       "  border-radius: 1rem;\n",
       "  height: 1rem;\n",
       "  width: 1rem;\n",
       "  text-decoration: none;\n",
       "  /* unfitted */\n",
       "  color: var(--sklearn-color-unfitted-level-1);\n",
       "  border: var(--sklearn-color-unfitted-level-1) 1pt solid;\n",
       "}\n",
       "\n",
       "#sk-container-id-2 a.estimator_doc_link.fitted {\n",
       "  /* fitted */\n",
       "  border: var(--sklearn-color-fitted-level-1) 1pt solid;\n",
       "  color: var(--sklearn-color-fitted-level-1);\n",
       "}\n",
       "\n",
       "/* On hover */\n",
       "#sk-container-id-2 a.estimator_doc_link:hover {\n",
       "  /* unfitted */\n",
       "  background-color: var(--sklearn-color-unfitted-level-3);\n",
       "  color: var(--sklearn-color-background);\n",
       "  text-decoration: none;\n",
       "}\n",
       "\n",
       "#sk-container-id-2 a.estimator_doc_link.fitted:hover {\n",
       "  /* fitted */\n",
       "  background-color: var(--sklearn-color-fitted-level-3);\n",
       "}\n",
       "</style><div id=\"sk-container-id-2\" class=\"sk-top-container\"><div class=\"sk-text-repr-fallback\"><pre>RandomForestClassifier(max_depth=26, min_samples_leaf=5, min_samples_split=9,\n",
       "                       n_estimators=157)</pre><b>In a Jupyter environment, please rerun this cell to show the HTML representation or trust the notebook. <br />On GitHub, the HTML representation is unable to render, please try loading this page with nbviewer.org.</b></div><div class=\"sk-container\" hidden><div class=\"sk-item\"><div class=\"sk-estimator fitted sk-toggleable\"><input class=\"sk-toggleable__control sk-hidden--visually\" id=\"sk-estimator-id-2\" type=\"checkbox\" checked><label for=\"sk-estimator-id-2\" class=\"sk-toggleable__label fitted sk-toggleable__label-arrow fitted\">&nbsp;&nbsp;RandomForestClassifier<a class=\"sk-estimator-doc-link fitted\" rel=\"noreferrer\" target=\"_blank\" href=\"https://scikit-learn.org/1.5/modules/generated/sklearn.ensemble.RandomForestClassifier.html\">?<span>Documentation for RandomForestClassifier</span></a><span class=\"sk-estimator-doc-link fitted\">i<span>Fitted</span></span></label><div class=\"sk-toggleable__content fitted\"><pre>RandomForestClassifier(max_depth=26, min_samples_leaf=5, min_samples_split=9,\n",
       "                       n_estimators=157)</pre></div> </div></div></div></div>"
      ],
      "text/plain": [
       "RandomForestClassifier(max_depth=26, min_samples_leaf=5, min_samples_split=9,\n",
       "                       n_estimators=157)"
      ]
     },
     "execution_count": 41,
     "metadata": {},
     "output_type": "execute_result"
    }
   ],
   "source": [
    "# Train the RandomForestClassifier model using the best hyperparameters on the training data (X_train and y_train).\n",
    "# This step allows the model to learn from the training dataset.\n",
    "\n",
    "best_model.fit(X_train, y_train)"
   ]
  },
  {
   "cell_type": "code",
   "execution_count": 42,
   "metadata": {},
   "outputs": [
    {
     "data": {
      "text/plain": [
       "0.8770949720670391"
      ]
     },
     "execution_count": 42,
     "metadata": {},
     "output_type": "execute_result"
    }
   ],
   "source": [
    "# Evaluate the performance of the trained RandomForestClassifier model on the test data (X_test and y_test).\n",
    "# This returns the accuracy of the model, which indicates the proportion of correctly classified samples in the test set.\n",
    "\n",
    "best_model.score(X_test, y_test)"
   ]
  },
  {
   "cell_type": "code",
   "execution_count": 43,
   "metadata": {},
   "outputs": [
    {
     "name": "stdout",
     "output_type": "stream",
     "text": [
      "Model saved successfully as 'titanic_model.pkl'\n"
     ]
    }
   ],
   "source": [
    "import pickle\n",
    "\n",
    "# Attempt to save the trained RandomForestClassifier model to a file using pickle.\n",
    "# The model is serialized and saved as 'titanic_model.pkl' for future use.\n",
    "\n",
    "try:\n",
    "    with open(\"titanic_model.pkl\", \"wb\") as file:\n",
    "        pickle.dump(best_model, file)\n",
    "    print(\"Model saved successfully as 'titanic_model.pkl'\")\n",
    "except Exception as e:\n",
    "    # Print an error message if an exception occurs during the saving process.\n",
    "    print(f\"An error occurred while saving the model: {e}\")"
   ]
  },
  {
   "cell_type": "code",
   "execution_count": 44,
   "metadata": {},
   "outputs": [],
   "source": [
    "# Load the test dataset from 'test.csv' into a DataFrame.\n",
    "# Extract the \"PassengerId\" column to keep track of passenger identifiers for predictions.\n",
    "\n",
    "test_titanic = pd.read_csv(\"test.csv\")\n",
    "passenger_ids = test_titanic[\"PassengerId\"]"
   ]
  },
  {
   "cell_type": "code",
   "execution_count": 45,
   "metadata": {},
   "outputs": [
    {
     "name": "stderr",
     "output_type": "stream",
     "text": [
      "C:\\Users\\AbdouMagico\\AppData\\Local\\Temp\\ipykernel_20420\\3232756059.py:4: FutureWarning:\n",
      "\n",
      "A value is trying to be set on a copy of a DataFrame or Series through chained assignment using an inplace method.\n",
      "The behavior will change in pandas 3.0. This inplace method will never work because the intermediate object on which we are setting values always behaves as a copy.\n",
      "\n",
      "For example, when doing 'df[col].method(value, inplace=True)', try using 'df.method({col: value}, inplace=True)' or df[col] = df[col].method(value) instead, to perform the operation inplace on the original object.\n",
      "\n",
      "\n",
      "\n"
     ]
    }
   ],
   "source": [
    "test_titanic.drop(columns=[\"Cabin\", \"PassengerId\"], axis=1, inplace=True)\n",
    "\n",
    "# Perform the same preprocessing steps as the training set\n",
    "test_titanic[\"Age\"].fillna(test_titanic[\"Age\"].median(), inplace=True)\n",
    "test_titanic[\"Sex\"] = test_titanic[\"Sex\"].apply(lambda x: 1 if x == \"male\" else 0)\n",
    "test_titanic[\"FamilySize\"] = test_titanic[\"Parch\"] + test_titanic[\"SibSp\"]\n",
    "test_titanic.drop(columns=[\"Parch\", \"SibSp\"], axis=1, inplace=True)\n",
    "test_titanic = test_titanic.join(pd.get_dummies(test_titanic[\"Embarked\"], prefix=\"EmbarkedAt\")).drop(columns=[\"Embarked\"], axis=1)\n",
    "test_titanic[\"isAlone\"] = (test_titanic[\"FamilySize\"] == 0).astype(int)\n",
    "test_titanic[\"AgeGroup\"] = test_titanic[\"Age\"].apply(lambda x: \"child\" if x < 13 else \"teenager\" if x < 19 else \"adult\" if x < 60 else \"senior\")\n",
    "test_titanic[\"AgeGroup\"] = pd.factorize(test_titanic[\"AgeGroup\"])[0]\n",
    "ticket_group_size = test_titanic.groupby(by=[\"Ticket\"]).size()\n",
    "test_titanic[\"TicketGroupSize\"] = test_titanic[\"Ticket\"].map(ticket_group_size)\n",
    "test_titanic[\"Fare\"] = test_titanic[\"Fare\"].apply(lambda x: \"low\" if x <= 50 else \"medium\" if x <= 150 else \"high\")\n",
    "test_titanic[\"Fare\"] = pd.factorize(test_titanic[\"Fare\"])[0]\n",
    "test_titanic['Title'] = test_titanic['Name'].apply(lambda x: x.split(',')[1].split('.')[0].strip())\n",
    "test_titanic.drop(columns=[\"Name\", \"Ticket\"], axis=1, inplace=True)\n",
    "test_titanic = test_titanic.join(pd.get_dummies(test_titanic[\"Title\"], prefix=\"Title\")).drop(columns=[\"Title\"], axis=1)"
   ]
  },
  {
   "cell_type": "code",
   "execution_count": 46,
   "metadata": {},
   "outputs": [],
   "source": [
    "import joblib\n",
    "\n",
    "# Load the previously saved RandomForestClassifier model from the file 'titanic_model.pkl' using joblib.\n",
    "# This allows you to use the trained model for making predictions or further analysis.\n",
    "\n",
    "model = joblib.load(\"titanic_model.pkl\")"
   ]
  },
  {
   "cell_type": "code",
   "execution_count": 47,
   "metadata": {},
   "outputs": [
    {
     "data": {
      "text/plain": [
       "Index(['Pclass', 'Sex', 'Age', 'Fare', 'FamilySize', 'EmbarkedAt_C',\n",
       "       'EmbarkedAt_Q', 'EmbarkedAt_S', 'isAlone', 'AgeGroup',\n",
       "       'TicketGroupSize', 'Title_Col', 'Title_Dona', 'Title_Dr',\n",
       "       'Title_Master', 'Title_Miss', 'Title_Mr', 'Title_Mrs', 'Title_Ms',\n",
       "       'Title_Rev'],\n",
       "      dtype='object')"
      ]
     },
     "execution_count": 47,
     "metadata": {},
     "output_type": "execute_result"
    }
   ],
   "source": [
    "# Display the column names of the test dataset to understand its structure and identify which features are available for prediction.\n",
    "\n",
    "test_titanic.columns"
   ]
  },
  {
   "cell_type": "code",
   "execution_count": 48,
   "metadata": {},
   "outputs": [
    {
     "data": {
      "text/plain": [
       "Index(['PassengerId', 'Survived', 'Pclass', 'Sex', 'Age', 'Fare', 'FamilySize',\n",
       "       'EmbarkedAt_C', 'EmbarkedAt_Q', 'EmbarkedAt_S', 'isAlone', 'AgeGroup',\n",
       "       'TicketGroupSize', 'Title_Capt', 'Title_Col', 'Title_Don', 'Title_Dr',\n",
       "       'Title_Jonkheer', 'Title_Lady', 'Title_Major', 'Title_Master',\n",
       "       'Title_Miss', 'Title_Mlle', 'Title_Mme', 'Title_Mr', 'Title_Mrs',\n",
       "       'Title_Ms', 'Title_Rev', 'Title_Sir', 'Title_the Countess'],\n",
       "      dtype='object')"
      ]
     },
     "execution_count": 48,
     "metadata": {},
     "output_type": "execute_result"
    }
   ],
   "source": [
    "# Display the column names of the training dataset to understand its structure and identify the features used for model training.\n",
    "\n",
    "titanic.columns"
   ]
  },
  {
   "cell_type": "code",
   "execution_count": 49,
   "metadata": {},
   "outputs": [],
   "source": [
    "# Define the expected column names for the test dataset to match the training dataset's structure.\n",
    "expected_columns = [\n",
    "    'PassengerId', 'Pclass', 'Sex', 'Age', 'Fare', 'FamilySize', 'EmbarkedAt_C',\n",
    "    'EmbarkedAt_Q', 'EmbarkedAt_S', 'isAlone', 'AgeGroup', 'TicketGroupSize', \n",
    "    'Title_Capt', 'Title_Col', 'Title_Don', 'Title_Dr', 'Title_Jonkheer', 'Title_Lady', \n",
    "    'Title_Major', 'Title_Master', 'Title_Miss', 'Title_Mlle', 'Title_Mme', 'Title_Mr', \n",
    "    'Title_Mrs', 'Title_Ms', 'Title_Rev', 'Title_Sir', 'Title_the Countess'\n",
    "]\n",
    "\n",
    "# Add any missing columns to the test dataset with default values of 0.\n",
    "# This ensures that the test dataset has the same structure as the training dataset.\n",
    "for column in expected_columns:\n",
    "    if column not in test_titanic.columns:\n",
    "        test_titanic[column] = 0\n",
    "\n",
    "# Reorder the columns in the test dataset to match the expected column order.\n",
    "test_titanic = test_titanic[expected_columns]\n",
    "\n",
    "# Restore the 'PassengerId' column with the original passenger IDs from the test dataset.\n",
    "test_titanic[\"PassengerId\"] = passenger_ids"
   ]
  },
  {
   "cell_type": "code",
   "execution_count": 50,
   "metadata": {},
   "outputs": [],
   "source": [
    "# Use the loaded model to make predictions on the test dataset.\n",
    "# The 'predict' method generates the predicted class labels for each sample in the test dataset.\n",
    "\n",
    "predictions = model.predict(test_titanic)"
   ]
  },
  {
   "cell_type": "code",
   "execution_count": 51,
   "metadata": {},
   "outputs": [
    {
     "data": {
      "text/html": [
       "<div>\n",
       "<style scoped>\n",
       "    .dataframe tbody tr th:only-of-type {\n",
       "        vertical-align: middle;\n",
       "    }\n",
       "\n",
       "    .dataframe tbody tr th {\n",
       "        vertical-align: top;\n",
       "    }\n",
       "\n",
       "    .dataframe thead th {\n",
       "        text-align: right;\n",
       "    }\n",
       "</style>\n",
       "<table border=\"1\" class=\"dataframe\">\n",
       "  <thead>\n",
       "    <tr style=\"text-align: right;\">\n",
       "      <th></th>\n",
       "      <th>PassengerId</th>\n",
       "      <th>Survived</th>\n",
       "    </tr>\n",
       "  </thead>\n",
       "  <tbody>\n",
       "    <tr>\n",
       "      <th>0</th>\n",
       "      <td>892</td>\n",
       "      <td>0</td>\n",
       "    </tr>\n",
       "    <tr>\n",
       "      <th>1</th>\n",
       "      <td>893</td>\n",
       "      <td>1</td>\n",
       "    </tr>\n",
       "    <tr>\n",
       "      <th>2</th>\n",
       "      <td>894</td>\n",
       "      <td>0</td>\n",
       "    </tr>\n",
       "    <tr>\n",
       "      <th>3</th>\n",
       "      <td>895</td>\n",
       "      <td>0</td>\n",
       "    </tr>\n",
       "    <tr>\n",
       "      <th>4</th>\n",
       "      <td>896</td>\n",
       "      <td>1</td>\n",
       "    </tr>\n",
       "    <tr>\n",
       "      <th>...</th>\n",
       "      <td>...</td>\n",
       "      <td>...</td>\n",
       "    </tr>\n",
       "    <tr>\n",
       "      <th>413</th>\n",
       "      <td>1305</td>\n",
       "      <td>0</td>\n",
       "    </tr>\n",
       "    <tr>\n",
       "      <th>414</th>\n",
       "      <td>1306</td>\n",
       "      <td>1</td>\n",
       "    </tr>\n",
       "    <tr>\n",
       "      <th>415</th>\n",
       "      <td>1307</td>\n",
       "      <td>0</td>\n",
       "    </tr>\n",
       "    <tr>\n",
       "      <th>416</th>\n",
       "      <td>1308</td>\n",
       "      <td>0</td>\n",
       "    </tr>\n",
       "    <tr>\n",
       "      <th>417</th>\n",
       "      <td>1309</td>\n",
       "      <td>1</td>\n",
       "    </tr>\n",
       "  </tbody>\n",
       "</table>\n",
       "<p>418 rows × 2 columns</p>\n",
       "</div>"
      ],
      "text/plain": [
       "     PassengerId  Survived\n",
       "0            892         0\n",
       "1            893         1\n",
       "2            894         0\n",
       "3            895         0\n",
       "4            896         1\n",
       "..           ...       ...\n",
       "413         1305         0\n",
       "414         1306         1\n",
       "415         1307         0\n",
       "416         1308         0\n",
       "417         1309         1\n",
       "\n",
       "[418 rows x 2 columns]"
      ]
     },
     "execution_count": 51,
     "metadata": {},
     "output_type": "execute_result"
    }
   ],
   "source": [
    "# Create a DataFrame to store the predictions.\n",
    "# The DataFrame includes 'PassengerId' from the test dataset and the corresponding predicted 'Survived' values.\n",
    "\n",
    "output = pd.DataFrame({\n",
    "    'PassengerId': test_titanic['PassengerId'],\n",
    "    'Survived': predictions\n",
    "})\n",
    "\n",
    "# Display the DataFrame containing the predictions.\n",
    "output"
   ]
  },
  {
   "cell_type": "code",
   "execution_count": 52,
   "metadata": {},
   "outputs": [],
   "source": [
    "# Save the predictions to a CSV file named 'submission.csv'.\n",
    "# The file will include 'PassengerId' and 'Survived' columns, formatted as required for submission.\n",
    "\n",
    "output.to_csv('submission.csv', index=False)"
   ]
  },
  {
   "cell_type": "markdown",
   "metadata": {},
   "source": [
    "## Done"
   ]
  }
 ],
 "metadata": {
  "kernelspec": {
   "display_name": "Python 3",
   "language": "python",
   "name": "python3"
  },
  "language_info": {
   "codemirror_mode": {
    "name": "ipython",
    "version": 3
   },
   "file_extension": ".py",
   "mimetype": "text/x-python",
   "name": "python",
   "nbconvert_exporter": "python",
   "pygments_lexer": "ipython3",
   "version": "3.11.1"
  }
 },
 "nbformat": 4,
 "nbformat_minor": 2
}
